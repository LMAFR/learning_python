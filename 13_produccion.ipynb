{
 "cells": [
  {
   "cell_type": "markdown",
   "metadata": {},
   "source": [
    "# Producción\n",
    "\n",
    "__No tiene parte práctica__\n",
    "\n",
    "Hasta el momento, solo nos hemos preocupado de las fases de exploración y desarrollo. En ellas, prima la interactividad del entorno y el objetivo es que el equipo encargado de esta fase sea lo más productivo posible.\n",
    "\n",
    "A la hora de pasar a producción, cambian las prioridades. Cobran importancia:\n",
    "\n",
    "* Automatización: ya no queremos ni necesitamos interactividad, sino procesos que corran sin intervención humana\n",
    "* Robustez: que los procesos controlen casos extremos para no fallar, y que las partes con probabilidad de fallo (p.e. escritura de fichero, peticiones por internet, scraping, ...) se gestionen correctamente\n",
    "* Logging: generación de trazas del proceso (informativas, de error, ...) para que se puedan consultar como parte de una operativa normal o de error inesperado\n",
    "* Alarmas: en el caso de que algo vaya mal sobre un proceso crítico, debemos tener un mecanismo de aviso\n",
    "* Estabilidad: mientras que en desarrollo podemos actualizar a nuevas versiones del lenguaje o de sus dependencias, en producción el entorno debe ser estable, y ser actualizado únicamente bajo demanda y habiendo comprobado que todo funciona correctamente"
   ]
  },
  {
   "cell_type": "markdown",
   "metadata": {},
   "source": [
    "## Estructura del proyecto\n",
    "\n",
    "Los notebooks de jupyter nos permiten desarrollar en un entorno interactivo. Pero un proyecto final que pasa a producción, seguirá una estructura de módulos (carpetas) estructurada.\n",
    "\n",
    "Una estructura de ejemplo para un proyecto de clasificación de vinos:\n",
    "\n",
    "```\n",
    "|-- wineclassifier/             # Raíz del proyecto (repositorio git)\n",
    "    |-- wineclassifier/\n",
    "        |-- __init__.py         # Requerido al ser un módulo, habitualmente vacío\n",
    "        |-- config.[py|yml]     # Configuración (cadenas de conexión, parametrización del modelo, ...)\n",
    "        |-- model/              # Código relacionado con la generación del modelo\n",
    "            |-- __init__.py\n",
    "            |-- preprocess.py\n",
    "            |-- regression.py   \n",
    "        |-- resources/          # Recursos como queries, ...\n",
    "            |-- __init__py\n",
    "            |-- queries.py\n",
    "        |-- util/               # Útiles, bastante reutilizables entre proyectos: lógica de conexión a BD, ...\n",
    "            |-- __init__py\n",
    "            |-- bd.py\n",
    "            |-- storage.py\n",
    "    |-- requirements.txt        # Dependencias con sus versiones del proyecto\n",
    "    |-- train.py                # Lanza el entrenamiento\n",
    "    |-- predict.py              # Lanza la predicción (batch, levanta API, ...)\n",
    "    |-- README.md               # Instrucciones para lanzar el proyecto y doc importante\n",
    "```"
   ]
  },
  {
   "cell_type": "markdown",
   "metadata": {},
   "source": [
    "## Referencias\n",
    "\n",
    "Más información:\n",
    "\n",
    "* [Gestión excepciones en Python](https://www.datacamp.com/community/tutorials/exception-handling-python)\n",
    "* [Tutorial de logging básico](https://code-maven.com/simple-logging-in-python)\n",
    "* [Tutorial de docker](https://djangostars.com/blog/what-is-docker-and-how-to-use-it-with-python/)\n",
    "* [Tutorial de testing](https://semaphoreci.com/community/tutorials/testing-python-applications-with-pytest)\n",
    "* [CI/CD con GitHub, Travis y más](https://github.com/ksator/continuous-integration-with-python)\n",
    "* [Convertir un modelo de ML en una API](https://www.datacamp.com/community/tutorials/machine-learning-models-api-python)\n",
    "* [Virtual envs con conda](https://uoa-eresearch.github.io/eresearch-cookbook/recipe/2014/11/20/conda/)\n",
    "\n",
    "Ejemplos de proyectos:\n",
    "\n",
    "* [Homemade machine learning](https://github.com/trekhleb/homemade-machine-learning)"
   ]
  },
  {
   "cell_type": "markdown",
   "metadata": {},
   "source": [
    "### Excepciones"
   ]
  },
  {
   "cell_type": "code",
   "execution_count": 1,
   "metadata": {},
   "outputs": [
    {
     "ename": "TypeError",
     "evalue": "unsupported operand type(s) for +: 'int' and 'str'",
     "output_type": "error",
     "traceback": [
      "\u001b[1;31m---------------------------------------------------------------------------\u001b[0m",
      "\u001b[1;31mTypeError\u001b[0m                                 Traceback (most recent call last)",
      "\u001b[1;32m<ipython-input-1-4ec8bb84704e>\u001b[0m in \u001b[0;36m<module>\u001b[1;34m\u001b[0m\n\u001b[0;32m      1\u001b[0m \u001b[0ma\u001b[0m \u001b[1;33m=\u001b[0m \u001b[1;36m3\u001b[0m\u001b[1;33m\u001b[0m\u001b[1;33m\u001b[0m\u001b[0m\n\u001b[0;32m      2\u001b[0m \u001b[0mb\u001b[0m \u001b[1;33m=\u001b[0m \u001b[1;34m'Carmen'\u001b[0m\u001b[1;33m\u001b[0m\u001b[1;33m\u001b[0m\u001b[0m\n\u001b[1;32m----> 3\u001b[1;33m \u001b[0ma\u001b[0m \u001b[1;33m+\u001b[0m \u001b[0mb\u001b[0m\u001b[1;33m\u001b[0m\u001b[1;33m\u001b[0m\u001b[0m\n\u001b[0m",
      "\u001b[1;31mTypeError\u001b[0m: unsupported operand type(s) for +: 'int' and 'str'"
     ]
    }
   ],
   "source": [
    "a = 3\n",
    "b = 'Carmen'\n",
    "a + b"
   ]
  },
  {
   "cell_type": "code",
   "execution_count": 2,
   "metadata": {},
   "outputs": [
    {
     "name": "stdout",
     "output_type": "stream",
     "text": [
      "Type Error Exception Raised.\n",
      "Yo me ejecuto si o si\n"
     ]
    }
   ],
   "source": [
    "a = 3\n",
    "b = 'Carmen'\n",
    "# b = 9\n",
    "try:  \n",
    "    c = a+b\n",
    "    print (a)\n",
    "except TypeError:  \n",
    "        print (\"Type Error Exception Raised.\" )\n",
    "else:  \n",
    "    print (\"Success, no error!\")\n",
    "finally:\n",
    "    print('Yo me ejecuto si o si')"
   ]
  },
  {
   "cell_type": "code",
   "execution_count": 16,
   "metadata": {},
   "outputs": [
    {
     "name": "stdout",
     "output_type": "stream",
     "text": [
      "3\n",
      "Success, no error!\n",
      "Yo me ejecuto si o si\n"
     ]
    }
   ],
   "source": [
    "a = 3\n",
    "b = 9\n",
    "try:  \n",
    "    c = a+b\n",
    "    print (a)\n",
    "except TypeError:  \n",
    "        print (\"Type Error Exception Raised.\" )\n",
    "else:  \n",
    "    print (\"Success, no error!\")\n",
    "finally:\n",
    "    print('Yo me ejecuto si o si')"
   ]
  },
  {
   "cell_type": "code",
   "execution_count": 3,
   "metadata": {},
   "outputs": [
    {
     "name": "stdout",
     "output_type": "stream",
     "text": [
      "unsupported operand type(s) for +: 'int' and 'str'\n",
      "Yo me ejecuto si o si\n"
     ]
    }
   ],
   "source": [
    "a = 3\n",
    "b = 'Carmen'\n",
    "#b = 9\n",
    "try:  \n",
    "    c = a+b\n",
    "    print (a)\n",
    "except Exception as e: # Exception es el comodín para cuando no sabemos qué error nos va a devolver el código. e es el tipo de error.\n",
    "        print (e)\n",
    "else:  \n",
    "    print (\"Success, no error!\")\n",
    "finally:                             # Es el gran olvidado, nadie lo usa (porque se arregla igual desindentando), pero existe.\n",
    "    print('Yo me ejecuto si o si') "
   ]
  },
  {
   "cell_type": "code",
   "execution_count": 1,
   "metadata": {},
   "outputs": [],
   "source": [
    "def do_something():\n",
    "    \"\"\"The interface, not implemented\"\"\"\n",
    "    raise NotImplementedError() # Por si, por lo que sea, quieres que tu código lance un error. Por ejemplo, para \n",
    "                                # avisar de que el código no está terminado."
   ]
  },
  {
   "cell_type": "code",
   "execution_count": 4,
   "metadata": {},
   "outputs": [
    {
     "ename": "NotImplementedError",
     "evalue": "",
     "output_type": "error",
     "traceback": [
      "\u001b[1;31m---------------------------------------------------------------------------\u001b[0m",
      "\u001b[1;31mNotImplementedError\u001b[0m                       Traceback (most recent call last)",
      "\u001b[1;32m<ipython-input-4-e0006e76ebeb>\u001b[0m in \u001b[0;36m<module>\u001b[1;34m\u001b[0m\n\u001b[1;32m----> 1\u001b[1;33m \u001b[0mdo_something\u001b[0m\u001b[1;33m(\u001b[0m\u001b[1;33m)\u001b[0m\u001b[1;33m\u001b[0m\u001b[1;33m\u001b[0m\u001b[0m\n\u001b[0m",
      "\u001b[1;32m<ipython-input-1-dd5557fd5384>\u001b[0m in \u001b[0;36mdo_something\u001b[1;34m()\u001b[0m\n\u001b[0;32m      1\u001b[0m \u001b[1;32mdef\u001b[0m \u001b[0mdo_something\u001b[0m\u001b[1;33m(\u001b[0m\u001b[1;33m)\u001b[0m\u001b[1;33m:\u001b[0m\u001b[1;33m\u001b[0m\u001b[1;33m\u001b[0m\u001b[0m\n\u001b[0;32m      2\u001b[0m     \u001b[1;34m\"\"\"The interface, not implemented\"\"\"\u001b[0m\u001b[1;33m\u001b[0m\u001b[1;33m\u001b[0m\u001b[0m\n\u001b[1;32m----> 3\u001b[1;33m     \u001b[1;32mraise\u001b[0m \u001b[0mNotImplementedError\u001b[0m\u001b[1;33m(\u001b[0m\u001b[1;33m)\u001b[0m\u001b[1;33m\u001b[0m\u001b[1;33m\u001b[0m\u001b[0m\n\u001b[0m",
      "\u001b[1;31mNotImplementedError\u001b[0m: "
     ]
    }
   ],
   "source": [
    "do_something()"
   ]
  },
  {
   "cell_type": "code",
   "execution_count": 10,
   "metadata": {},
   "outputs": [],
   "source": [
    "import logging # Se usa para hacer que en tus códigos salgan warnings.\n",
    " \n",
    "\n",
    "#logging.basicConfig() # Esto es lo primero que hay que ejecutar, sin nada más.\n",
    "logging.basicConfig(level = logging.DEBUG)\n",
    "#logging.basicConfig(level = logging.INFO, format = '%(asctime)s  %(levelname)-10s %(processName)s  %(name)s %(message)s')\n",
    "\n",
    "\n",
    "\n",
    "# Si lo queremos mandar a un fichero de log:\n",
    "# logging.basicConfig(level = logging.INFO, filename = \"my.log\")\n",
    "# logging.basicConfig(level = logging.INFO, filename = time.strftime(\"my-%Y-%m-%d.log\"))"
   ]
  },
  {
   "cell_type": "code",
   "execution_count": 11,
   "metadata": {},
   "outputs": [
    {
     "name": "stderr",
     "output_type": "stream",
     "text": [
      "WARNING:root:warning\n",
      "ERROR:root:error\n",
      "CRITICAL:root:critical\n"
     ]
    }
   ],
   "source": [
    "# Este es el orden de prioridad:\n",
    "logging.debug(\"debug\") \n",
    "logging.info(\"info\") \n",
    "logging.warning(\"warning\") # Para dejar un warning de algo que está pasando.\n",
    "logging.error(\"error\") # Te ha dado un error y quieres dejar constancia de él.\n",
    "logging.critical(\"critical\")"
   ]
  },
  {
   "cell_type": "code",
   "execution_count": null,
   "metadata": {},
   "outputs": [],
   "source": []
  }
 ],
 "metadata": {
  "kernelspec": {
   "display_name": "Python 3",
   "language": "python",
   "name": "python3"
  },
  "language_info": {
   "codemirror_mode": {
    "name": "ipython",
    "version": 3
   },
   "file_extension": ".py",
   "mimetype": "text/x-python",
   "name": "python",
   "nbconvert_exporter": "python",
   "pygments_lexer": "ipython3",
   "version": "3.8.3"
  }
 },
 "nbformat": 4,
 "nbformat_minor": 2
}
