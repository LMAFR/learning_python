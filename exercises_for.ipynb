{
 "cells": [
  {
   "cell_type": "markdown",
   "metadata": {},
   "source": [
    "Imprime la tabla de multiplicar del número dado, empieza en 2"
   ]
  },
  {
   "cell_type": "code",
   "execution_count": 7,
   "metadata": {
    "scrolled": false
   },
   "outputs": [
    {
     "name": "stdout",
     "output_type": "stream",
     "text": [
      "Dame el número del que quieres extraer su tabla de multiplicar: 2\n",
      " 2 * 0 = 0\n",
      " 2 * 1 = 2\n",
      " 2 * 2 = 4\n",
      " 2 * 3 = 6\n",
      " 2 * 4 = 8\n",
      " 2 * 5 = 10\n",
      " 2 * 6 = 12\n",
      " 2 * 7 = 14\n",
      " 2 * 8 = 16\n",
      " 2 * 9 = 18\n",
      " 2 * 10 = 20\n"
     ]
    }
   ],
   "source": [
    "num = int(input('Dame el número del que quieres extraer su tabla de multiplicar: '))\n",
    "\n",
    "for i in range(0,11):\n",
    "    print(f' {num} * {i} = {i*num}')\n"
   ]
  },
  {
   "cell_type": "markdown",
   "metadata": {},
   "source": [
    "Use un bucle para mostrar elementos de una lista determinada que están presentes en posiciones pares"
   ]
  },
  {
   "cell_type": "code",
   "execution_count": 18,
   "metadata": {},
   "outputs": [
    {
     "name": "stdout",
     "output_type": "stream",
     "text": [
      "Belén\n",
      "Luis\n"
     ]
    }
   ],
   "source": [
    "compañeros = ['Belén', 'Andrea', 'Luis', 'Alejandro']\n",
    "a = 0\n",
    "while a < len(compañeros):\n",
    "    print(compañeros[a])\n",
    "    a = a + 2\n",
    "\n",
    "    "
   ]
  },
  {
   "cell_type": "markdown",
   "metadata": {},
   "source": [
    "Otra forma **(sin bucle)**:"
   ]
  },
  {
   "cell_type": "code",
   "execution_count": 2,
   "metadata": {},
   "outputs": [
    {
     "data": {
      "text/plain": [
       "['Belén', 'Luis']"
      ]
     },
     "execution_count": 2,
     "metadata": {},
     "output_type": "execute_result"
    }
   ],
   "source": [
    "compañeros = ['Belén', 'Andrea', 'Luis', 'Alejandro']\n",
    "_compañeros = compañeros[0::2]\n",
    "_compañeros"
   ]
  },
  {
   "cell_type": "markdown",
   "metadata": {},
   "source": [
    "Otra forma **(con for)**:"
   ]
  },
  {
   "cell_type": "code",
   "execution_count": 4,
   "metadata": {},
   "outputs": [
    {
     "name": "stdout",
     "output_type": "stream",
     "text": [
      "Belén\n",
      "Luis\n"
     ]
    }
   ],
   "source": [
    "compañeros = ['Belén', 'Andrea', 'Luis', 'Alejandro']\n",
    "\n",
    "for compañero in compañeros[0::2]:\n",
    "    print(compañero)\n",
    "    "
   ]
  },
  {
   "cell_type": "markdown",
   "metadata": {},
   "source": [
    "Dada una lista, iterarla y mostrar números que son divisibles por 5 y si encuentra un número mayor que 150, detenga la iteración del ciclo.\n"
   ]
  },
  {
   "cell_type": "code",
   "execution_count": 11,
   "metadata": {},
   "outputs": [
    {
     "name": "stdout",
     "output_type": "stream",
     "text": [
      "50\n"
     ]
    }
   ],
   "source": [
    "n_bulls = [23, 50, 81, 33, 7, 151, 25]\n",
    "\n",
    "for n in range(len(n_bulls)):\n",
    "    if n_bulls[n] < 150:\n",
    "        \n",
    "        if n_bulls[n] % 5 == 0:\n",
    "            print(n_bulls[n])\n",
    "    else:\n",
    "        break\n",
    "    "
   ]
  },
  {
   "cell_type": "markdown",
   "metadata": {},
   "source": [
    "Más fácil:"
   ]
  },
  {
   "cell_type": "code",
   "execution_count": 12,
   "metadata": {},
   "outputs": [
    {
     "name": "stdout",
     "output_type": "stream",
     "text": [
      "50\n"
     ]
    }
   ],
   "source": [
    "n_bulls = [23, 50, 81, 33, 7, 151, 25]\n",
    "\n",
    "for n in n_bulls:\n",
    "    if n < 150:\n",
    "        \n",
    "        if n % 5 == 0:\n",
    "            print(n)\n",
    "    else:\n",
    "        break"
   ]
  },
  {
   "cell_type": "markdown",
   "metadata": {},
   "source": [
    "Muestre -10 a -1 usando el bucle for"
   ]
  },
  {
   "cell_type": "code",
   "execution_count": 38,
   "metadata": {},
   "outputs": [
    {
     "name": "stdout",
     "output_type": "stream",
     "text": [
      "-10\n",
      "-9\n",
      "-8\n",
      "-7\n",
      "-6\n",
      "-5\n",
      "-4\n",
      "-3\n",
      "-2\n",
      "-1\n"
     ]
    }
   ],
   "source": [
    "for i in range(-10,0):\n",
    "    print(i)"
   ]
  },
  {
   "cell_type": "markdown",
   "metadata": {},
   "source": [
    "Mostrar un mensaje \"Listo\" después de la ejecución exitosa del bucle for.\n",
    "Por ejemplo, \n",
    "\n",
    "para i en el rango (5):\n",
    "    imprimir (i)"
   ]
  },
  {
   "cell_type": "code",
   "execution_count": 39,
   "metadata": {},
   "outputs": [
    {
     "name": "stdout",
     "output_type": "stream",
     "text": [
      "0\n",
      "1\n",
      "2\n",
      "3\n",
      "4\n",
      "Listo\n"
     ]
    }
   ],
   "source": [
    "for i in range(5):\n",
    "    print(i)\n",
    "print('Listo')"
   ]
  },
  {
   "cell_type": "code",
   "execution_count": null,
   "metadata": {},
   "outputs": [],
   "source": []
  }
 ],
 "metadata": {
  "kernelspec": {
   "display_name": "Python 3",
   "language": "python",
   "name": "python3"
  },
  "language_info": {
   "codemirror_mode": {
    "name": "ipython",
    "version": 3
   },
   "file_extension": ".py",
   "mimetype": "text/x-python",
   "name": "python",
   "nbconvert_exporter": "python",
   "pygments_lexer": "ipython3",
   "version": "3.8.3"
  }
 },
 "nbformat": 4,
 "nbformat_minor": 4
}
