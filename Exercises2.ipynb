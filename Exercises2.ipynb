{
 "cells": [
  {
   "cell_type": "markdown",
   "metadata": {},
   "source": [
    "Escribe una función que reciba un número y lo multiplique por 2 si el número es menor que 10, lo divida entre 2 si el número es mayor o igual que 10 y devuelva 0 si el número es negativo.\n",
    "Controla las excepciones para que el código devuelva None si le introducimos algo que no sea un número"
   ]
  },
  {
   "cell_type": "code",
   "execution_count": 40,
   "metadata": {},
   "outputs": [],
   "source": [
    "import numpy as np\n",
    "import pandas as pd"
   ]
  },
  {
   "cell_type": "code",
   "execution_count": 41,
   "metadata": {},
   "outputs": [
    {
     "name": "stdout",
     "output_type": "stream",
     "text": [
      "Introduzca un número: 2\n",
      "4.0\n"
     ]
    }
   ],
   "source": [
    "\n",
    "def duplica(numero):\n",
    "    \n",
    "    if (numero < 10.0) and (numero >= 0.0):\n",
    "        return(numero*2)\n",
    "    elif numero >= 10:\n",
    "        return(numero/2)\n",
    "    else:\n",
    "        return(0)\n",
    "\n",
    "try:    \n",
    "    num = input('Introduzca un número: ')\n",
    "    duplica(float(num))\n",
    "\n",
    "except Exception:\n",
    "    print(None)\n",
    "else:\n",
    "    print(duplica(float(num)))\n",
    "\n",
    "# Calificación 8/10."
   ]
  },
  {
   "cell_type": "code",
   "execution_count": 85,
   "metadata": {},
   "outputs": [],
   "source": [
    "# CÓDIGO DE CARMEN (profe)\n",
    "\n",
    "def nombre_funcion(argumento):\n",
    "\n",
    "  try:\n",
    "\n",
    "    if argumento <0:\n",
    "\n",
    "      resultado = 0\n",
    "\n",
    "    elif argumento <10:\n",
    "\n",
    "      resultado = argumento * 2\n",
    "\n",
    "    elif argumento >=10:\n",
    "\n",
    "      resultado = argumento / 2\n",
    "\n",
    "      #intenta esto\n",
    "\n",
    "  except Exception:\n",
    "\n",
    "    resultado = None\n",
    "\n",
    "   \n",
    "\n",
    "  return resultado"
   ]
  },
  {
   "cell_type": "code",
   "execution_count": 88,
   "metadata": {},
   "outputs": [
    {
     "data": {
      "text/plain": [
       "8"
      ]
     },
     "execution_count": 88,
     "metadata": {},
     "output_type": "execute_result"
    }
   ],
   "source": [
    "nombre_funcion(4)"
   ]
  },
  {
   "cell_type": "code",
   "execution_count": 89,
   "metadata": {},
   "outputs": [],
   "source": [
    "nombre_funcion('abc')"
   ]
  },
  {
   "cell_type": "code",
   "execution_count": 91,
   "metadata": {},
   "outputs": [
    {
     "name": "stdout",
     "output_type": "stream",
     "text": [
      "None\n"
     ]
    }
   ],
   "source": [
    "print(nombre_funcion('abc')) # Hay que imprimir para que te devuelva el None."
   ]
  },
  {
   "cell_type": "markdown",
   "metadata": {},
   "source": [
    "A partir del dataframe dado, genera los siguientes gráficos con seaborn:\n",
    "\n",
    "* Un gráfico de barras con el conteo species. No utilices la paleta de colores que viene por defecto.\n",
    "* Un violin plot con la distribución de bill_length_mm para cada especie de pinguinos. Haz que aparezca la distribución de bill_length_mm de los machos a un lado del violín y de las hembras al otro.\n",
    "\n",
    "*Ponle un título representativo a cada gráfico."
   ]
  },
  {
   "cell_type": "code",
   "execution_count": 92,
   "metadata": {},
   "outputs": [],
   "source": [
    "import seaborn as sns\n",
    "import matplotlib.pyplot as plt"
   ]
  },
  {
   "cell_type": "code",
   "execution_count": 93,
   "metadata": {
    "scrolled": false
   },
   "outputs": [
    {
     "data": {
      "text/html": [
       "<div>\n",
       "<style scoped>\n",
       "    .dataframe tbody tr th:only-of-type {\n",
       "        vertical-align: middle;\n",
       "    }\n",
       "\n",
       "    .dataframe tbody tr th {\n",
       "        vertical-align: top;\n",
       "    }\n",
       "\n",
       "    .dataframe thead th {\n",
       "        text-align: right;\n",
       "    }\n",
       "</style>\n",
       "<table border=\"1\" class=\"dataframe\">\n",
       "  <thead>\n",
       "    <tr style=\"text-align: right;\">\n",
       "      <th></th>\n",
       "      <th>species</th>\n",
       "      <th>island</th>\n",
       "      <th>bill_length_mm</th>\n",
       "      <th>bill_depth_mm</th>\n",
       "      <th>flipper_length_mm</th>\n",
       "      <th>body_mass_g</th>\n",
       "      <th>sex</th>\n",
       "    </tr>\n",
       "  </thead>\n",
       "  <tbody>\n",
       "    <tr>\n",
       "      <th>0</th>\n",
       "      <td>Adelie</td>\n",
       "      <td>Torgersen</td>\n",
       "      <td>39.1</td>\n",
       "      <td>18.7</td>\n",
       "      <td>181.0</td>\n",
       "      <td>3750.0</td>\n",
       "      <td>Male</td>\n",
       "    </tr>\n",
       "    <tr>\n",
       "      <th>1</th>\n",
       "      <td>Adelie</td>\n",
       "      <td>Torgersen</td>\n",
       "      <td>39.5</td>\n",
       "      <td>17.4</td>\n",
       "      <td>186.0</td>\n",
       "      <td>3800.0</td>\n",
       "      <td>Female</td>\n",
       "    </tr>\n",
       "    <tr>\n",
       "      <th>2</th>\n",
       "      <td>Adelie</td>\n",
       "      <td>Torgersen</td>\n",
       "      <td>40.3</td>\n",
       "      <td>18.0</td>\n",
       "      <td>195.0</td>\n",
       "      <td>3250.0</td>\n",
       "      <td>Female</td>\n",
       "    </tr>\n",
       "    <tr>\n",
       "      <th>3</th>\n",
       "      <td>Adelie</td>\n",
       "      <td>Torgersen</td>\n",
       "      <td>NaN</td>\n",
       "      <td>NaN</td>\n",
       "      <td>NaN</td>\n",
       "      <td>NaN</td>\n",
       "      <td>NaN</td>\n",
       "    </tr>\n",
       "    <tr>\n",
       "      <th>4</th>\n",
       "      <td>Adelie</td>\n",
       "      <td>Torgersen</td>\n",
       "      <td>36.7</td>\n",
       "      <td>19.3</td>\n",
       "      <td>193.0</td>\n",
       "      <td>3450.0</td>\n",
       "      <td>Female</td>\n",
       "    </tr>\n",
       "  </tbody>\n",
       "</table>\n",
       "</div>"
      ],
      "text/plain": [
       "  species     island  bill_length_mm  bill_depth_mm  flipper_length_mm  \\\n",
       "0  Adelie  Torgersen            39.1           18.7              181.0   \n",
       "1  Adelie  Torgersen            39.5           17.4              186.0   \n",
       "2  Adelie  Torgersen            40.3           18.0              195.0   \n",
       "3  Adelie  Torgersen             NaN            NaN                NaN   \n",
       "4  Adelie  Torgersen            36.7           19.3              193.0   \n",
       "\n",
       "   body_mass_g     sex  \n",
       "0       3750.0    Male  \n",
       "1       3800.0  Female  \n",
       "2       3250.0  Female  \n",
       "3          NaN     NaN  \n",
       "4       3450.0  Female  "
      ]
     },
     "execution_count": 93,
     "metadata": {},
     "output_type": "execute_result"
    }
   ],
   "source": [
    "df_pen = sns.load_dataset('penguins')\n",
    "df_pen.head()"
   ]
  },
  {
   "cell_type": "code",
   "execution_count": 96,
   "metadata": {},
   "outputs": [
    {
     "data": {
      "text/plain": [
       "Text(0, 0.5, 'Frecuencia')"
      ]
     },
     "execution_count": 96,
     "metadata": {},
     "output_type": "execute_result"
    },
    {
     "data": {
      "image/png": "[encoded data removed]",
      "text/plain": [
       "<Figure size 432x288 with 1 Axes>"
      ]
     },
     "metadata": {
      "needs_background": "light"
     },
     "output_type": "display_data"
    }
   ],
   "source": [
    "sns.countplot(x = 'species', data = df_pen, palette = \"viridis\").set_title('Nº de pingüinos de cada especie en el DataFrame')\n",
    "plt.ylabel('Frecuencia')\n",
    "# El título, los ejes y la paleta no los pedía, así que no los puntúa.\n",
    "# Calificación: 10."
   ]
  },
  {
   "cell_type": "code",
   "execution_count": 44,
   "metadata": {},
   "outputs": [
    {
     "data": {
      "text/plain": [
       "Text(0.5, 1.0, 'Distribución de bill_length para cada especie y cada sexo.')"
      ]
     },
     "execution_count": 44,
     "metadata": {},
     "output_type": "execute_result"
    },
    {
     "data": {
      "image/png": "[encoded data removed]",
      "text/plain": [
       "<Figure size 432x288 with 1 Axes>"
      ]
     },
     "metadata": {
      "needs_background": "light"
     },
     "output_type": "display_data"
    }
   ],
   "source": [
    "sns.violinplot(x = 'species', y = 'bill_length_mm', data = df_pen, hue = 'sex', split = True).set_title('Distribución de bill_length para cada especie y cada sexo.')\n",
    "# Calificación: 10."
   ]
  },
  {
   "cell_type": "markdown",
   "metadata": {},
   "source": [
    "¿En qué especie tienen las hembras el menor flipper_length_mm medio?"
   ]
  },
  {
   "cell_type": "code",
   "execution_count": 99,
   "metadata": {},
   "outputs": [
    {
     "data": {
      "text/html": [
       "<div>\n",
       "<style scoped>\n",
       "    .dataframe tbody tr th:only-of-type {\n",
       "        vertical-align: middle;\n",
       "    }\n",
       "\n",
       "    .dataframe tbody tr th {\n",
       "        vertical-align: top;\n",
       "    }\n",
       "\n",
       "    .dataframe thead th {\n",
       "        text-align: right;\n",
       "    }\n",
       "</style>\n",
       "<table border=\"1\" class=\"dataframe\">\n",
       "  <thead>\n",
       "    <tr style=\"text-align: right;\">\n",
       "      <th></th>\n",
       "      <th>flipper_length_mm</th>\n",
       "    </tr>\n",
       "    <tr>\n",
       "      <th>species</th>\n",
       "      <th></th>\n",
       "    </tr>\n",
       "  </thead>\n",
       "  <tbody>\n",
       "    <tr>\n",
       "      <th>Adelie</th>\n",
       "      <td>187.794521</td>\n",
       "    </tr>\n",
       "    <tr>\n",
       "      <th>Chinstrap</th>\n",
       "      <td>191.735294</td>\n",
       "    </tr>\n",
       "    <tr>\n",
       "      <th>Gentoo</th>\n",
       "      <td>212.706897</td>\n",
       "    </tr>\n",
       "  </tbody>\n",
       "</table>\n",
       "</div>"
      ],
      "text/plain": [
       "           flipper_length_mm\n",
       "species                     \n",
       "Adelie            187.794521\n",
       "Chinstrap         191.735294\n",
       "Gentoo            212.706897"
      ]
     },
     "execution_count": 99,
     "metadata": {},
     "output_type": "execute_result"
    }
   ],
   "source": [
    "dfhembras = df_pen[df_pen['sex'] == 'Female']\n",
    "\n",
    "dfhembras.groupby('species').agg({'flipper_length_mm':'mean'}) # Vemos que el mínimo se obtiene para la especie Adelie."
   ]
  },
  {
   "cell_type": "markdown",
   "metadata": {},
   "source": [
    "Dado el siguiente diccionario, añade que el pingüino 'Gentoo' no me gusta, y genera en el dataframe una columna llamada gustos que recoja mis gustos de pingüinos por especie."
   ]
  },
  {
   "cell_type": "code",
   "execution_count": 46,
   "metadata": {},
   "outputs": [
    {
     "data": {
      "text/html": [
       "<div>\n",
       "<style scoped>\n",
       "    .dataframe tbody tr th:only-of-type {\n",
       "        vertical-align: middle;\n",
       "    }\n",
       "\n",
       "    .dataframe tbody tr th {\n",
       "        vertical-align: top;\n",
       "    }\n",
       "\n",
       "    .dataframe thead th {\n",
       "        text-align: right;\n",
       "    }\n",
       "</style>\n",
       "<table border=\"1\" class=\"dataframe\">\n",
       "  <thead>\n",
       "    <tr style=\"text-align: right;\">\n",
       "      <th></th>\n",
       "      <th>species</th>\n",
       "      <th>island</th>\n",
       "      <th>bill_length_mm</th>\n",
       "      <th>bill_depth_mm</th>\n",
       "      <th>flipper_length_mm</th>\n",
       "      <th>body_mass_g</th>\n",
       "      <th>sex</th>\n",
       "      <th>gustos</th>\n",
       "    </tr>\n",
       "  </thead>\n",
       "  <tbody>\n",
       "    <tr>\n",
       "      <th>0</th>\n",
       "      <td>Adelie</td>\n",
       "      <td>Torgersen</td>\n",
       "      <td>39.1</td>\n",
       "      <td>18.7</td>\n",
       "      <td>181.0</td>\n",
       "      <td>3750.0</td>\n",
       "      <td>Male</td>\n",
       "      <td>me gusta</td>\n",
       "    </tr>\n",
       "    <tr>\n",
       "      <th>1</th>\n",
       "      <td>Adelie</td>\n",
       "      <td>Torgersen</td>\n",
       "      <td>39.5</td>\n",
       "      <td>17.4</td>\n",
       "      <td>186.0</td>\n",
       "      <td>3800.0</td>\n",
       "      <td>Female</td>\n",
       "      <td>me gusta</td>\n",
       "    </tr>\n",
       "    <tr>\n",
       "      <th>2</th>\n",
       "      <td>Adelie</td>\n",
       "      <td>Torgersen</td>\n",
       "      <td>40.3</td>\n",
       "      <td>18.0</td>\n",
       "      <td>195.0</td>\n",
       "      <td>3250.0</td>\n",
       "      <td>Female</td>\n",
       "      <td>me gusta</td>\n",
       "    </tr>\n",
       "    <tr>\n",
       "      <th>3</th>\n",
       "      <td>Adelie</td>\n",
       "      <td>Torgersen</td>\n",
       "      <td>NaN</td>\n",
       "      <td>NaN</td>\n",
       "      <td>NaN</td>\n",
       "      <td>NaN</td>\n",
       "      <td>NaN</td>\n",
       "      <td>me gusta</td>\n",
       "    </tr>\n",
       "    <tr>\n",
       "      <th>4</th>\n",
       "      <td>Adelie</td>\n",
       "      <td>Torgersen</td>\n",
       "      <td>36.7</td>\n",
       "      <td>19.3</td>\n",
       "      <td>193.0</td>\n",
       "      <td>3450.0</td>\n",
       "      <td>Female</td>\n",
       "      <td>me gusta</td>\n",
       "    </tr>\n",
       "    <tr>\n",
       "      <th>...</th>\n",
       "      <td>...</td>\n",
       "      <td>...</td>\n",
       "      <td>...</td>\n",
       "      <td>...</td>\n",
       "      <td>...</td>\n",
       "      <td>...</td>\n",
       "      <td>...</td>\n",
       "      <td>...</td>\n",
       "    </tr>\n",
       "    <tr>\n",
       "      <th>339</th>\n",
       "      <td>Gentoo</td>\n",
       "      <td>Biscoe</td>\n",
       "      <td>NaN</td>\n",
       "      <td>NaN</td>\n",
       "      <td>NaN</td>\n",
       "      <td>NaN</td>\n",
       "      <td>NaN</td>\n",
       "      <td>no me gusta</td>\n",
       "    </tr>\n",
       "    <tr>\n",
       "      <th>340</th>\n",
       "      <td>Gentoo</td>\n",
       "      <td>Biscoe</td>\n",
       "      <td>46.8</td>\n",
       "      <td>14.3</td>\n",
       "      <td>215.0</td>\n",
       "      <td>4850.0</td>\n",
       "      <td>Female</td>\n",
       "      <td>no me gusta</td>\n",
       "    </tr>\n",
       "    <tr>\n",
       "      <th>341</th>\n",
       "      <td>Gentoo</td>\n",
       "      <td>Biscoe</td>\n",
       "      <td>50.4</td>\n",
       "      <td>15.7</td>\n",
       "      <td>222.0</td>\n",
       "      <td>5750.0</td>\n",
       "      <td>Male</td>\n",
       "      <td>no me gusta</td>\n",
       "    </tr>\n",
       "    <tr>\n",
       "      <th>342</th>\n",
       "      <td>Gentoo</td>\n",
       "      <td>Biscoe</td>\n",
       "      <td>45.2</td>\n",
       "      <td>14.8</td>\n",
       "      <td>212.0</td>\n",
       "      <td>5200.0</td>\n",
       "      <td>Female</td>\n",
       "      <td>no me gusta</td>\n",
       "    </tr>\n",
       "    <tr>\n",
       "      <th>343</th>\n",
       "      <td>Gentoo</td>\n",
       "      <td>Biscoe</td>\n",
       "      <td>49.9</td>\n",
       "      <td>16.1</td>\n",
       "      <td>213.0</td>\n",
       "      <td>5400.0</td>\n",
       "      <td>Male</td>\n",
       "      <td>no me gusta</td>\n",
       "    </tr>\n",
       "  </tbody>\n",
       "</table>\n",
       "<p>344 rows × 8 columns</p>\n",
       "</div>"
      ],
      "text/plain": [
       "    species     island  bill_length_mm  bill_depth_mm  flipper_length_mm  \\\n",
       "0    Adelie  Torgersen            39.1           18.7              181.0   \n",
       "1    Adelie  Torgersen            39.5           17.4              186.0   \n",
       "2    Adelie  Torgersen            40.3           18.0              195.0   \n",
       "3    Adelie  Torgersen             NaN            NaN                NaN   \n",
       "4    Adelie  Torgersen            36.7           19.3              193.0   \n",
       "..      ...        ...             ...            ...                ...   \n",
       "339  Gentoo     Biscoe             NaN            NaN                NaN   \n",
       "340  Gentoo     Biscoe            46.8           14.3              215.0   \n",
       "341  Gentoo     Biscoe            50.4           15.7              222.0   \n",
       "342  Gentoo     Biscoe            45.2           14.8              212.0   \n",
       "343  Gentoo     Biscoe            49.9           16.1              213.0   \n",
       "\n",
       "     body_mass_g     sex       gustos  \n",
       "0         3750.0    Male     me gusta  \n",
       "1         3800.0  Female     me gusta  \n",
       "2         3250.0  Female     me gusta  \n",
       "3            NaN     NaN     me gusta  \n",
       "4         3450.0  Female     me gusta  \n",
       "..           ...     ...          ...  \n",
       "339          NaN     NaN  no me gusta  \n",
       "340       4850.0  Female  no me gusta  \n",
       "341       5750.0    Male  no me gusta  \n",
       "342       5200.0  Female  no me gusta  \n",
       "343       5400.0    Male  no me gusta  \n",
       "\n",
       "[344 rows x 8 columns]"
      ]
     },
     "execution_count": 46,
     "metadata": {},
     "output_type": "execute_result"
    }
   ],
   "source": [
    "dict_gustos = {'Adelie':'me gusta', 'Chinstrap':'me da igual', 'Gentoo':'no me gusta'}\n",
    "# Otra opción dict_gustos['Gentoo'] = 'no me gusta'.\n",
    "df_pen['gustos'] = df_pen['species'].map(dict_gustos)\n",
    "df_pen"
   ]
  },
  {
   "cell_type": "code",
   "execution_count": 101,
   "metadata": {},
   "outputs": [
    {
     "name": "stdout",
     "output_type": "stream",
     "text": [
      "Adelie me gusta\n",
      "Adelie me gusta\n",
      "Adelie me gusta\n",
      "Adelie me gusta\n",
      "Adelie me gusta\n",
      "Adelie me gusta\n",
      "Adelie me gusta\n",
      "Adelie me gusta\n",
      "Adelie me gusta\n",
      "Adelie me gusta\n"
     ]
    }
   ],
   "source": [
    "dict_gustos = {'Adelie':'me gusta', 'Chinstrap':'me da igual'}\n",
    "\n",
    "ls_gustos = []\n",
    "\n",
    "for i in df_pen['species'][0:10]:\n",
    "    ls_gustos.append(dict_gustos)\n",
    "# Por terminar."
   ]
  },
  {
   "cell_type": "code",
   "execution_count": 107,
   "metadata": {},
   "outputs": [
    {
     "data": {
      "text/html": [
       "<div>\n",
       "<style scoped>\n",
       "    .dataframe tbody tr th:only-of-type {\n",
       "        vertical-align: middle;\n",
       "    }\n",
       "\n",
       "    .dataframe tbody tr th {\n",
       "        vertical-align: top;\n",
       "    }\n",
       "\n",
       "    .dataframe thead th {\n",
       "        text-align: right;\n",
       "    }\n",
       "</style>\n",
       "<table border=\"1\" class=\"dataframe\">\n",
       "  <thead>\n",
       "    <tr style=\"text-align: right;\">\n",
       "      <th></th>\n",
       "      <th>species</th>\n",
       "      <th>island</th>\n",
       "      <th>bill_length_mm</th>\n",
       "      <th>bill_depth_mm</th>\n",
       "      <th>flipper_length_mm</th>\n",
       "      <th>body_mass_g</th>\n",
       "      <th>sex</th>\n",
       "      <th>gustos</th>\n",
       "    </tr>\n",
       "  </thead>\n",
       "  <tbody>\n",
       "    <tr>\n",
       "      <th>0</th>\n",
       "      <td>Adelie</td>\n",
       "      <td>Torgersen</td>\n",
       "      <td>39.1</td>\n",
       "      <td>18.7</td>\n",
       "      <td>181.0</td>\n",
       "      <td>3750.0</td>\n",
       "      <td>Male</td>\n",
       "      <td>me gusta</td>\n",
       "    </tr>\n",
       "    <tr>\n",
       "      <th>1</th>\n",
       "      <td>Adelie</td>\n",
       "      <td>Torgersen</td>\n",
       "      <td>39.5</td>\n",
       "      <td>17.4</td>\n",
       "      <td>186.0</td>\n",
       "      <td>3800.0</td>\n",
       "      <td>Female</td>\n",
       "      <td>me gusta</td>\n",
       "    </tr>\n",
       "    <tr>\n",
       "      <th>2</th>\n",
       "      <td>Adelie</td>\n",
       "      <td>Torgersen</td>\n",
       "      <td>40.3</td>\n",
       "      <td>18.0</td>\n",
       "      <td>195.0</td>\n",
       "      <td>3250.0</td>\n",
       "      <td>Female</td>\n",
       "      <td>me gusta</td>\n",
       "    </tr>\n",
       "    <tr>\n",
       "      <th>3</th>\n",
       "      <td>Adelie</td>\n",
       "      <td>Torgersen</td>\n",
       "      <td>NaN</td>\n",
       "      <td>NaN</td>\n",
       "      <td>NaN</td>\n",
       "      <td>NaN</td>\n",
       "      <td>NaN</td>\n",
       "      <td>me gusta</td>\n",
       "    </tr>\n",
       "    <tr>\n",
       "      <th>4</th>\n",
       "      <td>Adelie</td>\n",
       "      <td>Torgersen</td>\n",
       "      <td>36.7</td>\n",
       "      <td>19.3</td>\n",
       "      <td>193.0</td>\n",
       "      <td>3450.0</td>\n",
       "      <td>Female</td>\n",
       "      <td>me gusta</td>\n",
       "    </tr>\n",
       "    <tr>\n",
       "      <th>...</th>\n",
       "      <td>...</td>\n",
       "      <td>...</td>\n",
       "      <td>...</td>\n",
       "      <td>...</td>\n",
       "      <td>...</td>\n",
       "      <td>...</td>\n",
       "      <td>...</td>\n",
       "      <td>...</td>\n",
       "    </tr>\n",
       "    <tr>\n",
       "      <th>339</th>\n",
       "      <td>Gentoo</td>\n",
       "      <td>Biscoe</td>\n",
       "      <td>NaN</td>\n",
       "      <td>NaN</td>\n",
       "      <td>NaN</td>\n",
       "      <td>NaN</td>\n",
       "      <td>NaN</td>\n",
       "      <td>me gusta</td>\n",
       "    </tr>\n",
       "    <tr>\n",
       "      <th>340</th>\n",
       "      <td>Gentoo</td>\n",
       "      <td>Biscoe</td>\n",
       "      <td>46.8</td>\n",
       "      <td>14.3</td>\n",
       "      <td>215.0</td>\n",
       "      <td>4850.0</td>\n",
       "      <td>Female</td>\n",
       "      <td>me gusta</td>\n",
       "    </tr>\n",
       "    <tr>\n",
       "      <th>341</th>\n",
       "      <td>Gentoo</td>\n",
       "      <td>Biscoe</td>\n",
       "      <td>50.4</td>\n",
       "      <td>15.7</td>\n",
       "      <td>222.0</td>\n",
       "      <td>5750.0</td>\n",
       "      <td>Male</td>\n",
       "      <td>me gusta</td>\n",
       "    </tr>\n",
       "    <tr>\n",
       "      <th>342</th>\n",
       "      <td>Gentoo</td>\n",
       "      <td>Biscoe</td>\n",
       "      <td>45.2</td>\n",
       "      <td>14.8</td>\n",
       "      <td>212.0</td>\n",
       "      <td>5200.0</td>\n",
       "      <td>Female</td>\n",
       "      <td>me gusta</td>\n",
       "    </tr>\n",
       "    <tr>\n",
       "      <th>343</th>\n",
       "      <td>Gentoo</td>\n",
       "      <td>Biscoe</td>\n",
       "      <td>49.9</td>\n",
       "      <td>16.1</td>\n",
       "      <td>213.0</td>\n",
       "      <td>5400.0</td>\n",
       "      <td>Male</td>\n",
       "      <td>me gusta</td>\n",
       "    </tr>\n",
       "  </tbody>\n",
       "</table>\n",
       "<p>344 rows × 8 columns</p>\n",
       "</div>"
      ],
      "text/plain": [
       "    species     island  bill_length_mm  bill_depth_mm  flipper_length_mm  \\\n",
       "0    Adelie  Torgersen            39.1           18.7              181.0   \n",
       "1    Adelie  Torgersen            39.5           17.4              186.0   \n",
       "2    Adelie  Torgersen            40.3           18.0              195.0   \n",
       "3    Adelie  Torgersen             NaN            NaN                NaN   \n",
       "4    Adelie  Torgersen            36.7           19.3              193.0   \n",
       "..      ...        ...             ...            ...                ...   \n",
       "339  Gentoo     Biscoe             NaN            NaN                NaN   \n",
       "340  Gentoo     Biscoe            46.8           14.3              215.0   \n",
       "341  Gentoo     Biscoe            50.4           15.7              222.0   \n",
       "342  Gentoo     Biscoe            45.2           14.8              212.0   \n",
       "343  Gentoo     Biscoe            49.9           16.1              213.0   \n",
       "\n",
       "     body_mass_g     sex    gustos  \n",
       "0         3750.0    Male  me gusta  \n",
       "1         3800.0  Female  me gusta  \n",
       "2         3250.0  Female  me gusta  \n",
       "3            NaN     NaN  me gusta  \n",
       "4         3450.0  Female  me gusta  \n",
       "..           ...     ...       ...  \n",
       "339          NaN     NaN  me gusta  \n",
       "340       4850.0  Female  me gusta  \n",
       "341       5750.0    Male  me gusta  \n",
       "342       5200.0  Female  me gusta  \n",
       "343       5400.0    Male  me gusta  \n",
       "\n",
       "[344 rows x 8 columns]"
      ]
     },
     "execution_count": 107,
     "metadata": {},
     "output_type": "execute_result"
    }
   ],
   "source": [
    "df_pen['gustos'] = df_pen['species'].apply(lambda x: dict_gustos[i])\n",
    "df_pen # Opción de Carmen (profesora)"
   ]
  },
  {
   "cell_type": "markdown",
   "metadata": {},
   "source": [
    "Genera un dataframe a partir de esta tabla :\n",
    "```\n",
    "<table>\n",
    "<thead><tr><th></th><th>country</th><th>type_pengs</th><th>n_pengs_in_zoo</th></tr></thead><tbody>\n",
    " <tr><td>0</td><td>Afghanistan</td><td>Adelie</td><td>0</td></tr>\n",
    " <tr><td>1</td><td>Albania</td><td>Chinstrap</td><td>89</td></tr>\n",
    " <tr><td>2</td><td>Algeria</td><td>Adelie</td><td>25</td></tr>\n",
    " <tr><td>3</td><td>Andorra</td><td>Adelie</td><td>245</td></tr>\n",
    " <tr><td>4</td><td>Angola</td><td>Chinstrap</td><td>217</td></tr>\n",
    " <tr><td>574</td><td>Venezuela</td><td>Gentoo</td><td>3</td></tr>\n",
    " <tr><td>575</td><td>Vietnam</td><td>Adelie</td><td>1</td></tr>\n",
    " <tr><td>576</td><td>Yemen</td><td>Other</td><td>0</td></tr>\n",
    " <tr><td>577</td><td>Zambia</td><td>Adelie</td><td>4</td></tr>\n",
    " <tr><td>578</td><td>Zimbabwe</td><td>Gentoo</td><td>4</td></tr>\n",
    "</tbody></table>\n",
    "```"
   ]
  },
  {
   "cell_type": "code",
   "execution_count": 108,
   "metadata": {},
   "outputs": [],
   "source": [
    "import pandas as pd\n",
    "import requests\n",
    "from bs4 import BeautifulSoup"
   ]
  },
  {
   "cell_type": "code",
   "execution_count": 109,
   "metadata": {},
   "outputs": [
    {
     "data": {
      "text/html": [
       "<div>\n",
       "<style scoped>\n",
       "    .dataframe tbody tr th:only-of-type {\n",
       "        vertical-align: middle;\n",
       "    }\n",
       "\n",
       "    .dataframe tbody tr th {\n",
       "        vertical-align: top;\n",
       "    }\n",
       "\n",
       "    .dataframe thead th {\n",
       "        text-align: right;\n",
       "    }\n",
       "</style>\n",
       "<table border=\"1\" class=\"dataframe\">\n",
       "  <thead>\n",
       "    <tr style=\"text-align: right;\">\n",
       "      <th></th>\n",
       "      <th>country</th>\n",
       "      <th>type_pengs</th>\n",
       "      <th>n_pengs_in_zoo</th>\n",
       "    </tr>\n",
       "  </thead>\n",
       "  <tbody>\n",
       "    <tr>\n",
       "      <th>0</th>\n",
       "      <td>Afghanistan</td>\n",
       "      <td>Adelie</td>\n",
       "      <td>0</td>\n",
       "    </tr>\n",
       "    <tr>\n",
       "      <th>1</th>\n",
       "      <td>Albania</td>\n",
       "      <td>Chinstrap</td>\n",
       "      <td>89</td>\n",
       "    </tr>\n",
       "    <tr>\n",
       "      <th>2</th>\n",
       "      <td>Algeria</td>\n",
       "      <td>Adelie</td>\n",
       "      <td>25</td>\n",
       "    </tr>\n",
       "    <tr>\n",
       "      <th>3</th>\n",
       "      <td>Andorra</td>\n",
       "      <td>Adelie</td>\n",
       "      <td>245</td>\n",
       "    </tr>\n",
       "    <tr>\n",
       "      <th>4</th>\n",
       "      <td>Angola</td>\n",
       "      <td>Chinstrap</td>\n",
       "      <td>217</td>\n",
       "    </tr>\n",
       "    <tr>\n",
       "      <th>5</th>\n",
       "      <td>Venezuela</td>\n",
       "      <td>Gentoo</td>\n",
       "      <td>3</td>\n",
       "    </tr>\n",
       "    <tr>\n",
       "      <th>6</th>\n",
       "      <td>Vietnam</td>\n",
       "      <td>Adelie</td>\n",
       "      <td>1</td>\n",
       "    </tr>\n",
       "    <tr>\n",
       "      <th>7</th>\n",
       "      <td>Yemen</td>\n",
       "      <td>Other</td>\n",
       "      <td>0</td>\n",
       "    </tr>\n",
       "    <tr>\n",
       "      <th>8</th>\n",
       "      <td>Zambia</td>\n",
       "      <td>Adelie</td>\n",
       "      <td>4</td>\n",
       "    </tr>\n",
       "    <tr>\n",
       "      <th>9</th>\n",
       "      <td>Zimbabwe</td>\n",
       "      <td>Gentoo</td>\n",
       "      <td>4</td>\n",
       "    </tr>\n",
       "  </tbody>\n",
       "</table>\n",
       "</div>"
      ],
      "text/plain": [
       "       country type_pengs  n_pengs_in_zoo\n",
       "0  Afghanistan     Adelie               0\n",
       "1      Albania  Chinstrap              89\n",
       "2      Algeria     Adelie              25\n",
       "3      Andorra     Adelie             245\n",
       "4       Angola  Chinstrap             217\n",
       "5    Venezuela     Gentoo               3\n",
       "6      Vietnam     Adelie               1\n",
       "7        Yemen      Other               0\n",
       "8       Zambia     Adelie               4\n",
       "9     Zimbabwe     Gentoo               4"
      ]
     },
     "execution_count": 109,
     "metadata": {},
     "output_type": "execute_result"
    }
   ],
   "source": [
    "# Cosas de Mert Kuçuru:\n",
    "a = pd.read_html(html_tabla, header=0)[0]\n",
    "\n",
    "a\n",
    "\n",
    "b = pd.DataFrame(a , columns = ['country','type_pengs','n_pengs_in_zoo'] , index = None)\n",
    "\n",
    "b"
   ]
  },
  {
   "cell_type": "code",
   "execution_count": 48,
   "metadata": {
    "scrolled": false
   },
   "outputs": [
    {
     "data": {
      "text/plain": [
       "\n",
       "<table>\n",
       "<thead><tr><th></th><th>country</th><th>type_pengs</th><th>n_pengs_in_zoo</th></tr></thead><tbody>\n",
       "<tr><td>0</td><td>Afghanistan</td><td>Adelie</td><td>0</td></tr>\n",
       "<tr><td>1</td><td>Albania</td><td>Chinstrap</td><td>89</td></tr>\n",
       "<tr><td>2</td><td>Algeria</td><td>Adelie</td><td>25</td></tr>\n",
       "<tr><td>3</td><td>Andorra</td><td>Adelie</td><td>245</td></tr>\n",
       "<tr><td>4</td><td>Angola</td><td>Chinstrap</td><td>217</td></tr>\n",
       "<tr><td>574</td><td>Venezuela</td><td>Gentoo</td><td>3</td></tr>\n",
       "<tr><td>575</td><td>Vietnam</td><td>Adelie</td><td>1</td></tr>\n",
       "<tr><td>576</td><td>Yemen</td><td>Other</td><td>0</td></tr>\n",
       "<tr><td>577</td><td>Zambia</td><td>Adelie</td><td>4</td></tr>\n",
       "<tr><td>578</td><td>Zimbabwe</td><td>Gentoo</td><td>4</td></tr>\n",
       "</tbody></table>"
      ]
     },
     "execution_count": 48,
     "metadata": {},
     "output_type": "execute_result"
    }
   ],
   "source": [
    "html_tabla = \"\"\"\n",
    "<table>\n",
    "<thead><tr><th></th><th>country</th><th>type_pengs</th><th>n_pengs_in_zoo</th></tr></thead><tbody>\n",
    " <tr><td>0</td><td>Afghanistan</td><td>Adelie</td><td>0</td></tr>\n",
    " <tr><td>1</td><td>Albania</td><td>Chinstrap</td><td>89</td></tr>\n",
    " <tr><td>2</td><td>Algeria</td><td>Adelie</td><td>25</td></tr>\n",
    " <tr><td>3</td><td>Andorra</td><td>Adelie</td><td>245</td></tr>\n",
    " <tr><td>4</td><td>Angola</td><td>Chinstrap</td><td>217</td></tr>\n",
    " <tr><td>574</td><td>Venezuela</td><td>Gentoo</td><td>3</td></tr>\n",
    " <tr><td>575</td><td>Vietnam</td><td>Adelie</td><td>1</td></tr>\n",
    " <tr><td>576</td><td>Yemen</td><td>Other</td><td>0</td></tr>\n",
    " <tr><td>577</td><td>Zambia</td><td>Adelie</td><td>4</td></tr>\n",
    " <tr><td>578</td><td>Zimbabwe</td><td>Gentoo</td><td>4</td></tr>\n",
    "</tbody></table>\n",
    "\"\"\"\n",
    "soup = BeautifulSoup(html_tabla, 'html.parser')\n",
    "soup"
   ]
  },
  {
   "cell_type": "code",
   "execution_count": 110,
   "metadata": {},
   "outputs": [
    {
     "data": {
      "text/plain": [
       "['', 'country', 'type_pengs', 'n_pengs_in_zoo']"
      ]
     },
     "execution_count": 110,
     "metadata": {},
     "output_type": "execute_result"
    }
   ],
   "source": [
    "columnas = soup.find('thead').find_all('th')\n",
    "col = list()\n",
    "for element in columnas:\n",
    "    col.append(element.get_text())\n",
    "    \n",
    "col"
   ]
  },
  {
   "cell_type": "code",
   "execution_count": 50,
   "metadata": {},
   "outputs": [
    {
     "data": {
      "text/plain": [
       "[['0', 'Afghanistan', 'Adelie', '0'],\n",
       " ['1', 'Albania', 'Chinstrap', '89'],\n",
       " ['2', 'Algeria', 'Adelie', '25'],\n",
       " ['3', 'Andorra', 'Adelie', '245'],\n",
       " ['4', 'Angola', 'Chinstrap', '217'],\n",
       " ['574', 'Venezuela', 'Gentoo', '3'],\n",
       " ['575', 'Vietnam', 'Adelie', '1'],\n",
       " ['576', 'Yemen', 'Other', '0'],\n",
       " ['577', 'Zambia', 'Adelie', '4'],\n",
       " ['578', 'Zimbabwe', 'Gentoo', '4']]"
      ]
     },
     "execution_count": 50,
     "metadata": {},
     "output_type": "execute_result"
    }
   ],
   "source": [
    "filas = soup.find('tbody').find_all('tr')\n",
    "fil = list()\n",
    "\n",
    "for fila in filas:\n",
    "    lista_elem = []\n",
    "    for elemento in fila.find_all('td'):\n",
    "        lista_elem.append(elemento.get_text())\n",
    "    fil.append(lista_elem)\n",
    "fil\n",
    "\n"
   ]
  },
  {
   "cell_type": "code",
   "execution_count": 123,
   "metadata": {
    "scrolled": true
   },
   "outputs": [
    {
     "data": {
      "text/html": [
       "<div>\n",
       "<style scoped>\n",
       "    .dataframe tbody tr th:only-of-type {\n",
       "        vertical-align: middle;\n",
       "    }\n",
       "\n",
       "    .dataframe tbody tr th {\n",
       "        vertical-align: top;\n",
       "    }\n",
       "\n",
       "    .dataframe thead th {\n",
       "        text-align: right;\n",
       "    }\n",
       "</style>\n",
       "<table border=\"1\" class=\"dataframe\">\n",
       "  <thead>\n",
       "    <tr style=\"text-align: right;\">\n",
       "      <th></th>\n",
       "      <th></th>\n",
       "      <th>country</th>\n",
       "      <th>type_pengs</th>\n",
       "      <th>n_pengs_in_zoo</th>\n",
       "    </tr>\n",
       "  </thead>\n",
       "  <tbody>\n",
       "    <tr>\n",
       "      <th>0</th>\n",
       "      <td>0</td>\n",
       "      <td>Afghanistan</td>\n",
       "      <td>Adelie</td>\n",
       "      <td>0</td>\n",
       "    </tr>\n",
       "    <tr>\n",
       "      <th>1</th>\n",
       "      <td>1</td>\n",
       "      <td>Albania</td>\n",
       "      <td>Chinstrap</td>\n",
       "      <td>89</td>\n",
       "    </tr>\n",
       "    <tr>\n",
       "      <th>2</th>\n",
       "      <td>2</td>\n",
       "      <td>Algeria</td>\n",
       "      <td>Adelie</td>\n",
       "      <td>25</td>\n",
       "    </tr>\n",
       "    <tr>\n",
       "      <th>3</th>\n",
       "      <td>3</td>\n",
       "      <td>Andorra</td>\n",
       "      <td>Adelie</td>\n",
       "      <td>245</td>\n",
       "    </tr>\n",
       "    <tr>\n",
       "      <th>4</th>\n",
       "      <td>4</td>\n",
       "      <td>Angola</td>\n",
       "      <td>Chinstrap</td>\n",
       "      <td>217</td>\n",
       "    </tr>\n",
       "    <tr>\n",
       "      <th>5</th>\n",
       "      <td>574</td>\n",
       "      <td>Venezuela</td>\n",
       "      <td>Gentoo</td>\n",
       "      <td>3</td>\n",
       "    </tr>\n",
       "    <tr>\n",
       "      <th>6</th>\n",
       "      <td>575</td>\n",
       "      <td>Vietnam</td>\n",
       "      <td>Adelie</td>\n",
       "      <td>1</td>\n",
       "    </tr>\n",
       "    <tr>\n",
       "      <th>7</th>\n",
       "      <td>576</td>\n",
       "      <td>Yemen</td>\n",
       "      <td>Other</td>\n",
       "      <td>0</td>\n",
       "    </tr>\n",
       "    <tr>\n",
       "      <th>8</th>\n",
       "      <td>577</td>\n",
       "      <td>Zambia</td>\n",
       "      <td>Adelie</td>\n",
       "      <td>4</td>\n",
       "    </tr>\n",
       "    <tr>\n",
       "      <th>9</th>\n",
       "      <td>578</td>\n",
       "      <td>Zimbabwe</td>\n",
       "      <td>Gentoo</td>\n",
       "      <td>4</td>\n",
       "    </tr>\n",
       "  </tbody>\n",
       "</table>\n",
       "</div>"
      ],
      "text/plain": [
       "            country type_pengs n_pengs_in_zoo\n",
       "0    0  Afghanistan     Adelie              0\n",
       "1    1      Albania  Chinstrap             89\n",
       "2    2      Algeria     Adelie             25\n",
       "3    3      Andorra     Adelie            245\n",
       "4    4       Angola  Chinstrap            217\n",
       "5  574    Venezuela     Gentoo              3\n",
       "6  575      Vietnam     Adelie              1\n",
       "7  576        Yemen      Other              0\n",
       "8  577       Zambia     Adelie              4\n",
       "9  578     Zimbabwe     Gentoo              4"
      ]
     },
     "execution_count": 123,
     "metadata": {},
     "output_type": "execute_result"
    }
   ],
   "source": [
    "df = pd.DataFrame(fil, columns = col); df"
   ]
  },
  {
   "cell_type": "markdown",
   "metadata": {},
   "source": [
    "* Añade una columna a la tabla que acabas de generar con la `body_mass_g` media para cada especie de pingüino.\n",
    "* Estima el peso total de lon pingüinos de cada país."
   ]
  },
  {
   "cell_type": "code",
   "execution_count": 119,
   "metadata": {},
   "outputs": [
    {
     "data": {
      "text/html": [
       "<div>\n",
       "<style scoped>\n",
       "    .dataframe tbody tr th:only-of-type {\n",
       "        vertical-align: middle;\n",
       "    }\n",
       "\n",
       "    .dataframe tbody tr th {\n",
       "        vertical-align: top;\n",
       "    }\n",
       "\n",
       "    .dataframe thead th {\n",
       "        text-align: right;\n",
       "    }\n",
       "</style>\n",
       "<table border=\"1\" class=\"dataframe\">\n",
       "  <thead>\n",
       "    <tr style=\"text-align: right;\">\n",
       "      <th></th>\n",
       "      <th>species</th>\n",
       "      <th>body_mass_g</th>\n",
       "    </tr>\n",
       "  </thead>\n",
       "  <tbody>\n",
       "    <tr>\n",
       "      <th>0</th>\n",
       "      <td>Adelie</td>\n",
       "      <td>3700.662252</td>\n",
       "    </tr>\n",
       "    <tr>\n",
       "      <th>1</th>\n",
       "      <td>Chinstrap</td>\n",
       "      <td>3733.088235</td>\n",
       "    </tr>\n",
       "    <tr>\n",
       "      <th>2</th>\n",
       "      <td>Gentoo</td>\n",
       "      <td>5076.016260</td>\n",
       "    </tr>\n",
       "  </tbody>\n",
       "</table>\n",
       "</div>"
      ],
      "text/plain": [
       "     species  body_mass_g\n",
       "0     Adelie  3700.662252\n",
       "1  Chinstrap  3733.088235\n",
       "2     Gentoo  5076.016260"
      ]
     },
     "execution_count": 119,
     "metadata": {},
     "output_type": "execute_result"
    }
   ],
   "source": [
    "df_means = df_pen.groupby('species').mean().reset_index()\n",
    "means = df_means[['species','body_mass_g']]\n",
    "means"
   ]
  },
  {
   "cell_type": "code",
   "execution_count": 120,
   "metadata": {
    "scrolled": true
   },
   "outputs": [
    {
     "data": {
      "text/plain": [
       "{'Adelie': 3700.662251655629,\n",
       " 'Chinstrap': 3733.0882352941176,\n",
       " 'Gentoo': 5076.016260162602}"
      ]
     },
     "execution_count": 120,
     "metadata": {},
     "output_type": "execute_result"
    }
   ],
   "source": [
    "especies = list(df_pen.groupby('species').mean().reset_index()['species'])\n",
    "medias = list(df_pen.groupby('species').mean().reset_index()['body_mass_g'])\n",
    "\n",
    "espymed = dict(zip(especies,medias))\n",
    "espymed\n"
   ]
  },
  {
   "cell_type": "code",
   "execution_count": 140,
   "metadata": {
    "scrolled": true
   },
   "outputs": [
    {
     "data": {
      "text/html": [
       "<div>\n",
       "<style scoped>\n",
       "    .dataframe tbody tr th:only-of-type {\n",
       "        vertical-align: middle;\n",
       "    }\n",
       "\n",
       "    .dataframe tbody tr th {\n",
       "        vertical-align: top;\n",
       "    }\n",
       "\n",
       "    .dataframe thead th {\n",
       "        text-align: right;\n",
       "    }\n",
       "</style>\n",
       "<table border=\"1\" class=\"dataframe\">\n",
       "  <thead>\n",
       "    <tr style=\"text-align: right;\">\n",
       "      <th></th>\n",
       "      <th></th>\n",
       "      <th>country</th>\n",
       "      <th>type_pengs</th>\n",
       "      <th>n_pengs_in_zoo</th>\n",
       "      <th>species</th>\n",
       "      <th>body_mass_g</th>\n",
       "    </tr>\n",
       "  </thead>\n",
       "  <tbody>\n",
       "    <tr>\n",
       "      <th>0</th>\n",
       "      <td>0</td>\n",
       "      <td>Afghanistan</td>\n",
       "      <td>Adelie</td>\n",
       "      <td>0</td>\n",
       "      <td>Adelie</td>\n",
       "      <td>3700.662252</td>\n",
       "    </tr>\n",
       "    <tr>\n",
       "      <th>1</th>\n",
       "      <td>2</td>\n",
       "      <td>Algeria</td>\n",
       "      <td>Adelie</td>\n",
       "      <td>25</td>\n",
       "      <td>Adelie</td>\n",
       "      <td>3700.662252</td>\n",
       "    </tr>\n",
       "    <tr>\n",
       "      <th>2</th>\n",
       "      <td>3</td>\n",
       "      <td>Andorra</td>\n",
       "      <td>Adelie</td>\n",
       "      <td>245</td>\n",
       "      <td>Adelie</td>\n",
       "      <td>3700.662252</td>\n",
       "    </tr>\n",
       "    <tr>\n",
       "      <th>3</th>\n",
       "      <td>575</td>\n",
       "      <td>Vietnam</td>\n",
       "      <td>Adelie</td>\n",
       "      <td>1</td>\n",
       "      <td>Adelie</td>\n",
       "      <td>3700.662252</td>\n",
       "    </tr>\n",
       "    <tr>\n",
       "      <th>4</th>\n",
       "      <td>577</td>\n",
       "      <td>Zambia</td>\n",
       "      <td>Adelie</td>\n",
       "      <td>4</td>\n",
       "      <td>Adelie</td>\n",
       "      <td>3700.662252</td>\n",
       "    </tr>\n",
       "    <tr>\n",
       "      <th>5</th>\n",
       "      <td>1</td>\n",
       "      <td>Albania</td>\n",
       "      <td>Chinstrap</td>\n",
       "      <td>89</td>\n",
       "      <td>Chinstrap</td>\n",
       "      <td>3733.088235</td>\n",
       "    </tr>\n",
       "    <tr>\n",
       "      <th>6</th>\n",
       "      <td>4</td>\n",
       "      <td>Angola</td>\n",
       "      <td>Chinstrap</td>\n",
       "      <td>217</td>\n",
       "      <td>Chinstrap</td>\n",
       "      <td>3733.088235</td>\n",
       "    </tr>\n",
       "    <tr>\n",
       "      <th>7</th>\n",
       "      <td>574</td>\n",
       "      <td>Venezuela</td>\n",
       "      <td>Gentoo</td>\n",
       "      <td>3</td>\n",
       "      <td>Gentoo</td>\n",
       "      <td>5076.016260</td>\n",
       "    </tr>\n",
       "    <tr>\n",
       "      <th>8</th>\n",
       "      <td>578</td>\n",
       "      <td>Zimbabwe</td>\n",
       "      <td>Gentoo</td>\n",
       "      <td>4</td>\n",
       "      <td>Gentoo</td>\n",
       "      <td>5076.016260</td>\n",
       "    </tr>\n",
       "  </tbody>\n",
       "</table>\n",
       "</div>"
      ],
      "text/plain": [
       "            country type_pengs n_pengs_in_zoo    species  body_mass_g\n",
       "0    0  Afghanistan     Adelie              0     Adelie  3700.662252\n",
       "1    2      Algeria     Adelie             25     Adelie  3700.662252\n",
       "2    3      Andorra     Adelie            245     Adelie  3700.662252\n",
       "3  575      Vietnam     Adelie              1     Adelie  3700.662252\n",
       "4  577       Zambia     Adelie              4     Adelie  3700.662252\n",
       "5    1      Albania  Chinstrap             89  Chinstrap  3733.088235\n",
       "6    4       Angola  Chinstrap            217  Chinstrap  3733.088235\n",
       "7  574    Venezuela     Gentoo              3     Gentoo  5076.016260\n",
       "8  578     Zimbabwe     Gentoo              4     Gentoo  5076.016260"
      ]
     },
     "execution_count": 140,
     "metadata": {},
     "output_type": "execute_result"
    }
   ],
   "source": [
    "df_join = df.merge(means, left_on='type_pengs',right_on = 'species', how = 'inner')\n",
    "df_join"
   ]
  },
  {
   "cell_type": "code",
   "execution_count": 134,
   "metadata": {
    "scrolled": true
   },
   "outputs": [
    {
     "data": {
      "text/plain": [
       "                   object\n",
       "country            object\n",
       "type_pengs         object\n",
       "n_pengs_in_zoo     object\n",
       "species            object\n",
       "body_mass_g       float64\n",
       "dtype: object"
      ]
     },
     "execution_count": 134,
     "metadata": {},
     "output_type": "execute_result"
    }
   ],
   "source": [
    "df_join.dtypes"
   ]
  },
  {
   "cell_type": "code",
   "execution_count": 136,
   "metadata": {},
   "outputs": [],
   "source": [
    "df_join['n_pengs_in_zoo'] = df_join['n_pengs_in_zoo'].astype(float)"
   ]
  },
  {
   "cell_type": "code",
   "execution_count": 138,
   "metadata": {},
   "outputs": [
    {
     "data": {
      "text/html": [
       "<div>\n",
       "<style scoped>\n",
       "    .dataframe tbody tr th:only-of-type {\n",
       "        vertical-align: middle;\n",
       "    }\n",
       "\n",
       "    .dataframe tbody tr th {\n",
       "        vertical-align: top;\n",
       "    }\n",
       "\n",
       "    .dataframe thead th {\n",
       "        text-align: right;\n",
       "    }\n",
       "</style>\n",
       "<table border=\"1\" class=\"dataframe\">\n",
       "  <thead>\n",
       "    <tr style=\"text-align: right;\">\n",
       "      <th></th>\n",
       "      <th></th>\n",
       "      <th>country</th>\n",
       "      <th>type_pengs</th>\n",
       "      <th>n_pengs_in_zoo</th>\n",
       "      <th>species</th>\n",
       "      <th>body_mass_g</th>\n",
       "      <th>peso_total</th>\n",
       "    </tr>\n",
       "  </thead>\n",
       "  <tbody>\n",
       "    <tr>\n",
       "      <th>0</th>\n",
       "      <td>0</td>\n",
       "      <td>Afghanistan</td>\n",
       "      <td>Adelie</td>\n",
       "      <td>0.0</td>\n",
       "      <td>Adelie</td>\n",
       "      <td>3700.662252</td>\n",
       "      <td>0.000000</td>\n",
       "    </tr>\n",
       "    <tr>\n",
       "      <th>1</th>\n",
       "      <td>2</td>\n",
       "      <td>Algeria</td>\n",
       "      <td>Adelie</td>\n",
       "      <td>25.0</td>\n",
       "      <td>Adelie</td>\n",
       "      <td>3700.662252</td>\n",
       "      <td>92516.556291</td>\n",
       "    </tr>\n",
       "    <tr>\n",
       "      <th>2</th>\n",
       "      <td>3</td>\n",
       "      <td>Andorra</td>\n",
       "      <td>Adelie</td>\n",
       "      <td>245.0</td>\n",
       "      <td>Adelie</td>\n",
       "      <td>3700.662252</td>\n",
       "      <td>906662.251656</td>\n",
       "    </tr>\n",
       "    <tr>\n",
       "      <th>3</th>\n",
       "      <td>575</td>\n",
       "      <td>Vietnam</td>\n",
       "      <td>Adelie</td>\n",
       "      <td>1.0</td>\n",
       "      <td>Adelie</td>\n",
       "      <td>3700.662252</td>\n",
       "      <td>3700.662252</td>\n",
       "    </tr>\n",
       "    <tr>\n",
       "      <th>4</th>\n",
       "      <td>577</td>\n",
       "      <td>Zambia</td>\n",
       "      <td>Adelie</td>\n",
       "      <td>4.0</td>\n",
       "      <td>Adelie</td>\n",
       "      <td>3700.662252</td>\n",
       "      <td>14802.649007</td>\n",
       "    </tr>\n",
       "    <tr>\n",
       "      <th>5</th>\n",
       "      <td>1</td>\n",
       "      <td>Albania</td>\n",
       "      <td>Chinstrap</td>\n",
       "      <td>89.0</td>\n",
       "      <td>Chinstrap</td>\n",
       "      <td>3733.088235</td>\n",
       "      <td>332244.852941</td>\n",
       "    </tr>\n",
       "    <tr>\n",
       "      <th>6</th>\n",
       "      <td>4</td>\n",
       "      <td>Angola</td>\n",
       "      <td>Chinstrap</td>\n",
       "      <td>217.0</td>\n",
       "      <td>Chinstrap</td>\n",
       "      <td>3733.088235</td>\n",
       "      <td>810080.147059</td>\n",
       "    </tr>\n",
       "    <tr>\n",
       "      <th>7</th>\n",
       "      <td>574</td>\n",
       "      <td>Venezuela</td>\n",
       "      <td>Gentoo</td>\n",
       "      <td>3.0</td>\n",
       "      <td>Gentoo</td>\n",
       "      <td>5076.016260</td>\n",
       "      <td>15228.048780</td>\n",
       "    </tr>\n",
       "    <tr>\n",
       "      <th>8</th>\n",
       "      <td>578</td>\n",
       "      <td>Zimbabwe</td>\n",
       "      <td>Gentoo</td>\n",
       "      <td>4.0</td>\n",
       "      <td>Gentoo</td>\n",
       "      <td>5076.016260</td>\n",
       "      <td>20304.065041</td>\n",
       "    </tr>\n",
       "  </tbody>\n",
       "</table>\n",
       "</div>"
      ],
      "text/plain": [
       "            country type_pengs  n_pengs_in_zoo    species  body_mass_g  \\\n",
       "0    0  Afghanistan     Adelie             0.0     Adelie  3700.662252   \n",
       "1    2      Algeria     Adelie            25.0     Adelie  3700.662252   \n",
       "2    3      Andorra     Adelie           245.0     Adelie  3700.662252   \n",
       "3  575      Vietnam     Adelie             1.0     Adelie  3700.662252   \n",
       "4  577       Zambia     Adelie             4.0     Adelie  3700.662252   \n",
       "5    1      Albania  Chinstrap            89.0  Chinstrap  3733.088235   \n",
       "6    4       Angola  Chinstrap           217.0  Chinstrap  3733.088235   \n",
       "7  574    Venezuela     Gentoo             3.0     Gentoo  5076.016260   \n",
       "8  578     Zimbabwe     Gentoo             4.0     Gentoo  5076.016260   \n",
       "\n",
       "      peso_total  \n",
       "0       0.000000  \n",
       "1   92516.556291  \n",
       "2  906662.251656  \n",
       "3    3700.662252  \n",
       "4   14802.649007  \n",
       "5  332244.852941  \n",
       "6  810080.147059  \n",
       "7   15228.048780  \n",
       "8   20304.065041  "
      ]
     },
     "execution_count": 138,
     "metadata": {},
     "output_type": "execute_result"
    }
   ],
   "source": [
    "df_join['peso_total'] = df_join['n_pengs_in_zoo']*df_join['body_mass_g']\n",
    "df_join"
   ]
  },
  {
   "cell_type": "markdown",
   "metadata": {},
   "source": [
    "Imprime los números de esta lista hasta que encuentres un número mayor o igual a siete:"
   ]
  },
  {
   "cell_type": "code",
   "execution_count": 40,
   "metadata": {},
   "outputs": [],
   "source": [
    "lista = [1,2,5,7,3,9]"
   ]
  },
  {
   "cell_type": "code",
   "execution_count": 43,
   "metadata": {},
   "outputs": [
    {
     "name": "stdout",
     "output_type": "stream",
     "text": [
      "1\n",
      "2\n",
      "5\n"
     ]
    }
   ],
   "source": [
    "for elemento in lista:\n",
    "    if elemento < 7:\n",
    "        print(elemento)\n",
    "    else:\n",
    "        break\n",
    "# No he incluido el 7, aunque eso era un poco ambiguo."
   ]
  },
  {
   "cell_type": "markdown",
   "metadata": {},
   "source": [
    "Encuentra los elementos en posición impar de esta matriz y calcula su media"
   ]
  },
  {
   "cell_type": "code",
   "execution_count": 57,
   "metadata": {
    "scrolled": true
   },
   "outputs": [
    {
     "data": {
      "text/plain": [
       "[0, 1, 2, 3]"
      ]
     },
     "execution_count": 57,
     "metadata": {},
     "output_type": "execute_result"
    }
   ],
   "source": [
    "import numpy as np\n",
    "A = np.array([[0,0,0,0], [1,1,1,1], [2,3,4,5]])\n",
    "A[2][1::2] # Digamos que posición es equivalente a índice para aclarar. Entonces una posición impar tiene ambos índices impares.\n",
    "# Por lo tanto, solo nos interesa la segunda fila (índice 1) y de ella los elementos con índices 1 y 3."
   ]
  },
  {
   "cell_type": "code",
   "execution_count": 67,
   "metadata": {},
   "outputs": [
    {
     "data": {
      "text/plain": [
       "array([], dtype=float64)"
      ]
     },
     "execution_count": 67,
     "metadata": {},
     "output_type": "execute_result"
    }
   ],
   "source": [
    "np.array(list(range(4)))"
   ]
  },
  {
   "cell_type": "code",
   "execution_count": 70,
   "metadata": {},
   "outputs": [
    {
     "data": {
      "text/plain": [
       "[1, 1]"
      ]
     },
     "execution_count": 70,
     "metadata": {},
     "output_type": "execute_result"
    }
   ],
   "source": [
    "lista = list()\n",
    "\n",
    "for fila in range(3):\n",
    "    if fila%2 != 0:\n",
    "        for col in range(4):\n",
    "            if col%2 !=0:\n",
    "                lista.append(A[fila][col])\n",
    "    else:\n",
    "        continue\n",
    "\n",
    "lista\n",
    "\n",
    "# Solo queda calcular la media."
   ]
  },
  {
   "cell_type": "code",
   "execution_count": 72,
   "metadata": {},
   "outputs": [
    {
     "data": {
      "text/plain": [
       "1.0"
      ]
     },
     "execution_count": 72,
     "metadata": {},
     "output_type": "execute_result"
    }
   ],
   "source": [
    "np.array(lista).mean() # Convertimos la lista en un array para calcularle la media y hacemos el cálculo."
   ]
  },
  {
   "cell_type": "markdown",
   "metadata": {},
   "source": [
    "Haz una consulta a una http://numbersapi.com/ que te devuelva información acerca del número 7.\n",
    "\n",
    "Haz una consulta a una http://numbersapi.com/ que te devuelva información acerca del número 314159265358979, y si no hay un hecho interesante busque en número interesante menor que 314159265358979."
   ]
  },
  {
   "cell_type": "code",
   "execution_count": 141,
   "metadata": {},
   "outputs": [],
   "source": [
    "import requests"
   ]
  },
  {
   "cell_type": "code",
   "execution_count": 142,
   "metadata": {},
   "outputs": [
    {
     "data": {
      "text/plain": [
       "200"
      ]
     },
     "execution_count": 142,
     "metadata": {},
     "output_type": "execute_result"
    }
   ],
   "source": [
    "url = 'http://numbersapi.com/'\n",
    "param = dict(zip(['number', 'content-type'],[7, 'application/json']))\n",
    "apitry = requests.get(url, params=param)\n",
    "apitry.status_code\n",
    "# No consigo poner el json en params."
   ]
  },
  {
   "cell_type": "code",
   "execution_count": 113,
   "metadata": {
    "scrolled": true
   },
   "outputs": [
    {
     "data": {
      "text/plain": [
       "200"
      ]
     },
     "execution_count": 113,
     "metadata": {},
     "output_type": "execute_result"
    }
   ],
   "source": [
    "url = 'http://numbersapi.com/7?json'\n",
    "apitry = requests.get(url)\n",
    "apitry.status_code"
   ]
  },
  {
   "cell_type": "code",
   "execution_count": 102,
   "metadata": {
    "scrolled": true
   },
   "outputs": [
    {
     "data": {
      "text/plain": [
       "'7 is the number of types of viruses according to the Baltimore classification.'"
      ]
     },
     "execution_count": 102,
     "metadata": {},
     "output_type": "execute_result"
    }
   ],
   "source": [
    "data = apitry.json()\n",
    "data['text']"
   ]
  },
  {
   "cell_type": "code",
   "execution_count": 103,
   "metadata": {},
   "outputs": [
    {
     "data": {
      "text/plain": [
       "{'text': '314159265358979 is a boring number.',\n",
       " 'number': 314159265358979,\n",
       " 'found': False,\n",
       " 'type': 'trivia'}"
      ]
     },
     "execution_count": 103,
     "metadata": {},
     "output_type": "execute_result"
    }
   ],
   "source": [
    "url = 'http://numbersapi.com/314159265358979?json'\n",
    "apitry = requests.get(url)\n",
    "apitry.status_code\n",
    "data2 = apitry.json()\n",
    "data2 # Dice que no es un número interesante, probemos a poner otro type.\n"
   ]
  },
  {
   "cell_type": "code",
   "execution_count": 104,
   "metadata": {},
   "outputs": [
    {
     "data": {
      "text/plain": [
       "{'text': '314159265358979 is an uninteresting number.',\n",
       " 'number': 314159265358979,\n",
       " 'found': False,\n",
       " 'type': 'math'}"
      ]
     },
     "execution_count": 104,
     "metadata": {},
     "output_type": "execute_result"
    }
   ],
   "source": [
    "url = 'http://numbersapi.com/314159265358979/math?json'\n",
    "apitry = requests.get(url)\n",
    "\n",
    "data2 = apitry.json()\n",
    "data2 # Dice lo mismo, vamos con otro."
   ]
  },
  {
   "cell_type": "code",
   "execution_count": 110,
   "metadata": {},
   "outputs": [
    {
     "ename": "SyntaxError",
     "evalue": "'return' outside function (<ipython-input-110-e9e079fb790c>, line 9)",
     "output_type": "error",
     "traceback": [
      "\u001b[1;36m  File \u001b[1;32m\"<ipython-input-110-e9e079fb790c>\"\u001b[1;36m, line \u001b[1;32m9\u001b[0m\n\u001b[1;33m    return(data2) # ¿Por qué no me devuelve las cosas a menos que le haga un try?\u001b[0m\n\u001b[1;37m    ^\u001b[0m\n\u001b[1;31mSyntaxError\u001b[0m\u001b[1;31m:\u001b[0m 'return' outside function\n"
     ]
    }
   ],
   "source": [
    "\n",
    "try:\n",
    "    url = 'http://numbersapi.com/13?json'\n",
    "    apitry = requests.get(url)\n",
    "    apitry.status_code\n",
    "except Exception as e:\n",
    "    print(e)\n",
    "else:\n",
    "    data2 = apitry.json()\n",
    "    print(data2) # ¿Por qué no me devuelve las cosas a menos que le haga un try?\n"
   ]
  }
 ],
 "metadata": {
  "kernelspec": {
   "display_name": "Python 3",
   "language": "python",
   "name": "python3"
  },
  "language_info": {
   "codemirror_mode": {
    "name": "ipython",
    "version": 3
   },
   "file_extension": ".py",
   "mimetype": "text/x-python",
   "name": "python",
   "nbconvert_exporter": "python",
   "pygments_lexer": "ipython3",
   "version": "3.8.3"
  }
 },
 "nbformat": 4,
 "nbformat_minor": 4
}
