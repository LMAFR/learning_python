{
 "cells": [
  {
   "cell_type": "code",
   "execution_count": 2,
   "metadata": {},
   "outputs": [],
   "source": [
    "import requests\n",
    "import pandas as pd\n",
    "import bs4 \n",
    "from bs4 import BeautifulSoup"
   ]
  },
  {
   "cell_type": "code",
   "execution_count": 27,
   "metadata": {
    "scrolled": false
   },
   "outputs": [
    {
     "data": {
      "text/html": [
       "<div>\n",
       "<style scoped>\n",
       "    .dataframe tbody tr th:only-of-type {\n",
       "        vertical-align: middle;\n",
       "    }\n",
       "\n",
       "    .dataframe tbody tr th {\n",
       "        vertical-align: top;\n",
       "    }\n",
       "\n",
       "    .dataframe thead th {\n",
       "        text-align: right;\n",
       "    }\n",
       "</style>\n",
       "<table border=\"1\" class=\"dataframe\">\n",
       "  <thead>\n",
       "    <tr style=\"text-align: right;\">\n",
       "      <th></th>\n",
       "      <th>Entidad</th>\n",
       "      <th>LOINC</th>\n",
       "    </tr>\n",
       "  </thead>\n",
       "  <tbody>\n",
       "    <tr>\n",
       "      <th>0</th>\n",
       "      <td>Laboratorio</td>\n",
       "      <td>44785-4</td>\n",
       "    </tr>\n",
       "    <tr>\n",
       "      <th>1</th>\n",
       "      <td>Laboratorio</td>\n",
       "      <td>1751-7</td>\n",
       "    </tr>\n",
       "    <tr>\n",
       "      <th>2</th>\n",
       "      <td>Laboratorio</td>\n",
       "      <td>88112-8</td>\n",
       "    </tr>\n",
       "    <tr>\n",
       "      <th>3</th>\n",
       "      <td>Laboratorio</td>\n",
       "      <td>42719-5</td>\n",
       "    </tr>\n",
       "    <tr>\n",
       "      <th>4</th>\n",
       "      <td>Laboratorio</td>\n",
       "      <td>2162-6</td>\n",
       "    </tr>\n",
       "  </tbody>\n",
       "</table>\n",
       "</div>"
      ],
      "text/plain": [
       "       Entidad    LOINC\n",
       "0  Laboratorio  44785-4\n",
       "1  Laboratorio   1751-7\n",
       "2  Laboratorio  88112-8\n",
       "3  Laboratorio  42719-5\n",
       "4  Laboratorio   2162-6"
      ]
     },
     "execution_count": 27,
     "metadata": {},
     "output_type": "execute_result"
    }
   ],
   "source": [
    "df_loinc = pd.read_csv('dat/loinc.csv')\n",
    "df_loinc.head()"
   ]
  },
  {
   "cell_type": "code",
   "execution_count": 15,
   "metadata": {},
   "outputs": [
    {
     "data": {
      "text/plain": [
       "range(0, 62)"
      ]
     },
     "execution_count": 15,
     "metadata": {},
     "output_type": "execute_result"
    }
   ],
   "source": [
    "range(len(df_loinc))"
   ]
  },
  {
   "cell_type": "code",
   "execution_count": 5,
   "metadata": {},
   "outputs": [
    {
     "data": {
      "text/plain": [
       "'44785-4'"
      ]
     },
     "execution_count": 5,
     "metadata": {},
     "output_type": "execute_result"
    }
   ],
   "source": [
    "# Empezamos poco a poco, haciendo una requests de uno de los códigos.\n",
    "\n",
    "codigo = df_loinc['LOINC'][0]\n",
    "codigo"
   ]
  },
  {
   "cell_type": "code",
   "execution_count": 8,
   "metadata": {},
   "outputs": [
    {
     "data": {
      "text/plain": [
       "'https://loinc.org/44785-4'"
      ]
     },
     "execution_count": 8,
     "metadata": {},
     "output_type": "execute_result"
    }
   ],
   "source": [
    "url = 'https://loinc.org/' + codigo\n",
    "url # Esta es la URL que queremos consultar, la del código.\n",
    "\n",
    "#Comprobamos que el resultado nos lleva a una página web correctamente."
   ]
  },
  {
   "cell_type": "code",
   "execution_count": 9,
   "metadata": {},
   "outputs": [
    {
     "data": {
      "text/plain": [
       "<Response [200]>"
      ]
     },
     "execution_count": 9,
     "metadata": {},
     "output_type": "execute_result"
    }
   ],
   "source": [
    "page = requests.get('https://loinc.org/44785-4')\n",
    "page # Comprobamos que podemos extraer los datos correctamente (respuesta 200)."
   ]
  },
  {
   "cell_type": "code",
   "execution_count": 10,
   "metadata": {},
   "outputs": [
    {
     "data": {
      "text/plain": [
       "<!DOCTYPE html>\n",
       "\n",
       "<html lang=\"en-US\">\n",
       "<head>\n",
       "<script>var et_site_url='https://loinc.org';var et_post_id='101934';function et_core_page_resource_fallback(a,b){\"undefined\"===typeof b&&(b=a.sheet.cssRules&&0===a.sheet.cssRules.length);b&&(a.onerror=null,a.onload=null,a.href?a.href=et_site_url+\"/?et_core_page_resource=\"+a.id+et_post_id:a.src&&(a.src=et_site_url+\"/?et_core_page_resource=\"+a.id+et_post_id))}\n",
       "</script>\n",
       "<!-- This site is optimized with the Yoast SEO plugin v15.2.1 - https://yoast.com/wordpress/plugins/seo/ -->\n",
       "<title>LOINC 44785-4 — Alanine aminotransferase [Enzymatic activity/volume] (Maximum value during study) in Serum or Plasma by No addition of P-5'-P</title>\n",
       "<meta content=\"LOINC Code 44785-4 Alanine aminotransferase [Enzymatic activity/volume] (Maximum value during study) in Serum or Plasma by No addition of P-5'-P\" name=\"description\"/>\n",
       "<meta content=\"index, follow, max-snippet:-1, max-image-preview:large, max-video-preview:-1\" name=\"robots\"/>\n",
       "<link href=\"https://loinc.org/44785-4/\" rel=\"canonical\"/>\n",
       "<meta content=\"en_US\" property=\"og:locale\"/>\n",
       "<meta content=\"article\" property=\"og:type\"/>\n",
       "<meta content=\"Alanine aminotransferase [Enzymatic activity/volume] (Maximum value during study) in Serum or Plasma by No addition of P-5'-P – LOINC\" property=\"og:title\"/>\n",
       "<meta content=\"Version 2.68 44785-4Alanine aminotransferase [Enzymatic activity/volume] (Maximum value during study) in Serum or Plasma by No addition of P-5'-PActive Part Descriptions LP15333-5   Alanine aminotransferase Alanine transaminase or ALT is an enzyme (EC 2.6.1.2) also called serum glutamic pyruvic transaminase (SGPT) or alanine aminotransferase (ALAT). It is found in serum and in various bodily tissues, but is most commonly associated with the liver. It catalyzes the two parts of the alanine cycle. It is commonly measured clinically as a part of a diagnostic evaluation of liver health. Significantly elevated levels of ALT often suggest the existence of other medical problems such as viral hepatitis, diabetes, congestive heart failure, bile duct problems, infectious mononucleosis, or myopathy. However, elevated levels of ALT do not automatically mean that medical problems exist. Fluctuation of ALT levels is normal over the course of the day, and ALT levels can also increase in response to strenuous physical exercise. Copyright Text is available under the Creative Commons Attribution/Share-Alike License. See http://creativecommons.org/licenses/by-sa/3.0/ for details. Source: Wikipedia, ALT LP15333-5   Alanine aminotransferase Alanine aminotransferase (ALT) is an enzyme produced primarily in the liver but are also found in the heart, skeletal muscles, pancreas and kidney cells. The main function of ALT is to convert alanine into pyruvate. ALT is released into the bloodstream when cells containing it are damaged. Increased levels of ALT in the blood provide an early indicator of liver damage. ALT is often measured with aspartate aminotransferase (AST) as part of a liver panel. High levels of ALT could indicate hepatitis, obstructed bile ducts, liver tumors, cirrhosis, alcoholism or other liver disorders. [Lab Tests Online:alt/tab/sample] Copyright Text is available under the Creative Commons Attribution/Share-Alike License. See http://creativecommons.org/licenses/by-sa/3.0/ for details. Source: Regenstrief LOINC, ALT Fully-Specified Name Component Alanine aminotransferase Property CCnc Time Stdy^max System Ser/Plas Scale Qn Method No addition of P-5'-P Additional Names Short Name ALT (Study max) SerPl w/o P-5'-P-cCnc Display Name ALT No additional P-5'-P (Stdy maximum) [Catalytic activity/Vol] Basic Attributes Class CHEM Type Laboratory First Released Version 2.17 Last Updated Version 2.68 Change Reason Changed Method from 'Without P-5'-P' to 'No addition of P-5'-P' to clarify that no additional P-5'-P is added when running this test, but that any naturally occurring P-5'-P that was already in the patient's serum is not removed. Order vs. Observation Observation Reference Information Type Source Reference Webcontent Lab Tests Online®Copyright Copyright © 2001-2019 American Association for Clinical Chemistry Alanine Aminotransferase (ALT) Language Variants Get Info zh-CNChinese (CHINA) 丙氨酸氨基转移酶:催化浓度:检查过程持续时间^最大值:血清/血浆:定量型:不添加 P-5'-P fr-CAFrench (CANADA) Alanine aminotransférase:Concentration catalytique:Étude^maximun:Sérum/Plasma:Quantitatif:pas d'ajout de P-5'-P fr-FRFrench (FRANCE) Alanine aminotransférase:Catalytique/Volume:Étude max:Sérum/Plasma:Numérique:Sans phosphate de pyridoxal it-ITItalian (ITALY) Alanina aminotransferasi:CCnC:Studio^max:Siero/Plasma:Qn:Senza aggiunta di P-5'-P pt-BRPortuguese (BRAZIL) Alanina aminotransferase:CCnc:Stdy^max:Sor/Plas:Qn:Com P-5'-P es-ESSpanish (SPAIN) Alanina aminotransferasa:Concentración Catalítica:Estudio^Valor maximo durante un intervalo:Suero o Plasma:Qn:Sin adición de P-5´-P Related Names Ala Alanine transaminase ALAT Alpha alanine ALT Catalytic Concentration Chemistry Glutamic-pyruvic transferase L-alanine Maximum P prime Pl Plasma Plsm QNT Quan Quant Quantitative SerP SerPl SerPlas Serum Serum or plasma SGPT SR Studies Study Sutdies w/o P-5'-P Example Units Unit Source U/L Example UCUM Units LOINC FHIR® API Example - CodeSystem Request Get Info https://fhir.loinc.org/CodeSystem/$lookup?system=http://loinc.org&amp;code=44785-4 LOINC Copyright Copyright © 2020 Regenstrief Institute, Inc. All Rights Reserved. To the extent included herein, the LOINC table and LOINC codes are copyright © 1995-2020, Regenstrief Institute, Inc. and the Logical Observation Identifiers Names and Codes (LOINC) Committee. See https://loinc.org/license for the full LOINC copyright and license.\" property=\"og:description\"/>\n",
       "<meta content=\"https://loinc.org/loinc/44785-4/\" property=\"og:url\"/>\n",
       "<meta content=\"LOINC\" property=\"og:site_name\"/>\n",
       "<meta content=\"https://cdn.loinc.org/wp-content/uploads/2018/05/loinc-avatar-on-white.png?iv=538\" property=\"og:image\"/>\n",
       "<meta content=\"171\" property=\"og:image:width\"/>\n",
       "<meta content=\"171\" property=\"og:image:height\"/>\n",
       "<meta content=\"summary_large_image\" name=\"twitter:card\"/>\n",
       "<meta content=\"@LOINC\" name=\"twitter:creator\"/>\n",
       "<meta content=\"@LOINC\" name=\"twitter:site\"/>\n",
       "<meta content=\"Est. reading time\" name=\"twitter:label1\"/>\n",
       "<meta content=\"3 minutes\" name=\"twitter:data1\"/>\n",
       "<!-- / Yoast SEO plugin. -->\n",
       "<link href=\"//cdn.loinc.org\" rel=\"dns-prefetch\"/>\n",
       "<link href=\"//s.w.org\" rel=\"dns-prefetch\"/>\n",
       "<link href=\"https://loinc.org/feed/\" rel=\"alternate\" title=\"LOINC » Feed\" type=\"application/rss+xml\"/>\n",
       "<link href=\"https://loinc.org/comments/feed/\" rel=\"alternate\" title=\"LOINC » Comments Feed\" type=\"application/rss+xml\"/>\n",
       "<link href=\"https://loinc.org/loinc/44785-4/feed/\" rel=\"alternate\" title=\"LOINC » Alanine aminotransferase [Enzymatic activity/volume] (Maximum value during study) in Serum or Plasma by No addition of P-5′-P Comments Feed\" type=\"application/rss+xml\"/>\n",
       "<script type=\"text/javascript\">\n",
       "\t\t\twindow._wpemojiSettings = {\"baseUrl\":\"https:\\/\\/s.w.org\\/images\\/core\\/emoji\\/13.0.0\\/72x72\\/\",\"ext\":\".png\",\"svgUrl\":\"https:\\/\\/s.w.org\\/images\\/core\\/emoji\\/13.0.0\\/svg\\/\",\"svgExt\":\".svg\",\"source\":{\"concatemoji\":\"https:\\/\\/cdn.loinc.org\\/wp-includes\\/js\\/wp-emoji-release.min.js?ver=5.5.3&iv=538\"}};\n",
       "\t\t\t!function(e,a,t){var r,n,o,i,p=a.createElement(\"canvas\"),s=p.getContext&&p.getContext(\"2d\");function c(e,t){var a=String.fromCharCode;s.clearRect(0,0,p.width,p.height),s.fillText(a.apply(this,e),0,0);var r=p.toDataURL();return s.clearRect(0,0,p.width,p.height),s.fillText(a.apply(this,t),0,0),r===p.toDataURL()}function l(e){if(!s||!s.fillText)return!1;switch(s.textBaseline=\"top\",s.font=\"600 32px Arial\",e){case\"flag\":return!c([127987,65039,8205,9895,65039],[127987,65039,8203,9895,65039])&&(!c([55356,56826,55356,56819],[55356,56826,8203,55356,56819])&&!c([55356,57332,56128,56423,56128,56418,56128,56421,56128,56430,56128,56423,56128,56447],[55356,57332,8203,56128,56423,8203,56128,56418,8203,56128,56421,8203,56128,56430,8203,56128,56423,8203,56128,56447]));case\"emoji\":return!c([55357,56424,8205,55356,57212],[55357,56424,8203,55356,57212])}return!1}function d(e){var t=a.createElement(\"script\");t.src=e,t.defer=t.type=\"text/javascript\",a.getElementsByTagName(\"head\")[0].appendChild(t)}for(i=Array(\"flag\",\"emoji\"),t.supports={everything:!0,everythingExceptFlag:!0},o=0;o<i.length;o++)t.supports[i[o]]=l(i[o]),t.supports.everything=t.supports.everything&&t.supports[i[o]],\"flag\"!==i[o]&&(t.supports.everythingExceptFlag=t.supports.everythingExceptFlag&&t.supports[i[o]]);t.supports.everythingExceptFlag=t.supports.everythingExceptFlag&&!t.supports.flag,t.DOMReady=!1,t.readyCallback=function(){t.DOMReady=!0},t.supports.everything||(n=function(){t.readyCallback()},a.addEventListener?(a.addEventListener(\"DOMContentLoaded\",n,!1),e.addEventListener(\"load\",n,!1)):(e.attachEvent(\"onload\",n),a.attachEvent(\"onreadystatechange\",function(){\"complete\"===a.readyState&&t.readyCallback()})),(r=t.source||{}).concatemoji?d(r.concatemoji):r.wpemoji&&r.twemoji&&(d(r.twemoji),d(r.wpemoji)))}(window,document,window._wpemojiSettings);\n",
       "\t\t</script>\n",
       "<meta content=\"LOINC child theme v.4.1.5\" name=\"generator\"><style type=\"text/css\">\n",
       "img.wp-smiley,\n",
       "img.emoji {\n",
       "\tdisplay: inline !important;\n",
       "\tborder: none !important;\n",
       "\tbox-shadow: none !important;\n",
       "\theight: 1em !important;\n",
       "\twidth: 1em !important;\n",
       "\tmargin: 0 .07em !important;\n",
       "\tvertical-align: -0.1em !important;\n",
       "\tbackground: none !important;\n",
       "\tpadding: 0 !important;\n",
       "}\n",
       "</style>\n",
       "<link href=\"https://cdn.loinc.org/css/all.min.css?ver=5.14&amp;iv=538\" id=\"fontawesome-css\" media=\"all\" rel=\"stylesheet\" type=\"text/css\"/>\n",
       "<link href=\"https://cdn.loinc.org/wp-content/themes/Divi-child/css/fancybox/3.5.7/jquery.fancybox.min.css?ver=3.5.7&amp;iv=538\" id=\"fancybox-css\" media=\"all\" rel=\"stylesheet\" type=\"text/css\"/>\n",
       "<link href=\"https://cdn.loinc.org/wp-content/themes/Divi-child/css/details.css?ver=1.1.3&amp;iv=538\" id=\"details-css\" media=\"all\" rel=\"stylesheet\" type=\"text/css\"/>\n",
       "<script id=\"jquery-core-js\" src=\"https://cdn.loinc.org/wp-includes/js/jquery/jquery.js?ver=1.12.4-wp&amp;iv=538\" type=\"text/javascript\"></script>\n",
       "<script id=\"fancybox-js\" src=\"https://cdn.loinc.org/wp-content/themes/Divi-child/js/fancybox/3.5.7/jquery.fancybox.min.js?ver=3.5.7&amp;iv=538\" type=\"text/javascript\"></script>\n",
       "<script id=\"details-js\" src=\"https://cdn.loinc.org/wp-content/themes/Divi-child/js/details.js?ver=1.0.2&amp;iv=538\" type=\"text/javascript\"></script>\n",
       "<link href=\"https://loinc.org/wp-json/\" rel=\"https://api.w.org/\"/><link href=\"https://loinc.org/xmlrpc.php?rsd\" rel=\"EditURI\" title=\"RSD\" type=\"application/rsd+xml\"/>\n",
       "<link href=\"https://loinc.org/wp-includes/wlwmanifest.xml\" rel=\"wlwmanifest\" type=\"application/wlwmanifest+xml\"/>\n",
       "<meta content=\"WordPress 5.5.3\" name=\"generator\">\n",
       "<link href=\"https://loinc.org/?p=101934\" rel=\"shortlink\"/>\n",
       "<link href=\"https://loinc.org/wp-json/oembed/1.0/embed?url=https%3A%2F%2Floinc.org%2Floinc%2F44785-4%2F\" rel=\"alternate\" type=\"application/json+oembed\"/>\n",
       "<link href=\"https://loinc.org/wp-json/oembed/1.0/embed?url=https%3A%2F%2Floinc.org%2Floinc%2F44785-4%2F&amp;format=xml\" rel=\"alternate\" type=\"text/xml+oembed\"/>\n",
       "<script type=\"text/javascript\">\n",
       "dataLayer = [];\n",
       "dataLayer.push({\n",
       "\t'isLoggedOn': false,\n",
       "\t'isPremiumMember': 0,\n",
       "\t'isStaff': false\n",
       "});\n",
       "</script>\n",
       "<meta content=\"width=device-width, initial-scale=1.0, maximum-scale=1.0, user-scalable=0\" name=\"viewport\"/><link href=\"https://fonts.googleapis.com/css?family=Source+Code+Pro\" rel=\"stylesheet\"/>\n",
       "<link href=\"https://cdn.loinc.org/wp-content/uploads/2018/05/loinc-avatar-on-white-150x150.png\" rel=\"icon\" sizes=\"32x32\">\n",
       "<link href=\"https://cdn.loinc.org/wp-content/uploads/2018/05/loinc-avatar-on-white.png?iv=538\" rel=\"icon\" sizes=\"192x192\"/>\n",
       "<link href=\"https://cdn.loinc.org/wp-content/uploads/2018/05/loinc-avatar-on-white.png?iv=538\" rel=\"apple-touch-icon\"/>\n",
       "<meta content=\"https://cdn.loinc.org/wp-content/uploads/2018/05/loinc-avatar-on-white.png?iv=538\" name=\"msapplication-TileImage\"/>\n",
       "<link href=\"https://loinc.org/wp-content/et-cache/global/et-divi-customizer-global-16070857278443.min.css\" id=\"et-divi-customizer-global-cached-inline-styles\" onerror=\"et_core_page_resource_fallback(this, true)\" onload=\"et_core_page_resource_fallback(this)\" rel=\"stylesheet\"/><!-- Google Tag Manager -->\n",
       "<script>(function(w,d,s,l,i){w[l]=w[l]||[];w[l].push({'gtm.start':\n",
       "new Date().getTime(),event:'gtm.js'});var f=d.getElementsByTagName(s)[0],\n",
       "j=d.createElement(s),dl=l!='dataLayer'?'&l='+l:'';j.async=true;j.src=\n",
       "'https://www.googletagmanager.com/gtm.js?id='+i+dl;f.parentNode.insertBefore(j,f);\n",
       "})(window,document,'script','dataLayer','GTM-M7QHN4P');</script>\n",
       "<!-- End Google Tag Manager -->\n",
       "</link></meta></meta></head>\n",
       "<body>\n",
       "<header>\n",
       "<a data-fancybox=\"\" data-options='{\"type\": \"iframe\", \"touch\": false, \"smallBtn\": true, \"iframe\": {\"preload\": true} }' data-src=\"https://loinc.org/modal.php?id=428863\" href=\"javascript:;\"><img alt=\"LOINC\" src=\"https://loinc.org/wp-content/themes/Divi-child/images/loinc-logo-simple.svg\" title=\"About LOINC\"/></a><a aria-label=\"LOINC Website\" href=\"https://loinc.org\" title=\"Go to LOINC.org\"><i aria-hidden=\"true\" class=\"far fa-home-lg-alt\"></i></a><a aria-label=\"Search Terms\" href=\"https://search.loinc.org\" title=\"Search LOINC Terms\"><i aria-hidden=\"true\" class=\"far fa-search\"></i></a>\n",
       "</header>\n",
       "<main id=\"panel\">\n",
       "<div id=\"version\">Version 2.68</div>\n",
       "<article itemid=\"https://loinc.org/44785-4/\" itemscope=\"\" itemtype=\"http://schema.org/MedicalCode\">\n",
       "<meta content=\"https://loinc.org/44785-4/\" itemprop=\"url\"/>\n",
       "<meta content=\"http://loinc.org\" itemprop=\"inCodeSet\"/>\n",
       "<section>\n",
       "<h1><span aria-label=\"LOINC Code\" class=\"code\" itemprop=\"codeValue\">44785-4</span><span aria-label=\"Long Common Name\" id=\"lcn\" itemprop=\"name\">Alanine aminotransferase [Enzymatic activity/volume] (Maximum value during study) in Serum or Plasma by No addition of P-5'-P</span><span aria-label=\"LOINC Status\" class=\"status\">Active</span></h1>\n",
       "</section>\n",
       "<section id=\"part-descriptions\">\n",
       "<h2>Part Descriptions</h2>\n",
       "<p><a href=\"https://loinc.org/LP15333-5\">LP15333-5</a>   <b>Alanine aminotransferase</b><br/>\n",
       "\t\t\tAlanine transaminase or ALT is an enzyme (EC 2.6.1.2)  also called serum glutamic pyruvic transaminase (SGPT) or alanine aminotransferase (ALAT).  It  is found in serum and in various bodily tissues, but is most commonly associated with the liver. It catalyzes the two parts of the alanine cycle.  It is commonly measured clinically as a part of a diagnostic evaluation of liver health. Significantly elevated levels of ALT often suggest the existence of other medical problems such as viral hepatitis, diabetes, congestive heart failure,  bile duct problems, infectious mononucleosis, or myopathy.  However, elevated levels of ALT do not automatically mean that medical problems exist. Fluctuation of ALT levels is normal over the course of the day, and ALT levels can also increase in response to strenuous physical exercise.\n",
       "\t\t\t\t\t\t<cite class=\"copyright\"><i aria-hidden=\"true\" class=\"far fa-copyright\" title=\"Copyright\"></i><span class=\"sr-only\">Copyright</span> Text is available under the Creative Commons Attribution/Share-Alike License. See http://creativecommons.org/licenses/by-sa/3.0/ for details.</cite>\n",
       "<cite class=\"source\">Source: Wikipedia, <a href=\"http://en.wikipedia.org/wiki/Alanine_aminotransferase\" rel=\"noreferrer noopener\" target=\"_blank\">ALT</a></cite>\n",
       "</p>\n",
       "<p><a href=\"https://loinc.org/LP15333-5\">LP15333-5</a>   <b>Alanine aminotransferase</b><br/>\n",
       "\t\t\tAlanine aminotransferase (ALT) is an enzyme produced primarily in the liver but are also found in the heart, skeletal muscles, pancreas and kidney cells. The main function of ALT is to convert alanine into pyruvate. ALT is released into the bloodstream when cells containing it are damaged. Increased levels of ALT in the blood provide an early indicator of liver damage. ALT is often measured with aspartate aminotransferase (AST) as part of a liver panel. High levels of ALT could indicate hepatitis, obstructed bile ducts, liver tumors, cirrhosis, alcoholism or other liver disorders. [Lab Tests Online:alt/tab/sample]\n",
       "\t\t\t\t\t\t<cite class=\"copyright\"><i aria-hidden=\"true\" class=\"far fa-copyright\" title=\"Copyright\"></i><span class=\"sr-only\">Copyright</span> Text is available under the Creative Commons Attribution/Share-Alike License. See http://creativecommons.org/licenses/by-sa/3.0/ for details.</cite>\n",
       "<cite class=\"source\">Source: Regenstrief LOINC, <a href=\"http://en.wikipedia.org/wiki/Alanine_aminotransferase\" rel=\"noreferrer noopener\" target=\"_blank\">ALT</a></cite>\n",
       "</p>\n",
       "</section>\n",
       "<section id=\"fully-specified\">\n",
       "<h2>Fully-Specified Name</h2>\n",
       "<dl id=\"fsn\">\n",
       "<dt>Component</dt>\n",
       "<dd>Alanine aminotransferase</dd>\n",
       "<dt>Property</dt>\n",
       "<dd>CCnc</dd>\n",
       "<dt>Time</dt>\n",
       "<dd>Stdy^max</dd>\n",
       "<dt>System</dt>\n",
       "<dd>Ser/Plas</dd>\n",
       "<dt>Scale</dt>\n",
       "<dd>Qn</dd>\n",
       "<dt>Method</dt>\n",
       "<dd>No addition of P-5'-P</dd>\n",
       "</dl>\n",
       "</section>\n",
       "<section id=\"names\">\n",
       "<h2>Additional Names</h2>\n",
       "<dl>\n",
       "<dt>Short Name</dt>\n",
       "<dd>ALT (Study max) SerPl w/o P-5'-P-cCnc</dd>\n",
       "<dt>Display Name</dt>\n",
       "<dd itemprop=\"alternateName\">ALT No additional P-5'-P (Stdy maximum) [Catalytic activity/Vol]</dd>\n",
       "</dl>\n",
       "</section>\n",
       "<section id=\"basic-attributes\">\n",
       "<h2>Basic Attributes</h2>\n",
       "<dl>\n",
       "<dt>Class</dt>\n",
       "<dd>CHEM</dd>\n",
       "<dt>Type</dt>\n",
       "<dd itemprop=\"relevantSpecialty\">Laboratory</dd>\n",
       "<dt>First Released</dt>\n",
       "<dd>Version 2.17</dd>\n",
       "<dt>Last Updated</dt>\n",
       "<dd>Version 2.68</dd>\n",
       "<dt>Change Reason</dt>\n",
       "<dd>Changed Method from 'Without P-5'-P' to 'No addition of P-5'-P' to clarify that no additional P-5'-P is added when running this test, but that any naturally occurring P-5'-P that was already in the patient's serum is not removed.</dd>\n",
       "<dt>Order vs. Observation</dt>\n",
       "<dd>Observation</dd>\n",
       "</dl>\n",
       "</section>\n",
       "<section id=\"reference-info\">\n",
       "<h2>Reference Information</h2>\n",
       "<table class=\"blocked\">\n",
       "<thead>\n",
       "<tr>\n",
       "<th>Type</th>\n",
       "<th>Source</th>\n",
       "<th>Reference</th>\n",
       "</tr>\n",
       "</thead>\n",
       "<tbody>\n",
       "<tr>\n",
       "<td>Webcontent</td>\n",
       "<td>Lab Tests Online<sup>®</sup><cite class=\"copyright\"><i aria-hidden=\"true\" class=\"far fa-copyright\" title=\"Copyright\"></i><span class=\"sr-only\">Copyright</span> Copyright © 2001-2019 American Association for Clinical Chemistry</cite></td>\n",
       "<td> <a href=\"https://labtestsonline.org/tests/alanine-aminotransferase-alt\" noopener&quot;=\"\" rel='\"noreferrer' target='\"_blank\"'>Alanine Aminotransferase (ALT)</a></td>\n",
       "</tr>\n",
       "</tbody>\n",
       "</table>\n",
       "</section>\n",
       "<section id=\"language-variants\">\n",
       "<h2>Language Variants <a data-fancybox=\"\" data-options='{\"type\": \"iframe\", \"smallBtn\": true, \"keyboard\": false, \"touch\": false, \"iframe\": {\"preload\": true} }' data-src=\"https://loinc.org/modal.php?id=291410\" href=\"javascript:;\"><i aria-hidden=\"true\" class=\"fas fa-question-circle\" title=\"Get Info\"></i><span class=\"sr-only\">Get Info</span></a></h2>\n",
       "<dl>\n",
       "<dt><span>zh-CN</span>Chinese (CHINA)</dt>\n",
       "<dd>丙氨酸氨基转移酶:<wbr/>催化浓度:<wbr/>检查过程持续时间^最大值:<wbr/>血清/血浆:<wbr/>定量型:<wbr/>不添加 P-5'-P</dd>\n",
       "<dt><span>fr-CA</span>French (CANADA)</dt>\n",
       "<dd>Alanine aminotransférase:<wbr/>Concentration catalytique:<wbr/>Étude^maximun:<wbr/>Sérum/Plasma:<wbr/>Quantitatif:<wbr/>pas d'ajout de P-5'-P</dd>\n",
       "<dt><span>fr-FR</span>French (FRANCE)</dt>\n",
       "<dd>Alanine aminotransférase:<wbr/>Catalytique/Volume:<wbr/>Étude max:<wbr/>Sérum/Plasma:<wbr/>Numérique:<wbr/>Sans phosphate de pyridoxal</dd>\n",
       "<dt><span>it-IT</span>Italian (ITALY)</dt>\n",
       "<dd>Alanina aminotransferasi:<wbr/>CCnC:<wbr/>Studio^max:<wbr/>Siero/Plasma:<wbr/>Qn:<wbr/>Senza aggiunta di P-5'-P</dd>\n",
       "<dt><span>pt-BR</span>Portuguese (BRAZIL)</dt>\n",
       "<dd>Alanina aminotransferase:<wbr/>CCnc:<wbr/>Stdy^max:<wbr/>Sor/Plas:<wbr/>Qn:<wbr/>Com P-5'-P</dd>\n",
       "<dt><span>es-ES</span>Spanish (SPAIN)</dt>\n",
       "<dd>Alanina aminotransferasa:<wbr/>Concentración Catalítica:<wbr/>Estudio^Valor maximo durante un intervalo:<wbr/>Suero o Plasma:<wbr/>Qn:<wbr/>Sin adición de P-5´-P</dd>\n",
       "</dl>\n",
       "</section>\n",
       "<section id=\"related-names\">\n",
       "<h2>Related Names</h2>\n",
       "<ul class=\"columns\">\n",
       "<li>Ala</li>\n",
       "<li>Alanine transaminase</li>\n",
       "<li>ALAT</li>\n",
       "<li>Alpha alanine</li>\n",
       "<li>ALT</li>\n",
       "<li>Catalytic Concentration</li>\n",
       "<li>Chemistry</li>\n",
       "<li>Glutamic-pyruvic transferase</li>\n",
       "<li>L-alanine</li>\n",
       "<li>Maximum</li>\n",
       "<li>P prime</li>\n",
       "<li>Pl</li>\n",
       "<li>Plasma</li>\n",
       "<li>Plsm</li>\n",
       "<li>QNT</li>\n",
       "<li>Quan</li>\n",
       "<li>Quant</li>\n",
       "<li>Quantitative</li>\n",
       "<li>SerP</li>\n",
       "<li>SerPl</li>\n",
       "<li>SerPlas</li>\n",
       "<li>Serum</li>\n",
       "<li>Serum or plasma</li>\n",
       "<li>SGPT</li>\n",
       "<li>SR</li>\n",
       "<li>Studies</li>\n",
       "<li>Study</li>\n",
       "<li>Sutdies</li>\n",
       "<li>w/o P-5'-P</li>\n",
       "</ul>\n",
       "</section>\n",
       "<section id=\"example-units\">\n",
       "<h2>Example Units</h2>\n",
       "<table>\n",
       "<thead>\n",
       "<tr>\n",
       "<th>Unit</th>\n",
       "<th>Source</th>\n",
       "</tr>\n",
       "</thead>\n",
       "<tbody>\n",
       "<tr>\n",
       "<td>U/L</td>\n",
       "<td>Example UCUM Units</td>\n",
       "</tr>\n",
       "</tbody>\n",
       "</table>\n",
       "</section>\n",
       "<section id=\"loinc-api\">\n",
       "<h2>LOINC FHIR<sup>®</sup> API Example - CodeSystem Request <a data-fancybox=\"\" data-options='{\"type\": \"iframe\", \"smallBtn\": true, \"keyboard\": false, \"touch\": false, \"iframe\": {\"preload\": true} }' data-src=\"https://loinc.org/modal.php?id=291408\" href=\"javascript:;\"><i aria-hidden=\"true\" class=\"fas fa-question-circle\" title=\"Get Info\"></i><span class=\"sr-only\">Get Info</span></a></h2>\n",
       "<code>https://fhir.loinc.org/CodeSystem/$lookup?system=http://loinc.org&amp;code=44785-4</code>\n",
       "</section>\n",
       "<section id=\"loinc-copyright\">\n",
       "<h2><span itemprop=\"codingSystem\">LOINC</span> Copyright</h2>\n",
       "<p>Copyright © 2020 <span itemprop=\"recognizingAuthority\">Regenstrief Institute, Inc.</span> All Rights Reserved. To the extent included herein, the LOINC table and LOINC codes are copyright <nobr>© 1995-2020</nobr>, Regenstrief Institute, Inc. and the Logical Observation Identifiers Names and Codes (LOINC) Committee. See <a href=\"https://loinc.org/license\">https://<wbr/>loinc.org/license</a> for the full LOINC copyright and license.</p>\n",
       "</section>\n",
       "</article>\n",
       "</main>\n",
       "<footer>\n",
       "<span id=\"top\"></span>\n",
       "</footer>\n",
       "<!-- Google Tag Manager (noscript) -->\n",
       "<noscript><iframe height=\"0\" src=\"https://www.googletagmanager.com/ns.html?id=GTM-M7QHN4P\" style=\"display:none;visibility:hidden\" width=\"0\"></iframe></noscript>\n",
       "<!-- End Google Tag Manager (noscript) -->\n",
       "</body>\n",
       "</html>"
      ]
     },
     "execution_count": 10,
     "metadata": {},
     "output_type": "execute_result"
    }
   ],
   "source": [
    "soup = BeautifulSoup(page.content, 'html.parser')\n",
    "soup"
   ]
  },
  {
   "cell_type": "code",
   "execution_count": 13,
   "metadata": {},
   "outputs": [
    {
     "data": {
      "text/plain": [
       "\"Alanine aminotransferase [Enzymatic activity/volume] (Maximum value during study) in Serum or Plasma by No addition of P-5'-P\""
      ]
     },
     "execution_count": 13,
     "metadata": {},
     "output_type": "execute_result"
    }
   ],
   "source": [
    "# Queremos el nombre que le corresponde al código. Inspeccionamos el nombre en la web.\n",
    "# Vemos que tiene un id, esto es ideal para filtrar el resultado del total, pero no podemos hacerlo como antes.\n",
    "# Vemos que le corresponde el tab \"scan\" y tenemos que aprender a buscar índices (documentación)\n",
    "\n",
    "nombre = soup.find(id='lcn') # Primero comprobamos que la función find nos da la información con el nombre y tal, que es lo que\n",
    "                             # nos interesaba. Después ya podemos almacenarlo en una variable.\n",
    "# *Nota. class en python es un nombre reservado, por lo que soup usa class_ como argumento y no class.\n",
    "# find me da el elemento y find_all me devuelve un iterable (lo que al final tenemos que pasar a una lista, así que es \n",
    "# como si fuera una lista).\n",
    "\n",
    "# Como lo que queremos es el contenido que nos interesa, lo filtramos con get_text:\n",
    "nombre.get_text()\n"
   ]
  },
  {
   "cell_type": "code",
   "execution_count": 24,
   "metadata": {
    "scrolled": false
   },
   "outputs": [
    {
     "data": {
      "text/plain": [
       "[\"Alanine aminotransferase [Enzymatic activity/volume] (Maximum value during study) in Serum or Plasma by No addition of P-5'-P\",\n",
       " 'Albumin [Mass/volume] in Serum or Plasma',\n",
       " \"Aspartate aminotransferase [Enzymatic activity/volume] in Serum or Plasma by No addition of P-5'-P\",\n",
       " 'Bilirubin.total [Mass/volume] in Blood',\n",
       " 'Creatinine [Mass/time] in 24 hour Urine',\n",
       " 'Fibrin D-dimer [Units/volume] in Platelet poor plasma',\n",
       " 'Ferritin [Moles/volume] in Serum or Plasma',\n",
       " 'Fibrinogen [Mass/volume] in Platelet poor plasma by Coagulation assay',\n",
       " 'Cholesterol in HDL [Mass/volume] in Serum or Plasma',\n",
       " 'Hematocrit [Volume Fraction] of Blood']"
      ]
     },
     "execution_count": 24,
     "metadata": {},
     "output_type": "execute_result"
    }
   ],
   "source": [
    "codigos = df_loinc['LOINC'] # Almacenamos los códigos aparte.\n",
    "\n",
    "ls_nombres =[] # Paso 0: creamos una lista para almacenar los nombres, que es nuestro objetivo final.\n",
    "\n",
    "for cod in codigos:\n",
    "    \n",
    "    #Paso1: Generar url que tengo que leer.\n",
    "    url = 'https://loinc.org/' + cod\n",
    "    #Paso2: Leer esa url (verificar que se ha leído)\n",
    "    page = requests.get(url)\n",
    "    if page.status_code == 200:\n",
    "        #Paso3: hacer el soup.\n",
    "        soup = BeautifulSoup(page.content, 'html.parser') # html.parser se usa para indicarle que le hemos dado un html.\n",
    "        #Paso 4: encontrar el nombre e inspeccionarlo para conseguir el texto.\n",
    "        nombre = soup.find(id='lcn').get_text()\n",
    "        \n",
    "    else:\n",
    "        nombre ='error' # Esto es importante por si hay errores, para que la lista final \n",
    "                        # tenga los nombres en la misma posición que estaban los códigos correspondientes.\n",
    "    #Paso5: meterlo en una lista.\n",
    "    ls_nombres.append(nombre)\n",
    "ls_nombres[0:10]\n",
    "\n",
    "# Tarda porque está leyendo un montón de páginas web, las abre y tal.\n",
    "# Lo suyo para hacerlo poco a poco es ir comprobando cada paso con un print."
   ]
  },
  {
   "cell_type": "code",
   "execution_count": 28,
   "metadata": {},
   "outputs": [
    {
     "data": {
      "text/html": [
       "<div>\n",
       "<style scoped>\n",
       "    .dataframe tbody tr th:only-of-type {\n",
       "        vertical-align: middle;\n",
       "    }\n",
       "\n",
       "    .dataframe tbody tr th {\n",
       "        vertical-align: top;\n",
       "    }\n",
       "\n",
       "    .dataframe thead th {\n",
       "        text-align: right;\n",
       "    }\n",
       "</style>\n",
       "<table border=\"1\" class=\"dataframe\">\n",
       "  <thead>\n",
       "    <tr style=\"text-align: right;\">\n",
       "      <th></th>\n",
       "      <th>Entidad</th>\n",
       "      <th>LOINC</th>\n",
       "      <th>Nombres</th>\n",
       "    </tr>\n",
       "  </thead>\n",
       "  <tbody>\n",
       "    <tr>\n",
       "      <th>0</th>\n",
       "      <td>Laboratorio</td>\n",
       "      <td>44785-4</td>\n",
       "      <td>Alanine aminotransferase [Enzymatic activity/v...</td>\n",
       "    </tr>\n",
       "    <tr>\n",
       "      <th>1</th>\n",
       "      <td>Laboratorio</td>\n",
       "      <td>1751-7</td>\n",
       "      <td>Albumin [Mass/volume] in Serum or Plasma</td>\n",
       "    </tr>\n",
       "    <tr>\n",
       "      <th>2</th>\n",
       "      <td>Laboratorio</td>\n",
       "      <td>88112-8</td>\n",
       "      <td>Aspartate aminotransferase [Enzymatic activity...</td>\n",
       "    </tr>\n",
       "    <tr>\n",
       "      <th>3</th>\n",
       "      <td>Laboratorio</td>\n",
       "      <td>42719-5</td>\n",
       "      <td>Bilirubin.total [Mass/volume] in Blood</td>\n",
       "    </tr>\n",
       "    <tr>\n",
       "      <th>4</th>\n",
       "      <td>Laboratorio</td>\n",
       "      <td>2162-6</td>\n",
       "      <td>Creatinine [Mass/time] in 24 hour Urine</td>\n",
       "    </tr>\n",
       "  </tbody>\n",
       "</table>\n",
       "</div>"
      ],
      "text/plain": [
       "       Entidad    LOINC                                            Nombres\n",
       "0  Laboratorio  44785-4  Alanine aminotransferase [Enzymatic activity/v...\n",
       "1  Laboratorio   1751-7           Albumin [Mass/volume] in Serum or Plasma\n",
       "2  Laboratorio  88112-8  Aspartate aminotransferase [Enzymatic activity...\n",
       "3  Laboratorio  42719-5             Bilirubin.total [Mass/volume] in Blood\n",
       "4  Laboratorio   2162-6            Creatinine [Mass/time] in 24 hour Urine"
      ]
     },
     "execution_count": 28,
     "metadata": {},
     "output_type": "execute_result"
    }
   ],
   "source": [
    "df_loinc['Nombres'] = ls_nombres\n",
    "df_loinc.head()"
   ]
  }
 ],
 "metadata": {
  "kernelspec": {
   "display_name": "Python 3",
   "language": "python",
   "name": "python3"
  },
  "language_info": {
   "codemirror_mode": {
    "name": "ipython",
    "version": 3
   },
   "file_extension": ".py",
   "mimetype": "text/x-python",
   "name": "python",
   "nbconvert_exporter": "python",
   "pygments_lexer": "ipython3",
   "version": "3.8.3"
  }
 },
 "nbformat": 4,
 "nbformat_minor": 4
}
