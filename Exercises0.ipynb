{
 "cells": [
  {
   "cell_type": "markdown",
   "metadata": {},
   "source": [
    "# Prueba 1 - Alejandro Florido Reyes\n",
    "\n",
    "*Este documento contiene mis respuestas a los problemas planteados en la Prueba 1 de la asignatura Digital Transformation.*\n",
    "\n",
    "*Para facilitar la lectura he colocado las respuestas cortas y explicaciones pedidas en cuadros amarillos y mis reflexiones adicionales en cuadros verdes. Además, he colocado notas en negrita a lo largo del texto cuando encontraba algo que me resultara ambiguo o extraño, explicando cómo lo he solucionado.*\n",
    "\n",
    "## Problema 1.\n",
    "Ejecuta el siguiente código desde el editor y explica qué produce:"
   ]
  },
  {
   "cell_type": "code",
   "execution_count": 10,
   "metadata": {
    "scrolled": true
   },
   "outputs": [
    {
     "name": "stdout",
     "output_type": "stream",
     "text": [
      "2.0\n"
     ]
    }
   ],
   "source": [
    "type(5)\n",
    "print(3.0-1)"
   ]
  },
  {
   "cell_type": "markdown",
   "metadata": {},
   "source": [
    "Pero este resultado no está entre las respuestas, por lo que intuyo que hay que escribir ambas líneas por separado, de manera que se muestren ambos resultados (al haber varias operaciones en la ventana, todas aquellas que no sean la última y no estén en un print no se imprimen, por lo que type(5) no se imprime)."
   ]
  },
  {
   "cell_type": "code",
   "execution_count": 4,
   "metadata": {
    "scrolled": true
   },
   "outputs": [
    {
     "data": {
      "text/plain": [
       "int"
      ]
     },
     "execution_count": 4,
     "metadata": {},
     "output_type": "execute_result"
    }
   ],
   "source": [
    "type(5)"
   ]
  },
  {
   "cell_type": "markdown",
   "metadata": {},
   "source": [
    "El comando type() te indica el tipo del dato que tiene en el paréntesis. En este caso te indica que 5 es un entero (integer)."
   ]
  },
  {
   "cell_type": "code",
   "execution_count": 5,
   "metadata": {
    "scrolled": true
   },
   "outputs": [
    {
     "name": "stdout",
     "output_type": "stream",
     "text": [
      "2.0\n"
     ]
    }
   ],
   "source": [
    "print(3.0-1)"
   ]
  },
  {
   "cell_type": "markdown",
   "metadata": {},
   "source": [
    "<div class=\"alert alert-block alert-warning\">\n",
    "<b>Respuesta simplificada</b> \n",
    "    \n",
    "3. int y 2.0. \n",
    "\n",
    "</div>"
   ]
  },
  {
   "cell_type": "markdown",
   "metadata": {},
   "source": [
    "**Nota. Había que ejecutar ambas líneas por separado para que la respuesta se encontrara entre las propuestas en el documento.**"
   ]
  },
  {
   "cell_type": "markdown",
   "metadata": {},
   "source": [
    "<div class=\"alert alert-block alert-success\">\n",
    "<b>Respuesta ampliada </b> \n",
    "\n",
    "El comando print() imprime la operación dentro del paréntesis. Dicha operación es entre un float y un integer y, como resultado de la operación, Python devuelve float en lugar de un integer. \n",
    "\n",
    "Esto último se puede entender si pensamos en una operación más general, porque en esta el resultado podía ser un entero, pero si la operación hubiera sido \"3.1-1\" el resultado no tendría más remedio que ser un float así que, para generalizar y mantener un criterio, Python hace que el resultado de una operación entre un float y un integer sea siempre un float.\n",
    "</div>"
   ]
  },
  {
   "cell_type": "markdown",
   "metadata": {},
   "source": [
    "## Problema 2.\n",
    "\n",
    "Python vs. Matemáticas\n",
    "\n",
    "¿Qué está permitido en Python?"
   ]
  },
  {
   "cell_type": "markdown",
   "metadata": {},
   "source": [
    "<div class=\"alert alert-block alert-warning\">\n",
    "<b>Respuesta simplificada</b> \n",
    "    \n",
    "4. xy = 2. \n",
    "\n",
    "</div>"
   ]
  },
  {
   "cell_type": "markdown",
   "metadata": {},
   "source": [
    "<div class=\"alert alert-block alert-success\">\n",
    "<b>Respuesta ampliada </b> "
   ]
  },
  {
   "cell_type": "code",
   "execution_count": 17,
   "metadata": {},
   "outputs": [
    {
     "ename": "SyntaxError",
     "evalue": "cannot assign to operator (<ipython-input-17-130ae22e9890>, line 1)",
     "output_type": "error",
     "traceback": [
      "\u001b[1;36m  File \u001b[1;32m\"<ipython-input-17-130ae22e9890>\"\u001b[1;36m, line \u001b[1;32m1\u001b[0m\n\u001b[1;33m    x + y = 2\u001b[0m\n\u001b[1;37m    ^\u001b[0m\n\u001b[1;31mSyntaxError\u001b[0m\u001b[1;31m:\u001b[0m cannot assign to operator\n"
     ]
    }
   ],
   "source": [
    "x + y = 2"
   ]
  },
  {
   "cell_type": "markdown",
   "metadata": {},
   "source": [
    "<div class=\"alert alert-block alert-success\">\n",
    "Devuelve error porque x e y no se han definido previamente."
   ]
  },
  {
   "cell_type": "code",
   "execution_count": 18,
   "metadata": {
    "scrolled": true
   },
   "outputs": [
    {
     "ename": "SyntaxError",
     "evalue": "cannot assign to operator (<ipython-input-18-561bdc127256>, line 1)",
     "output_type": "error",
     "traceback": [
      "\u001b[1;36m  File \u001b[1;32m\"<ipython-input-18-561bdc127256>\"\u001b[1;36m, line \u001b[1;32m1\u001b[0m\n\u001b[1;33m    x*x = 2\u001b[0m\n\u001b[1;37m    ^\u001b[0m\n\u001b[1;31mSyntaxError\u001b[0m\u001b[1;31m:\u001b[0m cannot assign to operator\n"
     ]
    }
   ],
   "source": [
    "x*x = 2"
   ]
  },
  {
   "cell_type": "markdown",
   "metadata": {},
   "source": [
    "<div class=\"alert alert-block alert-success\">\n",
    "Devuelve error porque x no se ha definido previamente."
   ]
  },
  {
   "cell_type": "code",
   "execution_count": 19,
   "metadata": {
    "scrolled": true
   },
   "outputs": [
    {
     "ename": "SyntaxError",
     "evalue": "cannot assign to literal (<ipython-input-19-10ac2aee613c>, line 1)",
     "output_type": "error",
     "traceback": [
      "\u001b[1;36m  File \u001b[1;32m\"<ipython-input-19-10ac2aee613c>\"\u001b[1;36m, line \u001b[1;32m1\u001b[0m\n\u001b[1;33m    2 = x\u001b[0m\n\u001b[1;37m    ^\u001b[0m\n\u001b[1;31mSyntaxError\u001b[0m\u001b[1;31m:\u001b[0m cannot assign to literal\n"
     ]
    }
   ],
   "source": [
    "2 = x"
   ]
  },
  {
   "cell_type": "markdown",
   "metadata": {},
   "source": [
    "<div class=\"alert alert-block alert-success\">\n",
    "Devuelve error porque, por un lado, no se puede usar un número para definir una variable (y las variables a definir van a la izquierda) y, por otro lado, porque x no está definida. \n",
    "\n",
    "La misma línea escrita justo al revés no devolvería error."
   ]
  },
  {
   "cell_type": "code",
   "execution_count": 15,
   "metadata": {},
   "outputs": [],
   "source": [
    "xy = 2"
   ]
  },
  {
   "cell_type": "markdown",
   "metadata": {},
   "source": [
    "<div class=\"alert alert-block alert-success\">\n",
    "No devuelve error, ya que xy es una cadena de caracteres tan válida como cualquier otra para definir una variable. "
   ]
  },
  {
   "cell_type": "markdown",
   "metadata": {},
   "source": [
    "## Problema 3. \n",
    "\n",
    "¿Qué aparece como resultado de las siguientes líneas de código?"
   ]
  },
  {
   "cell_type": "code",
   "execution_count": 20,
   "metadata": {},
   "outputs": [
    {
     "name": "stdout",
     "output_type": "stream",
     "text": [
      "74\n",
      "74\n"
     ]
    }
   ],
   "source": [
    "usa_oro = 46\n",
    "uk_oro = 27\n",
    "rumania_oro = 1\n",
    "\n",
    "total_oro = usa_oro + uk_oro + rumania_oro\n",
    "print(total_oro)\n",
    "\n",
    "rumania_oro += 1\n",
    "print(total_oro)"
   ]
  },
  {
   "cell_type": "markdown",
   "metadata": {},
   "source": [
    "<div class=\"alert alert-block alert-warning\">\n",
    "<b>Respuesta simplificada</b>\n",
    "    \n",
    "1. 74 y 74.\n",
    "\n",
    "</div>"
   ]
  },
  {
   "cell_type": "markdown",
   "metadata": {},
   "source": [
    "<div class=\"alert alert-block alert-success\">\n",
    "<b>Respuesta ampliada </b> \n",
    "\n",
    "Como no se ha actualizado la variable total_oro después de aumentar el valor de rumania_oro, el valor que imprime el segundo print es el mismo que imprime el primero. El código devuelve 2 valores porque hay 2 prints.\n",
    "</div>"
   ]
  },
  {
   "cell_type": "markdown",
   "metadata": {},
   "source": [
    "## Problema 4.\n",
    "\n",
    "1. ¿Qué va a ocurrir tras llamar a \"u\"?"
   ]
  },
  {
   "cell_type": "code",
   "execution_count": 31,
   "metadata": {},
   "outputs": [],
   "source": [
    "comienzo = \"par\"\n",
    "repetir = \"aguas\"\n",
    "u = comienzo + (repetir + \" \")*4"
   ]
  },
  {
   "cell_type": "markdown",
   "metadata": {},
   "source": [
    "<div class=\"alert alert-block alert-warning\">\n",
    "<b>Respuesta simplificada</b>\n",
    "    \n",
    "1. paraguas aguas aguas aguas.\n",
    "\n",
    "</div>"
   ]
  },
  {
   "cell_type": "markdown",
   "metadata": {},
   "source": [
    "**Nota. Existe una pequeña posibilidad de que el autor del código no haya escrito \" \" en el código, sino \"\", en cuyo caso la respuesta sería 2. paraguasaguasaguasaguas,** pero he descartado esa posibilidad porque:\n",
    "    1. En ese caso no habría tenido por qué escribir explícitamente ' + \"\" ' dentro del paréntesis.\n",
    "    2. Por lo que se ve en el pdf, ciertamente parece haber un espacio entre ambas comillas."
   ]
  },
  {
   "cell_type": "markdown",
   "metadata": {},
   "source": [
    "<div class=\"alert alert-block alert-success\">\n",
    "<b>Respuesta ampliada </b> \n",
    "\n",
    "Al haber un paréntesis que incluye la operación repetir + \" \", esto es lo primero que se une. A continuación, se copia 4 veces, porque la multiplicación tiene prioridad sobre la suma y, finalmente, la suma hace que comienzo (\"par\") se una a la primera de las 4 \"aguas \" generadas previamente. La siguiente línea de código muestra que este es, en efecto, el resultado:\n",
    "</div>"
   ]
  },
  {
   "cell_type": "code",
   "execution_count": 32,
   "metadata": {},
   "outputs": [
    {
     "data": {
      "text/plain": [
       "'paraguas aguas aguas aguas '"
      ]
     },
     "execution_count": 32,
     "metadata": {},
     "output_type": "execute_result"
    }
   ],
   "source": [
    "u"
   ]
  },
  {
   "cell_type": "markdown",
   "metadata": {},
   "source": [
    "2. ¿Qué pasa en cada paso?"
   ]
  },
  {
   "cell_type": "code",
   "execution_count": 35,
   "metadata": {},
   "outputs": [
    {
     "name": "stdout",
     "output_type": "stream",
     "text": [
      "holaana\n"
     ]
    }
   ],
   "source": [
    "hi = \"hola\"\n",
    "name = \"ana\"\n",
    "saludo= hi + name  \n",
    "print(saludo)\n",
    "#saludo = hi + \" \" + name\n",
    "#print(saludo)\n",
    "#mucho = hi + (\" \" + name)*3\n",
    "#print(mucho)\n"
   ]
  },
  {
   "cell_type": "markdown",
   "metadata": {},
   "source": [
    "<div class=\"alert alert-block alert-warning\">\n",
    "<b>Explicación</b>\n",
    "    \n",
    "* La primera línea guarda en una variable el string \"hola\". \n",
    "    \n",
    "* La segunda guarda en otra variable el string \"ana\". \n",
    "    \n",
    "* La tercera guarda en una nueva variable ambos strings unidos. \n",
    "    \n",
    "* La cuarta imprime la nueva variable, esto es, ambos strings juntos, resultando el string \"holaana\", ya que no se ha colocado un espacio entre ambos strings en el proceso de unión. \n",
    "\n",
    "* Las líneas de la quinta a la octava son comentarios, por lo que las operaciones que contienen no son tenidas en cuenta a la hora de ejecutar el código. Entre las operaciones de estos comentarios encontramos la variable \"saludo\" modificada para que sí imprimiera \"hola ana\" (con el espacio), otra variable que devolvería \"hola ana ana ana\" y dos prints que, si no fuera porque las cuatro líneas están comentadas, haría que se imprimieran dichos mensajes.\n",
    "\n",
    "</div>"
   ]
  },
  {
   "cell_type": "markdown",
   "metadata": {},
   "source": [
    "## Problema 5.\n",
    "\n",
    "¿Qué sucede tras ejecutar los comandos siguientes?"
   ]
  },
  {
   "cell_type": "code",
   "execution_count": 1,
   "metadata": {},
   "outputs": [
    {
     "name": "stdout",
     "output_type": "stream",
     "text": [
      "False\n",
      "False\n"
     ]
    }
   ],
   "source": [
    "tiempo_trabajo = 15\n",
    "tiempo_descanso = 8\n",
    "print(tiempo_descanso > tiempo_trabajo)\n",
    "conducir = True\n",
    "beber = False\n",
    "ambos = conducir and beber\n",
    "print(ambos)"
   ]
  },
  {
   "cell_type": "markdown",
   "metadata": {},
   "source": [
    "<div class=\"alert alert-block alert-warning\">\n",
    "<b>Respuesta simplificada</b>\n",
    "    \n",
    "* False y False\n",
    "\n",
    "</div>"
   ]
  },
  {
   "cell_type": "markdown",
   "metadata": {},
   "source": [
    "<div class=\"alert alert-block alert-success\">\n",
    "<b>Respuesta ampliada </b> \n",
    "\n",
    "El primer False viene de que lo que se imprime en el primer print es EL RESULTADO de la operación lógica (tiempo_descanso > tiempo_trabajo) que se realiza antes de llevar a cabo el print y que es False porque 8 NO es mayor que 15.\n",
    "\n",
    "El segundo False se debe a que, en el segundo print, se imprime el resultado de la operación lógica \"conducir and beber\" (almacenado en la variable \"ambos\"). Como conducir es True y beber es False, \"conducir and beber\" es equivalente a \"True and False\", pero el resultado de esta operación booleana es False (ya que para que el resultado fuera True con un \"and\", sería necesario que tanto \"beber\" como \"conducir\" fueran True), de modo que el segundo print también devuelve False.\n",
    "</div>"
   ]
  },
  {
   "cell_type": "markdown",
   "metadata": {},
   "source": [
    "## Problema 6\n",
    "\n",
    "¿Qué pasa si (en el siguiente código) x=0 e y=5?"
   ]
  },
  {
   "cell_type": "code",
   "execution_count": 37,
   "metadata": {},
   "outputs": [
    {
     "name": "stdout",
     "output_type": "stream",
     "text": [
      "Introduce un número para x: 0\n",
      "Introduce un número para y: 5\n",
      "x es pequeño\n"
     ]
    }
   ],
   "source": [
    "x = float(input(\"Introduce un número para x: \"))\n",
    "y = float(input(\"Introduce un número para y: \"))\n",
    "\n",
    "if x == y:\n",
    "    if y != 0:\n",
    "        print(\"x/y es\", x/y)\n",
    "elif x < y:\n",
    "    print(\"x es pequeño\")\n",
    "else:\n",
    "    print(\"y es pequeño\")\n",
    "                "
   ]
  },
  {
   "cell_type": "markdown",
   "metadata": {},
   "source": [
    "<div class=\"alert alert-block alert-warning\">\n",
    "<b>Respuesta simplificada</b>\n",
    "    \n",
    "1. x es pequeño.\n",
    "\n",
    "</div>"
   ]
  },
  {
   "cell_type": "markdown",
   "metadata": {},
   "source": [
    "<div class=\"alert alert-block alert-success\">\n",
    "<b>Respuesta ampliada </b> \n",
    "\n",
    "El primer False viene de que lo que se imprime en el primer print es EL RESULTADO de la operación lógica (tiempo_descanso > tiempo_trabajo) que se realiza antes de llevar a cabo el print y que es False porque 8 NO es mayor que 15.\n",
    "\n",
    "El segundo False se debe a que, en el segundo print, se imprime el resultado de la operación lógica \"conducir and beber\" (almacenado en la variable \"ambos\"). Como conducir es True y beber es False, \"conducir and beber\" es equivalente a \"True and False\", pero el resultado de esta operación booleana es False (ya que para que el resultado fuera True con un \"and\", sería necesario que tanto \"beber\" como \"conducir\" fueran True), de modo que el segundo print también devuelve False.\n",
    "</div>"
   ]
  },
  {
   "cell_type": "markdown",
   "metadata": {},
   "source": [
    "## Problema 7\n",
    "\n",
    "Completar el código. Código de partida:\n",
    "\n",
    "pi = 3.14159\n",
    "\n",
    "radio = 2.2\n",
    "\n",
    "#escribir la ecuación del área del círculo y que se vea el resultado."
   ]
  },
  {
   "cell_type": "code",
   "execution_count": 8,
   "metadata": {},
   "outputs": [
    {
     "name": "stdout",
     "output_type": "stream",
     "text": [
      "La ecuación del área del círculo es pi*radio**2 y, si sustituimos los valores del código en la ecuación obtenemos: 15.205295600000001\n"
     ]
    }
   ],
   "source": [
    "pi = 3.14159\n",
    "radio = 2.2\n",
    "# Escribir la ecuación del área del círculo y que se vea el resultado.\n",
    "# La ecuación del área del círculo es pi*radio**2, por lo tanto:\n",
    "\n",
    "print(f'La ecuación del área del círculo es pi*radio**2 y, si sustituimos los valores del código en la ecuación obtenemos: {pi*radio**2}')"
   ]
  },
  {
   "cell_type": "markdown",
   "metadata": {},
   "source": [
    "Otra opción *para que no se vea el resultado \"cortado\"* es hacer lo siguiente:"
   ]
  },
  {
   "cell_type": "code",
   "execution_count": 10,
   "metadata": {},
   "outputs": [
    {
     "name": "stdout",
     "output_type": "stream",
     "text": [
      "La ecuación del área del círculo es pi*radio**2 y, si sustituimos los valores del código en la ecuación obtenemos: \n",
      "15.205295600000001\n"
     ]
    }
   ],
   "source": [
    "pi = 3.14159\n",
    "radio = 2.2\n",
    "# Escribir la ecuación del área del círculo y que se vea el resultado.\n",
    "# La ecuación del área del círculo es pi*radio**2, por lo tanto:\n",
    "\n",
    "print('La ecuación del área del círculo es pi*radio**2 y, si sustituimos los valores del código en la ecuación obtenemos: ')\n",
    "\n",
    "print(pi*radio**2)"
   ]
  },
  {
   "cell_type": "markdown",
   "metadata": {},
   "source": [
    "## Problema 8\n",
    "\n",
    "¿Qué pasa en cada print? ¿Qué aporta cada solución?"
   ]
  },
  {
   "cell_type": "code",
   "execution_count": 40,
   "metadata": {},
   "outputs": [
    {
     "name": "stdout",
     "output_type": "stream",
     "text": [
      "1\n",
      "mi número favorito es 1 . x= 1\n",
      " mi número favorito es  1.x=1\n",
      " mi número favorito es 1.x=1\n"
     ]
    }
   ],
   "source": [
    "x = 1\n",
    "print(x)\n",
    "x_str= str(x)\n",
    "print(\"mi número favorito es\", x, \".\", \"x=\", x)\n",
    "print(\" mi número favorito es \", x_str+ \".\" + \"x=\" + x_str)\n",
    "print(\" mi número favorito es \" + x_str+ \".\" + \"x=\" + x_str)"
   ]
  },
  {
   "cell_type": "markdown",
   "metadata": {},
   "source": [
    "<div class=\"alert alert-block alert-warning\">\n",
    "<b>Explicación</b>\n",
    "    \n",
    "Partamos desde el principio del código para que todo esté claro en la explicación de los prints. La primera línea almacena el valor 1 (integer) en la variable x, la segunda imprime dicho valor y la tercera cambia el tipo de x (es decir, del integer 1) a string y almacena ese string en la variable x_str.\n",
    "\n",
    "Dicho eso, ¿qué ocurre en cada print? \n",
    "\n",
    "* Primer print: como añadimos 1 en forma de integer (x), vamos separando las partes strings de las partes donde metemos el 1 mediante comas, de forma que las diferentes partes separadas en el código se unen cuando ejecutamos el print. Obsérvese que, por defecto, se añade un espacio a los lados del 1 donde había una coma (podemos decir que, al ejecutar el comando, la coma se transforma en un espacio que aparece entre las diferentes partes que unía dicha coma). El resultado es: \"mi número favorito es 1 . x= 1\".\n",
    "\n",
    "* Segundo print: en este caso añadimos el 1 en forma de string. La primera vez que aparece el uno lo añadimos como en el print anterior, separando ambas partes del texto con una coma y eso hace que, además del espacio que existe después del \"es\" veamos un segundo espacio antes del primer 1 de la frase. El resto de las partes de la frase, sin embargo, se unen mediante \"+\", por lo que el resto de partes se unen tal cual (el \"+\" no se sustituye por un espacio al ejecutar el print, simplemente une las dos partes). El resultado es: \" mi número favorito es  1.x=1\".\n",
    "\n",
    "* Tercer print: en este caso se usa el 1 en forma de string y todas las uniones son mediante \"+\", de modo que no se añaden espacios adicionales a los strings unidos al ejecutar el comando print. El resultado es: \" mi número favorito es 1.x=1\".\n",
    "\n",
    "¿Qué aporta cada solución? \n",
    "\n",
    "* El primer print nos enseña que podemos unir strings con integers usando comas para separar ambos tipos de dato en un comando print(). Además, muestra que una coma se transforma en un espacio al ejecutar el print, por lo que tenemos que tenerlo en cuenta si queremos que la frase a imprimir no tenga más espacios de la cuenta. \n",
    "\n",
    "* El segundo print muestra que los strings se pueden unir entre sí tanto con las comas como con signos de suma (+) y que estos últimos no se transforman en un espacio adicional como ocurría con las comas, sino que simplemente unen los strings que tienen a su izquierda y su derecha.\n",
    "\n",
    "* El tercer print no aporta nada nuevo. Si acaso que en el segundo print no había necesidad de usar la coma, se podía hacer todo con el \"+\".\n",
    "\n",
    "</div>"
   ]
  },
  {
   "cell_type": "markdown",
   "metadata": {},
   "source": [
    "## Problema 9\n",
    "\n",
    "¿Qué ocurre?"
   ]
  },
  {
   "cell_type": "code",
   "execution_count": 1,
   "metadata": {},
   "outputs": [
    {
     "name": "stdout",
     "output_type": "stream",
     "text": [
      "55555\n",
      "25\n"
     ]
    }
   ],
   "source": [
    "text = '5'\n",
    "print(5*text)\n",
    "num = 5\n",
    "print(5*num)\n"
   ]
  },
  {
   "cell_type": "markdown",
   "metadata": {},
   "source": [
    "<div class=\"alert alert-block alert-warning\">\n",
    "<b>Respuesta simplificada </b>\n",
    "    \n",
    "3. 55555 y 25\n",
    "\n",
    "</div>"
   ]
  },
  {
   "cell_type": "markdown",
   "metadata": {},
   "source": [
    "<div class=\"alert alert-block alert-success\">\n",
    "<b>Respuesta ampliada </b> \n",
    "\n",
    "La variable text almacena el string 5, por lo tanto, 5*text escribe 5 veces seguidas el caracter 5 (esto es, 55555) por lo que eso es lo que imprime el primer print. \n",
    "\n",
    "Por otra parte, num es una variable que almacena el integer 5 (un número), por lo tanto, en este caso 5*num es 5x5 = 25 (multiplica el integer almacenado por 5) y eso es lo que imprime el segundo print.\n",
    "\n",
    "Por lo tanto la respuesta es la 3.\n",
    "</div>"
   ]
  },
  {
   "cell_type": "markdown",
   "metadata": {},
   "source": [
    "## Problema 10\n",
    "\n",
    "¿Qué ocurre si se introduce 12314588134 y una a?"
   ]
  },
  {
   "cell_type": "code",
   "execution_count": 3,
   "metadata": {},
   "outputs": [
    {
     "name": "stdout",
     "output_type": "stream",
     "text": [
      "Un número, por favor: 12314588134\n",
      "par\n"
     ]
    }
   ],
   "source": [
    "num = int(input(\"Un número, por favor: \"))\n",
    "if num % 2 == 0:\n",
    "    print(\"par\")\n",
    "else:\n",
    "    print(\"impar\")"
   ]
  },
  {
   "cell_type": "code",
   "execution_count": 6,
   "metadata": {},
   "outputs": [
    {
     "name": "stdout",
     "output_type": "stream",
     "text": [
      "Un número, por favor: a\n"
     ]
    },
    {
     "ename": "ValueError",
     "evalue": "invalid literal for int() with base 10: 'a'",
     "output_type": "error",
     "traceback": [
      "\u001b[1;31m---------------------------------------------------------------------------\u001b[0m",
      "\u001b[1;31mValueError\u001b[0m                                Traceback (most recent call last)",
      "\u001b[1;32m<ipython-input-6-7913cd590e00>\u001b[0m in \u001b[0;36m<module>\u001b[1;34m\u001b[0m\n\u001b[1;32m----> 1\u001b[1;33m \u001b[0mnum\u001b[0m \u001b[1;33m=\u001b[0m \u001b[0mint\u001b[0m\u001b[1;33m(\u001b[0m\u001b[0minput\u001b[0m\u001b[1;33m(\u001b[0m\u001b[1;34m\"Un número, por favor: \"\u001b[0m\u001b[1;33m)\u001b[0m\u001b[1;33m)\u001b[0m\u001b[1;33m\u001b[0m\u001b[1;33m\u001b[0m\u001b[0m\n\u001b[0m\u001b[0;32m      2\u001b[0m \u001b[1;32mif\u001b[0m \u001b[0mnum\u001b[0m \u001b[1;33m%\u001b[0m \u001b[1;36m2\u001b[0m \u001b[1;33m==\u001b[0m \u001b[1;36m0\u001b[0m\u001b[1;33m:\u001b[0m\u001b[1;33m\u001b[0m\u001b[1;33m\u001b[0m\u001b[0m\n\u001b[0;32m      3\u001b[0m     \u001b[0mprint\u001b[0m\u001b[1;33m(\u001b[0m\u001b[1;34m\"par\"\u001b[0m\u001b[1;33m)\u001b[0m\u001b[1;33m\u001b[0m\u001b[1;33m\u001b[0m\u001b[0m\n\u001b[0;32m      4\u001b[0m \u001b[1;32melse\u001b[0m\u001b[1;33m:\u001b[0m\u001b[1;33m\u001b[0m\u001b[1;33m\u001b[0m\u001b[0m\n\u001b[0;32m      5\u001b[0m     \u001b[0mprint\u001b[0m\u001b[1;33m(\u001b[0m\u001b[1;34m\"impar\"\u001b[0m\u001b[1;33m)\u001b[0m\u001b[1;33m\u001b[0m\u001b[1;33m\u001b[0m\u001b[0m\n",
      "\u001b[1;31mValueError\u001b[0m: invalid literal for int() with base 10: 'a'"
     ]
    }
   ],
   "source": [
    "num = int(input(\"Un número, por favor: \"))\n",
    "if num % 2 == 0:\n",
    "    print(\"par\")\n",
    "else:\n",
    "    print(\"impar\")"
   ]
  },
  {
   "cell_type": "code",
   "execution_count": 5,
   "metadata": {},
   "outputs": [
    {
     "name": "stdout",
     "output_type": "stream",
     "text": [
      "Un número, por favor: 'a'\n"
     ]
    },
    {
     "ename": "ValueError",
     "evalue": "invalid literal for int() with base 10: \"'a'\"",
     "output_type": "error",
     "traceback": [
      "\u001b[1;31m---------------------------------------------------------------------------\u001b[0m",
      "\u001b[1;31mValueError\u001b[0m                                Traceback (most recent call last)",
      "\u001b[1;32m<ipython-input-5-7913cd590e00>\u001b[0m in \u001b[0;36m<module>\u001b[1;34m\u001b[0m\n\u001b[1;32m----> 1\u001b[1;33m \u001b[0mnum\u001b[0m \u001b[1;33m=\u001b[0m \u001b[0mint\u001b[0m\u001b[1;33m(\u001b[0m\u001b[0minput\u001b[0m\u001b[1;33m(\u001b[0m\u001b[1;34m\"Un número, por favor: \"\u001b[0m\u001b[1;33m)\u001b[0m\u001b[1;33m)\u001b[0m\u001b[1;33m\u001b[0m\u001b[1;33m\u001b[0m\u001b[0m\n\u001b[0m\u001b[0;32m      2\u001b[0m \u001b[1;32mif\u001b[0m \u001b[0mnum\u001b[0m \u001b[1;33m%\u001b[0m \u001b[1;36m2\u001b[0m \u001b[1;33m==\u001b[0m \u001b[1;36m0\u001b[0m\u001b[1;33m:\u001b[0m\u001b[1;33m\u001b[0m\u001b[1;33m\u001b[0m\u001b[0m\n\u001b[0;32m      3\u001b[0m     \u001b[0mprint\u001b[0m\u001b[1;33m(\u001b[0m\u001b[1;34m\"par\"\u001b[0m\u001b[1;33m)\u001b[0m\u001b[1;33m\u001b[0m\u001b[1;33m\u001b[0m\u001b[0m\n\u001b[0;32m      4\u001b[0m \u001b[1;32melse\u001b[0m\u001b[1;33m:\u001b[0m\u001b[1;33m\u001b[0m\u001b[1;33m\u001b[0m\u001b[0m\n\u001b[0;32m      5\u001b[0m     \u001b[0mprint\u001b[0m\u001b[1;33m(\u001b[0m\u001b[1;34m\"impar\"\u001b[0m\u001b[1;33m)\u001b[0m\u001b[1;33m\u001b[0m\u001b[1;33m\u001b[0m\u001b[0m\n",
      "\u001b[1;31mValueError\u001b[0m: invalid literal for int() with base 10: \"'a'\""
     ]
    }
   ],
   "source": [
    "num = int(input(\"Un número, por favor: \"))\n",
    "if num % 2 == 0:\n",
    "    print(\"par\")\n",
    "else:\n",
    "    print(\"impar\")"
   ]
  },
  {
   "cell_type": "markdown",
   "metadata": {},
   "source": [
    "<div class=\"alert alert-block alert-warning\">\n",
    "<b>Respuesta simplificada</b>\n",
    "    \n",
    "4. Par y error\n",
    "\n",
    "</div>"
   ]
  },
  {
   "cell_type": "markdown",
   "metadata": {},
   "source": [
    "<div class=\"alert alert-block alert-success\">\n",
    "<b>Respuesta ampliada </b> \n",
    "\n",
    "Al introducir 12314588134 como input, este se almacena en la variable num. En consecuencia, num es un número par y, por lo tanto, cumple la condición del if (el resto que se obtiene al dividir 12314588134 entre 2 es 0) y se imprime \"par\". Como se cumple la condición del if, la operación del else no se lleva a cabo.\n",
    "\n",
    "Al introducir una a (ya sea en forma de string, 'a', o directamente) se obtiene un error tipo ValueError, ya que el valor que hemos almacenado en la variable num (a o 'a') no es numérico y, por lo tanto, la operación num % 2 no se puede llevar a cabo y no se puede evaluar el if. Para poder evaluar la condición del if, num debe ser un número (integer, float, etc.).\n",
    "</div>"
   ]
  }
 ],
 "metadata": {
  "kernelspec": {
   "display_name": "Python 3",
   "language": "python",
   "name": "python3"
  },
  "language_info": {
   "codemirror_mode": {
    "name": "ipython",
    "version": 3
   },
   "file_extension": ".py",
   "mimetype": "text/x-python",
   "name": "python",
   "nbconvert_exporter": "python",
   "pygments_lexer": "ipython3",
   "version": "3.8.3"
  }
 },
 "nbformat": 4,
 "nbformat_minor": 4
}
