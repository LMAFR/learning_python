{
 "cells": [
  {
   "cell_type": "markdown",
   "metadata": {},
   "source": [
    "Pregunta del ejercicio 1: Imprime los primeros 10 números naturales usando el bucle while"
   ]
  },
  {
   "cell_type": "code",
   "execution_count": 5,
   "metadata": {
    "scrolled": true
   },
   "outputs": [
    {
     "name": "stdout",
     "output_type": "stream",
     "text": [
      "1\n",
      "2\n",
      "3\n",
      "4\n",
      "5\n",
      "6\n",
      "7\n",
      "8\n",
      "9\n",
      "10\n"
     ]
    }
   ],
   "source": [
    "i = 0\n",
    "while i < 10:\n",
    "    i += 1\n",
    "    print(i)"
   ]
  },
  {
   "cell_type": "markdown",
   "metadata": {},
   "source": [
    "Escriba un algoritmo que lea del teclado un número entero y que compruebe si el número es menor que 10. Si no lo está, debe volver a leer el número repitiendo la operación hasta que el usuario escriba un valor correcto. Finalmente, debe escribir por pantalla el valor leído cuando este sea correcto."
   ]
  },
  {
   "cell_type": "code",
   "execution_count": 6,
   "metadata": {},
   "outputs": [
    {
     "name": "stdout",
     "output_type": "stream",
     "text": [
      "Escriba un número entero: 11\n",
      "Escriba un número entero: 13\n",
      "Escriba un número entero: 8\n",
      "8\n"
     ]
    }
   ],
   "source": [
    "n = int(input('Escriba un número entero: '))\n",
    "\n",
    "while n > 10:\n",
    "    n = int(input('Escriba un número entero: '))\n",
    "print(n)"
   ]
  },
  {
   "cell_type": "markdown",
   "metadata": {},
   "source": [
    "-----"
   ]
  },
  {
   "cell_type": "markdown",
   "metadata": {},
   "source": [
    "Modifique el algoritmo del problema anterior para que, en vez de comprobar que el número sea menor que 10, compruebe que se encuentre en el rango (0, 20)."
   ]
  },
  {
   "cell_type": "code",
   "execution_count": 16,
   "metadata": {},
   "outputs": [
    {
     "name": "stdout",
     "output_type": "stream",
     "text": [
      "Escriba un número entero: -1\n",
      "Escriba un número entero: 30\n",
      "Escriba un número entero: -3\n",
      "Escriba un número entero: 8\n",
      "8\n"
     ]
    }
   ],
   "source": [
    "n = int(input('Escriba un número entero: '))\n",
    "\n",
    "while n not in range(0,20):\n",
    "    n = int(input('Escriba un número entero: '))\n",
    "print(n)"
   ]
  },
  {
   "cell_type": "markdown",
   "metadata": {},
   "source": [
    "Modifique el algoritmo del problema anterior para que cuente las veces que ha leído un número de teclado y escriba el resultado por pantalla."
   ]
  },
  {
   "cell_type": "code",
   "execution_count": 18,
   "metadata": {},
   "outputs": [
    {
     "name": "stdout",
     "output_type": "stream",
     "text": [
      "Escriba un número entero: 24\n",
      "Escriba un número entero: -1\n",
      "Escriba un número entero: 30\n",
      "Escriba un número entero: -5\n",
      "Escriba un número entero: 8\n",
      "El número de veces que Python ha leído un número del teclado es: 5\n"
     ]
    }
   ],
   "source": [
    "n = int(input('Escriba un número entero: '))\n",
    "count = 1\n",
    "\n",
    "while n not in range(0,20):\n",
    "    n = int(input('Escriba un número entero: '))\n",
    "    count += 1\n",
    "print(f'El número de veces que Python ha leído un número del teclado es: {count}')"
   ]
  },
  {
   "cell_type": "markdown",
   "metadata": {},
   "source": [
    "Modifique el algoritmo del problema anterior para que se realicen 5 lecturas por teclado como máximo.\n"
   ]
  },
  {
   "cell_type": "code",
   "execution_count": 23,
   "metadata": {},
   "outputs": [
    {
     "name": "stdout",
     "output_type": "stream",
     "text": [
      "Escriba un número entero: 30\n",
      "Escriba un número entero: 30\n",
      "Escriba un número entero: 30\n",
      "Escriba un número entero: 30\n",
      "Escriba un número entero: 30\n",
      "El número de veces que Python ha leído un número del teclado es: 5\n"
     ]
    }
   ],
   "source": [
    "n = int(input('Escriba un número entero: '))\n",
    "count = 1\n",
    "while n not in range(0,20):\n",
    "     if count < 5:\n",
    "        n = int(input('Escriba un número entero: '))\n",
    "        count += 1\n",
    "     else:\n",
    "          break\n",
    "print(f'El número de veces que Python ha leído un número del teclado es: {count}')"
   ]
  },
  {
   "cell_type": "markdown",
   "metadata": {},
   "source": [
    "Escriba un algoritmo que calcule e imprima la suma de los n primeros números enteros positivos. El valor de n debe leerse del teclado y ser ingresado por el usuario."
   ]
  },
  {
   "cell_type": "code",
   "execution_count": 24,
   "metadata": {},
   "outputs": [
    {
     "name": "stdout",
     "output_type": "stream",
     "text": [
      "Escriba el número de enteros positivos que quiere que le escriba: 12\n",
      "1\n",
      "2\n",
      "3\n",
      "4\n",
      "5\n",
      "6\n",
      "7\n",
      "8\n",
      "9\n",
      "10\n",
      "11\n",
      "12\n"
     ]
    }
   ],
   "source": [
    "i = 0\n",
    "n = int(input('Escriba el número de enteros positivos que quiere que le escriba: '))\n",
    "while i < n:\n",
    "    i += 1\n",
    "    print(i)"
   ]
  },
  {
   "cell_type": "markdown",
   "metadata": {},
   "source": [
    "Escriba un algoritmo que sume los números ingresados por el usuario hasta que el usuario ingrese el número 0 (detener las preguntas ante este escenario)."
   ]
  },
  {
   "cell_type": "code",
   "execution_count": 9,
   "metadata": {},
   "outputs": [
    {
     "name": "stdout",
     "output_type": "stream",
     "text": [
      "Inserte un número: 1.3402\n",
      "Inserte otro número: -23.3712379\n",
      "Inserte otro número: 213.3487129\n",
      "Inserte otro número: 0\n",
      "La suma de los valores introducidos ha sido de: 191.317675\n"
     ]
    }
   ],
   "source": [
    "n = float(input('Inserte un número: '))\n",
    "suma = 0\n",
    "\n",
    "while n != 0:\n",
    "    suma = suma + n\n",
    "    n = float(input('Inserte otro número: '))\n",
    "\n",
    "print(f'La suma de los valores introducidos ha sido de: {suma}')"
   ]
  },
  {
   "cell_type": "code",
   "execution_count": null,
   "metadata": {},
   "outputs": [],
   "source": []
  }
 ],
 "metadata": {
  "kernelspec": {
   "display_name": "Python 3",
   "language": "python",
   "name": "python3"
  },
  "language_info": {
   "codemirror_mode": {
    "name": "ipython",
    "version": 3
   },
   "file_extension": ".py",
   "mimetype": "text/x-python",
   "name": "python",
   "nbconvert_exporter": "python",
   "pygments_lexer": "ipython3",
   "version": "3.8.3"
  }
 },
 "nbformat": 4,
 "nbformat_minor": 4
}
