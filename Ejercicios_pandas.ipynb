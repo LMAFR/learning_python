{
 "cells": [
  {
   "cell_type": "markdown",
   "metadata": {},
   "source": [
    "## Importar datos"
   ]
  },
  {
   "cell_type": "code",
   "execution_count": 1,
   "metadata": {},
   "outputs": [],
   "source": [
    "import datetime as dt\n",
    "import pandas as pd\n",
    "import numpy as np"
   ]
  },
  {
   "cell_type": "markdown",
   "metadata": {},
   "source": [
    "Como ejemplo, vamos a importar unos datos que tenemos en CSV con precios de alquileres en los distritos de Madrid, y mostraremos sus 5 primeras filas.\n",
    "Llamaremos a este dataframe 'alquiler'.\n",
    "El fichero se encuentra en la carpeta 'dat' y se llama 'alquiler-madrid-distritos.csv':"
   ]
  },
  {
   "cell_type": "code",
   "execution_count": 2,
   "metadata": {},
   "outputs": [
    {
     "data": {
      "text/html": [
       "<div>\n",
       "<style scoped>\n",
       "    .dataframe tbody tr th:only-of-type {\n",
       "        vertical-align: middle;\n",
       "    }\n",
       "\n",
       "    .dataframe tbody tr th {\n",
       "        vertical-align: top;\n",
       "    }\n",
       "\n",
       "    .dataframe thead th {\n",
       "        text-align: right;\n",
       "    }\n",
       "</style>\n",
       "<table border=\"1\" class=\"dataframe\">\n",
       "  <thead>\n",
       "    <tr style=\"text-align: right;\">\n",
       "      <th></th>\n",
       "      <th>distrito</th>\n",
       "      <th>ano</th>\n",
       "      <th>quarter</th>\n",
       "      <th>precio</th>\n",
       "    </tr>\n",
       "  </thead>\n",
       "  <tbody>\n",
       "    <tr>\n",
       "      <th>0</th>\n",
       "      <td>Arganzuela</td>\n",
       "      <td>2007</td>\n",
       "      <td>2</td>\n",
       "      <td>13.066587</td>\n",
       "    </tr>\n",
       "    <tr>\n",
       "      <th>1</th>\n",
       "      <td>Barajas</td>\n",
       "      <td>2007</td>\n",
       "      <td>2</td>\n",
       "      <td>11.199855</td>\n",
       "    </tr>\n",
       "    <tr>\n",
       "      <th>2</th>\n",
       "      <td>Carabanchel</td>\n",
       "      <td>2007</td>\n",
       "      <td>2</td>\n",
       "      <td>11.127661</td>\n",
       "    </tr>\n",
       "    <tr>\n",
       "      <th>3</th>\n",
       "      <td>Centro</td>\n",
       "      <td>2007</td>\n",
       "      <td>2</td>\n",
       "      <td>17.746404</td>\n",
       "    </tr>\n",
       "    <tr>\n",
       "      <th>4</th>\n",
       "      <td>Chamartín</td>\n",
       "      <td>2007</td>\n",
       "      <td>2</td>\n",
       "      <td>14.386480</td>\n",
       "    </tr>\n",
       "  </tbody>\n",
       "</table>\n",
       "</div>"
      ],
      "text/plain": [
       "      distrito   ano  quarter     precio\n",
       "0   Arganzuela  2007        2  13.066587\n",
       "1      Barajas  2007        2  11.199855\n",
       "2  Carabanchel  2007        2  11.127661\n",
       "3       Centro  2007        2  17.746404\n",
       "4    Chamartín  2007        2  14.386480"
      ]
     },
     "execution_count": 2,
     "metadata": {},
     "output_type": "execute_result"
    }
   ],
   "source": [
    "path = \"C:/Users/Usuario/Desktop/Digital Transformation/Notebooks/04 - Pandas/dat/alquiler-madrid-distritos.csv\" # Forma larga.\n",
    "path = 'dat/alquiler-madrid-distritos.csv' # Forma resumida. Usamos esta, aunque podríamos usar la otra también.\n",
    "\n",
    "alquiler = pd.read_csv(path)\n",
    "\n",
    "alquiler.head()"
   ]
  },
  {
   "cell_type": "markdown",
   "metadata": {},
   "source": [
    "## Inspeccionar el dataframe\n",
    "\n",
    "Las tablas en `pandas` son objetos de la clase `DataFrames`. Un `DataFrame` consta de dos partes: un índice y los datos propiamente dichos. Las columnas de los datos son de la clase `Series`."
   ]
  },
  {
   "cell_type": "markdown",
   "metadata": {},
   "source": [
    "Consulta el nombre de las columnas de tu dataframe y sus tipos."
   ]
  },
  {
   "cell_type": "code",
   "execution_count": 11,
   "metadata": {
    "scrolled": true
   },
   "outputs": [
    {
     "data": {
      "text/plain": [
       "Index(['distrito', 'ano', 'quarter', 'precio'], dtype='object')"
      ]
     },
     "execution_count": 11,
     "metadata": {},
     "output_type": "execute_result"
    }
   ],
   "source": [
    "alquiler.columns"
   ]
  },
  {
   "cell_type": "code",
   "execution_count": 12,
   "metadata": {},
   "outputs": [
    {
     "data": {
      "text/plain": [
       "distrito     object\n",
       "ano           int64\n",
       "quarter       int64\n",
       "precio      float64\n",
       "dtype: object"
      ]
     },
     "execution_count": 12,
     "metadata": {},
     "output_type": "execute_result"
    }
   ],
   "source": [
    "alquiler.dtypes"
   ]
  },
  {
   "cell_type": "markdown",
   "metadata": {},
   "source": [
    "Consulta el índice de tu dataframe"
   ]
  },
  {
   "cell_type": "code",
   "execution_count": 21,
   "metadata": {
    "scrolled": true
   },
   "outputs": [
    {
     "data": {
      "text/plain": [
       "RangeIndex(start=0, stop=840, step=1)"
      ]
     },
     "execution_count": 21,
     "metadata": {},
     "output_type": "execute_result"
    }
   ],
   "source": [
    "alquiler.index"
   ]
  },
  {
   "cell_type": "markdown",
   "metadata": {},
   "source": [
    "Consulta cuántas filas y columnas tiene tu dataframe"
   ]
  },
  {
   "cell_type": "code",
   "execution_count": 32,
   "metadata": {},
   "outputs": [
    {
     "data": {
      "text/plain": [
       "(840, 4)"
      ]
     },
     "execution_count": 32,
     "metadata": {},
     "output_type": "execute_result"
    }
   ],
   "source": [
    "alquiler.shape"
   ]
  },
  {
   "cell_type": "code",
   "execution_count": 33,
   "metadata": {},
   "outputs": [
    {
     "data": {
      "text/plain": [
       "840"
      ]
     },
     "execution_count": 33,
     "metadata": {},
     "output_type": "execute_result"
    }
   ],
   "source": [
    "alquiler.shape[0]"
   ]
  },
  {
   "cell_type": "code",
   "execution_count": 35,
   "metadata": {},
   "outputs": [
    {
     "data": {
      "text/plain": [
       "840"
      ]
     },
     "execution_count": 35,
     "metadata": {},
     "output_type": "execute_result"
    }
   ],
   "source": [
    "len(alquiler)"
   ]
  },
  {
   "cell_type": "code",
   "execution_count": 34,
   "metadata": {
    "scrolled": true
   },
   "outputs": [
    {
     "data": {
      "text/plain": [
       "4"
      ]
     },
     "execution_count": 34,
     "metadata": {},
     "output_type": "execute_result"
    }
   ],
   "source": [
    "alquiler.shape[1]"
   ]
  },
  {
   "cell_type": "code",
   "execution_count": 38,
   "metadata": {
    "scrolled": true
   },
   "outputs": [
    {
     "data": {
      "text/plain": [
       "<bound method DataFrame.info of               distrito   ano  quarter     precio\n",
       "0           Arganzuela  2007        2  13.066587\n",
       "1              Barajas  2007        2  11.199855\n",
       "2          Carabanchel  2007        2  11.127661\n",
       "3               Centro  2007        2  17.746404\n",
       "4            Chamartín  2007        2  14.386480\n",
       "..                 ...   ...      ...        ...\n",
       "835             Tetuan  2018        2  15.114558\n",
       "836              Usera  2018        2  11.533458\n",
       "837          Vicálvaro  2018        2   9.962139\n",
       "838  Villa De Vallecas  2018        2  10.915967\n",
       "839         Villaverde  2018        2  10.427527\n",
       "\n",
       "[840 rows x 4 columns]>"
      ]
     },
     "execution_count": 38,
     "metadata": {},
     "output_type": "execute_result"
    }
   ],
   "source": [
    "alquiler.info"
   ]
  },
  {
   "cell_type": "code",
   "execution_count": 40,
   "metadata": {},
   "outputs": [
    {
     "name": "stdout",
     "output_type": "stream",
     "text": [
      "<class 'pandas.core.frame.DataFrame'>\n",
      "RangeIndex: 840 entries, 0 to 839\n",
      "Data columns (total 4 columns):\n",
      " #   Column    Non-Null Count  Dtype  \n",
      "---  ------    --------------  -----  \n",
      " 0   distrito  840 non-null    object \n",
      " 1   ano       840 non-null    int64  \n",
      " 2   quarter   840 non-null    int64  \n",
      " 3   precio    840 non-null    float64\n",
      "dtypes: float64(1), int64(2), object(1)\n",
      "memory usage: 26.4+ KB\n"
     ]
    }
   ],
   "source": [
    "alquiler.info()"
   ]
  },
  {
   "cell_type": "code",
   "execution_count": 39,
   "metadata": {},
   "outputs": [
    {
     "data": {
      "text/plain": [
       "4"
      ]
     },
     "execution_count": 39,
     "metadata": {},
     "output_type": "execute_result"
    }
   ],
   "source": [
    "len(alquiler.columns)"
   ]
  },
  {
   "cell_type": "markdown",
   "metadata": {},
   "source": [
    "## Filtro y selección"
   ]
  },
  {
   "cell_type": "markdown",
   "metadata": {},
   "source": [
    "Hay tres operadores fundamentales para seleccionar filas y columnas: `loc`, `iloc` y `[]`. La diferencia fundamental entre `loc` e `iloc` es que el primero requiere _etiquetas_ y el segundo, índices numéricos (la `i` inicial viene de `integer`)."
   ]
  },
  {
   "cell_type": "markdown",
   "metadata": {},
   "source": [
    "* Selecciona usando `iloc` la fila 200.\n",
    "* Selecciona usando `iloc` un subconjunto de datos con las filas de la 10 a la 20 y todas las columnas salvo la primera\n",
    "* Selecciona usando `iloc` cuatro filas cualesquiera no consecutivas y dos columnas cualesquiera no consecutivas"
   ]
  },
  {
   "cell_type": "code",
   "execution_count": 14,
   "metadata": {},
   "outputs": [
    {
     "data": {
      "text/plain": [
       "distrito    Moratalaz\n",
       "ano              2010\n",
       "quarter             4\n",
       "precio        9.90141\n",
       "Name: 200, dtype: object"
      ]
     },
     "execution_count": 14,
     "metadata": {},
     "output_type": "execute_result"
    }
   ],
   "source": [
    "alquiler.iloc[200,]"
   ]
  },
  {
   "cell_type": "code",
   "execution_count": 15,
   "metadata": {},
   "outputs": [
    {
     "data": {
      "text/html": [
       "<div>\n",
       "<style scoped>\n",
       "    .dataframe tbody tr th:only-of-type {\n",
       "        vertical-align: middle;\n",
       "    }\n",
       "\n",
       "    .dataframe tbody tr th {\n",
       "        vertical-align: top;\n",
       "    }\n",
       "\n",
       "    .dataframe thead th {\n",
       "        text-align: right;\n",
       "    }\n",
       "</style>\n",
       "<table border=\"1\" class=\"dataframe\">\n",
       "  <thead>\n",
       "    <tr style=\"text-align: right;\">\n",
       "      <th></th>\n",
       "      <th>ano</th>\n",
       "      <th>quarter</th>\n",
       "      <th>precio</th>\n",
       "    </tr>\n",
       "  </thead>\n",
       "  <tbody>\n",
       "    <tr>\n",
       "      <th>10</th>\n",
       "      <td>2007</td>\n",
       "      <td>2</td>\n",
       "      <td>13.241545</td>\n",
       "    </tr>\n",
       "    <tr>\n",
       "      <th>11</th>\n",
       "      <td>2007</td>\n",
       "      <td>2</td>\n",
       "      <td>11.498611</td>\n",
       "    </tr>\n",
       "    <tr>\n",
       "      <th>12</th>\n",
       "      <td>2007</td>\n",
       "      <td>2</td>\n",
       "      <td>11.691376</td>\n",
       "    </tr>\n",
       "    <tr>\n",
       "      <th>13</th>\n",
       "      <td>2007</td>\n",
       "      <td>2</td>\n",
       "      <td>13.747522</td>\n",
       "    </tr>\n",
       "    <tr>\n",
       "      <th>14</th>\n",
       "      <td>2007</td>\n",
       "      <td>2</td>\n",
       "      <td>15.475158</td>\n",
       "    </tr>\n",
       "    <tr>\n",
       "      <th>15</th>\n",
       "      <td>2007</td>\n",
       "      <td>2</td>\n",
       "      <td>11.834774</td>\n",
       "    </tr>\n",
       "    <tr>\n",
       "      <th>16</th>\n",
       "      <td>2007</td>\n",
       "      <td>2</td>\n",
       "      <td>12.428231</td>\n",
       "    </tr>\n",
       "    <tr>\n",
       "      <th>17</th>\n",
       "      <td>2007</td>\n",
       "      <td>2</td>\n",
       "      <td>11.014235</td>\n",
       "    </tr>\n",
       "    <tr>\n",
       "      <th>18</th>\n",
       "      <td>2007</td>\n",
       "      <td>2</td>\n",
       "      <td>9.592651</td>\n",
       "    </tr>\n",
       "    <tr>\n",
       "      <th>19</th>\n",
       "      <td>2007</td>\n",
       "      <td>2</td>\n",
       "      <td>10.315717</td>\n",
       "    </tr>\n",
       "    <tr>\n",
       "      <th>20</th>\n",
       "      <td>2007</td>\n",
       "      <td>2</td>\n",
       "      <td>10.303981</td>\n",
       "    </tr>\n",
       "  </tbody>\n",
       "</table>\n",
       "</div>"
      ],
      "text/plain": [
       "     ano  quarter     precio\n",
       "10  2007        2  13.241545\n",
       "11  2007        2  11.498611\n",
       "12  2007        2  11.691376\n",
       "13  2007        2  13.747522\n",
       "14  2007        2  15.475158\n",
       "15  2007        2  11.834774\n",
       "16  2007        2  12.428231\n",
       "17  2007        2  11.014235\n",
       "18  2007        2   9.592651\n",
       "19  2007        2  10.315717\n",
       "20  2007        2  10.303981"
      ]
     },
     "execution_count": 15,
     "metadata": {},
     "output_type": "execute_result"
    }
   ],
   "source": [
    "alquiler.iloc[10:21,1:]"
   ]
  },
  {
   "cell_type": "code",
   "execution_count": 16,
   "metadata": {
    "scrolled": true
   },
   "outputs": [
    {
     "data": {
      "text/html": [
       "<div>\n",
       "<style scoped>\n",
       "    .dataframe tbody tr th:only-of-type {\n",
       "        vertical-align: middle;\n",
       "    }\n",
       "\n",
       "    .dataframe tbody tr th {\n",
       "        vertical-align: top;\n",
       "    }\n",
       "\n",
       "    .dataframe thead th {\n",
       "        text-align: right;\n",
       "    }\n",
       "</style>\n",
       "<table border=\"1\" class=\"dataframe\">\n",
       "  <thead>\n",
       "    <tr style=\"text-align: right;\">\n",
       "      <th></th>\n",
       "      <th>distrito</th>\n",
       "      <th>precio</th>\n",
       "    </tr>\n",
       "  </thead>\n",
       "  <tbody>\n",
       "    <tr>\n",
       "      <th>0</th>\n",
       "      <td>Arganzuela</td>\n",
       "      <td>13.066587</td>\n",
       "    </tr>\n",
       "    <tr>\n",
       "      <th>3</th>\n",
       "      <td>Centro</td>\n",
       "      <td>17.746404</td>\n",
       "    </tr>\n",
       "    <tr>\n",
       "      <th>8</th>\n",
       "      <td>Hortaleza</td>\n",
       "      <td>12.520535</td>\n",
       "    </tr>\n",
       "    <tr>\n",
       "      <th>13</th>\n",
       "      <td>Retiro</td>\n",
       "      <td>13.747522</td>\n",
       "    </tr>\n",
       "  </tbody>\n",
       "</table>\n",
       "</div>"
      ],
      "text/plain": [
       "      distrito     precio\n",
       "0   Arganzuela  13.066587\n",
       "3       Centro  17.746404\n",
       "8    Hortaleza  12.520535\n",
       "13      Retiro  13.747522"
      ]
     },
     "execution_count": 16,
     "metadata": {},
     "output_type": "execute_result"
    }
   ],
   "source": [
    "alquiler.iloc[[0,3,8,13], [0,3]]"
   ]
  },
  {
   "cell_type": "markdown",
   "metadata": {},
   "source": [
    "* Selecciona usando `loc` el distrito de la fila 200\n",
    "* Selecciona usando `loc` los precios de las filas de la 20 a la 30\n",
    "* Selecciona usando `loc` las filas donde el distrito sea 'Retiro' para el año 2012\n",
    "* Haz lo mimso que en el último punto sin usar `loc`"
   ]
  },
  {
   "cell_type": "code",
   "execution_count": 56,
   "metadata": {},
   "outputs": [
    {
     "data": {
      "text/plain": [
       "'Moratalaz'"
      ]
     },
     "execution_count": 56,
     "metadata": {},
     "output_type": "execute_result"
    }
   ],
   "source": [
    "alquiler.loc[200]['distrito']"
   ]
  },
  {
   "cell_type": "code",
   "execution_count": 57,
   "metadata": {},
   "outputs": [
    {
     "data": {
      "text/plain": [
       "'Moratalaz'"
      ]
     },
     "execution_count": 57,
     "metadata": {},
     "output_type": "execute_result"
    }
   ],
   "source": [
    "alquiler.loc[200, 'distrito']"
   ]
  },
  {
   "cell_type": "code",
   "execution_count": 17,
   "metadata": {},
   "outputs": [
    {
     "data": {
      "text/plain": [
       "distrito    Moratalaz\n",
       "Name: 200, dtype: object"
      ]
     },
     "execution_count": 17,
     "metadata": {},
     "output_type": "execute_result"
    }
   ],
   "source": [
    "alquiler.loc[200,['distrito']]"
   ]
  },
  {
   "cell_type": "code",
   "execution_count": 15,
   "metadata": {},
   "outputs": [
    {
     "data": {
      "text/html": [
       "<div>\n",
       "<style scoped>\n",
       "    .dataframe tbody tr th:only-of-type {\n",
       "        vertical-align: middle;\n",
       "    }\n",
       "\n",
       "    .dataframe tbody tr th {\n",
       "        vertical-align: top;\n",
       "    }\n",
       "\n",
       "    .dataframe thead th {\n",
       "        text-align: right;\n",
       "    }\n",
       "</style>\n",
       "<table border=\"1\" class=\"dataframe\">\n",
       "  <thead>\n",
       "    <tr style=\"text-align: right;\">\n",
       "      <th></th>\n",
       "      <th>precio</th>\n",
       "    </tr>\n",
       "  </thead>\n",
       "  <tbody>\n",
       "    <tr>\n",
       "      <th>20</th>\n",
       "      <td>10.303981</td>\n",
       "    </tr>\n",
       "    <tr>\n",
       "      <th>21</th>\n",
       "      <td>13.999737</td>\n",
       "    </tr>\n",
       "    <tr>\n",
       "      <th>22</th>\n",
       "      <td>11.958242</td>\n",
       "    </tr>\n",
       "    <tr>\n",
       "      <th>23</th>\n",
       "      <td>12.160093</td>\n",
       "    </tr>\n",
       "    <tr>\n",
       "      <th>24</th>\n",
       "      <td>18.044594</td>\n",
       "    </tr>\n",
       "    <tr>\n",
       "      <th>25</th>\n",
       "      <td>14.683947</td>\n",
       "    </tr>\n",
       "    <tr>\n",
       "      <th>26</th>\n",
       "      <td>16.098221</td>\n",
       "    </tr>\n",
       "    <tr>\n",
       "      <th>27</th>\n",
       "      <td>12.938475</td>\n",
       "    </tr>\n",
       "    <tr>\n",
       "      <th>28</th>\n",
       "      <td>10.937967</td>\n",
       "    </tr>\n",
       "    <tr>\n",
       "      <th>29</th>\n",
       "      <td>12.906404</td>\n",
       "    </tr>\n",
       "    <tr>\n",
       "      <th>30</th>\n",
       "      <td>11.655067</td>\n",
       "    </tr>\n",
       "  </tbody>\n",
       "</table>\n",
       "</div>"
      ],
      "text/plain": [
       "       precio\n",
       "20  10.303981\n",
       "21  13.999737\n",
       "22  11.958242\n",
       "23  12.160093\n",
       "24  18.044594\n",
       "25  14.683947\n",
       "26  16.098221\n",
       "27  12.938475\n",
       "28  10.937967\n",
       "29  12.906404\n",
       "30  11.655067"
      ]
     },
     "execution_count": 15,
     "metadata": {},
     "output_type": "execute_result"
    }
   ],
   "source": [
    "alquiler.loc[20:30,['precio']]"
   ]
  },
  {
   "cell_type": "markdown",
   "metadata": {},
   "source": [
    "Antes de seguir, obsérvese la diferencia entre poner el nombre de columna entre corchetes y no hacerlo:"
   ]
  },
  {
   "cell_type": "code",
   "execution_count": 16,
   "metadata": {},
   "outputs": [
    {
     "data": {
      "text/plain": [
       "20    10.303981\n",
       "21    13.999737\n",
       "22    11.958242\n",
       "23    12.160093\n",
       "24    18.044594\n",
       "25    14.683947\n",
       "26    16.098221\n",
       "27    12.938475\n",
       "28    10.937967\n",
       "29    12.906404\n",
       "30    11.655067\n",
       "Name: precio, dtype: float64"
      ]
     },
     "execution_count": 16,
     "metadata": {},
     "output_type": "execute_result"
    }
   ],
   "source": [
    "alquiler.loc[20:30,'precio']"
   ]
  },
  {
   "cell_type": "markdown",
   "metadata": {},
   "source": [
    "Sigamos pues:"
   ]
  },
  {
   "cell_type": "code",
   "execution_count": 79,
   "metadata": {
    "scrolled": false
   },
   "outputs": [
    {
     "data": {
      "text/plain": [
       "pandas.core.series.Series"
      ]
     },
     "execution_count": 79,
     "metadata": {},
     "output_type": "execute_result"
    }
   ],
   "source": [
    "type(alquiler.ano == 2012) "
   ]
  },
  {
   "cell_type": "code",
   "execution_count": 81,
   "metadata": {},
   "outputs": [
    {
     "data": {
      "text/plain": [
       "pandas.core.series.Series"
      ]
     },
     "execution_count": 81,
     "metadata": {},
     "output_type": "execute_result"
    }
   ],
   "source": [
    "type(alquiler['ano'] == 2012) # Ambas expresiones son equivalentes."
   ]
  },
  {
   "cell_type": "code",
   "execution_count": 76,
   "metadata": {
    "scrolled": false
   },
   "outputs": [
    {
     "data": {
      "text/html": [
       "<div>\n",
       "<style scoped>\n",
       "    .dataframe tbody tr th:only-of-type {\n",
       "        vertical-align: middle;\n",
       "    }\n",
       "\n",
       "    .dataframe tbody tr th {\n",
       "        vertical-align: top;\n",
       "    }\n",
       "\n",
       "    .dataframe thead th {\n",
       "        text-align: right;\n",
       "    }\n",
       "</style>\n",
       "<table border=\"1\" class=\"dataframe\">\n",
       "  <thead>\n",
       "    <tr style=\"text-align: right;\">\n",
       "      <th></th>\n",
       "      <th>distrito</th>\n",
       "      <th>ano</th>\n",
       "      <th>quarter</th>\n",
       "      <th>precio</th>\n",
       "    </tr>\n",
       "  </thead>\n",
       "  <tbody>\n",
       "    <tr>\n",
       "      <th>307</th>\n",
       "      <td>Retiro</td>\n",
       "      <td>2012</td>\n",
       "      <td>1</td>\n",
       "      <td>12.601891</td>\n",
       "    </tr>\n",
       "    <tr>\n",
       "      <th>328</th>\n",
       "      <td>Retiro</td>\n",
       "      <td>2012</td>\n",
       "      <td>2</td>\n",
       "      <td>12.363832</td>\n",
       "    </tr>\n",
       "    <tr>\n",
       "      <th>349</th>\n",
       "      <td>Retiro</td>\n",
       "      <td>2012</td>\n",
       "      <td>3</td>\n",
       "      <td>12.167435</td>\n",
       "    </tr>\n",
       "    <tr>\n",
       "      <th>370</th>\n",
       "      <td>Retiro</td>\n",
       "      <td>2012</td>\n",
       "      <td>4</td>\n",
       "      <td>11.951317</td>\n",
       "    </tr>\n",
       "  </tbody>\n",
       "</table>\n",
       "</div>"
      ],
      "text/plain": [
       "    distrito   ano  quarter     precio\n",
       "307   Retiro  2012        1  12.601891\n",
       "328   Retiro  2012        2  12.363832\n",
       "349   Retiro  2012        3  12.167435\n",
       "370   Retiro  2012        4  11.951317"
      ]
     },
     "execution_count": 76,
     "metadata": {},
     "output_type": "execute_result"
    }
   ],
   "source": [
    "\n",
    "alquiler.loc[(alquiler['distrito'] == 'Retiro') & (alquiler.ano == 2012)]"
   ]
  },
  {
   "cell_type": "code",
   "execution_count": 13,
   "metadata": {
    "scrolled": true
   },
   "outputs": [
    {
     "data": {
      "text/html": [
       "<div>\n",
       "<style scoped>\n",
       "    .dataframe tbody tr th:only-of-type {\n",
       "        vertical-align: middle;\n",
       "    }\n",
       "\n",
       "    .dataframe tbody tr th {\n",
       "        vertical-align: top;\n",
       "    }\n",
       "\n",
       "    .dataframe thead th {\n",
       "        text-align: right;\n",
       "    }\n",
       "</style>\n",
       "<table border=\"1\" class=\"dataframe\">\n",
       "  <thead>\n",
       "    <tr style=\"text-align: right;\">\n",
       "      <th></th>\n",
       "      <th>distrito</th>\n",
       "      <th>ano</th>\n",
       "      <th>quarter</th>\n",
       "      <th>precio</th>\n",
       "    </tr>\n",
       "  </thead>\n",
       "  <tbody>\n",
       "    <tr>\n",
       "      <th>307</th>\n",
       "      <td>Retiro</td>\n",
       "      <td>2012</td>\n",
       "      <td>1</td>\n",
       "      <td>12.601891</td>\n",
       "    </tr>\n",
       "    <tr>\n",
       "      <th>328</th>\n",
       "      <td>Retiro</td>\n",
       "      <td>2012</td>\n",
       "      <td>2</td>\n",
       "      <td>12.363832</td>\n",
       "    </tr>\n",
       "    <tr>\n",
       "      <th>349</th>\n",
       "      <td>Retiro</td>\n",
       "      <td>2012</td>\n",
       "      <td>3</td>\n",
       "      <td>12.167435</td>\n",
       "    </tr>\n",
       "    <tr>\n",
       "      <th>370</th>\n",
       "      <td>Retiro</td>\n",
       "      <td>2012</td>\n",
       "      <td>4</td>\n",
       "      <td>11.951317</td>\n",
       "    </tr>\n",
       "  </tbody>\n",
       "</table>\n",
       "</div>"
      ],
      "text/plain": [
       "    distrito   ano  quarter     precio\n",
       "307   Retiro  2012        1  12.601891\n",
       "328   Retiro  2012        2  12.363832\n",
       "349   Retiro  2012        3  12.167435\n",
       "370   Retiro  2012        4  11.951317"
      ]
     },
     "execution_count": 13,
     "metadata": {},
     "output_type": "execute_result"
    }
   ],
   "source": [
    "alquiler.loc[(alquiler['distrito'] == 'Retiro') & (alquiler['ano'] == 2012)] # Otra forma igual de válida."
   ]
  },
  {
   "cell_type": "markdown",
   "metadata": {},
   "source": [
    "Otra forma, un pelín más complicada pero con el mismo resultado:"
   ]
  },
  {
   "cell_type": "code",
   "execution_count": 37,
   "metadata": {
    "scrolled": true
   },
   "outputs": [
    {
     "data": {
      "text/html": [
       "<div>\n",
       "<style scoped>\n",
       "    .dataframe tbody tr th:only-of-type {\n",
       "        vertical-align: middle;\n",
       "    }\n",
       "\n",
       "    .dataframe tbody tr th {\n",
       "        vertical-align: top;\n",
       "    }\n",
       "\n",
       "    .dataframe thead th {\n",
       "        text-align: right;\n",
       "    }\n",
       "</style>\n",
       "<table border=\"1\" class=\"dataframe\">\n",
       "  <thead>\n",
       "    <tr style=\"text-align: right;\">\n",
       "      <th></th>\n",
       "      <th>distrito</th>\n",
       "      <th>ano</th>\n",
       "      <th>quarter</th>\n",
       "      <th>precio</th>\n",
       "      <th>precio_90_metros</th>\n",
       "      <th>ano_quarter</th>\n",
       "    </tr>\n",
       "  </thead>\n",
       "  <tbody>\n",
       "    <tr>\n",
       "      <th>307</th>\n",
       "      <td>Retiro</td>\n",
       "      <td>2012</td>\n",
       "      <td>1</td>\n",
       "      <td>12.601891</td>\n",
       "      <td>1134.170217</td>\n",
       "      <td>2012.Quarter:1</td>\n",
       "    </tr>\n",
       "    <tr>\n",
       "      <th>328</th>\n",
       "      <td>Retiro</td>\n",
       "      <td>2012</td>\n",
       "      <td>2</td>\n",
       "      <td>12.363832</td>\n",
       "      <td>1112.744890</td>\n",
       "      <td>2012.Quarter:2</td>\n",
       "    </tr>\n",
       "    <tr>\n",
       "      <th>349</th>\n",
       "      <td>Retiro</td>\n",
       "      <td>2012</td>\n",
       "      <td>3</td>\n",
       "      <td>12.167435</td>\n",
       "      <td>1095.069135</td>\n",
       "      <td>2012.Quarter:3</td>\n",
       "    </tr>\n",
       "    <tr>\n",
       "      <th>370</th>\n",
       "      <td>Retiro</td>\n",
       "      <td>2012</td>\n",
       "      <td>4</td>\n",
       "      <td>11.951317</td>\n",
       "      <td>1075.618564</td>\n",
       "      <td>2012.Quarter:4</td>\n",
       "    </tr>\n",
       "  </tbody>\n",
       "</table>\n",
       "</div>"
      ],
      "text/plain": [
       "    distrito   ano  quarter     precio  precio_90_metros     ano_quarter\n",
       "307   Retiro  2012        1  12.601891       1134.170217  2012.Quarter:1\n",
       "328   Retiro  2012        2  12.363832       1112.744890  2012.Quarter:2\n",
       "349   Retiro  2012        3  12.167435       1095.069135  2012.Quarter:3\n",
       "370   Retiro  2012        4  11.951317       1075.618564  2012.Quarter:4"
      ]
     },
     "execution_count": 37,
     "metadata": {},
     "output_type": "execute_result"
    }
   ],
   "source": [
    "alquiler[(alquiler.loc[:, 'distrito'] == 'Retiro')&(alquiler.loc[:, 'ano'] == 2012)]"
   ]
  },
  {
   "cell_type": "markdown",
   "metadata": {},
   "source": [
    "Si les quitas los loc al primero también funciona:"
   ]
  },
  {
   "cell_type": "code",
   "execution_count": 20,
   "metadata": {},
   "outputs": [
    {
     "data": {
      "text/html": [
       "<div>\n",
       "<style scoped>\n",
       "    .dataframe tbody tr th:only-of-type {\n",
       "        vertical-align: middle;\n",
       "    }\n",
       "\n",
       "    .dataframe tbody tr th {\n",
       "        vertical-align: top;\n",
       "    }\n",
       "\n",
       "    .dataframe thead th {\n",
       "        text-align: right;\n",
       "    }\n",
       "</style>\n",
       "<table border=\"1\" class=\"dataframe\">\n",
       "  <thead>\n",
       "    <tr style=\"text-align: right;\">\n",
       "      <th></th>\n",
       "      <th>distrito</th>\n",
       "      <th>ano</th>\n",
       "      <th>quarter</th>\n",
       "      <th>precio</th>\n",
       "    </tr>\n",
       "  </thead>\n",
       "  <tbody>\n",
       "    <tr>\n",
       "      <th>307</th>\n",
       "      <td>Retiro</td>\n",
       "      <td>2012</td>\n",
       "      <td>1</td>\n",
       "      <td>12.601891</td>\n",
       "    </tr>\n",
       "    <tr>\n",
       "      <th>328</th>\n",
       "      <td>Retiro</td>\n",
       "      <td>2012</td>\n",
       "      <td>2</td>\n",
       "      <td>12.363832</td>\n",
       "    </tr>\n",
       "    <tr>\n",
       "      <th>349</th>\n",
       "      <td>Retiro</td>\n",
       "      <td>2012</td>\n",
       "      <td>3</td>\n",
       "      <td>12.167435</td>\n",
       "    </tr>\n",
       "    <tr>\n",
       "      <th>370</th>\n",
       "      <td>Retiro</td>\n",
       "      <td>2012</td>\n",
       "      <td>4</td>\n",
       "      <td>11.951317</td>\n",
       "    </tr>\n",
       "  </tbody>\n",
       "</table>\n",
       "</div>"
      ],
      "text/plain": [
       "    distrito   ano  quarter     precio\n",
       "307   Retiro  2012        1  12.601891\n",
       "328   Retiro  2012        2  12.363832\n",
       "349   Retiro  2012        3  12.167435\n",
       "370   Retiro  2012        4  11.951317"
      ]
     },
     "execution_count": 20,
     "metadata": {},
     "output_type": "execute_result"
    }
   ],
   "source": [
    "alquiler[(alquiler['distrito'] == 'Retiro') & (alquiler['ano'] == 2012)]"
   ]
  },
  {
   "cell_type": "markdown",
   "metadata": {},
   "source": [
    "## Ordenación\n",
    "\n",
    "Podemos ordenar un DataFrame por una o varias columnas, de forma ascendente o descendente, con [`sort_values`](https://pandas.pydata.org/pandas-docs/stable/generated/pandas.DataFrame.sort_values.html)"
   ]
  },
  {
   "cell_type": "markdown",
   "metadata": {},
   "source": [
    "* Extrae de mayor a menor por precio las filas de la tabla para Tetuán a partir del año 2017\n",
    "* Ordena el dataframe alfabéticamente por distrito y cronológicamente (de más antiguo a más reciente)"
   ]
  },
  {
   "cell_type": "code",
   "execution_count": 97,
   "metadata": {},
   "outputs": [
    {
     "data": {
      "text/html": [
       "<div>\n",
       "<style scoped>\n",
       "    .dataframe tbody tr th:only-of-type {\n",
       "        vertical-align: middle;\n",
       "    }\n",
       "\n",
       "    .dataframe tbody tr th {\n",
       "        vertical-align: top;\n",
       "    }\n",
       "\n",
       "    .dataframe thead th {\n",
       "        text-align: right;\n",
       "    }\n",
       "</style>\n",
       "<table border=\"1\" class=\"dataframe\">\n",
       "  <thead>\n",
       "    <tr style=\"text-align: right;\">\n",
       "      <th></th>\n",
       "      <th>distrito</th>\n",
       "      <th>ano</th>\n",
       "      <th>quarter</th>\n",
       "      <th>precio</th>\n",
       "    </tr>\n",
       "  </thead>\n",
       "  <tbody>\n",
       "    <tr>\n",
       "      <th>793</th>\n",
       "      <td>Tetuan</td>\n",
       "      <td>2017</td>\n",
       "      <td>4</td>\n",
       "      <td>15.332326</td>\n",
       "    </tr>\n",
       "    <tr>\n",
       "      <th>835</th>\n",
       "      <td>Tetuan</td>\n",
       "      <td>2018</td>\n",
       "      <td>2</td>\n",
       "      <td>15.114558</td>\n",
       "    </tr>\n",
       "    <tr>\n",
       "      <th>814</th>\n",
       "      <td>Tetuan</td>\n",
       "      <td>2018</td>\n",
       "      <td>1</td>\n",
       "      <td>15.070236</td>\n",
       "    </tr>\n",
       "    <tr>\n",
       "      <th>772</th>\n",
       "      <td>Tetuan</td>\n",
       "      <td>2017</td>\n",
       "      <td>3</td>\n",
       "      <td>14.949865</td>\n",
       "    </tr>\n",
       "    <tr>\n",
       "      <th>730</th>\n",
       "      <td>Tetuan</td>\n",
       "      <td>2017</td>\n",
       "      <td>1</td>\n",
       "      <td>14.528777</td>\n",
       "    </tr>\n",
       "    <tr>\n",
       "      <th>751</th>\n",
       "      <td>Tetuan</td>\n",
       "      <td>2017</td>\n",
       "      <td>2</td>\n",
       "      <td>14.152455</td>\n",
       "    </tr>\n",
       "  </tbody>\n",
       "</table>\n",
       "</div>"
      ],
      "text/plain": [
       "    distrito   ano  quarter     precio\n",
       "793   Tetuan  2017        4  15.332326\n",
       "835   Tetuan  2018        2  15.114558\n",
       "814   Tetuan  2018        1  15.070236\n",
       "772   Tetuan  2017        3  14.949865\n",
       "730   Tetuan  2017        1  14.528777\n",
       "751   Tetuan  2017        2  14.152455"
      ]
     },
     "execution_count": 97,
     "metadata": {},
     "output_type": "execute_result"
    }
   ],
   "source": [
    "alquiler[(alquiler.distrito == 'Tetuan') & (alquiler.ano >= 2017)].sort_values('precio', ascending=False) # Versión óptima."
   ]
  },
  {
   "cell_type": "code",
   "execution_count": 40,
   "metadata": {
    "scrolled": true
   },
   "outputs": [
    {
     "name": "stderr",
     "output_type": "stream",
     "text": [
      "<ipython-input-40-9aaa6fcdc83d>:1: UserWarning: Boolean Series key will be reindexed to match DataFrame index.\n",
      "  alquiler.sort_values('precio', ascending = False)[(alquiler['ano'] >= 2017) & (alquiler['distrito'] == 'Tetuan')]\n"
     ]
    },
    {
     "data": {
      "text/html": [
       "<div>\n",
       "<style scoped>\n",
       "    .dataframe tbody tr th:only-of-type {\n",
       "        vertical-align: middle;\n",
       "    }\n",
       "\n",
       "    .dataframe tbody tr th {\n",
       "        vertical-align: top;\n",
       "    }\n",
       "\n",
       "    .dataframe thead th {\n",
       "        text-align: right;\n",
       "    }\n",
       "</style>\n",
       "<table border=\"1\" class=\"dataframe\">\n",
       "  <thead>\n",
       "    <tr style=\"text-align: right;\">\n",
       "      <th></th>\n",
       "      <th>distrito</th>\n",
       "      <th>ano</th>\n",
       "      <th>quarter</th>\n",
       "      <th>precio</th>\n",
       "      <th>precio_90_metros</th>\n",
       "      <th>ano_quarter</th>\n",
       "    </tr>\n",
       "  </thead>\n",
       "  <tbody>\n",
       "    <tr>\n",
       "      <th>793</th>\n",
       "      <td>Tetuan</td>\n",
       "      <td>2017</td>\n",
       "      <td>4</td>\n",
       "      <td>15.332326</td>\n",
       "      <td>1379.909366</td>\n",
       "      <td>2017.Quarter:4</td>\n",
       "    </tr>\n",
       "    <tr>\n",
       "      <th>835</th>\n",
       "      <td>Tetuan</td>\n",
       "      <td>2018</td>\n",
       "      <td>2</td>\n",
       "      <td>15.114558</td>\n",
       "      <td>1360.310221</td>\n",
       "      <td>2018.Quarter:2</td>\n",
       "    </tr>\n",
       "    <tr>\n",
       "      <th>814</th>\n",
       "      <td>Tetuan</td>\n",
       "      <td>2018</td>\n",
       "      <td>1</td>\n",
       "      <td>15.070236</td>\n",
       "      <td>1356.321240</td>\n",
       "      <td>2018.Quarter:1</td>\n",
       "    </tr>\n",
       "    <tr>\n",
       "      <th>772</th>\n",
       "      <td>Tetuan</td>\n",
       "      <td>2017</td>\n",
       "      <td>3</td>\n",
       "      <td>14.949865</td>\n",
       "      <td>1345.487805</td>\n",
       "      <td>2017.Quarter:3</td>\n",
       "    </tr>\n",
       "    <tr>\n",
       "      <th>730</th>\n",
       "      <td>Tetuan</td>\n",
       "      <td>2017</td>\n",
       "      <td>1</td>\n",
       "      <td>14.528777</td>\n",
       "      <td>1307.589941</td>\n",
       "      <td>2017.Quarter:1</td>\n",
       "    </tr>\n",
       "    <tr>\n",
       "      <th>751</th>\n",
       "      <td>Tetuan</td>\n",
       "      <td>2017</td>\n",
       "      <td>2</td>\n",
       "      <td>14.152455</td>\n",
       "      <td>1273.720911</td>\n",
       "      <td>2017.Quarter:2</td>\n",
       "    </tr>\n",
       "  </tbody>\n",
       "</table>\n",
       "</div>"
      ],
      "text/plain": [
       "    distrito   ano  quarter     precio  precio_90_metros     ano_quarter\n",
       "793   Tetuan  2017        4  15.332326       1379.909366  2017.Quarter:4\n",
       "835   Tetuan  2018        2  15.114558       1360.310221  2018.Quarter:2\n",
       "814   Tetuan  2018        1  15.070236       1356.321240  2018.Quarter:1\n",
       "772   Tetuan  2017        3  14.949865       1345.487805  2017.Quarter:3\n",
       "730   Tetuan  2017        1  14.528777       1307.589941  2017.Quarter:1\n",
       "751   Tetuan  2017        2  14.152455       1273.720911  2017.Quarter:2"
      ]
     },
     "execution_count": 40,
     "metadata": {},
     "output_type": "execute_result"
    }
   ],
   "source": [
    "alquiler.sort_values('precio', ascending = False)[(alquiler['ano'] >= 2017) & (alquiler['distrito'] == 'Tetuan')] # Versión lenta."
   ]
  },
  {
   "cell_type": "markdown",
   "metadata": {},
   "source": [
    "Otra forma, más eficiente pero menos legible (filtrar primero para no tener luego que ordenar todas las filas, sino solo las filtradas):"
   ]
  },
  {
   "cell_type": "code",
   "execution_count": 41,
   "metadata": {},
   "outputs": [
    {
     "data": {
      "text/html": [
       "<div>\n",
       "<style scoped>\n",
       "    .dataframe tbody tr th:only-of-type {\n",
       "        vertical-align: middle;\n",
       "    }\n",
       "\n",
       "    .dataframe tbody tr th {\n",
       "        vertical-align: top;\n",
       "    }\n",
       "\n",
       "    .dataframe thead th {\n",
       "        text-align: right;\n",
       "    }\n",
       "</style>\n",
       "<table border=\"1\" class=\"dataframe\">\n",
       "  <thead>\n",
       "    <tr style=\"text-align: right;\">\n",
       "      <th></th>\n",
       "      <th>distrito</th>\n",
       "      <th>ano</th>\n",
       "      <th>quarter</th>\n",
       "      <th>precio</th>\n",
       "      <th>precio_90_metros</th>\n",
       "      <th>ano_quarter</th>\n",
       "    </tr>\n",
       "  </thead>\n",
       "  <tbody>\n",
       "    <tr>\n",
       "      <th>793</th>\n",
       "      <td>Tetuan</td>\n",
       "      <td>2017</td>\n",
       "      <td>4</td>\n",
       "      <td>15.332326</td>\n",
       "      <td>1379.909366</td>\n",
       "      <td>2017.Quarter:4</td>\n",
       "    </tr>\n",
       "    <tr>\n",
       "      <th>835</th>\n",
       "      <td>Tetuan</td>\n",
       "      <td>2018</td>\n",
       "      <td>2</td>\n",
       "      <td>15.114558</td>\n",
       "      <td>1360.310221</td>\n",
       "      <td>2018.Quarter:2</td>\n",
       "    </tr>\n",
       "    <tr>\n",
       "      <th>814</th>\n",
       "      <td>Tetuan</td>\n",
       "      <td>2018</td>\n",
       "      <td>1</td>\n",
       "      <td>15.070236</td>\n",
       "      <td>1356.321240</td>\n",
       "      <td>2018.Quarter:1</td>\n",
       "    </tr>\n",
       "    <tr>\n",
       "      <th>772</th>\n",
       "      <td>Tetuan</td>\n",
       "      <td>2017</td>\n",
       "      <td>3</td>\n",
       "      <td>14.949865</td>\n",
       "      <td>1345.487805</td>\n",
       "      <td>2017.Quarter:3</td>\n",
       "    </tr>\n",
       "    <tr>\n",
       "      <th>730</th>\n",
       "      <td>Tetuan</td>\n",
       "      <td>2017</td>\n",
       "      <td>1</td>\n",
       "      <td>14.528777</td>\n",
       "      <td>1307.589941</td>\n",
       "      <td>2017.Quarter:1</td>\n",
       "    </tr>\n",
       "    <tr>\n",
       "      <th>751</th>\n",
       "      <td>Tetuan</td>\n",
       "      <td>2017</td>\n",
       "      <td>2</td>\n",
       "      <td>14.152455</td>\n",
       "      <td>1273.720911</td>\n",
       "      <td>2017.Quarter:2</td>\n",
       "    </tr>\n",
       "  </tbody>\n",
       "</table>\n",
       "</div>"
      ],
      "text/plain": [
       "    distrito   ano  quarter     precio  precio_90_metros     ano_quarter\n",
       "793   Tetuan  2017        4  15.332326       1379.909366  2017.Quarter:4\n",
       "835   Tetuan  2018        2  15.114558       1360.310221  2018.Quarter:2\n",
       "814   Tetuan  2018        1  15.070236       1356.321240  2018.Quarter:1\n",
       "772   Tetuan  2017        3  14.949865       1345.487805  2017.Quarter:3\n",
       "730   Tetuan  2017        1  14.528777       1307.589941  2017.Quarter:1\n",
       "751   Tetuan  2017        2  14.152455       1273.720911  2017.Quarter:2"
      ]
     },
     "execution_count": 41,
     "metadata": {},
     "output_type": "execute_result"
    }
   ],
   "source": [
    "alquiler[(alquiler['ano'] >= 2017) & (alquiler['distrito'] == 'Tetuan')].sort_values('precio', ascending = False)"
   ]
  },
  {
   "cell_type": "code",
   "execution_count": 102,
   "metadata": {
    "scrolled": false
   },
   "outputs": [
    {
     "data": {
      "text/html": [
       "<div>\n",
       "<style scoped>\n",
       "    .dataframe tbody tr th:only-of-type {\n",
       "        vertical-align: middle;\n",
       "    }\n",
       "\n",
       "    .dataframe tbody tr th {\n",
       "        vertical-align: top;\n",
       "    }\n",
       "\n",
       "    .dataframe thead th {\n",
       "        text-align: right;\n",
       "    }\n",
       "</style>\n",
       "<table border=\"1\" class=\"dataframe\">\n",
       "  <thead>\n",
       "    <tr style=\"text-align: right;\">\n",
       "      <th></th>\n",
       "      <th>distrito</th>\n",
       "      <th>ano</th>\n",
       "      <th>quarter</th>\n",
       "      <th>precio</th>\n",
       "    </tr>\n",
       "  </thead>\n",
       "  <tbody>\n",
       "    <tr>\n",
       "      <th>0</th>\n",
       "      <td>Arganzuela</td>\n",
       "      <td>2007</td>\n",
       "      <td>2</td>\n",
       "      <td>13.066587</td>\n",
       "    </tr>\n",
       "    <tr>\n",
       "      <th>21</th>\n",
       "      <td>Arganzuela</td>\n",
       "      <td>2007</td>\n",
       "      <td>4</td>\n",
       "      <td>13.999737</td>\n",
       "    </tr>\n",
       "    <tr>\n",
       "      <th>42</th>\n",
       "      <td>Arganzuela</td>\n",
       "      <td>2008</td>\n",
       "      <td>2</td>\n",
       "      <td>13.567225</td>\n",
       "    </tr>\n",
       "    <tr>\n",
       "      <th>63</th>\n",
       "      <td>Arganzuela</td>\n",
       "      <td>2008</td>\n",
       "      <td>4</td>\n",
       "      <td>13.193953</td>\n",
       "    </tr>\n",
       "    <tr>\n",
       "      <th>84</th>\n",
       "      <td>Arganzuela</td>\n",
       "      <td>2009</td>\n",
       "      <td>2</td>\n",
       "      <td>12.710960</td>\n",
       "    </tr>\n",
       "    <tr>\n",
       "      <th>...</th>\n",
       "      <td>...</td>\n",
       "      <td>...</td>\n",
       "      <td>...</td>\n",
       "      <td>...</td>\n",
       "    </tr>\n",
       "    <tr>\n",
       "      <th>755</th>\n",
       "      <td>Villaverde</td>\n",
       "      <td>2017</td>\n",
       "      <td>2</td>\n",
       "      <td>9.537615</td>\n",
       "    </tr>\n",
       "    <tr>\n",
       "      <th>776</th>\n",
       "      <td>Villaverde</td>\n",
       "      <td>2017</td>\n",
       "      <td>3</td>\n",
       "      <td>9.980975</td>\n",
       "    </tr>\n",
       "    <tr>\n",
       "      <th>797</th>\n",
       "      <td>Villaverde</td>\n",
       "      <td>2017</td>\n",
       "      <td>4</td>\n",
       "      <td>10.296415</td>\n",
       "    </tr>\n",
       "    <tr>\n",
       "      <th>818</th>\n",
       "      <td>Villaverde</td>\n",
       "      <td>2018</td>\n",
       "      <td>1</td>\n",
       "      <td>10.230638</td>\n",
       "    </tr>\n",
       "    <tr>\n",
       "      <th>839</th>\n",
       "      <td>Villaverde</td>\n",
       "      <td>2018</td>\n",
       "      <td>2</td>\n",
       "      <td>10.427527</td>\n",
       "    </tr>\n",
       "  </tbody>\n",
       "</table>\n",
       "<p>840 rows × 4 columns</p>\n",
       "</div>"
      ],
      "text/plain": [
       "       distrito   ano  quarter     precio\n",
       "0    Arganzuela  2007        2  13.066587\n",
       "21   Arganzuela  2007        4  13.999737\n",
       "42   Arganzuela  2008        2  13.567225\n",
       "63   Arganzuela  2008        4  13.193953\n",
       "84   Arganzuela  2009        2  12.710960\n",
       "..          ...   ...      ...        ...\n",
       "755  Villaverde  2017        2   9.537615\n",
       "776  Villaverde  2017        3   9.980975\n",
       "797  Villaverde  2017        4  10.296415\n",
       "818  Villaverde  2018        1  10.230638\n",
       "839  Villaverde  2018        2  10.427527\n",
       "\n",
       "[840 rows x 4 columns]"
      ]
     },
     "execution_count": 102,
     "metadata": {},
     "output_type": "execute_result"
    }
   ],
   "source": [
    "alquiler.sort_values(['distrito', 'ano','quarter'], ascending= [5,3,1]) \n",
    "# Obsérvese que los nºs distintos de 0 son interpretados como True y 0 sería interpretado como False."
   ]
  },
  {
   "cell_type": "code",
   "execution_count": 44,
   "metadata": {
    "scrolled": true
   },
   "outputs": [
    {
     "data": {
      "text/html": [
       "<div>\n",
       "<style scoped>\n",
       "    .dataframe tbody tr th:only-of-type {\n",
       "        vertical-align: middle;\n",
       "    }\n",
       "\n",
       "    .dataframe tbody tr th {\n",
       "        vertical-align: top;\n",
       "    }\n",
       "\n",
       "    .dataframe thead th {\n",
       "        text-align: right;\n",
       "    }\n",
       "</style>\n",
       "<table border=\"1\" class=\"dataframe\">\n",
       "  <thead>\n",
       "    <tr style=\"text-align: right;\">\n",
       "      <th></th>\n",
       "      <th>distrito</th>\n",
       "      <th>ano</th>\n",
       "      <th>quarter</th>\n",
       "      <th>precio</th>\n",
       "      <th>precio_90_metros</th>\n",
       "      <th>ano_quarter</th>\n",
       "    </tr>\n",
       "  </thead>\n",
       "  <tbody>\n",
       "    <tr>\n",
       "      <th>0</th>\n",
       "      <td>Arganzuela</td>\n",
       "      <td>2007</td>\n",
       "      <td>2</td>\n",
       "      <td>13.066587</td>\n",
       "      <td>1175.992857</td>\n",
       "      <td>2007.Quarter:2</td>\n",
       "    </tr>\n",
       "    <tr>\n",
       "      <th>21</th>\n",
       "      <td>Arganzuela</td>\n",
       "      <td>2007</td>\n",
       "      <td>4</td>\n",
       "      <td>13.999737</td>\n",
       "      <td>1259.976356</td>\n",
       "      <td>2007.Quarter:4</td>\n",
       "    </tr>\n",
       "    <tr>\n",
       "      <th>42</th>\n",
       "      <td>Arganzuela</td>\n",
       "      <td>2008</td>\n",
       "      <td>2</td>\n",
       "      <td>13.567225</td>\n",
       "      <td>1221.050269</td>\n",
       "      <td>2008.Quarter:2</td>\n",
       "    </tr>\n",
       "    <tr>\n",
       "      <th>63</th>\n",
       "      <td>Arganzuela</td>\n",
       "      <td>2008</td>\n",
       "      <td>4</td>\n",
       "      <td>13.193953</td>\n",
       "      <td>1187.455765</td>\n",
       "      <td>2008.Quarter:4</td>\n",
       "    </tr>\n",
       "    <tr>\n",
       "      <th>84</th>\n",
       "      <td>Arganzuela</td>\n",
       "      <td>2009</td>\n",
       "      <td>2</td>\n",
       "      <td>12.710960</td>\n",
       "      <td>1143.986414</td>\n",
       "      <td>2009.Quarter:2</td>\n",
       "    </tr>\n",
       "    <tr>\n",
       "      <th>...</th>\n",
       "      <td>...</td>\n",
       "      <td>...</td>\n",
       "      <td>...</td>\n",
       "      <td>...</td>\n",
       "      <td>...</td>\n",
       "      <td>...</td>\n",
       "    </tr>\n",
       "    <tr>\n",
       "      <th>755</th>\n",
       "      <td>Villaverde</td>\n",
       "      <td>2017</td>\n",
       "      <td>2</td>\n",
       "      <td>9.537615</td>\n",
       "      <td>858.385308</td>\n",
       "      <td>2017.Quarter:2</td>\n",
       "    </tr>\n",
       "    <tr>\n",
       "      <th>776</th>\n",
       "      <td>Villaverde</td>\n",
       "      <td>2017</td>\n",
       "      <td>3</td>\n",
       "      <td>9.980975</td>\n",
       "      <td>898.287705</td>\n",
       "      <td>2017.Quarter:3</td>\n",
       "    </tr>\n",
       "    <tr>\n",
       "      <th>797</th>\n",
       "      <td>Villaverde</td>\n",
       "      <td>2017</td>\n",
       "      <td>4</td>\n",
       "      <td>10.296415</td>\n",
       "      <td>926.677319</td>\n",
       "      <td>2017.Quarter:4</td>\n",
       "    </tr>\n",
       "    <tr>\n",
       "      <th>818</th>\n",
       "      <td>Villaverde</td>\n",
       "      <td>2018</td>\n",
       "      <td>1</td>\n",
       "      <td>10.230638</td>\n",
       "      <td>920.757406</td>\n",
       "      <td>2018.Quarter:1</td>\n",
       "    </tr>\n",
       "    <tr>\n",
       "      <th>839</th>\n",
       "      <td>Villaverde</td>\n",
       "      <td>2018</td>\n",
       "      <td>2</td>\n",
       "      <td>10.427527</td>\n",
       "      <td>938.477398</td>\n",
       "      <td>2018.Quarter:2</td>\n",
       "    </tr>\n",
       "  </tbody>\n",
       "</table>\n",
       "<p>840 rows × 6 columns</p>\n",
       "</div>"
      ],
      "text/plain": [
       "       distrito   ano  quarter     precio  precio_90_metros     ano_quarter\n",
       "0    Arganzuela  2007        2  13.066587       1175.992857  2007.Quarter:2\n",
       "21   Arganzuela  2007        4  13.999737       1259.976356  2007.Quarter:4\n",
       "42   Arganzuela  2008        2  13.567225       1221.050269  2008.Quarter:2\n",
       "63   Arganzuela  2008        4  13.193953       1187.455765  2008.Quarter:4\n",
       "84   Arganzuela  2009        2  12.710960       1143.986414  2009.Quarter:2\n",
       "..          ...   ...      ...        ...               ...             ...\n",
       "755  Villaverde  2017        2   9.537615        858.385308  2017.Quarter:2\n",
       "776  Villaverde  2017        3   9.980975        898.287705  2017.Quarter:3\n",
       "797  Villaverde  2017        4  10.296415        926.677319  2017.Quarter:4\n",
       "818  Villaverde  2018        1  10.230638        920.757406  2018.Quarter:1\n",
       "839  Villaverde  2018        2  10.427527        938.477398  2018.Quarter:2\n",
       "\n",
       "[840 rows x 6 columns]"
      ]
     },
     "execution_count": 44,
     "metadata": {},
     "output_type": "execute_result"
    }
   ],
   "source": [
    "alquiler.sort_values(['distrito', 'ano','quarter'], ascending = [True, True, True]) # Modo clásico."
   ]
  },
  {
   "cell_type": "markdown",
   "metadata": {},
   "source": [
    "### Crear una columna calculada\n",
    "\n",
    "Podemos operar sobre las columnas para crear otras nuevas.\n",
    "\n",
    "* Calcula el precio de un piso de 90 m2 multipicando el valor del metro cuadrado ('precio') y guárdalo en una columna nueva llamada 'precio_90m'"
   ]
  },
  {
   "cell_type": "code",
   "execution_count": 124,
   "metadata": {},
   "outputs": [
    {
     "data": {
      "text/plain": [
       "pandas.core.frame.DataFrame"
      ]
     },
     "execution_count": 124,
     "metadata": {},
     "output_type": "execute_result"
    }
   ],
   "source": [
    "alquiler['precio_90m'] = alquiler.precio * 90 # Forma fácil.\n",
    "alquiler\n"
   ]
  },
  {
   "cell_type": "code",
   "execution_count": 111,
   "metadata": {},
   "outputs": [
    {
     "data": {
      "text/html": [
       "<div>\n",
       "<style scoped>\n",
       "    .dataframe tbody tr th:only-of-type {\n",
       "        vertical-align: middle;\n",
       "    }\n",
       "\n",
       "    .dataframe tbody tr th {\n",
       "        vertical-align: top;\n",
       "    }\n",
       "\n",
       "    .dataframe thead th {\n",
       "        text-align: right;\n",
       "    }\n",
       "</style>\n",
       "<table border=\"1\" class=\"dataframe\">\n",
       "  <thead>\n",
       "    <tr style=\"text-align: right;\">\n",
       "      <th></th>\n",
       "      <th>precio</th>\n",
       "    </tr>\n",
       "  </thead>\n",
       "  <tbody>\n",
       "    <tr>\n",
       "      <th>0</th>\n",
       "      <td>13.066587</td>\n",
       "    </tr>\n",
       "    <tr>\n",
       "      <th>1</th>\n",
       "      <td>11.199855</td>\n",
       "    </tr>\n",
       "    <tr>\n",
       "      <th>2</th>\n",
       "      <td>11.127661</td>\n",
       "    </tr>\n",
       "    <tr>\n",
       "      <th>3</th>\n",
       "      <td>17.746404</td>\n",
       "    </tr>\n",
       "    <tr>\n",
       "      <th>4</th>\n",
       "      <td>14.386480</td>\n",
       "    </tr>\n",
       "    <tr>\n",
       "      <th>...</th>\n",
       "      <td>...</td>\n",
       "    </tr>\n",
       "    <tr>\n",
       "      <th>835</th>\n",
       "      <td>15.114558</td>\n",
       "    </tr>\n",
       "    <tr>\n",
       "      <th>836</th>\n",
       "      <td>11.533458</td>\n",
       "    </tr>\n",
       "    <tr>\n",
       "      <th>837</th>\n",
       "      <td>9.962139</td>\n",
       "    </tr>\n",
       "    <tr>\n",
       "      <th>838</th>\n",
       "      <td>10.915967</td>\n",
       "    </tr>\n",
       "    <tr>\n",
       "      <th>839</th>\n",
       "      <td>10.427527</td>\n",
       "    </tr>\n",
       "  </tbody>\n",
       "</table>\n",
       "<p>840 rows × 1 columns</p>\n",
       "</div>"
      ],
      "text/plain": [
       "        precio\n",
       "0    13.066587\n",
       "1    11.199855\n",
       "2    11.127661\n",
       "3    17.746404\n",
       "4    14.386480\n",
       "..         ...\n",
       "835  15.114558\n",
       "836  11.533458\n",
       "837   9.962139\n",
       "838  10.915967\n",
       "839  10.427527\n",
       "\n",
       "[840 rows x 1 columns]"
      ]
     },
     "execution_count": 111,
     "metadata": {},
     "output_type": "execute_result"
    }
   ],
   "source": [
    "alquiler.loc[:,['precio']]"
   ]
  },
  {
   "cell_type": "code",
   "execution_count": 23,
   "metadata": {
    "scrolled": true
   },
   "outputs": [
    {
     "data": {
      "text/html": [
       "<div>\n",
       "<style scoped>\n",
       "    .dataframe tbody tr th:only-of-type {\n",
       "        vertical-align: middle;\n",
       "    }\n",
       "\n",
       "    .dataframe tbody tr th {\n",
       "        vertical-align: top;\n",
       "    }\n",
       "\n",
       "    .dataframe thead th {\n",
       "        text-align: right;\n",
       "    }\n",
       "</style>\n",
       "<table border=\"1\" class=\"dataframe\">\n",
       "  <thead>\n",
       "    <tr style=\"text-align: right;\">\n",
       "      <th></th>\n",
       "      <th>distrito</th>\n",
       "      <th>ano</th>\n",
       "      <th>quarter</th>\n",
       "      <th>precio</th>\n",
       "      <th>precio_90m</th>\n",
       "    </tr>\n",
       "  </thead>\n",
       "  <tbody>\n",
       "    <tr>\n",
       "      <th>0</th>\n",
       "      <td>Arganzuela</td>\n",
       "      <td>2007</td>\n",
       "      <td>2</td>\n",
       "      <td>13.066587</td>\n",
       "      <td>1175.992857</td>\n",
       "    </tr>\n",
       "    <tr>\n",
       "      <th>1</th>\n",
       "      <td>Barajas</td>\n",
       "      <td>2007</td>\n",
       "      <td>2</td>\n",
       "      <td>11.199855</td>\n",
       "      <td>1007.986923</td>\n",
       "    </tr>\n",
       "    <tr>\n",
       "      <th>2</th>\n",
       "      <td>Carabanchel</td>\n",
       "      <td>2007</td>\n",
       "      <td>2</td>\n",
       "      <td>11.127661</td>\n",
       "      <td>1001.489519</td>\n",
       "    </tr>\n",
       "    <tr>\n",
       "      <th>3</th>\n",
       "      <td>Centro</td>\n",
       "      <td>2007</td>\n",
       "      <td>2</td>\n",
       "      <td>17.746404</td>\n",
       "      <td>1597.176343</td>\n",
       "    </tr>\n",
       "    <tr>\n",
       "      <th>4</th>\n",
       "      <td>Chamartín</td>\n",
       "      <td>2007</td>\n",
       "      <td>2</td>\n",
       "      <td>14.386480</td>\n",
       "      <td>1294.783156</td>\n",
       "    </tr>\n",
       "    <tr>\n",
       "      <th>...</th>\n",
       "      <td>...</td>\n",
       "      <td>...</td>\n",
       "      <td>...</td>\n",
       "      <td>...</td>\n",
       "      <td>...</td>\n",
       "    </tr>\n",
       "    <tr>\n",
       "      <th>835</th>\n",
       "      <td>Tetuan</td>\n",
       "      <td>2018</td>\n",
       "      <td>2</td>\n",
       "      <td>15.114558</td>\n",
       "      <td>1360.310221</td>\n",
       "    </tr>\n",
       "    <tr>\n",
       "      <th>836</th>\n",
       "      <td>Usera</td>\n",
       "      <td>2018</td>\n",
       "      <td>2</td>\n",
       "      <td>11.533458</td>\n",
       "      <td>1038.011202</td>\n",
       "    </tr>\n",
       "    <tr>\n",
       "      <th>837</th>\n",
       "      <td>Vicálvaro</td>\n",
       "      <td>2018</td>\n",
       "      <td>2</td>\n",
       "      <td>9.962139</td>\n",
       "      <td>896.592543</td>\n",
       "    </tr>\n",
       "    <tr>\n",
       "      <th>838</th>\n",
       "      <td>Villa De Vallecas</td>\n",
       "      <td>2018</td>\n",
       "      <td>2</td>\n",
       "      <td>10.915967</td>\n",
       "      <td>982.437051</td>\n",
       "    </tr>\n",
       "    <tr>\n",
       "      <th>839</th>\n",
       "      <td>Villaverde</td>\n",
       "      <td>2018</td>\n",
       "      <td>2</td>\n",
       "      <td>10.427527</td>\n",
       "      <td>938.477398</td>\n",
       "    </tr>\n",
       "  </tbody>\n",
       "</table>\n",
       "<p>840 rows × 5 columns</p>\n",
       "</div>"
      ],
      "text/plain": [
       "              distrito   ano  quarter     precio   precio_90m\n",
       "0           Arganzuela  2007        2  13.066587  1175.992857\n",
       "1              Barajas  2007        2  11.199855  1007.986923\n",
       "2          Carabanchel  2007        2  11.127661  1001.489519\n",
       "3               Centro  2007        2  17.746404  1597.176343\n",
       "4            Chamartín  2007        2  14.386480  1294.783156\n",
       "..                 ...   ...      ...        ...          ...\n",
       "835             Tetuan  2018        2  15.114558  1360.310221\n",
       "836              Usera  2018        2  11.533458  1038.011202\n",
       "837          Vicálvaro  2018        2   9.962139   896.592543\n",
       "838  Villa De Vallecas  2018        2  10.915967   982.437051\n",
       "839         Villaverde  2018        2  10.427527   938.477398\n",
       "\n",
       "[840 rows x 5 columns]"
      ]
     },
     "execution_count": 23,
     "metadata": {},
     "output_type": "execute_result"
    }
   ],
   "source": [
    "alquiler['precio_90m']=alquiler.loc[:,['precio']]*90 # Forma un pelín más complicada, pero equivalente. Se trabaja con df direct.\n",
    "alquiler"
   ]
  },
  {
   "cell_type": "code",
   "execution_count": 125,
   "metadata": {},
   "outputs": [
    {
     "data": {
      "text/html": [
       "<div>\n",
       "<style scoped>\n",
       "    .dataframe tbody tr th:only-of-type {\n",
       "        vertical-align: middle;\n",
       "    }\n",
       "\n",
       "    .dataframe tbody tr th {\n",
       "        vertical-align: top;\n",
       "    }\n",
       "\n",
       "    .dataframe thead th {\n",
       "        text-align: right;\n",
       "    }\n",
       "</style>\n",
       "<table border=\"1\" class=\"dataframe\">\n",
       "  <thead>\n",
       "    <tr style=\"text-align: right;\">\n",
       "      <th></th>\n",
       "      <th>distrito</th>\n",
       "      <th>ano</th>\n",
       "      <th>quarter</th>\n",
       "      <th>precio</th>\n",
       "      <th>precio_90m</th>\n",
       "    </tr>\n",
       "  </thead>\n",
       "  <tbody>\n",
       "    <tr>\n",
       "      <th>0</th>\n",
       "      <td>Arganzuela</td>\n",
       "      <td>2007</td>\n",
       "      <td>2</td>\n",
       "      <td>13.066587</td>\n",
       "      <td>1175.992857</td>\n",
       "    </tr>\n",
       "    <tr>\n",
       "      <th>1</th>\n",
       "      <td>Barajas</td>\n",
       "      <td>2007</td>\n",
       "      <td>2</td>\n",
       "      <td>11.199855</td>\n",
       "      <td>1007.986923</td>\n",
       "    </tr>\n",
       "    <tr>\n",
       "      <th>2</th>\n",
       "      <td>Carabanchel</td>\n",
       "      <td>2007</td>\n",
       "      <td>2</td>\n",
       "      <td>11.127661</td>\n",
       "      <td>1001.489519</td>\n",
       "    </tr>\n",
       "    <tr>\n",
       "      <th>3</th>\n",
       "      <td>Centro</td>\n",
       "      <td>2007</td>\n",
       "      <td>2</td>\n",
       "      <td>17.746404</td>\n",
       "      <td>1597.176343</td>\n",
       "    </tr>\n",
       "    <tr>\n",
       "      <th>4</th>\n",
       "      <td>Chamartín</td>\n",
       "      <td>2007</td>\n",
       "      <td>2</td>\n",
       "      <td>14.386480</td>\n",
       "      <td>1294.783156</td>\n",
       "    </tr>\n",
       "    <tr>\n",
       "      <th>...</th>\n",
       "      <td>...</td>\n",
       "      <td>...</td>\n",
       "      <td>...</td>\n",
       "      <td>...</td>\n",
       "      <td>...</td>\n",
       "    </tr>\n",
       "    <tr>\n",
       "      <th>835</th>\n",
       "      <td>Tetuan</td>\n",
       "      <td>2018</td>\n",
       "      <td>2</td>\n",
       "      <td>15.114558</td>\n",
       "      <td>1360.310221</td>\n",
       "    </tr>\n",
       "    <tr>\n",
       "      <th>836</th>\n",
       "      <td>Usera</td>\n",
       "      <td>2018</td>\n",
       "      <td>2</td>\n",
       "      <td>11.533458</td>\n",
       "      <td>1038.011202</td>\n",
       "    </tr>\n",
       "    <tr>\n",
       "      <th>837</th>\n",
       "      <td>Vicálvaro</td>\n",
       "      <td>2018</td>\n",
       "      <td>2</td>\n",
       "      <td>9.962139</td>\n",
       "      <td>896.592543</td>\n",
       "    </tr>\n",
       "    <tr>\n",
       "      <th>838</th>\n",
       "      <td>Villa De Vallecas</td>\n",
       "      <td>2018</td>\n",
       "      <td>2</td>\n",
       "      <td>10.915967</td>\n",
       "      <td>982.437051</td>\n",
       "    </tr>\n",
       "    <tr>\n",
       "      <th>839</th>\n",
       "      <td>Villaverde</td>\n",
       "      <td>2018</td>\n",
       "      <td>2</td>\n",
       "      <td>10.427527</td>\n",
       "      <td>938.477398</td>\n",
       "    </tr>\n",
       "  </tbody>\n",
       "</table>\n",
       "<p>840 rows × 5 columns</p>\n",
       "</div>"
      ],
      "text/plain": [
       "              distrito   ano  quarter     precio   precio_90m\n",
       "0           Arganzuela  2007        2  13.066587  1175.992857\n",
       "1              Barajas  2007        2  11.199855  1007.986923\n",
       "2          Carabanchel  2007        2  11.127661  1001.489519\n",
       "3               Centro  2007        2  17.746404  1597.176343\n",
       "4            Chamartín  2007        2  14.386480  1294.783156\n",
       "..                 ...   ...      ...        ...          ...\n",
       "835             Tetuan  2018        2  15.114558  1360.310221\n",
       "836              Usera  2018        2  11.533458  1038.011202\n",
       "837          Vicálvaro  2018        2   9.962139   896.592543\n",
       "838  Villa De Vallecas  2018        2  10.915967   982.437051\n",
       "839         Villaverde  2018        2  10.427527   938.477398\n",
       "\n",
       "[840 rows x 5 columns]"
      ]
     },
     "execution_count": 125,
     "metadata": {},
     "output_type": "execute_result"
    }
   ],
   "source": [
    "alquiler['precio_90m'] = pd.DataFrame(alquiler.precio * 90) # Esto sería la simple, pero trabajndo con df en lugar de pd.series.\n",
    "alquiler"
   ]
  },
  {
   "cell_type": "markdown",
   "metadata": {},
   "source": [
    "Las operaciones que no se pueden lanzar directamente sobre la `Series` completa, la ejecutamos por elemento utilizando `apply`.\n",
    "\n",
    "* Concatena el año y el quarter en una nueva columna llamada 'ano_quarter' usando la función apply."
   ]
  },
  {
   "cell_type": "code",
   "execution_count": 18,
   "metadata": {},
   "outputs": [
    {
     "data": {
      "text/html": [
       "<div>\n",
       "<style scoped>\n",
       "    .dataframe tbody tr th:only-of-type {\n",
       "        vertical-align: middle;\n",
       "    }\n",
       "\n",
       "    .dataframe tbody tr th {\n",
       "        vertical-align: top;\n",
       "    }\n",
       "\n",
       "    .dataframe thead th {\n",
       "        text-align: right;\n",
       "    }\n",
       "</style>\n",
       "<table border=\"1\" class=\"dataframe\">\n",
       "  <thead>\n",
       "    <tr style=\"text-align: right;\">\n",
       "      <th></th>\n",
       "      <th>distrito</th>\n",
       "      <th>ano</th>\n",
       "      <th>quarter</th>\n",
       "      <th>precio</th>\n",
       "      <th>ano_quarter</th>\n",
       "    </tr>\n",
       "  </thead>\n",
       "  <tbody>\n",
       "    <tr>\n",
       "      <th>0</th>\n",
       "      <td>Arganzuela</td>\n",
       "      <td>2007</td>\n",
       "      <td>2</td>\n",
       "      <td>13.066587</td>\n",
       "      <td>2007.Quarter:2</td>\n",
       "    </tr>\n",
       "    <tr>\n",
       "      <th>1</th>\n",
       "      <td>Barajas</td>\n",
       "      <td>2007</td>\n",
       "      <td>2</td>\n",
       "      <td>11.199855</td>\n",
       "      <td>2007.Quarter:2</td>\n",
       "    </tr>\n",
       "    <tr>\n",
       "      <th>2</th>\n",
       "      <td>Carabanchel</td>\n",
       "      <td>2007</td>\n",
       "      <td>2</td>\n",
       "      <td>11.127661</td>\n",
       "      <td>2007.Quarter:2</td>\n",
       "    </tr>\n",
       "    <tr>\n",
       "      <th>3</th>\n",
       "      <td>Centro</td>\n",
       "      <td>2007</td>\n",
       "      <td>2</td>\n",
       "      <td>17.746404</td>\n",
       "      <td>2007.Quarter:2</td>\n",
       "    </tr>\n",
       "    <tr>\n",
       "      <th>4</th>\n",
       "      <td>Chamartín</td>\n",
       "      <td>2007</td>\n",
       "      <td>2</td>\n",
       "      <td>14.386480</td>\n",
       "      <td>2007.Quarter:2</td>\n",
       "    </tr>\n",
       "    <tr>\n",
       "      <th>...</th>\n",
       "      <td>...</td>\n",
       "      <td>...</td>\n",
       "      <td>...</td>\n",
       "      <td>...</td>\n",
       "      <td>...</td>\n",
       "    </tr>\n",
       "    <tr>\n",
       "      <th>835</th>\n",
       "      <td>Tetuan</td>\n",
       "      <td>2018</td>\n",
       "      <td>2</td>\n",
       "      <td>15.114558</td>\n",
       "      <td>2018.Quarter:2</td>\n",
       "    </tr>\n",
       "    <tr>\n",
       "      <th>836</th>\n",
       "      <td>Usera</td>\n",
       "      <td>2018</td>\n",
       "      <td>2</td>\n",
       "      <td>11.533458</td>\n",
       "      <td>2018.Quarter:2</td>\n",
       "    </tr>\n",
       "    <tr>\n",
       "      <th>837</th>\n",
       "      <td>Vicálvaro</td>\n",
       "      <td>2018</td>\n",
       "      <td>2</td>\n",
       "      <td>9.962139</td>\n",
       "      <td>2018.Quarter:2</td>\n",
       "    </tr>\n",
       "    <tr>\n",
       "      <th>838</th>\n",
       "      <td>Villa De Vallecas</td>\n",
       "      <td>2018</td>\n",
       "      <td>2</td>\n",
       "      <td>10.915967</td>\n",
       "      <td>2018.Quarter:2</td>\n",
       "    </tr>\n",
       "    <tr>\n",
       "      <th>839</th>\n",
       "      <td>Villaverde</td>\n",
       "      <td>2018</td>\n",
       "      <td>2</td>\n",
       "      <td>10.427527</td>\n",
       "      <td>2018.Quarter:2</td>\n",
       "    </tr>\n",
       "  </tbody>\n",
       "</table>\n",
       "<p>840 rows × 5 columns</p>\n",
       "</div>"
      ],
      "text/plain": [
       "              distrito   ano  quarter     precio     ano_quarter\n",
       "0           Arganzuela  2007        2  13.066587  2007.Quarter:2\n",
       "1              Barajas  2007        2  11.199855  2007.Quarter:2\n",
       "2          Carabanchel  2007        2  11.127661  2007.Quarter:2\n",
       "3               Centro  2007        2  17.746404  2007.Quarter:2\n",
       "4            Chamartín  2007        2  14.386480  2007.Quarter:2\n",
       "..                 ...   ...      ...        ...             ...\n",
       "835             Tetuan  2018        2  15.114558  2018.Quarter:2\n",
       "836              Usera  2018        2  11.533458  2018.Quarter:2\n",
       "837          Vicálvaro  2018        2   9.962139  2018.Quarter:2\n",
       "838  Villa De Vallecas  2018        2  10.915967  2018.Quarter:2\n",
       "839         Villaverde  2018        2  10.427527  2018.Quarter:2\n",
       "\n",
       "[840 rows x 5 columns]"
      ]
     },
     "execution_count": 18,
     "metadata": {},
     "output_type": "execute_result"
    }
   ],
   "source": [
    "alquiler['ano_quarter'] = alquiler.apply(lambda row: str(row['ano'])+'.Quarter: '+ str(row['quarter']), axis=1)\n",
    "alquiler\n",
    "\n",
    "# Uso del argumento axis: https://www.w3resource.com/pandas/dataframe/dataframe-apply.php#:~:text=The%20apply()%20function%20is,columns%20(axis%3D1).\n",
    "# axis = 1/'columns' para operar sobre cada fila y axis = 0/'index', para operar sobre cada columna.\n",
    "\n"
   ]
  },
  {
   "cell_type": "markdown",
   "metadata": {},
   "source": [
    "La función lambda es una función que no hace falta definir (actúa como función en ese preciso momento). \"row\" realmente podría ser i, no hace que la operación se aplique a cada fila, simplemente es el argumento de la función. "
   ]
  },
  {
   "cell_type": "markdown",
   "metadata": {},
   "source": [
    "### Renombrar una columna\n",
    "\n",
    "Fíjate en la documentación de `rename` y sus ejemplos, [aquí](https://pandas.pydata.org/pandas-docs/stable/reference/api/pandas.DataFrame.rename.html).\n",
    "\n",
    "* Renombrar la columna `precio_90m` a `precio_90_metros`."
   ]
  },
  {
   "cell_type": "code",
   "execution_count": 134,
   "metadata": {},
   "outputs": [
    {
     "data": {
      "text/html": [
       "<div>\n",
       "<style scoped>\n",
       "    .dataframe tbody tr th:only-of-type {\n",
       "        vertical-align: middle;\n",
       "    }\n",
       "\n",
       "    .dataframe tbody tr th {\n",
       "        vertical-align: top;\n",
       "    }\n",
       "\n",
       "    .dataframe thead th {\n",
       "        text-align: right;\n",
       "    }\n",
       "</style>\n",
       "<table border=\"1\" class=\"dataframe\">\n",
       "  <thead>\n",
       "    <tr style=\"text-align: right;\">\n",
       "      <th></th>\n",
       "      <th>distrito</th>\n",
       "      <th>ano</th>\n",
       "      <th>quarter</th>\n",
       "      <th>precio</th>\n",
       "      <th>precio_90_metros</th>\n",
       "      <th>ano_quarter</th>\n",
       "    </tr>\n",
       "  </thead>\n",
       "  <tbody>\n",
       "    <tr>\n",
       "      <th>0</th>\n",
       "      <td>Arganzuela</td>\n",
       "      <td>2007</td>\n",
       "      <td>2</td>\n",
       "      <td>13.066587</td>\n",
       "      <td>1175.992857</td>\n",
       "      <td>ano 2007 quarter 2</td>\n",
       "    </tr>\n",
       "    <tr>\n",
       "      <th>1</th>\n",
       "      <td>Barajas</td>\n",
       "      <td>2007</td>\n",
       "      <td>2</td>\n",
       "      <td>11.199855</td>\n",
       "      <td>1007.986923</td>\n",
       "      <td>ano 2007 quarter 2</td>\n",
       "    </tr>\n",
       "    <tr>\n",
       "      <th>2</th>\n",
       "      <td>Carabanchel</td>\n",
       "      <td>2007</td>\n",
       "      <td>2</td>\n",
       "      <td>11.127661</td>\n",
       "      <td>1001.489519</td>\n",
       "      <td>ano 2007 quarter 2</td>\n",
       "    </tr>\n",
       "    <tr>\n",
       "      <th>3</th>\n",
       "      <td>Centro</td>\n",
       "      <td>2007</td>\n",
       "      <td>2</td>\n",
       "      <td>17.746404</td>\n",
       "      <td>1597.176343</td>\n",
       "      <td>ano 2007 quarter 2</td>\n",
       "    </tr>\n",
       "    <tr>\n",
       "      <th>4</th>\n",
       "      <td>Chamartín</td>\n",
       "      <td>2007</td>\n",
       "      <td>2</td>\n",
       "      <td>14.386480</td>\n",
       "      <td>1294.783156</td>\n",
       "      <td>ano 2007 quarter 2</td>\n",
       "    </tr>\n",
       "    <tr>\n",
       "      <th>...</th>\n",
       "      <td>...</td>\n",
       "      <td>...</td>\n",
       "      <td>...</td>\n",
       "      <td>...</td>\n",
       "      <td>...</td>\n",
       "      <td>...</td>\n",
       "    </tr>\n",
       "    <tr>\n",
       "      <th>835</th>\n",
       "      <td>Tetuan</td>\n",
       "      <td>2018</td>\n",
       "      <td>2</td>\n",
       "      <td>15.114558</td>\n",
       "      <td>1360.310221</td>\n",
       "      <td>ano 2018 quarter 2</td>\n",
       "    </tr>\n",
       "    <tr>\n",
       "      <th>836</th>\n",
       "      <td>Usera</td>\n",
       "      <td>2018</td>\n",
       "      <td>2</td>\n",
       "      <td>11.533458</td>\n",
       "      <td>1038.011202</td>\n",
       "      <td>ano 2018 quarter 2</td>\n",
       "    </tr>\n",
       "    <tr>\n",
       "      <th>837</th>\n",
       "      <td>Vicálvaro</td>\n",
       "      <td>2018</td>\n",
       "      <td>2</td>\n",
       "      <td>9.962139</td>\n",
       "      <td>896.592543</td>\n",
       "      <td>ano 2018 quarter 2</td>\n",
       "    </tr>\n",
       "    <tr>\n",
       "      <th>838</th>\n",
       "      <td>Villa De Vallecas</td>\n",
       "      <td>2018</td>\n",
       "      <td>2</td>\n",
       "      <td>10.915967</td>\n",
       "      <td>982.437051</td>\n",
       "      <td>ano 2018 quarter 2</td>\n",
       "    </tr>\n",
       "    <tr>\n",
       "      <th>839</th>\n",
       "      <td>Villaverde</td>\n",
       "      <td>2018</td>\n",
       "      <td>2</td>\n",
       "      <td>10.427527</td>\n",
       "      <td>938.477398</td>\n",
       "      <td>ano 2018 quarter 2</td>\n",
       "    </tr>\n",
       "  </tbody>\n",
       "</table>\n",
       "<p>840 rows × 6 columns</p>\n",
       "</div>"
      ],
      "text/plain": [
       "              distrito   ano  quarter     precio  precio_90_metros  \\\n",
       "0           Arganzuela  2007        2  13.066587       1175.992857   \n",
       "1              Barajas  2007        2  11.199855       1007.986923   \n",
       "2          Carabanchel  2007        2  11.127661       1001.489519   \n",
       "3               Centro  2007        2  17.746404       1597.176343   \n",
       "4            Chamartín  2007        2  14.386480       1294.783156   \n",
       "..                 ...   ...      ...        ...               ...   \n",
       "835             Tetuan  2018        2  15.114558       1360.310221   \n",
       "836              Usera  2018        2  11.533458       1038.011202   \n",
       "837          Vicálvaro  2018        2   9.962139        896.592543   \n",
       "838  Villa De Vallecas  2018        2  10.915967        982.437051   \n",
       "839         Villaverde  2018        2  10.427527        938.477398   \n",
       "\n",
       "            ano_quarter  \n",
       "0    ano 2007 quarter 2  \n",
       "1    ano 2007 quarter 2  \n",
       "2    ano 2007 quarter 2  \n",
       "3    ano 2007 quarter 2  \n",
       "4    ano 2007 quarter 2  \n",
       "..                  ...  \n",
       "835  ano 2018 quarter 2  \n",
       "836  ano 2018 quarter 2  \n",
       "837  ano 2018 quarter 2  \n",
       "838  ano 2018 quarter 2  \n",
       "839  ano 2018 quarter 2  \n",
       "\n",
       "[840 rows x 6 columns]"
      ]
     },
     "execution_count": 134,
     "metadata": {},
     "output_type": "execute_result"
    }
   ],
   "source": [
    "# Opción general, para casos más gordos:\n",
    "\n",
    "Old = ['precio_90m'] # Creamos dos listas con los valores a sustituir (Old) y los que los sustituirán (New).\n",
    "New = ['precio_90_metros']\n",
    "\n",
    "alquiler.rename(columns=dict(zip(Old,New)), inplace = True) # Aplicamos .rename().\n",
    "alquiler"
   ]
  },
  {
   "cell_type": "code",
   "execution_count": 33,
   "metadata": {
    "scrolled": true
   },
   "outputs": [
    {
     "data": {
      "text/html": [
       "<div>\n",
       "<style scoped>\n",
       "    .dataframe tbody tr th:only-of-type {\n",
       "        vertical-align: middle;\n",
       "    }\n",
       "\n",
       "    .dataframe tbody tr th {\n",
       "        vertical-align: top;\n",
       "    }\n",
       "\n",
       "    .dataframe thead th {\n",
       "        text-align: right;\n",
       "    }\n",
       "</style>\n",
       "<table border=\"1\" class=\"dataframe\">\n",
       "  <thead>\n",
       "    <tr style=\"text-align: right;\">\n",
       "      <th></th>\n",
       "      <th>distrito</th>\n",
       "      <th>ano</th>\n",
       "      <th>quarter</th>\n",
       "      <th>precio</th>\n",
       "      <th>precio_90_metros</th>\n",
       "      <th>ano_quarter</th>\n",
       "    </tr>\n",
       "  </thead>\n",
       "  <tbody>\n",
       "    <tr>\n",
       "      <th>0</th>\n",
       "      <td>Arganzuela</td>\n",
       "      <td>2007</td>\n",
       "      <td>2</td>\n",
       "      <td>13.066587</td>\n",
       "      <td>1175.992857</td>\n",
       "      <td>2007.Quarter:2</td>\n",
       "    </tr>\n",
       "    <tr>\n",
       "      <th>1</th>\n",
       "      <td>Barajas</td>\n",
       "      <td>2007</td>\n",
       "      <td>2</td>\n",
       "      <td>11.199855</td>\n",
       "      <td>1007.986923</td>\n",
       "      <td>2007.Quarter:2</td>\n",
       "    </tr>\n",
       "    <tr>\n",
       "      <th>2</th>\n",
       "      <td>Carabanchel</td>\n",
       "      <td>2007</td>\n",
       "      <td>2</td>\n",
       "      <td>11.127661</td>\n",
       "      <td>1001.489519</td>\n",
       "      <td>2007.Quarter:2</td>\n",
       "    </tr>\n",
       "    <tr>\n",
       "      <th>3</th>\n",
       "      <td>Centro</td>\n",
       "      <td>2007</td>\n",
       "      <td>2</td>\n",
       "      <td>17.746404</td>\n",
       "      <td>1597.176343</td>\n",
       "      <td>2007.Quarter:2</td>\n",
       "    </tr>\n",
       "    <tr>\n",
       "      <th>4</th>\n",
       "      <td>Chamartín</td>\n",
       "      <td>2007</td>\n",
       "      <td>2</td>\n",
       "      <td>14.386480</td>\n",
       "      <td>1294.783156</td>\n",
       "      <td>2007.Quarter:2</td>\n",
       "    </tr>\n",
       "    <tr>\n",
       "      <th>...</th>\n",
       "      <td>...</td>\n",
       "      <td>...</td>\n",
       "      <td>...</td>\n",
       "      <td>...</td>\n",
       "      <td>...</td>\n",
       "      <td>...</td>\n",
       "    </tr>\n",
       "    <tr>\n",
       "      <th>835</th>\n",
       "      <td>Tetuan</td>\n",
       "      <td>2018</td>\n",
       "      <td>2</td>\n",
       "      <td>15.114558</td>\n",
       "      <td>1360.310221</td>\n",
       "      <td>2018.Quarter:2</td>\n",
       "    </tr>\n",
       "    <tr>\n",
       "      <th>836</th>\n",
       "      <td>Usera</td>\n",
       "      <td>2018</td>\n",
       "      <td>2</td>\n",
       "      <td>11.533458</td>\n",
       "      <td>1038.011202</td>\n",
       "      <td>2018.Quarter:2</td>\n",
       "    </tr>\n",
       "    <tr>\n",
       "      <th>837</th>\n",
       "      <td>Vicálvaro</td>\n",
       "      <td>2018</td>\n",
       "      <td>2</td>\n",
       "      <td>9.962139</td>\n",
       "      <td>896.592543</td>\n",
       "      <td>2018.Quarter:2</td>\n",
       "    </tr>\n",
       "    <tr>\n",
       "      <th>838</th>\n",
       "      <td>Villa De Vallecas</td>\n",
       "      <td>2018</td>\n",
       "      <td>2</td>\n",
       "      <td>10.915967</td>\n",
       "      <td>982.437051</td>\n",
       "      <td>2018.Quarter:2</td>\n",
       "    </tr>\n",
       "    <tr>\n",
       "      <th>839</th>\n",
       "      <td>Villaverde</td>\n",
       "      <td>2018</td>\n",
       "      <td>2</td>\n",
       "      <td>10.427527</td>\n",
       "      <td>938.477398</td>\n",
       "      <td>2018.Quarter:2</td>\n",
       "    </tr>\n",
       "  </tbody>\n",
       "</table>\n",
       "<p>840 rows × 6 columns</p>\n",
       "</div>"
      ],
      "text/plain": [
       "              distrito   ano  quarter     precio  precio_90_metros  \\\n",
       "0           Arganzuela  2007        2  13.066587       1175.992857   \n",
       "1              Barajas  2007        2  11.199855       1007.986923   \n",
       "2          Carabanchel  2007        2  11.127661       1001.489519   \n",
       "3               Centro  2007        2  17.746404       1597.176343   \n",
       "4            Chamartín  2007        2  14.386480       1294.783156   \n",
       "..                 ...   ...      ...        ...               ...   \n",
       "835             Tetuan  2018        2  15.114558       1360.310221   \n",
       "836              Usera  2018        2  11.533458       1038.011202   \n",
       "837          Vicálvaro  2018        2   9.962139        896.592543   \n",
       "838  Villa De Vallecas  2018        2  10.915967        982.437051   \n",
       "839         Villaverde  2018        2  10.427527        938.477398   \n",
       "\n",
       "        ano_quarter  \n",
       "0    2007.Quarter:2  \n",
       "1    2007.Quarter:2  \n",
       "2    2007.Quarter:2  \n",
       "3    2007.Quarter:2  \n",
       "4    2007.Quarter:2  \n",
       "..              ...  \n",
       "835  2018.Quarter:2  \n",
       "836  2018.Quarter:2  \n",
       "837  2018.Quarter:2  \n",
       "838  2018.Quarter:2  \n",
       "839  2018.Quarter:2  \n",
       "\n",
       "[840 rows x 6 columns]"
      ]
     },
     "execution_count": 33,
     "metadata": {},
     "output_type": "execute_result"
    }
   ],
   "source": [
    "# Una forma más rápida en este caso: \n",
    "\n",
    "alquiler.rename(columns = {'precio_90m':'precio_90_metros'}, inplace = True) # Creamos el diccionario directamente.\n",
    "alquiler"
   ]
  },
  {
   "cell_type": "markdown",
   "metadata": {},
   "source": [
    "Si no ponemos inplace = True, hay que guardar la operación en alquiler para que haga el cambio (alquiler =...) para eso se usa inplace (para ahorrárnoslo).\n",
    "\n",
    "Otra forma:"
   ]
  },
  {
   "cell_type": "code",
   "execution_count": 141,
   "metadata": {
    "scrolled": true
   },
   "outputs": [
    {
     "data": {
      "text/html": [
       "<div>\n",
       "<style scoped>\n",
       "    .dataframe tbody tr th:only-of-type {\n",
       "        vertical-align: middle;\n",
       "    }\n",
       "\n",
       "    .dataframe tbody tr th {\n",
       "        vertical-align: top;\n",
       "    }\n",
       "\n",
       "    .dataframe thead th {\n",
       "        text-align: right;\n",
       "    }\n",
       "</style>\n",
       "<table border=\"1\" class=\"dataframe\">\n",
       "  <thead>\n",
       "    <tr style=\"text-align: right;\">\n",
       "      <th></th>\n",
       "      <th>distrito</th>\n",
       "      <th>ano</th>\n",
       "      <th>quarter</th>\n",
       "      <th>precio</th>\n",
       "      <th>precio_90_metros2</th>\n",
       "      <th>ano_quarter</th>\n",
       "    </tr>\n",
       "  </thead>\n",
       "  <tbody>\n",
       "    <tr>\n",
       "      <th>0</th>\n",
       "      <td>Arganzuela</td>\n",
       "      <td>2007</td>\n",
       "      <td>2</td>\n",
       "      <td>13.066587</td>\n",
       "      <td>1175.992857</td>\n",
       "      <td>ano 2007 quarter 2</td>\n",
       "    </tr>\n",
       "    <tr>\n",
       "      <th>1</th>\n",
       "      <td>Barajas</td>\n",
       "      <td>2007</td>\n",
       "      <td>2</td>\n",
       "      <td>11.199855</td>\n",
       "      <td>1007.986923</td>\n",
       "      <td>ano 2007 quarter 2</td>\n",
       "    </tr>\n",
       "    <tr>\n",
       "      <th>2</th>\n",
       "      <td>Carabanchel</td>\n",
       "      <td>2007</td>\n",
       "      <td>2</td>\n",
       "      <td>11.127661</td>\n",
       "      <td>1001.489519</td>\n",
       "      <td>ano 2007 quarter 2</td>\n",
       "    </tr>\n",
       "    <tr>\n",
       "      <th>3</th>\n",
       "      <td>Centro</td>\n",
       "      <td>2007</td>\n",
       "      <td>2</td>\n",
       "      <td>17.746404</td>\n",
       "      <td>1597.176343</td>\n",
       "      <td>ano 2007 quarter 2</td>\n",
       "    </tr>\n",
       "    <tr>\n",
       "      <th>4</th>\n",
       "      <td>Chamartín</td>\n",
       "      <td>2007</td>\n",
       "      <td>2</td>\n",
       "      <td>14.386480</td>\n",
       "      <td>1294.783156</td>\n",
       "      <td>ano 2007 quarter 2</td>\n",
       "    </tr>\n",
       "    <tr>\n",
       "      <th>...</th>\n",
       "      <td>...</td>\n",
       "      <td>...</td>\n",
       "      <td>...</td>\n",
       "      <td>...</td>\n",
       "      <td>...</td>\n",
       "      <td>...</td>\n",
       "    </tr>\n",
       "    <tr>\n",
       "      <th>835</th>\n",
       "      <td>Tetuan</td>\n",
       "      <td>2018</td>\n",
       "      <td>2</td>\n",
       "      <td>15.114558</td>\n",
       "      <td>1360.310221</td>\n",
       "      <td>ano 2018 quarter 2</td>\n",
       "    </tr>\n",
       "    <tr>\n",
       "      <th>836</th>\n",
       "      <td>Usera</td>\n",
       "      <td>2018</td>\n",
       "      <td>2</td>\n",
       "      <td>11.533458</td>\n",
       "      <td>1038.011202</td>\n",
       "      <td>ano 2018 quarter 2</td>\n",
       "    </tr>\n",
       "    <tr>\n",
       "      <th>837</th>\n",
       "      <td>Vicálvaro</td>\n",
       "      <td>2018</td>\n",
       "      <td>2</td>\n",
       "      <td>9.962139</td>\n",
       "      <td>896.592543</td>\n",
       "      <td>ano 2018 quarter 2</td>\n",
       "    </tr>\n",
       "    <tr>\n",
       "      <th>838</th>\n",
       "      <td>Villa De Vallecas</td>\n",
       "      <td>2018</td>\n",
       "      <td>2</td>\n",
       "      <td>10.915967</td>\n",
       "      <td>982.437051</td>\n",
       "      <td>ano 2018 quarter 2</td>\n",
       "    </tr>\n",
       "    <tr>\n",
       "      <th>839</th>\n",
       "      <td>Villaverde</td>\n",
       "      <td>2018</td>\n",
       "      <td>2</td>\n",
       "      <td>10.427527</td>\n",
       "      <td>938.477398</td>\n",
       "      <td>ano 2018 quarter 2</td>\n",
       "    </tr>\n",
       "  </tbody>\n",
       "</table>\n",
       "<p>840 rows × 6 columns</p>\n",
       "</div>"
      ],
      "text/plain": [
       "              distrito   ano  quarter     precio  precio_90_metros2  \\\n",
       "0           Arganzuela  2007        2  13.066587        1175.992857   \n",
       "1              Barajas  2007        2  11.199855        1007.986923   \n",
       "2          Carabanchel  2007        2  11.127661        1001.489519   \n",
       "3               Centro  2007        2  17.746404        1597.176343   \n",
       "4            Chamartín  2007        2  14.386480        1294.783156   \n",
       "..                 ...   ...      ...        ...                ...   \n",
       "835             Tetuan  2018        2  15.114558        1360.310221   \n",
       "836              Usera  2018        2  11.533458        1038.011202   \n",
       "837          Vicálvaro  2018        2   9.962139         896.592543   \n",
       "838  Villa De Vallecas  2018        2  10.915967         982.437051   \n",
       "839         Villaverde  2018        2  10.427527         938.477398   \n",
       "\n",
       "            ano_quarter  \n",
       "0    ano 2007 quarter 2  \n",
       "1    ano 2007 quarter 2  \n",
       "2    ano 2007 quarter 2  \n",
       "3    ano 2007 quarter 2  \n",
       "4    ano 2007 quarter 2  \n",
       "..                  ...  \n",
       "835  ano 2018 quarter 2  \n",
       "836  ano 2018 quarter 2  \n",
       "837  ano 2018 quarter 2  \n",
       "838  ano 2018 quarter 2  \n",
       "839  ano 2018 quarter 2  \n",
       "\n",
       "[840 rows x 6 columns]"
      ]
     },
     "execution_count": 141,
     "metadata": {},
     "output_type": "execute_result"
    }
   ],
   "source": [
    "alquiler.rename({'precio_90_metros':'precio_90_metros2'}, axis =1)\n",
    "alquiler  # Obsérvese que el resultado de la operación no se está guardando en la variable."
   ]
  },
  {
   "cell_type": "markdown",
   "metadata": {},
   "source": [
    "Fíjate en el ejemplo anterior. En general, las funciones de `pandas` crean un nuevo objeto con el resultado de la operación, pero no modifican el actual. En estas funciones, suele haber un parámetro `inplace` con valor por defecto a `False`. Si lo ponemos a `True`, la operación se realiza sobre el objeto que pasamos por parámetro (y queda guardada)."
   ]
  },
  {
   "cell_type": "markdown",
   "metadata": {},
   "source": [
    "## Resumen estadístico\n",
    "\n",
    "Pandas provee una serie de funciones de resumen estadístico que podemos aplicar sobre una columna concreta, o sobre todas las del DataFrame."
   ]
  },
  {
   "cell_type": "markdown",
   "metadata": {},
   "source": [
    "* Usa [`describe`](https://pandas.pydata.org/pandas-docs/stable/generated/pandas.DataFrame.describe.html) para un resumen para todas las columnas de número de filas, media, desviación estándar, cuartiles, ..."
   ]
  },
  {
   "cell_type": "code",
   "execution_count": 142,
   "metadata": {
    "scrolled": true
   },
   "outputs": [
    {
     "data": {
      "text/html": [
       "<div>\n",
       "<style scoped>\n",
       "    .dataframe tbody tr th:only-of-type {\n",
       "        vertical-align: middle;\n",
       "    }\n",
       "\n",
       "    .dataframe tbody tr th {\n",
       "        vertical-align: top;\n",
       "    }\n",
       "\n",
       "    .dataframe thead th {\n",
       "        text-align: right;\n",
       "    }\n",
       "</style>\n",
       "<table border=\"1\" class=\"dataframe\">\n",
       "  <thead>\n",
       "    <tr style=\"text-align: right;\">\n",
       "      <th></th>\n",
       "      <th>distrito</th>\n",
       "      <th>ano</th>\n",
       "      <th>quarter</th>\n",
       "      <th>precio</th>\n",
       "      <th>precio_90_metros</th>\n",
       "      <th>ano_quarter</th>\n",
       "    </tr>\n",
       "  </thead>\n",
       "  <tbody>\n",
       "    <tr>\n",
       "      <th>count</th>\n",
       "      <td>840</td>\n",
       "      <td>840.00000</td>\n",
       "      <td>840.00000</td>\n",
       "      <td>840.000000</td>\n",
       "      <td>840.000000</td>\n",
       "      <td>840</td>\n",
       "    </tr>\n",
       "    <tr>\n",
       "      <th>unique</th>\n",
       "      <td>21</td>\n",
       "      <td>NaN</td>\n",
       "      <td>NaN</td>\n",
       "      <td>NaN</td>\n",
       "      <td>NaN</td>\n",
       "      <td>40</td>\n",
       "    </tr>\n",
       "    <tr>\n",
       "      <th>top</th>\n",
       "      <td>Carabanchel</td>\n",
       "      <td>NaN</td>\n",
       "      <td>NaN</td>\n",
       "      <td>NaN</td>\n",
       "      <td>NaN</td>\n",
       "      <td>ano 2016 quarter 3</td>\n",
       "    </tr>\n",
       "    <tr>\n",
       "      <th>freq</th>\n",
       "      <td>40</td>\n",
       "      <td>NaN</td>\n",
       "      <td>NaN</td>\n",
       "      <td>NaN</td>\n",
       "      <td>NaN</td>\n",
       "      <td>21</td>\n",
       "    </tr>\n",
       "    <tr>\n",
       "      <th>mean</th>\n",
       "      <td>NaN</td>\n",
       "      <td>2012.90000</td>\n",
       "      <td>2.52500</td>\n",
       "      <td>11.545779</td>\n",
       "      <td>1039.120115</td>\n",
       "      <td>NaN</td>\n",
       "    </tr>\n",
       "    <tr>\n",
       "      <th>std</th>\n",
       "      <td>NaN</td>\n",
       "      <td>3.08242</td>\n",
       "      <td>1.11842</td>\n",
       "      <td>2.271275</td>\n",
       "      <td>204.414750</td>\n",
       "      <td>NaN</td>\n",
       "    </tr>\n",
       "    <tr>\n",
       "      <th>min</th>\n",
       "      <td>NaN</td>\n",
       "      <td>2007.00000</td>\n",
       "      <td>1.00000</td>\n",
       "      <td>7.591541</td>\n",
       "      <td>683.238711</td>\n",
       "      <td>NaN</td>\n",
       "    </tr>\n",
       "    <tr>\n",
       "      <th>25%</th>\n",
       "      <td>NaN</td>\n",
       "      <td>2010.75000</td>\n",
       "      <td>2.00000</td>\n",
       "      <td>9.853159</td>\n",
       "      <td>886.784295</td>\n",
       "      <td>NaN</td>\n",
       "    </tr>\n",
       "    <tr>\n",
       "      <th>50%</th>\n",
       "      <td>NaN</td>\n",
       "      <td>2013.00000</td>\n",
       "      <td>2.00000</td>\n",
       "      <td>11.132781</td>\n",
       "      <td>1001.950317</td>\n",
       "      <td>NaN</td>\n",
       "    </tr>\n",
       "    <tr>\n",
       "      <th>75%</th>\n",
       "      <td>NaN</td>\n",
       "      <td>2015.25000</td>\n",
       "      <td>4.00000</td>\n",
       "      <td>12.996690</td>\n",
       "      <td>1169.702091</td>\n",
       "      <td>NaN</td>\n",
       "    </tr>\n",
       "    <tr>\n",
       "      <th>max</th>\n",
       "      <td>NaN</td>\n",
       "      <td>2018.00000</td>\n",
       "      <td>4.00000</td>\n",
       "      <td>19.308607</td>\n",
       "      <td>1737.774613</td>\n",
       "      <td>NaN</td>\n",
       "    </tr>\n",
       "  </tbody>\n",
       "</table>\n",
       "</div>"
      ],
      "text/plain": [
       "           distrito         ano    quarter      precio  precio_90_metros  \\\n",
       "count           840   840.00000  840.00000  840.000000        840.000000   \n",
       "unique           21         NaN        NaN         NaN               NaN   \n",
       "top     Carabanchel         NaN        NaN         NaN               NaN   \n",
       "freq             40         NaN        NaN         NaN               NaN   \n",
       "mean            NaN  2012.90000    2.52500   11.545779       1039.120115   \n",
       "std             NaN     3.08242    1.11842    2.271275        204.414750   \n",
       "min             NaN  2007.00000    1.00000    7.591541        683.238711   \n",
       "25%             NaN  2010.75000    2.00000    9.853159        886.784295   \n",
       "50%             NaN  2013.00000    2.00000   11.132781       1001.950317   \n",
       "75%             NaN  2015.25000    4.00000   12.996690       1169.702091   \n",
       "max             NaN  2018.00000    4.00000   19.308607       1737.774613   \n",
       "\n",
       "               ano_quarter  \n",
       "count                  840  \n",
       "unique                  40  \n",
       "top     ano 2016 quarter 3  \n",
       "freq                    21  \n",
       "mean                   NaN  \n",
       "std                    NaN  \n",
       "min                    NaN  \n",
       "25%                    NaN  \n",
       "50%                    NaN  \n",
       "75%                    NaN  \n",
       "max                    NaN  "
      ]
     },
     "execution_count": 142,
     "metadata": {},
     "output_type": "execute_result"
    }
   ],
   "source": [
    "alquiler.describe(include = \"all\") \n",
    "\n",
    "# Obsérvese cómo los parámetros que se miden en columnas de strings son != a los que se miden en columnas numéricas."
   ]
  },
  {
   "cell_type": "markdown",
   "metadata": {},
   "source": [
    "Para ver parámetros de las columnas categóricas, hay que añadir el include = \"all\"."
   ]
  },
  {
   "cell_type": "markdown",
   "metadata": {},
   "source": [
    "Podemos utilizar también `sum`, `mean`, `std`, `count`, `min`, `max`, ... sobre el DataFrame o una columna en concreto\n",
    "\n",
    "* Obtén la media de las columnas numéricas del dataframe.\n",
    "* Obtén el precio máximo por metro cuadrado\n",
    "* Extrae los cuantiles 0.1 y 0.9 del precio para el distrito `Tetuan`."
   ]
  },
  {
   "cell_type": "code",
   "execution_count": null,
   "metadata": {},
   "outputs": [],
   "source": []
  },
  {
   "cell_type": "code",
   "execution_count": 55,
   "metadata": {
    "scrolled": true
   },
   "outputs": [
    {
     "data": {
      "text/plain": [
       "ano                 2012.900000\n",
       "quarter                2.525000\n",
       "precio                11.545779\n",
       "precio_90_metros    1039.120115\n",
       "dtype: float64"
      ]
     },
     "execution_count": 55,
     "metadata": {},
     "output_type": "execute_result"
    }
   ],
   "source": [
    "alquiler.mean() # Obsérvese que se salta las no numéricas al realizar la operación."
   ]
  },
  {
   "cell_type": "code",
   "execution_count": 56,
   "metadata": {},
   "outputs": [
    {
     "data": {
      "text/plain": [
       "ano                 2012.900000\n",
       "quarter                2.525000\n",
       "precio                11.545779\n",
       "precio_90_metros    1039.120115\n",
       "dtype: float64"
      ]
     },
     "execution_count": 56,
     "metadata": {},
     "output_type": "execute_result"
    }
   ],
   "source": [
    "alquiler.mean(numeric_only = True) # Aunque está por defecto, existe un argumento que indica que solo se realice la operación\n",
    "# sobre las columnas numéricas."
   ]
  },
  {
   "cell_type": "code",
   "execution_count": 149,
   "metadata": {},
   "outputs": [
    {
     "data": {
      "text/plain": [
       "19.308606815183698"
      ]
     },
     "execution_count": 149,
     "metadata": {},
     "output_type": "execute_result"
    }
   ],
   "source": [
    "alquiler['precio'].max()"
   ]
  },
  {
   "cell_type": "code",
   "execution_count": 58,
   "metadata": {},
   "outputs": [
    {
     "data": {
      "text/plain": [
       "19.308606815183698"
      ]
     },
     "execution_count": 58,
     "metadata": {},
     "output_type": "execute_result"
    }
   ],
   "source": [
    "alquiler.precio.max()"
   ]
  },
  {
   "cell_type": "code",
   "execution_count": 59,
   "metadata": {},
   "outputs": [
    {
     "data": {
      "text/plain": [
       "0.1    11.118501\n",
       "0.9    14.954030\n",
       "Name: precio, dtype: float64"
      ]
     },
     "execution_count": 59,
     "metadata": {},
     "output_type": "execute_result"
    }
   ],
   "source": [
    "alquiler['precio'].loc[(alquiler['distrito']=='Tetuan')].quantile([.1,.9])"
   ]
  },
  {
   "cell_type": "code",
   "execution_count": 154,
   "metadata": {},
   "outputs": [
    {
     "data": {
      "text/plain": [
       "0.1    11.118501\n",
       "0.9    14.954030\n",
       "Name: precio, dtype: float64"
      ]
     },
     "execution_count": 154,
     "metadata": {},
     "output_type": "execute_result"
    }
   ],
   "source": [
    "alquiler.precio[alquiler.distrito == 'Tetuan'].quantile([0.1,0.9]) # Método un poco más simple."
   ]
  },
  {
   "cell_type": "code",
   "execution_count": 157,
   "metadata": {},
   "outputs": [
    {
     "data": {
      "text/plain": [
       "array([11.11850111, 14.95403032])"
      ]
     },
     "execution_count": 157,
     "metadata": {},
     "output_type": "execute_result"
    }
   ],
   "source": [
    "np.percentile(alquiler.loc[(alquiler['distrito']=='Tetuan'), 'precio'], (10, 90)) # Otra forma de hacerlo."
   ]
  },
  {
   "cell_type": "markdown",
   "metadata": {},
   "source": [
    "## Agrupación\n",
    "\n",
    "De una forma equivalente a como hacemos en SQL, podemos agregar las tablas y sacar resúmenes de los grupos. La operación en pandas se hace en dos fases:\n",
    "\n",
    "* El `groupby`: donde especificamos la o las columnas por las que agregar\n",
    "* La aplicación de la función de agregación sobre una o varias columnas"
   ]
  },
  {
   "cell_type": "markdown",
   "metadata": {},
   "source": [
    "* Obtén los valores máximos anuales\n",
    "* Obtén el precio mínimo anual\n",
    "* Saca en un solo dataframe el precio medio y el primer distrito que aparezca en el dataframe (agrupando por año)."
   ]
  },
  {
   "cell_type": "code",
   "execution_count": 62,
   "metadata": {
    "scrolled": true
   },
   "outputs": [
    {
     "data": {
      "text/html": [
       "<div>\n",
       "<style scoped>\n",
       "    .dataframe tbody tr th:only-of-type {\n",
       "        vertical-align: middle;\n",
       "    }\n",
       "\n",
       "    .dataframe tbody tr th {\n",
       "        vertical-align: top;\n",
       "    }\n",
       "\n",
       "    .dataframe thead th {\n",
       "        text-align: right;\n",
       "    }\n",
       "</style>\n",
       "<table border=\"1\" class=\"dataframe\">\n",
       "  <thead>\n",
       "    <tr style=\"text-align: right;\">\n",
       "      <th></th>\n",
       "      <th>distrito</th>\n",
       "      <th>quarter</th>\n",
       "      <th>precio</th>\n",
       "      <th>precio_90_metros</th>\n",
       "      <th>ano_quarter</th>\n",
       "    </tr>\n",
       "    <tr>\n",
       "      <th>ano</th>\n",
       "      <th></th>\n",
       "      <th></th>\n",
       "      <th></th>\n",
       "      <th></th>\n",
       "      <th></th>\n",
       "    </tr>\n",
       "  </thead>\n",
       "  <tbody>\n",
       "    <tr>\n",
       "      <th>2007</th>\n",
       "      <td>Villaverde</td>\n",
       "      <td>4</td>\n",
       "      <td>18.044594</td>\n",
       "      <td>1624.013418</td>\n",
       "      <td>2007.Quarter:4</td>\n",
       "    </tr>\n",
       "    <tr>\n",
       "      <th>2008</th>\n",
       "      <td>Villaverde</td>\n",
       "      <td>4</td>\n",
       "      <td>17.618608</td>\n",
       "      <td>1585.674727</td>\n",
       "      <td>2008.Quarter:4</td>\n",
       "    </tr>\n",
       "    <tr>\n",
       "      <th>2009</th>\n",
       "      <td>Villaverde</td>\n",
       "      <td>4</td>\n",
       "      <td>15.788713</td>\n",
       "      <td>1420.984200</td>\n",
       "      <td>2009.Quarter:4</td>\n",
       "    </tr>\n",
       "    <tr>\n",
       "      <th>2010</th>\n",
       "      <td>Villaverde</td>\n",
       "      <td>4</td>\n",
       "      <td>15.564614</td>\n",
       "      <td>1400.815227</td>\n",
       "      <td>2010.Quarter:4</td>\n",
       "    </tr>\n",
       "    <tr>\n",
       "      <th>2011</th>\n",
       "      <td>Villaverde</td>\n",
       "      <td>4</td>\n",
       "      <td>15.078333</td>\n",
       "      <td>1357.050012</td>\n",
       "      <td>2011.Quarter:4</td>\n",
       "    </tr>\n",
       "    <tr>\n",
       "      <th>2012</th>\n",
       "      <td>Villaverde</td>\n",
       "      <td>4</td>\n",
       "      <td>14.822377</td>\n",
       "      <td>1334.013970</td>\n",
       "      <td>2012.Quarter:4</td>\n",
       "    </tr>\n",
       "    <tr>\n",
       "      <th>2013</th>\n",
       "      <td>Villaverde</td>\n",
       "      <td>4</td>\n",
       "      <td>13.704467</td>\n",
       "      <td>1233.402071</td>\n",
       "      <td>2013.Quarter:4</td>\n",
       "    </tr>\n",
       "    <tr>\n",
       "      <th>2014</th>\n",
       "      <td>Villaverde</td>\n",
       "      <td>4</td>\n",
       "      <td>13.965912</td>\n",
       "      <td>1256.932035</td>\n",
       "      <td>2014.Quarter:4</td>\n",
       "    </tr>\n",
       "    <tr>\n",
       "      <th>2015</th>\n",
       "      <td>Villaverde</td>\n",
       "      <td>4</td>\n",
       "      <td>15.251220</td>\n",
       "      <td>1372.609763</td>\n",
       "      <td>2015.Quarter:4</td>\n",
       "    </tr>\n",
       "    <tr>\n",
       "      <th>2016</th>\n",
       "      <td>Villaverde</td>\n",
       "      <td>4</td>\n",
       "      <td>17.693730</td>\n",
       "      <td>1592.435714</td>\n",
       "      <td>2016.Quarter:4</td>\n",
       "    </tr>\n",
       "    <tr>\n",
       "      <th>2017</th>\n",
       "      <td>Villaverde</td>\n",
       "      <td>4</td>\n",
       "      <td>19.019364</td>\n",
       "      <td>1711.742736</td>\n",
       "      <td>2017.Quarter:4</td>\n",
       "    </tr>\n",
       "    <tr>\n",
       "      <th>2018</th>\n",
       "      <td>Villaverde</td>\n",
       "      <td>2</td>\n",
       "      <td>19.308607</td>\n",
       "      <td>1737.774613</td>\n",
       "      <td>2018.Quarter:2</td>\n",
       "    </tr>\n",
       "  </tbody>\n",
       "</table>\n",
       "</div>"
      ],
      "text/plain": [
       "        distrito  quarter     precio  precio_90_metros     ano_quarter\n",
       "ano                                                                   \n",
       "2007  Villaverde        4  18.044594       1624.013418  2007.Quarter:4\n",
       "2008  Villaverde        4  17.618608       1585.674727  2008.Quarter:4\n",
       "2009  Villaverde        4  15.788713       1420.984200  2009.Quarter:4\n",
       "2010  Villaverde        4  15.564614       1400.815227  2010.Quarter:4\n",
       "2011  Villaverde        4  15.078333       1357.050012  2011.Quarter:4\n",
       "2012  Villaverde        4  14.822377       1334.013970  2012.Quarter:4\n",
       "2013  Villaverde        4  13.704467       1233.402071  2013.Quarter:4\n",
       "2014  Villaverde        4  13.965912       1256.932035  2014.Quarter:4\n",
       "2015  Villaverde        4  15.251220       1372.609763  2015.Quarter:4\n",
       "2016  Villaverde        4  17.693730       1592.435714  2016.Quarter:4\n",
       "2017  Villaverde        4  19.019364       1711.742736  2017.Quarter:4\n",
       "2018  Villaverde        2  19.308607       1737.774613  2018.Quarter:2"
      ]
     },
     "execution_count": 62,
     "metadata": {},
     "output_type": "execute_result"
    }
   ],
   "source": [
    "alquiler.groupby('ano').max()"
   ]
  },
  {
   "cell_type": "code",
   "execution_count": 169,
   "metadata": {},
   "outputs": [
    {
     "data": {
      "text/html": [
       "<div>\n",
       "<style scoped>\n",
       "    .dataframe tbody tr th:only-of-type {\n",
       "        vertical-align: middle;\n",
       "    }\n",
       "\n",
       "    .dataframe tbody tr th {\n",
       "        vertical-align: top;\n",
       "    }\n",
       "\n",
       "    .dataframe thead th {\n",
       "        text-align: right;\n",
       "    }\n",
       "</style>\n",
       "<table border=\"1\" class=\"dataframe\">\n",
       "  <thead>\n",
       "    <tr style=\"text-align: right;\">\n",
       "      <th></th>\n",
       "      <th>precio</th>\n",
       "    </tr>\n",
       "    <tr>\n",
       "      <th>ano</th>\n",
       "      <th></th>\n",
       "    </tr>\n",
       "  </thead>\n",
       "  <tbody>\n",
       "    <tr>\n",
       "      <th>2007</th>\n",
       "      <td>9.592651</td>\n",
       "    </tr>\n",
       "    <tr>\n",
       "      <th>2008</th>\n",
       "      <td>10.628444</td>\n",
       "    </tr>\n",
       "    <tr>\n",
       "      <th>2009</th>\n",
       "      <td>9.764769</td>\n",
       "    </tr>\n",
       "    <tr>\n",
       "      <th>2010</th>\n",
       "      <td>9.279254</td>\n",
       "    </tr>\n",
       "    <tr>\n",
       "      <th>2011</th>\n",
       "      <td>9.089262</td>\n",
       "    </tr>\n",
       "    <tr>\n",
       "      <th>2012</th>\n",
       "      <td>8.693941</td>\n",
       "    </tr>\n",
       "    <tr>\n",
       "      <th>2013</th>\n",
       "      <td>7.933318</td>\n",
       "    </tr>\n",
       "    <tr>\n",
       "      <th>2014</th>\n",
       "      <td>7.591541</td>\n",
       "    </tr>\n",
       "    <tr>\n",
       "      <th>2015</th>\n",
       "      <td>7.754823</td>\n",
       "    </tr>\n",
       "    <tr>\n",
       "      <th>2016</th>\n",
       "      <td>8.183480</td>\n",
       "    </tr>\n",
       "    <tr>\n",
       "      <th>2017</th>\n",
       "      <td>9.210458</td>\n",
       "    </tr>\n",
       "    <tr>\n",
       "      <th>2018</th>\n",
       "      <td>9.962139</td>\n",
       "    </tr>\n",
       "  </tbody>\n",
       "</table>\n",
       "</div>"
      ],
      "text/plain": [
       "         precio\n",
       "ano            \n",
       "2007   9.592651\n",
       "2008  10.628444\n",
       "2009   9.764769\n",
       "2010   9.279254\n",
       "2011   9.089262\n",
       "2012   8.693941\n",
       "2013   7.933318\n",
       "2014   7.591541\n",
       "2015   7.754823\n",
       "2016   8.183480\n",
       "2017   9.210458\n",
       "2018   9.962139"
      ]
     },
     "execution_count": 169,
     "metadata": {},
     "output_type": "execute_result"
    }
   ],
   "source": [
    "alquiler.groupby('ano')[['precio']].min() # Con el doble corchete devuelve un pd DataFrame."
   ]
  },
  {
   "cell_type": "markdown",
   "metadata": {},
   "source": [
    "Sin embargo, está devolviendo los máximos de cada columna, esto es, las filas de la tabla mostrada no son filas de las tablas originales, son combinaciones de los valores máximos para cada una de las columnas año a año (ejemplo: el precio por metro cuadrado en 2007 no tiene por qué haberse dado en el 4to trimestre, pero el 4to trimestre es el valor más grande dentro de quarter y el precio mencionado es el mayor que hubo ese año)."
   ]
  },
  {
   "cell_type": "code",
   "execution_count": 23,
   "metadata": {
    "scrolled": true
   },
   "outputs": [
    {
     "data": {
      "text/plain": [
       "ano\n",
       "2007     9.592651\n",
       "2008    10.628444\n",
       "2009     9.764769\n",
       "2010     9.279254\n",
       "2011     9.089262\n",
       "2012     8.693941\n",
       "2013     7.933318\n",
       "2014     7.591541\n",
       "2015     7.754823\n",
       "2016     8.183480\n",
       "2017     9.210458\n",
       "2018     9.962139\n",
       "Name: precio, dtype: float64"
      ]
     },
     "execution_count": 23,
     "metadata": {},
     "output_type": "execute_result"
    }
   ],
   "source": [
    "alquiler.groupby('ano').precio.min() # Más sencillo, pero devuelve un pd Series."
   ]
  },
  {
   "cell_type": "code",
   "execution_count": 175,
   "metadata": {},
   "outputs": [
    {
     "data": {
      "text/html": [
       "<div>\n",
       "<style scoped>\n",
       "    .dataframe tbody tr th:only-of-type {\n",
       "        vertical-align: middle;\n",
       "    }\n",
       "\n",
       "    .dataframe tbody tr th {\n",
       "        vertical-align: top;\n",
       "    }\n",
       "\n",
       "    .dataframe thead th {\n",
       "        text-align: right;\n",
       "    }\n",
       "</style>\n",
       "<table border=\"1\" class=\"dataframe\">\n",
       "  <thead>\n",
       "    <tr style=\"text-align: right;\">\n",
       "      <th></th>\n",
       "      <th>precio</th>\n",
       "      <th>distrito</th>\n",
       "    </tr>\n",
       "    <tr>\n",
       "      <th>ano</th>\n",
       "      <th></th>\n",
       "      <th></th>\n",
       "    </tr>\n",
       "  </thead>\n",
       "  <tbody>\n",
       "    <tr>\n",
       "      <th>2007</th>\n",
       "      <td>12.679226</td>\n",
       "      <td>Arganzuela</td>\n",
       "    </tr>\n",
       "    <tr>\n",
       "      <th>2008</th>\n",
       "      <td>12.963422</td>\n",
       "      <td>Arganzuela</td>\n",
       "    </tr>\n",
       "    <tr>\n",
       "      <th>2009</th>\n",
       "      <td>11.900691</td>\n",
       "      <td>Arganzuela</td>\n",
       "    </tr>\n",
       "    <tr>\n",
       "      <th>2010</th>\n",
       "      <td>11.608368</td>\n",
       "      <td>Arganzuela</td>\n",
       "    </tr>\n",
       "    <tr>\n",
       "      <th>2011</th>\n",
       "      <td>11.461966</td>\n",
       "      <td>Arganzuela</td>\n",
       "    </tr>\n",
       "    <tr>\n",
       "      <th>2012</th>\n",
       "      <td>11.021184</td>\n",
       "      <td>Arganzuela</td>\n",
       "    </tr>\n",
       "    <tr>\n",
       "      <th>2013</th>\n",
       "      <td>10.382165</td>\n",
       "      <td>Arganzuela</td>\n",
       "    </tr>\n",
       "    <tr>\n",
       "      <th>2014</th>\n",
       "      <td>10.252846</td>\n",
       "      <td>Arganzuela</td>\n",
       "    </tr>\n",
       "    <tr>\n",
       "      <th>2015</th>\n",
       "      <td>10.689535</td>\n",
       "      <td>Arganzuela</td>\n",
       "    </tr>\n",
       "    <tr>\n",
       "      <th>2016</th>\n",
       "      <td>11.686872</td>\n",
       "      <td>Arganzuela</td>\n",
       "    </tr>\n",
       "    <tr>\n",
       "      <th>2017</th>\n",
       "      <td>12.840758</td>\n",
       "      <td>Arganzuela</td>\n",
       "    </tr>\n",
       "    <tr>\n",
       "      <th>2018</th>\n",
       "      <td>13.484852</td>\n",
       "      <td>Arganzuela</td>\n",
       "    </tr>\n",
       "  </tbody>\n",
       "</table>\n",
       "</div>"
      ],
      "text/plain": [
       "         precio    distrito\n",
       "ano                        \n",
       "2007  12.679226  Arganzuela\n",
       "2008  12.963422  Arganzuela\n",
       "2009  11.900691  Arganzuela\n",
       "2010  11.608368  Arganzuela\n",
       "2011  11.461966  Arganzuela\n",
       "2012  11.021184  Arganzuela\n",
       "2013  10.382165  Arganzuela\n",
       "2014  10.252846  Arganzuela\n",
       "2015  10.689535  Arganzuela\n",
       "2016  11.686872  Arganzuela\n",
       "2017  12.840758  Arganzuela\n",
       "2018  13.484852  Arganzuela"
      ]
     },
     "execution_count": 175,
     "metadata": {},
     "output_type": "execute_result"
    }
   ],
   "source": [
    "func = ['mean', 'first']\n",
    "col = ['precio', 'distrito']\n",
    "\n",
    "alquiler.groupby('ano').agg(dict(zip(col,func))) # Cuidado, hay que poner el nombre de la columna como clave y el \n",
    "                                                 # de la operación como valor."
   ]
  },
  {
   "cell_type": "code",
   "execution_count": 81,
   "metadata": {
    "scrolled": true
   },
   "outputs": [
    {
     "data": {
      "text/html": [
       "<div>\n",
       "<style scoped>\n",
       "    .dataframe tbody tr th:only-of-type {\n",
       "        vertical-align: middle;\n",
       "    }\n",
       "\n",
       "    .dataframe tbody tr th {\n",
       "        vertical-align: top;\n",
       "    }\n",
       "\n",
       "    .dataframe thead th {\n",
       "        text-align: right;\n",
       "    }\n",
       "</style>\n",
       "<table border=\"1\" class=\"dataframe\">\n",
       "  <thead>\n",
       "    <tr style=\"text-align: right;\">\n",
       "      <th></th>\n",
       "      <th>precio</th>\n",
       "      <th>distrito</th>\n",
       "    </tr>\n",
       "    <tr>\n",
       "      <th>ano</th>\n",
       "      <th></th>\n",
       "      <th></th>\n",
       "    </tr>\n",
       "  </thead>\n",
       "  <tbody>\n",
       "    <tr>\n",
       "      <th>2007</th>\n",
       "      <td>12.679226</td>\n",
       "      <td>Arganzuela</td>\n",
       "    </tr>\n",
       "    <tr>\n",
       "      <th>2008</th>\n",
       "      <td>12.963422</td>\n",
       "      <td>Arganzuela</td>\n",
       "    </tr>\n",
       "    <tr>\n",
       "      <th>2009</th>\n",
       "      <td>11.900691</td>\n",
       "      <td>Arganzuela</td>\n",
       "    </tr>\n",
       "    <tr>\n",
       "      <th>2010</th>\n",
       "      <td>11.608368</td>\n",
       "      <td>Arganzuela</td>\n",
       "    </tr>\n",
       "    <tr>\n",
       "      <th>2011</th>\n",
       "      <td>11.461966</td>\n",
       "      <td>Arganzuela</td>\n",
       "    </tr>\n",
       "    <tr>\n",
       "      <th>2012</th>\n",
       "      <td>11.021184</td>\n",
       "      <td>Arganzuela</td>\n",
       "    </tr>\n",
       "    <tr>\n",
       "      <th>2013</th>\n",
       "      <td>10.382165</td>\n",
       "      <td>Arganzuela</td>\n",
       "    </tr>\n",
       "    <tr>\n",
       "      <th>2014</th>\n",
       "      <td>10.252846</td>\n",
       "      <td>Arganzuela</td>\n",
       "    </tr>\n",
       "    <tr>\n",
       "      <th>2015</th>\n",
       "      <td>10.689535</td>\n",
       "      <td>Arganzuela</td>\n",
       "    </tr>\n",
       "    <tr>\n",
       "      <th>2016</th>\n",
       "      <td>11.686872</td>\n",
       "      <td>Arganzuela</td>\n",
       "    </tr>\n",
       "    <tr>\n",
       "      <th>2017</th>\n",
       "      <td>12.840758</td>\n",
       "      <td>Arganzuela</td>\n",
       "    </tr>\n",
       "    <tr>\n",
       "      <th>2018</th>\n",
       "      <td>13.484852</td>\n",
       "      <td>Arganzuela</td>\n",
       "    </tr>\n",
       "  </tbody>\n",
       "</table>\n",
       "</div>"
      ],
      "text/plain": [
       "         precio    distrito\n",
       "ano                        \n",
       "2007  12.679226  Arganzuela\n",
       "2008  12.963422  Arganzuela\n",
       "2009  11.900691  Arganzuela\n",
       "2010  11.608368  Arganzuela\n",
       "2011  11.461966  Arganzuela\n",
       "2012  11.021184  Arganzuela\n",
       "2013  10.382165  Arganzuela\n",
       "2014  10.252846  Arganzuela\n",
       "2015  10.689535  Arganzuela\n",
       "2016  11.686872  Arganzuela\n",
       "2017  12.840758  Arganzuela\n",
       "2018  13.484852  Arganzuela"
      ]
     },
     "execution_count": 81,
     "metadata": {},
     "output_type": "execute_result"
    }
   ],
   "source": [
    "alquiler.groupby('ano').agg({'precio': 'mean', 'distrito': 'first'}) # Equivalente al código anterior."
   ]
  },
  {
   "cell_type": "markdown",
   "metadata": {},
   "source": [
    "Sin embargo, el precio medio mostrado no se tiene por qué corresponder con el distrito mostrado. (COT) "
   ]
  },
  {
   "cell_type": "markdown",
   "metadata": {},
   "source": [
    "Puedes ver más información sobre agrupaciones en la [documentación de pandas](https://pandas.pydata.org/pandas-docs/stable/groupby.html). Es especialmente útil la parte sobre transformaciones."
   ]
  },
  {
   "cell_type": "markdown",
   "metadata": {},
   "source": [
    "## Cruce\n",
    "\n",
    "Podemos cruzar dos tablas por una o varias columnas en pandas, de forma equivalente a como hacemos en SQL, con [`merge`](https://pandas.pydata.org/pandas-docs/stable/generated/pandas.DataFrame.merge.html). También podemos usar los distintos tipos de cruce:\n",
    "\n",
    "* `inner`: para obtener solamente los registros que crucen en ambas tablas\n",
    "* `left` o `right`: para mantener los registros de una de las dos tablas, crucen o no con la otra\n",
    "* `outer`: para manter los registros de ambas tablas, crucen o no"
   ]
  },
  {
   "cell_type": "code",
   "execution_count": 177,
   "metadata": {},
   "outputs": [
    {
     "data": {
      "text/html": [
       "<div>\n",
       "<style scoped>\n",
       "    .dataframe tbody tr th:only-of-type {\n",
       "        vertical-align: middle;\n",
       "    }\n",
       "\n",
       "    .dataframe tbody tr th {\n",
       "        vertical-align: top;\n",
       "    }\n",
       "\n",
       "    .dataframe thead th {\n",
       "        text-align: right;\n",
       "    }\n",
       "</style>\n",
       "<table border=\"1\" class=\"dataframe\">\n",
       "  <thead>\n",
       "    <tr style=\"text-align: right;\">\n",
       "      <th></th>\n",
       "      <th>distrito</th>\n",
       "      <th>poblacion</th>\n",
       "    </tr>\n",
       "  </thead>\n",
       "  <tbody>\n",
       "    <tr>\n",
       "      <th>0</th>\n",
       "      <td>Moratalaz</td>\n",
       "      <td>95000</td>\n",
       "    </tr>\n",
       "    <tr>\n",
       "      <th>1</th>\n",
       "      <td>Centro</td>\n",
       "      <td>150000</td>\n",
       "    </tr>\n",
       "    <tr>\n",
       "      <th>2</th>\n",
       "      <td>Barajas</td>\n",
       "      <td>46000</td>\n",
       "    </tr>\n",
       "    <tr>\n",
       "      <th>3</th>\n",
       "      <td>Desconocido</td>\n",
       "      <td>0</td>\n",
       "    </tr>\n",
       "  </tbody>\n",
       "</table>\n",
       "</div>"
      ],
      "text/plain": [
       "      distrito  poblacion\n",
       "0    Moratalaz      95000\n",
       "1       Centro     150000\n",
       "2      Barajas      46000\n",
       "3  Desconocido          0"
      ]
     },
     "execution_count": 177,
     "metadata": {},
     "output_type": "execute_result"
    }
   ],
   "source": [
    "# Aquí, además, un ejemplo de cómo crear un dataframe a partir de un diccionario\n",
    "df_ejemplo = pd.DataFrame({'distrito':  ['Moratalaz', 'Centro', 'Barajas','Desconocido'],\n",
    "                           'poblacion': [95000, 150000, 46000,0]})\n",
    "df_ejemplo"
   ]
  },
  {
   "cell_type": "markdown",
   "metadata": {},
   "source": [
    "* Haz un merge de 'alquiler' con 'df_ejemplo' con usando inner, left, right y outer. Observa cuales son las diferencias."
   ]
  },
  {
   "cell_type": "code",
   "execution_count": 90,
   "metadata": {
    "scrolled": false
   },
   "outputs": [
    {
     "data": {
      "text/html": [
       "<div>\n",
       "<style scoped>\n",
       "    .dataframe tbody tr th:only-of-type {\n",
       "        vertical-align: middle;\n",
       "    }\n",
       "\n",
       "    .dataframe tbody tr th {\n",
       "        vertical-align: top;\n",
       "    }\n",
       "\n",
       "    .dataframe thead th {\n",
       "        text-align: right;\n",
       "    }\n",
       "</style>\n",
       "<table border=\"1\" class=\"dataframe\">\n",
       "  <thead>\n",
       "    <tr style=\"text-align: right;\">\n",
       "      <th></th>\n",
       "      <th>distrito</th>\n",
       "      <th>ano</th>\n",
       "      <th>quarter</th>\n",
       "      <th>precio</th>\n",
       "      <th>precio_90_metros</th>\n",
       "      <th>ano_quarter</th>\n",
       "      <th>poblacion</th>\n",
       "    </tr>\n",
       "  </thead>\n",
       "  <tbody>\n",
       "    <tr>\n",
       "      <th>0</th>\n",
       "      <td>Arganzuela</td>\n",
       "      <td>2007</td>\n",
       "      <td>2</td>\n",
       "      <td>13.066587</td>\n",
       "      <td>1175.992857</td>\n",
       "      <td>2007.Quarter:2</td>\n",
       "      <td>NaN</td>\n",
       "    </tr>\n",
       "    <tr>\n",
       "      <th>1</th>\n",
       "      <td>Barajas</td>\n",
       "      <td>2007</td>\n",
       "      <td>2</td>\n",
       "      <td>11.199855</td>\n",
       "      <td>1007.986923</td>\n",
       "      <td>2007.Quarter:2</td>\n",
       "      <td>46000.0</td>\n",
       "    </tr>\n",
       "    <tr>\n",
       "      <th>2</th>\n",
       "      <td>Carabanchel</td>\n",
       "      <td>2007</td>\n",
       "      <td>2</td>\n",
       "      <td>11.127661</td>\n",
       "      <td>1001.489519</td>\n",
       "      <td>2007.Quarter:2</td>\n",
       "      <td>NaN</td>\n",
       "    </tr>\n",
       "    <tr>\n",
       "      <th>3</th>\n",
       "      <td>Centro</td>\n",
       "      <td>2007</td>\n",
       "      <td>2</td>\n",
       "      <td>17.746404</td>\n",
       "      <td>1597.176343</td>\n",
       "      <td>2007.Quarter:2</td>\n",
       "      <td>150000.0</td>\n",
       "    </tr>\n",
       "    <tr>\n",
       "      <th>4</th>\n",
       "      <td>Chamartín</td>\n",
       "      <td>2007</td>\n",
       "      <td>2</td>\n",
       "      <td>14.386480</td>\n",
       "      <td>1294.783156</td>\n",
       "      <td>2007.Quarter:2</td>\n",
       "      <td>NaN</td>\n",
       "    </tr>\n",
       "    <tr>\n",
       "      <th>...</th>\n",
       "      <td>...</td>\n",
       "      <td>...</td>\n",
       "      <td>...</td>\n",
       "      <td>...</td>\n",
       "      <td>...</td>\n",
       "      <td>...</td>\n",
       "      <td>...</td>\n",
       "    </tr>\n",
       "    <tr>\n",
       "      <th>835</th>\n",
       "      <td>Tetuan</td>\n",
       "      <td>2018</td>\n",
       "      <td>2</td>\n",
       "      <td>15.114558</td>\n",
       "      <td>1360.310221</td>\n",
       "      <td>2018.Quarter:2</td>\n",
       "      <td>NaN</td>\n",
       "    </tr>\n",
       "    <tr>\n",
       "      <th>836</th>\n",
       "      <td>Usera</td>\n",
       "      <td>2018</td>\n",
       "      <td>2</td>\n",
       "      <td>11.533458</td>\n",
       "      <td>1038.011202</td>\n",
       "      <td>2018.Quarter:2</td>\n",
       "      <td>NaN</td>\n",
       "    </tr>\n",
       "    <tr>\n",
       "      <th>837</th>\n",
       "      <td>Vicálvaro</td>\n",
       "      <td>2018</td>\n",
       "      <td>2</td>\n",
       "      <td>9.962139</td>\n",
       "      <td>896.592543</td>\n",
       "      <td>2018.Quarter:2</td>\n",
       "      <td>NaN</td>\n",
       "    </tr>\n",
       "    <tr>\n",
       "      <th>838</th>\n",
       "      <td>Villa De Vallecas</td>\n",
       "      <td>2018</td>\n",
       "      <td>2</td>\n",
       "      <td>10.915967</td>\n",
       "      <td>982.437051</td>\n",
       "      <td>2018.Quarter:2</td>\n",
       "      <td>NaN</td>\n",
       "    </tr>\n",
       "    <tr>\n",
       "      <th>839</th>\n",
       "      <td>Villaverde</td>\n",
       "      <td>2018</td>\n",
       "      <td>2</td>\n",
       "      <td>10.427527</td>\n",
       "      <td>938.477398</td>\n",
       "      <td>2018.Quarter:2</td>\n",
       "      <td>NaN</td>\n",
       "    </tr>\n",
       "  </tbody>\n",
       "</table>\n",
       "<p>840 rows × 7 columns</p>\n",
       "</div>"
      ],
      "text/plain": [
       "              distrito   ano  quarter     precio  precio_90_metros  \\\n",
       "0           Arganzuela  2007        2  13.066587       1175.992857   \n",
       "1              Barajas  2007        2  11.199855       1007.986923   \n",
       "2          Carabanchel  2007        2  11.127661       1001.489519   \n",
       "3               Centro  2007        2  17.746404       1597.176343   \n",
       "4            Chamartín  2007        2  14.386480       1294.783156   \n",
       "..                 ...   ...      ...        ...               ...   \n",
       "835             Tetuan  2018        2  15.114558       1360.310221   \n",
       "836              Usera  2018        2  11.533458       1038.011202   \n",
       "837          Vicálvaro  2018        2   9.962139        896.592543   \n",
       "838  Villa De Vallecas  2018        2  10.915967        982.437051   \n",
       "839         Villaverde  2018        2  10.427527        938.477398   \n",
       "\n",
       "        ano_quarter  poblacion  \n",
       "0    2007.Quarter:2        NaN  \n",
       "1    2007.Quarter:2    46000.0  \n",
       "2    2007.Quarter:2        NaN  \n",
       "3    2007.Quarter:2   150000.0  \n",
       "4    2007.Quarter:2        NaN  \n",
       "..              ...        ...  \n",
       "835  2018.Quarter:2        NaN  \n",
       "836  2018.Quarter:2        NaN  \n",
       "837  2018.Quarter:2        NaN  \n",
       "838  2018.Quarter:2        NaN  \n",
       "839  2018.Quarter:2        NaN  \n",
       "\n",
       "[840 rows x 7 columns]"
      ]
     },
     "execution_count": 90,
     "metadata": {},
     "output_type": "execute_result"
    }
   ],
   "source": [
    "alquiler.merge(df_ejemplo, on = 'distrito', how = 'left')"
   ]
  },
  {
   "cell_type": "markdown",
   "metadata": {},
   "source": [
    "Se queda con los datos del primer df que hemos escrito (alquiler) y coge los que existen del segundo (si no existe añade NaN)."
   ]
  },
  {
   "cell_type": "code",
   "execution_count": 91,
   "metadata": {
    "scrolled": true
   },
   "outputs": [
    {
     "data": {
      "text/html": [
       "<div>\n",
       "<style scoped>\n",
       "    .dataframe tbody tr th:only-of-type {\n",
       "        vertical-align: middle;\n",
       "    }\n",
       "\n",
       "    .dataframe tbody tr th {\n",
       "        vertical-align: top;\n",
       "    }\n",
       "\n",
       "    .dataframe thead th {\n",
       "        text-align: right;\n",
       "    }\n",
       "</style>\n",
       "<table border=\"1\" class=\"dataframe\">\n",
       "  <thead>\n",
       "    <tr style=\"text-align: right;\">\n",
       "      <th></th>\n",
       "      <th>distrito</th>\n",
       "      <th>ano</th>\n",
       "      <th>quarter</th>\n",
       "      <th>precio</th>\n",
       "      <th>precio_90_metros</th>\n",
       "      <th>ano_quarter</th>\n",
       "      <th>poblacion</th>\n",
       "    </tr>\n",
       "  </thead>\n",
       "  <tbody>\n",
       "    <tr>\n",
       "      <th>0</th>\n",
       "      <td>Barajas</td>\n",
       "      <td>2007.0</td>\n",
       "      <td>2.0</td>\n",
       "      <td>11.199855</td>\n",
       "      <td>1007.986923</td>\n",
       "      <td>2007.Quarter:2</td>\n",
       "      <td>46000</td>\n",
       "    </tr>\n",
       "    <tr>\n",
       "      <th>1</th>\n",
       "      <td>Barajas</td>\n",
       "      <td>2007.0</td>\n",
       "      <td>4.0</td>\n",
       "      <td>11.958242</td>\n",
       "      <td>1076.241741</td>\n",
       "      <td>2007.Quarter:4</td>\n",
       "      <td>46000</td>\n",
       "    </tr>\n",
       "    <tr>\n",
       "      <th>2</th>\n",
       "      <td>Barajas</td>\n",
       "      <td>2008.0</td>\n",
       "      <td>2.0</td>\n",
       "      <td>12.073822</td>\n",
       "      <td>1086.643949</td>\n",
       "      <td>2008.Quarter:2</td>\n",
       "      <td>46000</td>\n",
       "    </tr>\n",
       "    <tr>\n",
       "      <th>3</th>\n",
       "      <td>Barajas</td>\n",
       "      <td>2008.0</td>\n",
       "      <td>4.0</td>\n",
       "      <td>11.606072</td>\n",
       "      <td>1044.546493</td>\n",
       "      <td>2008.Quarter:4</td>\n",
       "      <td>46000</td>\n",
       "    </tr>\n",
       "    <tr>\n",
       "      <th>4</th>\n",
       "      <td>Barajas</td>\n",
       "      <td>2009.0</td>\n",
       "      <td>2.0</td>\n",
       "      <td>11.024642</td>\n",
       "      <td>992.217775</td>\n",
       "      <td>2009.Quarter:2</td>\n",
       "      <td>46000</td>\n",
       "    </tr>\n",
       "    <tr>\n",
       "      <th>...</th>\n",
       "      <td>...</td>\n",
       "      <td>...</td>\n",
       "      <td>...</td>\n",
       "      <td>...</td>\n",
       "      <td>...</td>\n",
       "      <td>...</td>\n",
       "      <td>...</td>\n",
       "    </tr>\n",
       "    <tr>\n",
       "      <th>116</th>\n",
       "      <td>Moratalaz</td>\n",
       "      <td>2017.0</td>\n",
       "      <td>3.0</td>\n",
       "      <td>10.827176</td>\n",
       "      <td>974.445847</td>\n",
       "      <td>2017.Quarter:3</td>\n",
       "      <td>95000</td>\n",
       "    </tr>\n",
       "    <tr>\n",
       "      <th>117</th>\n",
       "      <td>Moratalaz</td>\n",
       "      <td>2017.0</td>\n",
       "      <td>4.0</td>\n",
       "      <td>10.940778</td>\n",
       "      <td>984.669976</td>\n",
       "      <td>2017.Quarter:4</td>\n",
       "      <td>95000</td>\n",
       "    </tr>\n",
       "    <tr>\n",
       "      <th>118</th>\n",
       "      <td>Moratalaz</td>\n",
       "      <td>2018.0</td>\n",
       "      <td>1.0</td>\n",
       "      <td>10.992474</td>\n",
       "      <td>989.322639</td>\n",
       "      <td>2018.Quarter:1</td>\n",
       "      <td>95000</td>\n",
       "    </tr>\n",
       "    <tr>\n",
       "      <th>119</th>\n",
       "      <td>Moratalaz</td>\n",
       "      <td>2018.0</td>\n",
       "      <td>2.0</td>\n",
       "      <td>10.769478</td>\n",
       "      <td>969.253045</td>\n",
       "      <td>2018.Quarter:2</td>\n",
       "      <td>95000</td>\n",
       "    </tr>\n",
       "    <tr>\n",
       "      <th>120</th>\n",
       "      <td>Desconocido</td>\n",
       "      <td>NaN</td>\n",
       "      <td>NaN</td>\n",
       "      <td>NaN</td>\n",
       "      <td>NaN</td>\n",
       "      <td>NaN</td>\n",
       "      <td>0</td>\n",
       "    </tr>\n",
       "  </tbody>\n",
       "</table>\n",
       "<p>121 rows × 7 columns</p>\n",
       "</div>"
      ],
      "text/plain": [
       "        distrito     ano  quarter     precio  precio_90_metros  \\\n",
       "0        Barajas  2007.0      2.0  11.199855       1007.986923   \n",
       "1        Barajas  2007.0      4.0  11.958242       1076.241741   \n",
       "2        Barajas  2008.0      2.0  12.073822       1086.643949   \n",
       "3        Barajas  2008.0      4.0  11.606072       1044.546493   \n",
       "4        Barajas  2009.0      2.0  11.024642        992.217775   \n",
       "..           ...     ...      ...        ...               ...   \n",
       "116    Moratalaz  2017.0      3.0  10.827176        974.445847   \n",
       "117    Moratalaz  2017.0      4.0  10.940778        984.669976   \n",
       "118    Moratalaz  2018.0      1.0  10.992474        989.322639   \n",
       "119    Moratalaz  2018.0      2.0  10.769478        969.253045   \n",
       "120  Desconocido     NaN      NaN        NaN               NaN   \n",
       "\n",
       "        ano_quarter  poblacion  \n",
       "0    2007.Quarter:2      46000  \n",
       "1    2007.Quarter:4      46000  \n",
       "2    2008.Quarter:2      46000  \n",
       "3    2008.Quarter:4      46000  \n",
       "4    2009.Quarter:2      46000  \n",
       "..              ...        ...  \n",
       "116  2017.Quarter:3      95000  \n",
       "117  2017.Quarter:4      95000  \n",
       "118  2018.Quarter:1      95000  \n",
       "119  2018.Quarter:2      95000  \n",
       "120             NaN          0  \n",
       "\n",
       "[121 rows x 7 columns]"
      ]
     },
     "execution_count": 91,
     "metadata": {},
     "output_type": "execute_result"
    }
   ],
   "source": [
    "alquiler.merge(df_ejemplo, left_on = 'distrito', right_on='distrito', how = 'right')"
   ]
  },
  {
   "cell_type": "markdown",
   "metadata": {},
   "source": [
    "Se queda con los datos del segundo df que hemos escrito. Aquí hemos escrito la notación completa del on, aunque aquí no haga falta escribirla completa."
   ]
  },
  {
   "cell_type": "code",
   "execution_count": 92,
   "metadata": {
    "scrolled": false
   },
   "outputs": [
    {
     "data": {
      "text/html": [
       "<div>\n",
       "<style scoped>\n",
       "    .dataframe tbody tr th:only-of-type {\n",
       "        vertical-align: middle;\n",
       "    }\n",
       "\n",
       "    .dataframe tbody tr th {\n",
       "        vertical-align: top;\n",
       "    }\n",
       "\n",
       "    .dataframe thead th {\n",
       "        text-align: right;\n",
       "    }\n",
       "</style>\n",
       "<table border=\"1\" class=\"dataframe\">\n",
       "  <thead>\n",
       "    <tr style=\"text-align: right;\">\n",
       "      <th></th>\n",
       "      <th>distrito</th>\n",
       "      <th>ano</th>\n",
       "      <th>quarter</th>\n",
       "      <th>precio</th>\n",
       "      <th>precio_90_metros</th>\n",
       "      <th>ano_quarter</th>\n",
       "      <th>poblacion</th>\n",
       "    </tr>\n",
       "  </thead>\n",
       "  <tbody>\n",
       "    <tr>\n",
       "      <th>0</th>\n",
       "      <td>Barajas</td>\n",
       "      <td>2007</td>\n",
       "      <td>2</td>\n",
       "      <td>11.199855</td>\n",
       "      <td>1007.986923</td>\n",
       "      <td>2007.Quarter:2</td>\n",
       "      <td>46000</td>\n",
       "    </tr>\n",
       "    <tr>\n",
       "      <th>1</th>\n",
       "      <td>Barajas</td>\n",
       "      <td>2007</td>\n",
       "      <td>4</td>\n",
       "      <td>11.958242</td>\n",
       "      <td>1076.241741</td>\n",
       "      <td>2007.Quarter:4</td>\n",
       "      <td>46000</td>\n",
       "    </tr>\n",
       "    <tr>\n",
       "      <th>2</th>\n",
       "      <td>Barajas</td>\n",
       "      <td>2008</td>\n",
       "      <td>2</td>\n",
       "      <td>12.073822</td>\n",
       "      <td>1086.643949</td>\n",
       "      <td>2008.Quarter:2</td>\n",
       "      <td>46000</td>\n",
       "    </tr>\n",
       "    <tr>\n",
       "      <th>3</th>\n",
       "      <td>Barajas</td>\n",
       "      <td>2008</td>\n",
       "      <td>4</td>\n",
       "      <td>11.606072</td>\n",
       "      <td>1044.546493</td>\n",
       "      <td>2008.Quarter:4</td>\n",
       "      <td>46000</td>\n",
       "    </tr>\n",
       "    <tr>\n",
       "      <th>4</th>\n",
       "      <td>Barajas</td>\n",
       "      <td>2009</td>\n",
       "      <td>2</td>\n",
       "      <td>11.024642</td>\n",
       "      <td>992.217775</td>\n",
       "      <td>2009.Quarter:2</td>\n",
       "      <td>46000</td>\n",
       "    </tr>\n",
       "    <tr>\n",
       "      <th>...</th>\n",
       "      <td>...</td>\n",
       "      <td>...</td>\n",
       "      <td>...</td>\n",
       "      <td>...</td>\n",
       "      <td>...</td>\n",
       "      <td>...</td>\n",
       "      <td>...</td>\n",
       "    </tr>\n",
       "    <tr>\n",
       "      <th>115</th>\n",
       "      <td>Moratalaz</td>\n",
       "      <td>2017</td>\n",
       "      <td>2</td>\n",
       "      <td>10.153308</td>\n",
       "      <td>913.797751</td>\n",
       "      <td>2017.Quarter:2</td>\n",
       "      <td>95000</td>\n",
       "    </tr>\n",
       "    <tr>\n",
       "      <th>116</th>\n",
       "      <td>Moratalaz</td>\n",
       "      <td>2017</td>\n",
       "      <td>3</td>\n",
       "      <td>10.827176</td>\n",
       "      <td>974.445847</td>\n",
       "      <td>2017.Quarter:3</td>\n",
       "      <td>95000</td>\n",
       "    </tr>\n",
       "    <tr>\n",
       "      <th>117</th>\n",
       "      <td>Moratalaz</td>\n",
       "      <td>2017</td>\n",
       "      <td>4</td>\n",
       "      <td>10.940778</td>\n",
       "      <td>984.669976</td>\n",
       "      <td>2017.Quarter:4</td>\n",
       "      <td>95000</td>\n",
       "    </tr>\n",
       "    <tr>\n",
       "      <th>118</th>\n",
       "      <td>Moratalaz</td>\n",
       "      <td>2018</td>\n",
       "      <td>1</td>\n",
       "      <td>10.992474</td>\n",
       "      <td>989.322639</td>\n",
       "      <td>2018.Quarter:1</td>\n",
       "      <td>95000</td>\n",
       "    </tr>\n",
       "    <tr>\n",
       "      <th>119</th>\n",
       "      <td>Moratalaz</td>\n",
       "      <td>2018</td>\n",
       "      <td>2</td>\n",
       "      <td>10.769478</td>\n",
       "      <td>969.253045</td>\n",
       "      <td>2018.Quarter:2</td>\n",
       "      <td>95000</td>\n",
       "    </tr>\n",
       "  </tbody>\n",
       "</table>\n",
       "<p>120 rows × 7 columns</p>\n",
       "</div>"
      ],
      "text/plain": [
       "      distrito   ano  quarter     precio  precio_90_metros     ano_quarter  \\\n",
       "0      Barajas  2007        2  11.199855       1007.986923  2007.Quarter:2   \n",
       "1      Barajas  2007        4  11.958242       1076.241741  2007.Quarter:4   \n",
       "2      Barajas  2008        2  12.073822       1086.643949  2008.Quarter:2   \n",
       "3      Barajas  2008        4  11.606072       1044.546493  2008.Quarter:4   \n",
       "4      Barajas  2009        2  11.024642        992.217775  2009.Quarter:2   \n",
       "..         ...   ...      ...        ...               ...             ...   \n",
       "115  Moratalaz  2017        2  10.153308        913.797751  2017.Quarter:2   \n",
       "116  Moratalaz  2017        3  10.827176        974.445847  2017.Quarter:3   \n",
       "117  Moratalaz  2017        4  10.940778        984.669976  2017.Quarter:4   \n",
       "118  Moratalaz  2018        1  10.992474        989.322639  2018.Quarter:1   \n",
       "119  Moratalaz  2018        2  10.769478        969.253045  2018.Quarter:2   \n",
       "\n",
       "     poblacion  \n",
       "0        46000  \n",
       "1        46000  \n",
       "2        46000  \n",
       "3        46000  \n",
       "4        46000  \n",
       "..         ...  \n",
       "115      95000  \n",
       "116      95000  \n",
       "117      95000  \n",
       "118      95000  \n",
       "119      95000  \n",
       "\n",
       "[120 rows x 7 columns]"
      ]
     },
     "execution_count": 92,
     "metadata": {},
     "output_type": "execute_result"
    }
   ],
   "source": [
    "alquiler.merge(df_ejemplo, on = 'distrito', how ='inner')"
   ]
  },
  {
   "cell_type": "markdown",
   "metadata": {},
   "source": [
    "Solo coge las filas en las que el distrito (columnas que actúa como clave en este caso) está presente en ambos df. Inner es el valor por defecto en el merge. En este caso se puede suprimir el on porque solo hay un lugar por donde unir, pero si hubiera más tendríamos que escribir el on, como lo hemos hecho."
   ]
  },
  {
   "cell_type": "code",
   "execution_count": 93,
   "metadata": {
    "scrolled": false
   },
   "outputs": [
    {
     "data": {
      "text/html": [
       "<div>\n",
       "<style scoped>\n",
       "    .dataframe tbody tr th:only-of-type {\n",
       "        vertical-align: middle;\n",
       "    }\n",
       "\n",
       "    .dataframe tbody tr th {\n",
       "        vertical-align: top;\n",
       "    }\n",
       "\n",
       "    .dataframe thead th {\n",
       "        text-align: right;\n",
       "    }\n",
       "</style>\n",
       "<table border=\"1\" class=\"dataframe\">\n",
       "  <thead>\n",
       "    <tr style=\"text-align: right;\">\n",
       "      <th></th>\n",
       "      <th>distrito</th>\n",
       "      <th>ano</th>\n",
       "      <th>quarter</th>\n",
       "      <th>precio</th>\n",
       "      <th>precio_90_metros</th>\n",
       "      <th>ano_quarter</th>\n",
       "      <th>poblacion</th>\n",
       "    </tr>\n",
       "  </thead>\n",
       "  <tbody>\n",
       "    <tr>\n",
       "      <th>0</th>\n",
       "      <td>Arganzuela</td>\n",
       "      <td>2007.0</td>\n",
       "      <td>2.0</td>\n",
       "      <td>13.066587</td>\n",
       "      <td>1175.992857</td>\n",
       "      <td>2007.Quarter:2</td>\n",
       "      <td>NaN</td>\n",
       "    </tr>\n",
       "    <tr>\n",
       "      <th>1</th>\n",
       "      <td>Arganzuela</td>\n",
       "      <td>2007.0</td>\n",
       "      <td>4.0</td>\n",
       "      <td>13.999737</td>\n",
       "      <td>1259.976356</td>\n",
       "      <td>2007.Quarter:4</td>\n",
       "      <td>NaN</td>\n",
       "    </tr>\n",
       "    <tr>\n",
       "      <th>2</th>\n",
       "      <td>Arganzuela</td>\n",
       "      <td>2008.0</td>\n",
       "      <td>2.0</td>\n",
       "      <td>13.567225</td>\n",
       "      <td>1221.050269</td>\n",
       "      <td>2008.Quarter:2</td>\n",
       "      <td>NaN</td>\n",
       "    </tr>\n",
       "    <tr>\n",
       "      <th>3</th>\n",
       "      <td>Arganzuela</td>\n",
       "      <td>2008.0</td>\n",
       "      <td>4.0</td>\n",
       "      <td>13.193953</td>\n",
       "      <td>1187.455765</td>\n",
       "      <td>2008.Quarter:4</td>\n",
       "      <td>NaN</td>\n",
       "    </tr>\n",
       "    <tr>\n",
       "      <th>4</th>\n",
       "      <td>Arganzuela</td>\n",
       "      <td>2009.0</td>\n",
       "      <td>2.0</td>\n",
       "      <td>12.710960</td>\n",
       "      <td>1143.986414</td>\n",
       "      <td>2009.Quarter:2</td>\n",
       "      <td>NaN</td>\n",
       "    </tr>\n",
       "    <tr>\n",
       "      <th>...</th>\n",
       "      <td>...</td>\n",
       "      <td>...</td>\n",
       "      <td>...</td>\n",
       "      <td>...</td>\n",
       "      <td>...</td>\n",
       "      <td>...</td>\n",
       "      <td>...</td>\n",
       "    </tr>\n",
       "    <tr>\n",
       "      <th>836</th>\n",
       "      <td>Villaverde</td>\n",
       "      <td>2017.0</td>\n",
       "      <td>3.0</td>\n",
       "      <td>9.980975</td>\n",
       "      <td>898.287705</td>\n",
       "      <td>2017.Quarter:3</td>\n",
       "      <td>NaN</td>\n",
       "    </tr>\n",
       "    <tr>\n",
       "      <th>837</th>\n",
       "      <td>Villaverde</td>\n",
       "      <td>2017.0</td>\n",
       "      <td>4.0</td>\n",
       "      <td>10.296415</td>\n",
       "      <td>926.677319</td>\n",
       "      <td>2017.Quarter:4</td>\n",
       "      <td>NaN</td>\n",
       "    </tr>\n",
       "    <tr>\n",
       "      <th>838</th>\n",
       "      <td>Villaverde</td>\n",
       "      <td>2018.0</td>\n",
       "      <td>1.0</td>\n",
       "      <td>10.230638</td>\n",
       "      <td>920.757406</td>\n",
       "      <td>2018.Quarter:1</td>\n",
       "      <td>NaN</td>\n",
       "    </tr>\n",
       "    <tr>\n",
       "      <th>839</th>\n",
       "      <td>Villaverde</td>\n",
       "      <td>2018.0</td>\n",
       "      <td>2.0</td>\n",
       "      <td>10.427527</td>\n",
       "      <td>938.477398</td>\n",
       "      <td>2018.Quarter:2</td>\n",
       "      <td>NaN</td>\n",
       "    </tr>\n",
       "    <tr>\n",
       "      <th>840</th>\n",
       "      <td>Desconocido</td>\n",
       "      <td>NaN</td>\n",
       "      <td>NaN</td>\n",
       "      <td>NaN</td>\n",
       "      <td>NaN</td>\n",
       "      <td>NaN</td>\n",
       "      <td>0.0</td>\n",
       "    </tr>\n",
       "  </tbody>\n",
       "</table>\n",
       "<p>841 rows × 7 columns</p>\n",
       "</div>"
      ],
      "text/plain": [
       "        distrito     ano  quarter     precio  precio_90_metros  \\\n",
       "0     Arganzuela  2007.0      2.0  13.066587       1175.992857   \n",
       "1     Arganzuela  2007.0      4.0  13.999737       1259.976356   \n",
       "2     Arganzuela  2008.0      2.0  13.567225       1221.050269   \n",
       "3     Arganzuela  2008.0      4.0  13.193953       1187.455765   \n",
       "4     Arganzuela  2009.0      2.0  12.710960       1143.986414   \n",
       "..           ...     ...      ...        ...               ...   \n",
       "836   Villaverde  2017.0      3.0   9.980975        898.287705   \n",
       "837   Villaverde  2017.0      4.0  10.296415        926.677319   \n",
       "838   Villaverde  2018.0      1.0  10.230638        920.757406   \n",
       "839   Villaverde  2018.0      2.0  10.427527        938.477398   \n",
       "840  Desconocido     NaN      NaN        NaN               NaN   \n",
       "\n",
       "        ano_quarter  poblacion  \n",
       "0    2007.Quarter:2        NaN  \n",
       "1    2007.Quarter:4        NaN  \n",
       "2    2008.Quarter:2        NaN  \n",
       "3    2008.Quarter:4        NaN  \n",
       "4    2009.Quarter:2        NaN  \n",
       "..              ...        ...  \n",
       "836  2017.Quarter:3        NaN  \n",
       "837  2017.Quarter:4        NaN  \n",
       "838  2018.Quarter:1        NaN  \n",
       "839  2018.Quarter:2        NaN  \n",
       "840             NaN        0.0  \n",
       "\n",
       "[841 rows x 7 columns]"
      ]
     },
     "execution_count": 93,
     "metadata": {},
     "output_type": "execute_result"
    }
   ],
   "source": [
    "alquiler.merge(df_ejemplo, on = 'distrito', how = 'outer')"
   ]
  },
  {
   "cell_type": "markdown",
   "metadata": {},
   "source": [
    "Otra notación que también se usa:"
   ]
  },
  {
   "cell_type": "code",
   "execution_count": 95,
   "metadata": {
    "scrolled": true
   },
   "outputs": [
    {
     "data": {
      "text/html": [
       "<div>\n",
       "<style scoped>\n",
       "    .dataframe tbody tr th:only-of-type {\n",
       "        vertical-align: middle;\n",
       "    }\n",
       "\n",
       "    .dataframe tbody tr th {\n",
       "        vertical-align: top;\n",
       "    }\n",
       "\n",
       "    .dataframe thead th {\n",
       "        text-align: right;\n",
       "    }\n",
       "</style>\n",
       "<table border=\"1\" class=\"dataframe\">\n",
       "  <thead>\n",
       "    <tr style=\"text-align: right;\">\n",
       "      <th></th>\n",
       "      <th>distrito</th>\n",
       "      <th>ano</th>\n",
       "      <th>quarter</th>\n",
       "      <th>precio</th>\n",
       "      <th>precio_90_metros</th>\n",
       "      <th>ano_quarter</th>\n",
       "      <th>poblacion</th>\n",
       "    </tr>\n",
       "  </thead>\n",
       "  <tbody>\n",
       "    <tr>\n",
       "      <th>0</th>\n",
       "      <td>Arganzuela</td>\n",
       "      <td>2007.0</td>\n",
       "      <td>2.0</td>\n",
       "      <td>13.066587</td>\n",
       "      <td>1175.992857</td>\n",
       "      <td>2007.Quarter:2</td>\n",
       "      <td>NaN</td>\n",
       "    </tr>\n",
       "    <tr>\n",
       "      <th>1</th>\n",
       "      <td>Arganzuela</td>\n",
       "      <td>2007.0</td>\n",
       "      <td>4.0</td>\n",
       "      <td>13.999737</td>\n",
       "      <td>1259.976356</td>\n",
       "      <td>2007.Quarter:4</td>\n",
       "      <td>NaN</td>\n",
       "    </tr>\n",
       "    <tr>\n",
       "      <th>2</th>\n",
       "      <td>Arganzuela</td>\n",
       "      <td>2008.0</td>\n",
       "      <td>2.0</td>\n",
       "      <td>13.567225</td>\n",
       "      <td>1221.050269</td>\n",
       "      <td>2008.Quarter:2</td>\n",
       "      <td>NaN</td>\n",
       "    </tr>\n",
       "    <tr>\n",
       "      <th>3</th>\n",
       "      <td>Arganzuela</td>\n",
       "      <td>2008.0</td>\n",
       "      <td>4.0</td>\n",
       "      <td>13.193953</td>\n",
       "      <td>1187.455765</td>\n",
       "      <td>2008.Quarter:4</td>\n",
       "      <td>NaN</td>\n",
       "    </tr>\n",
       "    <tr>\n",
       "      <th>4</th>\n",
       "      <td>Arganzuela</td>\n",
       "      <td>2009.0</td>\n",
       "      <td>2.0</td>\n",
       "      <td>12.710960</td>\n",
       "      <td>1143.986414</td>\n",
       "      <td>2009.Quarter:2</td>\n",
       "      <td>NaN</td>\n",
       "    </tr>\n",
       "    <tr>\n",
       "      <th>...</th>\n",
       "      <td>...</td>\n",
       "      <td>...</td>\n",
       "      <td>...</td>\n",
       "      <td>...</td>\n",
       "      <td>...</td>\n",
       "      <td>...</td>\n",
       "      <td>...</td>\n",
       "    </tr>\n",
       "    <tr>\n",
       "      <th>836</th>\n",
       "      <td>Villaverde</td>\n",
       "      <td>2017.0</td>\n",
       "      <td>3.0</td>\n",
       "      <td>9.980975</td>\n",
       "      <td>898.287705</td>\n",
       "      <td>2017.Quarter:3</td>\n",
       "      <td>NaN</td>\n",
       "    </tr>\n",
       "    <tr>\n",
       "      <th>837</th>\n",
       "      <td>Villaverde</td>\n",
       "      <td>2017.0</td>\n",
       "      <td>4.0</td>\n",
       "      <td>10.296415</td>\n",
       "      <td>926.677319</td>\n",
       "      <td>2017.Quarter:4</td>\n",
       "      <td>NaN</td>\n",
       "    </tr>\n",
       "    <tr>\n",
       "      <th>838</th>\n",
       "      <td>Villaverde</td>\n",
       "      <td>2018.0</td>\n",
       "      <td>1.0</td>\n",
       "      <td>10.230638</td>\n",
       "      <td>920.757406</td>\n",
       "      <td>2018.Quarter:1</td>\n",
       "      <td>NaN</td>\n",
       "    </tr>\n",
       "    <tr>\n",
       "      <th>839</th>\n",
       "      <td>Villaverde</td>\n",
       "      <td>2018.0</td>\n",
       "      <td>2.0</td>\n",
       "      <td>10.427527</td>\n",
       "      <td>938.477398</td>\n",
       "      <td>2018.Quarter:2</td>\n",
       "      <td>NaN</td>\n",
       "    </tr>\n",
       "    <tr>\n",
       "      <th>840</th>\n",
       "      <td>Desconocido</td>\n",
       "      <td>NaN</td>\n",
       "      <td>NaN</td>\n",
       "      <td>NaN</td>\n",
       "      <td>NaN</td>\n",
       "      <td>NaN</td>\n",
       "      <td>0.0</td>\n",
       "    </tr>\n",
       "  </tbody>\n",
       "</table>\n",
       "<p>841 rows × 7 columns</p>\n",
       "</div>"
      ],
      "text/plain": [
       "        distrito     ano  quarter     precio  precio_90_metros  \\\n",
       "0     Arganzuela  2007.0      2.0  13.066587       1175.992857   \n",
       "1     Arganzuela  2007.0      4.0  13.999737       1259.976356   \n",
       "2     Arganzuela  2008.0      2.0  13.567225       1221.050269   \n",
       "3     Arganzuela  2008.0      4.0  13.193953       1187.455765   \n",
       "4     Arganzuela  2009.0      2.0  12.710960       1143.986414   \n",
       "..           ...     ...      ...        ...               ...   \n",
       "836   Villaverde  2017.0      3.0   9.980975        898.287705   \n",
       "837   Villaverde  2017.0      4.0  10.296415        926.677319   \n",
       "838   Villaverde  2018.0      1.0  10.230638        920.757406   \n",
       "839   Villaverde  2018.0      2.0  10.427527        938.477398   \n",
       "840  Desconocido     NaN      NaN        NaN               NaN   \n",
       "\n",
       "        ano_quarter  poblacion  \n",
       "0    2007.Quarter:2        NaN  \n",
       "1    2007.Quarter:4        NaN  \n",
       "2    2008.Quarter:2        NaN  \n",
       "3    2008.Quarter:4        NaN  \n",
       "4    2009.Quarter:2        NaN  \n",
       "..              ...        ...  \n",
       "836  2017.Quarter:3        NaN  \n",
       "837  2017.Quarter:4        NaN  \n",
       "838  2018.Quarter:1        NaN  \n",
       "839  2018.Quarter:2        NaN  \n",
       "840             NaN        0.0  \n",
       "\n",
       "[841 rows x 7 columns]"
      ]
     },
     "execution_count": 95,
     "metadata": {},
     "output_type": "execute_result"
    }
   ],
   "source": [
    "pd.merge(alquiler, df_ejemplo, on = 'distrito', how = 'outer')"
   ]
  },
  {
   "cell_type": "markdown",
   "metadata": {},
   "source": [
    "Pone todas las filas, incluso si no hay datos en el otro df (en cuyo caso añade NaN en los lugares en los que no hay datos)."
   ]
  },
  {
   "cell_type": "code",
   "execution_count": 185,
   "metadata": {},
   "outputs": [],
   "source": [
    "import seaborn as sns"
   ]
  },
  {
   "cell_type": "code",
   "execution_count": 188,
   "metadata": {
    "scrolled": true
   },
   "outputs": [
    {
     "data": {
      "text/plain": [
       "<seaborn.axisgrid.PairGrid at 0x1d2523edc40>"
      ]
     },
     "execution_count": 188,
     "metadata": {},
     "output_type": "execute_result"
    },
    {
     "data": {
      "image/png": "[encoded data removed]",
      "text/plain": [
       "<Figure size 851.875x720 with 20 Axes>"
      ]
     },
     "metadata": {
      "needs_background": "light"
     },
     "output_type": "display_data"
    }
   ],
   "source": [
    "sns.pairplot(alquiler, hue = 'distrito')"
   ]
  },
  {
   "cell_type": "code",
   "execution_count": 214,
   "metadata": {},
   "outputs": [],
   "source": [
    "import plotly.express as px\n",
    "from matplotlib import pyplot as plt"
   ]
  },
  {
   "cell_type": "code",
   "execution_count": 193,
   "metadata": {
    "scrolled": false
   },
   "outputs": [
    {
     "data": {
      "application/vnd.plotly.v1+json": {
       "config": {
        "plotlyServerURL": "https://plot.ly"
       },
       "data": [
        {
         "hovertemplate": "distrito=Arganzuela<br>ano=%{x}<br>precio_90_metros=%{y}<extra></extra>",
         "legendgroup": "Arganzuela",
         "line": {
          "color": "#636efa",
          "dash": "solid"
         },
         "mode": "lines",
         "name": "Arganzuela",
         "orientation": "v",
         "showlegend": true,
         "type": "scatter",
         "x": [
          2010,
          2011,
          2012,
          2013,
          2014,
          2015,
          2016,
          2017,
          2018
         ],
         "xaxis": "x",
         "y": [
          1139.38917876981,
          1085.8292105884382,
          1040.8221444171509,
          1011.218463852093,
          984.373032563694,
          1005.5468272071871,
          1095.094325835225,
          1271.743917704694,
          1336.6738458830428
         ],
         "yaxis": "y"
        },
        {
         "hovertemplate": "distrito=Barajas<br>ano=%{x}<br>precio_90_metros=%{y}<extra></extra>",
         "legendgroup": "Barajas",
         "line": {
          "color": "#EF553B",
          "dash": "solid"
         },
         "mode": "lines",
         "name": "Barajas",
         "orientation": "v",
         "showlegend": true,
         "type": "scatter",
         "x": [
          2010,
          2011,
          2012,
          2013,
          2014,
          2015,
          2016,
          2017,
          2018
         ],
         "xaxis": "x",
         "y": [
          968.6916288822599,
          1011.9522843045539,
          975.614268517857,
          936.600041442501,
          900.7333964469001,
          903.787601388534,
          922.2137991775529,
          1042.9346601472319,
          1147.389310925235
         ],
         "yaxis": "y"
        },
        {
         "hovertemplate": "distrito=Carabanchel<br>ano=%{x}<br>precio_90_metros=%{y}<extra></extra>",
         "legendgroup": "Carabanchel",
         "line": {
          "color": "#00cc96",
          "dash": "solid"
         },
         "mode": "lines",
         "name": "Carabanchel",
         "orientation": "v",
         "showlegend": true,
         "type": "scatter",
         "x": [
          2010,
          2011,
          2012,
          2013,
          2014,
          2015,
          2016,
          2017,
          2018
         ],
         "xaxis": "x",
         "y": [
          947.408364473184,
          930.7403243077139,
          889.5651176144746,
          824.0654269702782,
          795.0159402252463,
          751.9589594228465,
          805.241044232351,
          954.752617901331,
          1049.142831548256
         ],
         "yaxis": "y"
        },
        {
         "hovertemplate": "distrito=Centro<br>ano=%{x}<br>precio_90_metros=%{y}<extra></extra>",
         "legendgroup": "Centro",
         "line": {
          "color": "#ab63fa",
          "dash": "solid"
         },
         "mode": "lines",
         "name": "Centro",
         "orientation": "v",
         "showlegend": true,
         "type": "scatter",
         "x": [
          2010,
          2011,
          2012,
          2013,
          2014,
          2015,
          2016,
          2017,
          2018
         ],
         "xaxis": "x",
         "y": [
          1397.344486534047,
          1357.050011785749,
          1334.013969944151,
          1233.4020713043121,
          1223.142971002767,
          1245.6315696727888,
          1432.075865516307,
          1674.528551740305,
          1737.7746133665328
         ],
         "yaxis": "y"
        },
        {
         "hovertemplate": "distrito=Chamartín<br>ano=%{x}<br>precio_90_metros=%{y}<extra></extra>",
         "legendgroup": "Chamartín",
         "line": {
          "color": "#FFA15A",
          "dash": "solid"
         },
         "mode": "lines",
         "name": "Chamartín",
         "orientation": "v",
         "showlegend": true,
         "type": "scatter",
         "x": [
          2010,
          2011,
          2012,
          2013,
          2014,
          2015,
          2016,
          2017,
          2018
         ],
         "xaxis": "x",
         "y": [
          1241.831687598036,
          1205.8310169131762,
          1210.2710652219062,
          1103.28551340741,
          1104.161081190021,
          1130.774820177843,
          1221.192365370435,
          1357.148657728287,
          1465.093916246646
         ],
         "yaxis": "y"
        },
        {
         "hovertemplate": "distrito=Chamberí<br>ano=%{x}<br>precio_90_metros=%{y}<extra></extra>",
         "legendgroup": "Chamberí",
         "line": {
          "color": "#19d3f3",
          "dash": "solid"
         },
         "mode": "lines",
         "name": "Chamberí",
         "orientation": "v",
         "showlegend": true,
         "type": "scatter",
         "x": [
          2010,
          2011,
          2012,
          2013,
          2014,
          2015,
          2016,
          2017,
          2018
         ],
         "xaxis": "x",
         "y": [
          1294.574608506816,
          1272.014043623577,
          1233.5840070802922,
          1176.4955631933271,
          1203.023228549616,
          1221.943937301279,
          1328.632664869413,
          1500.7256834611771,
          1583.8516886158077
         ],
         "yaxis": "y"
        },
        {
         "hovertemplate": "distrito=Ciudad Lineal<br>ano=%{x}<br>precio_90_metros=%{y}<extra></extra>",
         "legendgroup": "Ciudad Lineal",
         "line": {
          "color": "#FF6692",
          "dash": "solid"
         },
         "mode": "lines",
         "name": "Ciudad Lineal",
         "orientation": "v",
         "showlegend": true,
         "type": "scatter",
         "x": [
          2010,
          2011,
          2012,
          2013,
          2014,
          2015,
          2016,
          2017,
          2018
         ],
         "xaxis": "x",
         "y": [
          1041.75239010381,
          1014.8980950408779,
          1016.012941091226,
          935.3914135215299,
          927.577246982706,
          939.987733605336,
          1012.993043634126,
          1090.4976939662279,
          1173.034165966389
         ],
         "yaxis": "y"
        },
        {
         "hovertemplate": "distrito=Fuencarral<br>ano=%{x}<br>precio_90_metros=%{y}<extra></extra>",
         "legendgroup": "Fuencarral",
         "line": {
          "color": "#B6E880",
          "dash": "solid"
         },
         "mode": "lines",
         "name": "Fuencarral",
         "orientation": "v",
         "showlegend": true,
         "type": "scatter",
         "x": [
          2010,
          2011,
          2012,
          2013,
          2014,
          2015,
          2016,
          2017,
          2018
         ],
         "xaxis": "x",
         "y": [
          954.653226695361,
          957.833171855379,
          942.253268781501,
          899.956030924061,
          911.364246208359,
          924.4777107268621,
          958.5807098352211,
          1035.765732609162,
          1083.9009420396271
         ],
         "yaxis": "y"
        },
        {
         "hovertemplate": "distrito=Hortaleza<br>ano=%{x}<br>precio_90_metros=%{y}<extra></extra>",
         "legendgroup": "Hortaleza",
         "line": {
          "color": "#FF97FF",
          "dash": "solid"
         },
         "mode": "lines",
         "name": "Hortaleza",
         "orientation": "v",
         "showlegend": true,
         "type": "scatter",
         "x": [
          2010,
          2011,
          2012,
          2013,
          2014,
          2015,
          2016,
          2017,
          2018
         ],
         "xaxis": "x",
         "y": [
          1080.557926696224,
          1052.669430964629,
          1068.9118963123678,
          1020.223784073933,
          990.842387649966,
          962.4199141788389,
          980.373294736695,
          1069.879616278038,
          1193.6683759579562
         ],
         "yaxis": "y"
        },
        {
         "hovertemplate": "distrito=Latina<br>ano=%{x}<br>precio_90_metros=%{y}<extra></extra>",
         "legendgroup": "Latina",
         "line": {
          "color": "#FECB52",
          "dash": "solid"
         },
         "mode": "lines",
         "name": "Latina",
         "orientation": "v",
         "showlegend": true,
         "type": "scatter",
         "x": [
          2010,
          2011,
          2012,
          2013,
          2014,
          2015,
          2016,
          2017,
          2018
         ],
         "xaxis": "x",
         "y": [
          915.0223150513169,
          884.7614767960476,
          884.532316699134,
          813.1789742200451,
          812.4229337668409,
          774.7840820057868,
          847.3955554765872,
          980.9391569657221,
          1010.9360879503921
         ],
         "yaxis": "y"
        },
        {
         "hovertemplate": "distrito=Moncloa<br>ano=%{x}<br>precio_90_metros=%{y}<extra></extra>",
         "legendgroup": "Moncloa",
         "line": {
          "color": "#636efa",
          "dash": "solid"
         },
         "mode": "lines",
         "name": "Moncloa",
         "orientation": "v",
         "showlegend": true,
         "type": "scatter",
         "x": [
          2010,
          2011,
          2012,
          2013,
          2014,
          2015,
          2016,
          2017,
          2018
         ],
         "xaxis": "x",
         "y": [
          1198.340160429096,
          1153.627043437944,
          1125.467315377893,
          1040.57424783621,
          1111.5633664500122,
          1082.835734718861,
          1155.627935758728,
          1358.5019424750813,
          1307.319219960372
         ],
         "yaxis": "y"
        },
        {
         "hovertemplate": "distrito=Moratalaz<br>ano=%{x}<br>precio_90_metros=%{y}<extra></extra>",
         "legendgroup": "Moratalaz",
         "line": {
          "color": "#EF553B",
          "dash": "solid"
         },
         "mode": "lines",
         "name": "Moratalaz",
         "orientation": "v",
         "showlegend": true,
         "type": "scatter",
         "x": [
          2010,
          2011,
          2012,
          2013,
          2014,
          2015,
          2016,
          2017,
          2018
         ],
         "xaxis": "x",
         "y": [
          912.6447083388721,
          884.9127097771291,
          834.3232001199191,
          803.6078003994483,
          764.8666424802522,
          787.8661641684811,
          800.0292057024069,
          920.69023420953,
          989.322639349932
         ],
         "yaxis": "y"
        },
        {
         "hovertemplate": "distrito=Puente De Vallecas<br>ano=%{x}<br>precio_90_metros=%{y}<extra></extra>",
         "legendgroup": "Puente De Vallecas",
         "line": {
          "color": "#00cc96",
          "dash": "solid"
         },
         "mode": "lines",
         "name": "Puente De Vallecas",
         "orientation": "v",
         "showlegend": true,
         "type": "scatter",
         "x": [
          2010,
          2011,
          2012,
          2013,
          2014,
          2015,
          2016,
          2017,
          2018
         ],
         "xaxis": "x",
         "y": [
          943.9635135855061,
          955.381100626755,
          907.75980587934,
          824.7794442372793,
          774.8671119494085,
          742.7511578787264,
          808.0929250288002,
          914.01948053946,
          1040.021617471308
         ],
         "yaxis": "y"
        },
        {
         "hovertemplate": "distrito=Retiro<br>ano=%{x}<br>precio_90_metros=%{y}<extra></extra>",
         "legendgroup": "Retiro",
         "line": {
          "color": "#ab63fa",
          "dash": "solid"
         },
         "mode": "lines",
         "name": "Retiro",
         "orientation": "v",
         "showlegend": true,
         "type": "scatter",
         "x": [
          2010,
          2011,
          2012,
          2013,
          2014,
          2015,
          2016,
          2017,
          2018
         ],
         "xaxis": "x",
         "y": [
          1105.2766369822411,
          1143.9372442812573,
          1134.170216799768,
          1028.8517344659363,
          1046.948640901794,
          1098.0761529077372,
          1216.4913125364149,
          1341.671192371575,
          1408.820783695002
         ],
         "yaxis": "y"
        },
        {
         "hovertemplate": "distrito=Salamanca<br>ano=%{x}<br>precio_90_metros=%{y}<extra></extra>",
         "legendgroup": "Salamanca",
         "line": {
          "color": "#FFA15A",
          "dash": "solid"
         },
         "mode": "lines",
         "name": "Salamanca",
         "orientation": "v",
         "showlegend": true,
         "type": "scatter",
         "x": [
          2010,
          2011,
          2012,
          2013,
          2014,
          2015,
          2016,
          2017,
          2018
         ],
         "xaxis": "x",
         "y": [
          1337.415732800478,
          1344.327722391195,
          1313.8188872592689,
          1218.211049105442,
          1256.932035278307,
          1235.948620931847,
          1407.303455644233,
          1560.9446616002401,
          1680.8425540165172
         ],
         "yaxis": "y"
        },
        {
         "hovertemplate": "distrito=San Blas<br>ano=%{x}<br>precio_90_metros=%{y}<extra></extra>",
         "legendgroup": "San Blas",
         "line": {
          "color": "#19d3f3",
          "dash": "solid"
         },
         "mode": "lines",
         "name": "San Blas",
         "orientation": "v",
         "showlegend": true,
         "type": "scatter",
         "x": [
          2010,
          2011,
          2012,
          2013,
          2014,
          2015,
          2016,
          2017,
          2018
         ],
         "xaxis": "x",
         "y": [
          970.5789919546561,
          974.711293381674,
          941.5818418063859,
          859.210932644018,
          844.5729600161434,
          848.3598925600338,
          868.2608230609761,
          969.689826382536,
          1040.3767667825189
         ],
         "yaxis": "y"
        },
        {
         "hovertemplate": "distrito=Tetuan<br>ano=%{x}<br>precio_90_metros=%{y}<extra></extra>",
         "legendgroup": "Tetuan",
         "line": {
          "color": "#FF6692",
          "dash": "solid"
         },
         "mode": "lines",
         "name": "Tetuan",
         "orientation": "v",
         "showlegend": true,
         "type": "scatter",
         "x": [
          2010,
          2011,
          2012,
          2013,
          2014,
          2015,
          2016,
          2017,
          2018
         ],
         "xaxis": "x",
         "y": [
          1079.317843483563,
          1053.108553426029,
          1022.557569571494,
          959.8972890900511,
          1010.191066885782,
          1029.9191114134528,
          1162.17977347944,
          1307.589941252169,
          1356.321239581374
         ],
         "yaxis": "y"
        },
        {
         "hovertemplate": "distrito=Usera<br>ano=%{x}<br>precio_90_metros=%{y}<extra></extra>",
         "legendgroup": "Usera",
         "line": {
          "color": "#B6E880",
          "dash": "solid"
         },
         "mode": "lines",
         "name": "Usera",
         "orientation": "v",
         "showlegend": true,
         "type": "scatter",
         "x": [
          2010,
          2011,
          2012,
          2013,
          2014,
          2015,
          2016,
          2017,
          2018
         ],
         "xaxis": "x",
         "y": [
          910.3777677375479,
          914.244660744822,
          886.8790605601253,
          813.1127497188148,
          827.4581719101208,
          780.1529953518891,
          876.4035146253144,
          884.9454921568557,
          1020.45251196765
         ],
         "yaxis": "y"
        },
        {
         "hovertemplate": "distrito=Vicálvaro<br>ano=%{x}<br>precio_90_metros=%{y}<extra></extra>",
         "legendgroup": "Vicálvaro",
         "line": {
          "color": "#FF97FF",
          "dash": "solid"
         },
         "mode": "lines",
         "name": "Vicálvaro",
         "orientation": "v",
         "showlegend": true,
         "type": "scatter",
         "x": [
          2010,
          2011,
          2012,
          2013,
          2014,
          2015,
          2016,
          2017,
          2018
         ],
         "xaxis": "x",
         "y": [
          911.673689237928,
          858.3408982397368,
          832.655179058796,
          771.6656495623329,
          717.4081903535819,
          756.2813057244522,
          752.7955711907412,
          828.9412065950833,
          909.6147464000579
         ],
         "yaxis": "y"
        },
        {
         "hovertemplate": "distrito=Villa De Vallecas<br>ano=%{x}<br>precio_90_metros=%{y}<extra></extra>",
         "legendgroup": "Villa De Vallecas",
         "line": {
          "color": "#FECB52",
          "dash": "solid"
         },
         "mode": "lines",
         "name": "Villa De Vallecas",
         "orientation": "v",
         "showlegend": true,
         "type": "scatter",
         "x": [
          2010,
          2011,
          2012,
          2013,
          2014,
          2015,
          2016,
          2017,
          2018
         ],
         "xaxis": "x",
         "y": [
          903.513964887567,
          888.3324576556407,
          853.272379336283,
          813.0116158107651,
          789.5725306777846,
          776.6589519281422,
          826.8892953166315,
          864.1449436474261,
          933.0436401689699
         ],
         "yaxis": "y"
        },
        {
         "hovertemplate": "distrito=Villaverde<br>ano=%{x}<br>precio_90_metros=%{y}<extra></extra>",
         "legendgroup": "Villaverde",
         "line": {
          "color": "#636efa",
          "dash": "solid"
         },
         "mode": "lines",
         "name": "Villaverde",
         "orientation": "v",
         "showlegend": true,
         "type": "scatter",
         "x": [
          2010,
          2011,
          2012,
          2013,
          2014,
          2015,
          2016,
          2017,
          2018
         ],
         "xaxis": "x",
         "y": [
          874.065923195355,
          854.3024242869626,
          817.147605100995,
          757.2604467208653,
          728.1671498277991,
          715.7119207728222,
          739.1838847098717,
          854.510562422767,
          920.757406263192
         ],
         "yaxis": "y"
        }
       ],
       "layout": {
        "legend": {
         "title": {
          "text": "distrito"
         },
         "tracegroupgap": 0
        },
        "template": {
         "data": {
          "bar": [
           {
            "error_x": {
             "color": "#2a3f5f"
            },
            "error_y": {
             "color": "#2a3f5f"
            },
            "marker": {
             "line": {
              "color": "#E5ECF6",
              "width": 0.5
             }
            },
            "type": "bar"
           }
          ],
          "barpolar": [
           {
            "marker": {
             "line": {
              "color": "#E5ECF6",
              "width": 0.5
             }
            },
            "type": "barpolar"
           }
          ],
          "carpet": [
           {
            "aaxis": {
             "endlinecolor": "#2a3f5f",
             "gridcolor": "white",
             "linecolor": "white",
             "minorgridcolor": "white",
             "startlinecolor": "#2a3f5f"
            },
            "baxis": {
             "endlinecolor": "#2a3f5f",
             "gridcolor": "white",
             "linecolor": "white",
             "minorgridcolor": "white",
             "startlinecolor": "#2a3f5f"
            },
            "type": "carpet"
           }
          ],
          "choropleth": [
           {
            "colorbar": {
             "outlinewidth": 0,
             "ticks": ""
            },
            "type": "choropleth"
           }
          ],
          "contour": [
           {
            "colorbar": {
             "outlinewidth": 0,
             "ticks": ""
            },
            "colorscale": [
             [
              0,
              "#0d0887"
             ],
             [
              0.1111111111111111,
              "#46039f"
             ],
             [
              0.2222222222222222,
              "#7201a8"
             ],
             [
              0.3333333333333333,
              "#9c179e"
             ],
             [
              0.4444444444444444,
              "#bd3786"
             ],
             [
              0.5555555555555556,
              "#d8576b"
             ],
             [
              0.6666666666666666,
              "#ed7953"
             ],
             [
              0.7777777777777778,
              "#fb9f3a"
             ],
             [
              0.8888888888888888,
              "#fdca26"
             ],
             [
              1,
              "#f0f921"
             ]
            ],
            "type": "contour"
           }
          ],
          "contourcarpet": [
           {
            "colorbar": {
             "outlinewidth": 0,
             "ticks": ""
            },
            "type": "contourcarpet"
           }
          ],
          "heatmap": [
           {
            "colorbar": {
             "outlinewidth": 0,
             "ticks": ""
            },
            "colorscale": [
             [
              0,
              "#0d0887"
             ],
             [
              0.1111111111111111,
              "#46039f"
             ],
             [
              0.2222222222222222,
              "#7201a8"
             ],
             [
              0.3333333333333333,
              "#9c179e"
             ],
             [
              0.4444444444444444,
              "#bd3786"
             ],
             [
              0.5555555555555556,
              "#d8576b"
             ],
             [
              0.6666666666666666,
              "#ed7953"
             ],
             [
              0.7777777777777778,
              "#fb9f3a"
             ],
             [
              0.8888888888888888,
              "#fdca26"
             ],
             [
              1,
              "#f0f921"
             ]
            ],
            "type": "heatmap"
           }
          ],
          "heatmapgl": [
           {
            "colorbar": {
             "outlinewidth": 0,
             "ticks": ""
            },
            "colorscale": [
             [
              0,
              "#0d0887"
             ],
             [
              0.1111111111111111,
              "#46039f"
             ],
             [
              0.2222222222222222,
              "#7201a8"
             ],
             [
              0.3333333333333333,
              "#9c179e"
             ],
             [
              0.4444444444444444,
              "#bd3786"
             ],
             [
              0.5555555555555556,
              "#d8576b"
             ],
             [
              0.6666666666666666,
              "#ed7953"
             ],
             [
              0.7777777777777778,
              "#fb9f3a"
             ],
             [
              0.8888888888888888,
              "#fdca26"
             ],
             [
              1,
              "#f0f921"
             ]
            ],
            "type": "heatmapgl"
           }
          ],
          "histogram": [
           {
            "marker": {
             "colorbar": {
              "outlinewidth": 0,
              "ticks": ""
             }
            },
            "type": "histogram"
           }
          ],
          "histogram2d": [
           {
            "colorbar": {
             "outlinewidth": 0,
             "ticks": ""
            },
            "colorscale": [
             [
              0,
              "#0d0887"
             ],
             [
              0.1111111111111111,
              "#46039f"
             ],
             [
              0.2222222222222222,
              "#7201a8"
             ],
             [
              0.3333333333333333,
              "#9c179e"
             ],
             [
              0.4444444444444444,
              "#bd3786"
             ],
             [
              0.5555555555555556,
              "#d8576b"
             ],
             [
              0.6666666666666666,
              "#ed7953"
             ],
             [
              0.7777777777777778,
              "#fb9f3a"
             ],
             [
              0.8888888888888888,
              "#fdca26"
             ],
             [
              1,
              "#f0f921"
             ]
            ],
            "type": "histogram2d"
           }
          ],
          "histogram2dcontour": [
           {
            "colorbar": {
             "outlinewidth": 0,
             "ticks": ""
            },
            "colorscale": [
             [
              0,
              "#0d0887"
             ],
             [
              0.1111111111111111,
              "#46039f"
             ],
             [
              0.2222222222222222,
              "#7201a8"
             ],
             [
              0.3333333333333333,
              "#9c179e"
             ],
             [
              0.4444444444444444,
              "#bd3786"
             ],
             [
              0.5555555555555556,
              "#d8576b"
             ],
             [
              0.6666666666666666,
              "#ed7953"
             ],
             [
              0.7777777777777778,
              "#fb9f3a"
             ],
             [
              0.8888888888888888,
              "#fdca26"
             ],
             [
              1,
              "#f0f921"
             ]
            ],
            "type": "histogram2dcontour"
           }
          ],
          "mesh3d": [
           {
            "colorbar": {
             "outlinewidth": 0,
             "ticks": ""
            },
            "type": "mesh3d"
           }
          ],
          "parcoords": [
           {
            "line": {
             "colorbar": {
              "outlinewidth": 0,
              "ticks": ""
             }
            },
            "type": "parcoords"
           }
          ],
          "pie": [
           {
            "automargin": true,
            "type": "pie"
           }
          ],
          "scatter": [
           {
            "marker": {
             "colorbar": {
              "outlinewidth": 0,
              "ticks": ""
             }
            },
            "type": "scatter"
           }
          ],
          "scatter3d": [
           {
            "line": {
             "colorbar": {
              "outlinewidth": 0,
              "ticks": ""
             }
            },
            "marker": {
             "colorbar": {
              "outlinewidth": 0,
              "ticks": ""
             }
            },
            "type": "scatter3d"
           }
          ],
          "scattercarpet": [
           {
            "marker": {
             "colorbar": {
              "outlinewidth": 0,
              "ticks": ""
             }
            },
            "type": "scattercarpet"
           }
          ],
          "scattergeo": [
           {
            "marker": {
             "colorbar": {
              "outlinewidth": 0,
              "ticks": ""
             }
            },
            "type": "scattergeo"
           }
          ],
          "scattergl": [
           {
            "marker": {
             "colorbar": {
              "outlinewidth": 0,
              "ticks": ""
             }
            },
            "type": "scattergl"
           }
          ],
          "scattermapbox": [
           {
            "marker": {
             "colorbar": {
              "outlinewidth": 0,
              "ticks": ""
             }
            },
            "type": "scattermapbox"
           }
          ],
          "scatterpolar": [
           {
            "marker": {
             "colorbar": {
              "outlinewidth": 0,
              "ticks": ""
             }
            },
            "type": "scatterpolar"
           }
          ],
          "scatterpolargl": [
           {
            "marker": {
             "colorbar": {
              "outlinewidth": 0,
              "ticks": ""
             }
            },
            "type": "scatterpolargl"
           }
          ],
          "scatterternary": [
           {
            "marker": {
             "colorbar": {
              "outlinewidth": 0,
              "ticks": ""
             }
            },
            "type": "scatterternary"
           }
          ],
          "surface": [
           {
            "colorbar": {
             "outlinewidth": 0,
             "ticks": ""
            },
            "colorscale": [
             [
              0,
              "#0d0887"
             ],
             [
              0.1111111111111111,
              "#46039f"
             ],
             [
              0.2222222222222222,
              "#7201a8"
             ],
             [
              0.3333333333333333,
              "#9c179e"
             ],
             [
              0.4444444444444444,
              "#bd3786"
             ],
             [
              0.5555555555555556,
              "#d8576b"
             ],
             [
              0.6666666666666666,
              "#ed7953"
             ],
             [
              0.7777777777777778,
              "#fb9f3a"
             ],
             [
              0.8888888888888888,
              "#fdca26"
             ],
             [
              1,
              "#f0f921"
             ]
            ],
            "type": "surface"
           }
          ],
          "table": [
           {
            "cells": {
             "fill": {
              "color": "#EBF0F8"
             },
             "line": {
              "color": "white"
             }
            },
            "header": {
             "fill": {
              "color": "#C8D4E3"
             },
             "line": {
              "color": "white"
             }
            },
            "type": "table"
           }
          ]
         },
         "layout": {
          "annotationdefaults": {
           "arrowcolor": "#2a3f5f",
           "arrowhead": 0,
           "arrowwidth": 1
          },
          "coloraxis": {
           "colorbar": {
            "outlinewidth": 0,
            "ticks": ""
           }
          },
          "colorscale": {
           "diverging": [
            [
             0,
             "#8e0152"
            ],
            [
             0.1,
             "#c51b7d"
            ],
            [
             0.2,
             "#de77ae"
            ],
            [
             0.3,
             "#f1b6da"
            ],
            [
             0.4,
             "#fde0ef"
            ],
            [
             0.5,
             "#f7f7f7"
            ],
            [
             0.6,
             "#e6f5d0"
            ],
            [
             0.7,
             "#b8e186"
            ],
            [
             0.8,
             "#7fbc41"
            ],
            [
             0.9,
             "#4d9221"
            ],
            [
             1,
             "#276419"
            ]
           ],
           "sequential": [
            [
             0,
             "#0d0887"
            ],
            [
             0.1111111111111111,
             "#46039f"
            ],
            [
             0.2222222222222222,
             "#7201a8"
            ],
            [
             0.3333333333333333,
             "#9c179e"
            ],
            [
             0.4444444444444444,
             "#bd3786"
            ],
            [
             0.5555555555555556,
             "#d8576b"
            ],
            [
             0.6666666666666666,
             "#ed7953"
            ],
            [
             0.7777777777777778,
             "#fb9f3a"
            ],
            [
             0.8888888888888888,
             "#fdca26"
            ],
            [
             1,
             "#f0f921"
            ]
           ],
           "sequentialminus": [
            [
             0,
             "#0d0887"
            ],
            [
             0.1111111111111111,
             "#46039f"
            ],
            [
             0.2222222222222222,
             "#7201a8"
            ],
            [
             0.3333333333333333,
             "#9c179e"
            ],
            [
             0.4444444444444444,
             "#bd3786"
            ],
            [
             0.5555555555555556,
             "#d8576b"
            ],
            [
             0.6666666666666666,
             "#ed7953"
            ],
            [
             0.7777777777777778,
             "#fb9f3a"
            ],
            [
             0.8888888888888888,
             "#fdca26"
            ],
            [
             1,
             "#f0f921"
            ]
           ]
          },
          "colorway": [
           "#636efa",
           "#EF553B",
           "#00cc96",
           "#ab63fa",
           "#FFA15A",
           "#19d3f3",
           "#FF6692",
           "#B6E880",
           "#FF97FF",
           "#FECB52"
          ],
          "font": {
           "color": "#2a3f5f"
          },
          "geo": {
           "bgcolor": "white",
           "lakecolor": "white",
           "landcolor": "#E5ECF6",
           "showlakes": true,
           "showland": true,
           "subunitcolor": "white"
          },
          "hoverlabel": {
           "align": "left"
          },
          "hovermode": "closest",
          "mapbox": {
           "style": "light"
          },
          "paper_bgcolor": "white",
          "plot_bgcolor": "#E5ECF6",
          "polar": {
           "angularaxis": {
            "gridcolor": "white",
            "linecolor": "white",
            "ticks": ""
           },
           "bgcolor": "#E5ECF6",
           "radialaxis": {
            "gridcolor": "white",
            "linecolor": "white",
            "ticks": ""
           }
          },
          "scene": {
           "xaxis": {
            "backgroundcolor": "#E5ECF6",
            "gridcolor": "white",
            "gridwidth": 2,
            "linecolor": "white",
            "showbackground": true,
            "ticks": "",
            "zerolinecolor": "white"
           },
           "yaxis": {
            "backgroundcolor": "#E5ECF6",
            "gridcolor": "white",
            "gridwidth": 2,
            "linecolor": "white",
            "showbackground": true,
            "ticks": "",
            "zerolinecolor": "white"
           },
           "zaxis": {
            "backgroundcolor": "#E5ECF6",
            "gridcolor": "white",
            "gridwidth": 2,
            "linecolor": "white",
            "showbackground": true,
            "ticks": "",
            "zerolinecolor": "white"
           }
          },
          "shapedefaults": {
           "line": {
            "color": "#2a3f5f"
           }
          },
          "ternary": {
           "aaxis": {
            "gridcolor": "white",
            "linecolor": "white",
            "ticks": ""
           },
           "baxis": {
            "gridcolor": "white",
            "linecolor": "white",
            "ticks": ""
           },
           "bgcolor": "#E5ECF6",
           "caxis": {
            "gridcolor": "white",
            "linecolor": "white",
            "ticks": ""
           }
          },
          "title": {
           "x": 0.05
          },
          "xaxis": {
           "automargin": true,
           "gridcolor": "white",
           "linecolor": "white",
           "ticks": "",
           "title": {
            "standoff": 15
           },
           "zerolinecolor": "white",
           "zerolinewidth": 2
          },
          "yaxis": {
           "automargin": true,
           "gridcolor": "white",
           "linecolor": "white",
           "ticks": "",
           "title": {
            "standoff": 15
           },
           "zerolinecolor": "white",
           "zerolinewidth": 2
          }
         }
        },
        "title": {
         "text": "Un gráfico molón"
        },
        "xaxis": {
         "anchor": "y",
         "domain": [
          0,
          1
         ],
         "title": {
          "text": "ano"
         }
        },
        "yaxis": {
         "anchor": "x",
         "domain": [
          0,
          1
         ],
         "title": {
          "text": "precio_90_metros"
         }
        }
       }
      },
      "text/html": [
       "<div>                            <div id=\"3445e033-54e5-489d-9833-b7ddd6a1b745\" class=\"plotly-graph-div\" style=\"height:525px; width:100%;\"></div>            <script type=\"text/javascript\">                require([\"plotly\"], function(Plotly) {                    window.PLOTLYENV=window.PLOTLYENV || {};                                    if (document.getElementById(\"3445e033-54e5-489d-9833-b7ddd6a1b745\")) {                    Plotly.newPlot(                        \"3445e033-54e5-489d-9833-b7ddd6a1b745\",                        [{\"hovertemplate\": \"distrito=Arganzuela<br>ano=%{x}<br>precio_90_metros=%{y}<extra></extra>\", \"legendgroup\": \"Arganzuela\", \"line\": {\"color\": \"#636efa\", \"dash\": \"solid\"}, \"mode\": \"lines\", \"name\": \"Arganzuela\", \"orientation\": \"v\", \"showlegend\": true, \"type\": \"scatter\", \"x\": [2010, 2011, 2012, 2013, 2014, 2015, 2016, 2017, 2018], \"xaxis\": \"x\", \"y\": [1139.38917876981, 1085.8292105884382, 1040.8221444171509, 1011.218463852093, 984.373032563694, 1005.5468272071871, 1095.094325835225, 1271.743917704694, 1336.6738458830428], \"yaxis\": \"y\"}, {\"hovertemplate\": \"distrito=Barajas<br>ano=%{x}<br>precio_90_metros=%{y}<extra></extra>\", \"legendgroup\": \"Barajas\", \"line\": {\"color\": \"#EF553B\", \"dash\": \"solid\"}, \"mode\": \"lines\", \"name\": \"Barajas\", \"orientation\": \"v\", \"showlegend\": true, \"type\": \"scatter\", \"x\": [2010, 2011, 2012, 2013, 2014, 2015, 2016, 2017, 2018], \"xaxis\": \"x\", \"y\": [968.6916288822599, 1011.9522843045539, 975.614268517857, 936.600041442501, 900.7333964469001, 903.787601388534, 922.2137991775529, 1042.9346601472319, 1147.389310925235], \"yaxis\": \"y\"}, {\"hovertemplate\": \"distrito=Carabanchel<br>ano=%{x}<br>precio_90_metros=%{y}<extra></extra>\", \"legendgroup\": \"Carabanchel\", \"line\": {\"color\": \"#00cc96\", \"dash\": \"solid\"}, \"mode\": \"lines\", \"name\": \"Carabanchel\", \"orientation\": \"v\", \"showlegend\": true, \"type\": \"scatter\", \"x\": [2010, 2011, 2012, 2013, 2014, 2015, 2016, 2017, 2018], \"xaxis\": \"x\", \"y\": [947.408364473184, 930.7403243077139, 889.5651176144746, 824.0654269702782, 795.0159402252463, 751.9589594228465, 805.241044232351, 954.752617901331, 1049.142831548256], \"yaxis\": \"y\"}, {\"hovertemplate\": \"distrito=Centro<br>ano=%{x}<br>precio_90_metros=%{y}<extra></extra>\", \"legendgroup\": \"Centro\", \"line\": {\"color\": \"#ab63fa\", \"dash\": \"solid\"}, \"mode\": \"lines\", \"name\": \"Centro\", \"orientation\": \"v\", \"showlegend\": true, \"type\": \"scatter\", \"x\": [2010, 2011, 2012, 2013, 2014, 2015, 2016, 2017, 2018], \"xaxis\": \"x\", \"y\": [1397.344486534047, 1357.050011785749, 1334.013969944151, 1233.4020713043121, 1223.142971002767, 1245.6315696727888, 1432.075865516307, 1674.528551740305, 1737.7746133665328], \"yaxis\": \"y\"}, {\"hovertemplate\": \"distrito=Chamart\\u00edn<br>ano=%{x}<br>precio_90_metros=%{y}<extra></extra>\", \"legendgroup\": \"Chamart\\u00edn\", \"line\": {\"color\": \"#FFA15A\", \"dash\": \"solid\"}, \"mode\": \"lines\", \"name\": \"Chamart\\u00edn\", \"orientation\": \"v\", \"showlegend\": true, \"type\": \"scatter\", \"x\": [2010, 2011, 2012, 2013, 2014, 2015, 2016, 2017, 2018], \"xaxis\": \"x\", \"y\": [1241.831687598036, 1205.8310169131762, 1210.2710652219062, 1103.28551340741, 1104.161081190021, 1130.774820177843, 1221.192365370435, 1357.148657728287, 1465.093916246646], \"yaxis\": \"y\"}, {\"hovertemplate\": \"distrito=Chamber\\u00ed<br>ano=%{x}<br>precio_90_metros=%{y}<extra></extra>\", \"legendgroup\": \"Chamber\\u00ed\", \"line\": {\"color\": \"#19d3f3\", \"dash\": \"solid\"}, \"mode\": \"lines\", \"name\": \"Chamber\\u00ed\", \"orientation\": \"v\", \"showlegend\": true, \"type\": \"scatter\", \"x\": [2010, 2011, 2012, 2013, 2014, 2015, 2016, 2017, 2018], \"xaxis\": \"x\", \"y\": [1294.574608506816, 1272.014043623577, 1233.5840070802922, 1176.4955631933271, 1203.023228549616, 1221.943937301279, 1328.632664869413, 1500.7256834611771, 1583.8516886158077], \"yaxis\": \"y\"}, {\"hovertemplate\": \"distrito=Ciudad Lineal<br>ano=%{x}<br>precio_90_metros=%{y}<extra></extra>\", \"legendgroup\": \"Ciudad Lineal\", \"line\": {\"color\": \"#FF6692\", \"dash\": \"solid\"}, \"mode\": \"lines\", \"name\": \"Ciudad Lineal\", \"orientation\": \"v\", \"showlegend\": true, \"type\": \"scatter\", \"x\": [2010, 2011, 2012, 2013, 2014, 2015, 2016, 2017, 2018], \"xaxis\": \"x\", \"y\": [1041.75239010381, 1014.8980950408779, 1016.012941091226, 935.3914135215299, 927.577246982706, 939.987733605336, 1012.993043634126, 1090.4976939662279, 1173.034165966389], \"yaxis\": \"y\"}, {\"hovertemplate\": \"distrito=Fuencarral<br>ano=%{x}<br>precio_90_metros=%{y}<extra></extra>\", \"legendgroup\": \"Fuencarral\", \"line\": {\"color\": \"#B6E880\", \"dash\": \"solid\"}, \"mode\": \"lines\", \"name\": \"Fuencarral\", \"orientation\": \"v\", \"showlegend\": true, \"type\": \"scatter\", \"x\": [2010, 2011, 2012, 2013, 2014, 2015, 2016, 2017, 2018], \"xaxis\": \"x\", \"y\": [954.653226695361, 957.833171855379, 942.253268781501, 899.956030924061, 911.364246208359, 924.4777107268621, 958.5807098352211, 1035.765732609162, 1083.9009420396271], \"yaxis\": \"y\"}, {\"hovertemplate\": \"distrito=Hortaleza<br>ano=%{x}<br>precio_90_metros=%{y}<extra></extra>\", \"legendgroup\": \"Hortaleza\", \"line\": {\"color\": \"#FF97FF\", \"dash\": \"solid\"}, \"mode\": \"lines\", \"name\": \"Hortaleza\", \"orientation\": \"v\", \"showlegend\": true, \"type\": \"scatter\", \"x\": [2010, 2011, 2012, 2013, 2014, 2015, 2016, 2017, 2018], \"xaxis\": \"x\", \"y\": [1080.557926696224, 1052.669430964629, 1068.9118963123678, 1020.223784073933, 990.842387649966, 962.4199141788389, 980.373294736695, 1069.879616278038, 1193.6683759579562], \"yaxis\": \"y\"}, {\"hovertemplate\": \"distrito=Latina<br>ano=%{x}<br>precio_90_metros=%{y}<extra></extra>\", \"legendgroup\": \"Latina\", \"line\": {\"color\": \"#FECB52\", \"dash\": \"solid\"}, \"mode\": \"lines\", \"name\": \"Latina\", \"orientation\": \"v\", \"showlegend\": true, \"type\": \"scatter\", \"x\": [2010, 2011, 2012, 2013, 2014, 2015, 2016, 2017, 2018], \"xaxis\": \"x\", \"y\": [915.0223150513169, 884.7614767960476, 884.532316699134, 813.1789742200451, 812.4229337668409, 774.7840820057868, 847.3955554765872, 980.9391569657221, 1010.9360879503921], \"yaxis\": \"y\"}, {\"hovertemplate\": \"distrito=Moncloa<br>ano=%{x}<br>precio_90_metros=%{y}<extra></extra>\", \"legendgroup\": \"Moncloa\", \"line\": {\"color\": \"#636efa\", \"dash\": \"solid\"}, \"mode\": \"lines\", \"name\": \"Moncloa\", \"orientation\": \"v\", \"showlegend\": true, \"type\": \"scatter\", \"x\": [2010, 2011, 2012, 2013, 2014, 2015, 2016, 2017, 2018], \"xaxis\": \"x\", \"y\": [1198.340160429096, 1153.627043437944, 1125.467315377893, 1040.57424783621, 1111.5633664500122, 1082.835734718861, 1155.627935758728, 1358.5019424750813, 1307.319219960372], \"yaxis\": \"y\"}, {\"hovertemplate\": \"distrito=Moratalaz<br>ano=%{x}<br>precio_90_metros=%{y}<extra></extra>\", \"legendgroup\": \"Moratalaz\", \"line\": {\"color\": \"#EF553B\", \"dash\": \"solid\"}, \"mode\": \"lines\", \"name\": \"Moratalaz\", \"orientation\": \"v\", \"showlegend\": true, \"type\": \"scatter\", \"x\": [2010, 2011, 2012, 2013, 2014, 2015, 2016, 2017, 2018], \"xaxis\": \"x\", \"y\": [912.6447083388721, 884.9127097771291, 834.3232001199191, 803.6078003994483, 764.8666424802522, 787.8661641684811, 800.0292057024069, 920.69023420953, 989.322639349932], \"yaxis\": \"y\"}, {\"hovertemplate\": \"distrito=Puente De Vallecas<br>ano=%{x}<br>precio_90_metros=%{y}<extra></extra>\", \"legendgroup\": \"Puente De Vallecas\", \"line\": {\"color\": \"#00cc96\", \"dash\": \"solid\"}, \"mode\": \"lines\", \"name\": \"Puente De Vallecas\", \"orientation\": \"v\", \"showlegend\": true, \"type\": \"scatter\", \"x\": [2010, 2011, 2012, 2013, 2014, 2015, 2016, 2017, 2018], \"xaxis\": \"x\", \"y\": [943.9635135855061, 955.381100626755, 907.75980587934, 824.7794442372793, 774.8671119494085, 742.7511578787264, 808.0929250288002, 914.01948053946, 1040.021617471308], \"yaxis\": \"y\"}, {\"hovertemplate\": \"distrito=Retiro<br>ano=%{x}<br>precio_90_metros=%{y}<extra></extra>\", \"legendgroup\": \"Retiro\", \"line\": {\"color\": \"#ab63fa\", \"dash\": \"solid\"}, \"mode\": \"lines\", \"name\": \"Retiro\", \"orientation\": \"v\", \"showlegend\": true, \"type\": \"scatter\", \"x\": [2010, 2011, 2012, 2013, 2014, 2015, 2016, 2017, 2018], \"xaxis\": \"x\", \"y\": [1105.2766369822411, 1143.9372442812573, 1134.170216799768, 1028.8517344659363, 1046.948640901794, 1098.0761529077372, 1216.4913125364149, 1341.671192371575, 1408.820783695002], \"yaxis\": \"y\"}, {\"hovertemplate\": \"distrito=Salamanca<br>ano=%{x}<br>precio_90_metros=%{y}<extra></extra>\", \"legendgroup\": \"Salamanca\", \"line\": {\"color\": \"#FFA15A\", \"dash\": \"solid\"}, \"mode\": \"lines\", \"name\": \"Salamanca\", \"orientation\": \"v\", \"showlegend\": true, \"type\": \"scatter\", \"x\": [2010, 2011, 2012, 2013, 2014, 2015, 2016, 2017, 2018], \"xaxis\": \"x\", \"y\": [1337.415732800478, 1344.327722391195, 1313.8188872592689, 1218.211049105442, 1256.932035278307, 1235.948620931847, 1407.303455644233, 1560.9446616002401, 1680.8425540165172], \"yaxis\": \"y\"}, {\"hovertemplate\": \"distrito=San Blas<br>ano=%{x}<br>precio_90_metros=%{y}<extra></extra>\", \"legendgroup\": \"San Blas\", \"line\": {\"color\": \"#19d3f3\", \"dash\": \"solid\"}, \"mode\": \"lines\", \"name\": \"San Blas\", \"orientation\": \"v\", \"showlegend\": true, \"type\": \"scatter\", \"x\": [2010, 2011, 2012, 2013, 2014, 2015, 2016, 2017, 2018], \"xaxis\": \"x\", \"y\": [970.5789919546561, 974.711293381674, 941.5818418063859, 859.210932644018, 844.5729600161434, 848.3598925600338, 868.2608230609761, 969.689826382536, 1040.3767667825189], \"yaxis\": \"y\"}, {\"hovertemplate\": \"distrito=Tetuan<br>ano=%{x}<br>precio_90_metros=%{y}<extra></extra>\", \"legendgroup\": \"Tetuan\", \"line\": {\"color\": \"#FF6692\", \"dash\": \"solid\"}, \"mode\": \"lines\", \"name\": \"Tetuan\", \"orientation\": \"v\", \"showlegend\": true, \"type\": \"scatter\", \"x\": [2010, 2011, 2012, 2013, 2014, 2015, 2016, 2017, 2018], \"xaxis\": \"x\", \"y\": [1079.317843483563, 1053.108553426029, 1022.557569571494, 959.8972890900511, 1010.191066885782, 1029.9191114134528, 1162.17977347944, 1307.589941252169, 1356.321239581374], \"yaxis\": \"y\"}, {\"hovertemplate\": \"distrito=Usera<br>ano=%{x}<br>precio_90_metros=%{y}<extra></extra>\", \"legendgroup\": \"Usera\", \"line\": {\"color\": \"#B6E880\", \"dash\": \"solid\"}, \"mode\": \"lines\", \"name\": \"Usera\", \"orientation\": \"v\", \"showlegend\": true, \"type\": \"scatter\", \"x\": [2010, 2011, 2012, 2013, 2014, 2015, 2016, 2017, 2018], \"xaxis\": \"x\", \"y\": [910.3777677375479, 914.244660744822, 886.8790605601253, 813.1127497188148, 827.4581719101208, 780.1529953518891, 876.4035146253144, 884.9454921568557, 1020.45251196765], \"yaxis\": \"y\"}, {\"hovertemplate\": \"distrito=Vic\\u00e1lvaro<br>ano=%{x}<br>precio_90_metros=%{y}<extra></extra>\", \"legendgroup\": \"Vic\\u00e1lvaro\", \"line\": {\"color\": \"#FF97FF\", \"dash\": \"solid\"}, \"mode\": \"lines\", \"name\": \"Vic\\u00e1lvaro\", \"orientation\": \"v\", \"showlegend\": true, \"type\": \"scatter\", \"x\": [2010, 2011, 2012, 2013, 2014, 2015, 2016, 2017, 2018], \"xaxis\": \"x\", \"y\": [911.673689237928, 858.3408982397368, 832.655179058796, 771.6656495623329, 717.4081903535819, 756.2813057244522, 752.7955711907412, 828.9412065950833, 909.6147464000579], \"yaxis\": \"y\"}, {\"hovertemplate\": \"distrito=Villa De Vallecas<br>ano=%{x}<br>precio_90_metros=%{y}<extra></extra>\", \"legendgroup\": \"Villa De Vallecas\", \"line\": {\"color\": \"#FECB52\", \"dash\": \"solid\"}, \"mode\": \"lines\", \"name\": \"Villa De Vallecas\", \"orientation\": \"v\", \"showlegend\": true, \"type\": \"scatter\", \"x\": [2010, 2011, 2012, 2013, 2014, 2015, 2016, 2017, 2018], \"xaxis\": \"x\", \"y\": [903.513964887567, 888.3324576556407, 853.272379336283, 813.0116158107651, 789.5725306777846, 776.6589519281422, 826.8892953166315, 864.1449436474261, 933.0436401689699], \"yaxis\": \"y\"}, {\"hovertemplate\": \"distrito=Villaverde<br>ano=%{x}<br>precio_90_metros=%{y}<extra></extra>\", \"legendgroup\": \"Villaverde\", \"line\": {\"color\": \"#636efa\", \"dash\": \"solid\"}, \"mode\": \"lines\", \"name\": \"Villaverde\", \"orientation\": \"v\", \"showlegend\": true, \"type\": \"scatter\", \"x\": [2010, 2011, 2012, 2013, 2014, 2015, 2016, 2017, 2018], \"xaxis\": \"x\", \"y\": [874.065923195355, 854.3024242869626, 817.147605100995, 757.2604467208653, 728.1671498277991, 715.7119207728222, 739.1838847098717, 854.510562422767, 920.757406263192], \"yaxis\": \"y\"}],                        {\"legend\": {\"title\": {\"text\": \"distrito\"}, \"tracegroupgap\": 0}, \"template\": {\"data\": {\"bar\": [{\"error_x\": {\"color\": \"#2a3f5f\"}, \"error_y\": {\"color\": \"#2a3f5f\"}, \"marker\": {\"line\": {\"color\": \"#E5ECF6\", \"width\": 0.5}}, \"type\": \"bar\"}], \"barpolar\": [{\"marker\": {\"line\": {\"color\": \"#E5ECF6\", \"width\": 0.5}}, \"type\": \"barpolar\"}], \"carpet\": [{\"aaxis\": {\"endlinecolor\": \"#2a3f5f\", \"gridcolor\": \"white\", \"linecolor\": \"white\", \"minorgridcolor\": \"white\", \"startlinecolor\": \"#2a3f5f\"}, \"baxis\": {\"endlinecolor\": \"#2a3f5f\", \"gridcolor\": \"white\", \"linecolor\": \"white\", \"minorgridcolor\": \"white\", \"startlinecolor\": \"#2a3f5f\"}, \"type\": \"carpet\"}], \"choropleth\": [{\"colorbar\": {\"outlinewidth\": 0, \"ticks\": \"\"}, \"type\": \"choropleth\"}], \"contour\": [{\"colorbar\": {\"outlinewidth\": 0, \"ticks\": \"\"}, \"colorscale\": [[0.0, \"#0d0887\"], [0.1111111111111111, \"#46039f\"], [0.2222222222222222, \"#7201a8\"], [0.3333333333333333, \"#9c179e\"], [0.4444444444444444, \"#bd3786\"], [0.5555555555555556, \"#d8576b\"], [0.6666666666666666, \"#ed7953\"], [0.7777777777777778, \"#fb9f3a\"], [0.8888888888888888, \"#fdca26\"], [1.0, \"#f0f921\"]], \"type\": \"contour\"}], \"contourcarpet\": [{\"colorbar\": {\"outlinewidth\": 0, \"ticks\": \"\"}, \"type\": \"contourcarpet\"}], \"heatmap\": [{\"colorbar\": {\"outlinewidth\": 0, \"ticks\": \"\"}, \"colorscale\": [[0.0, \"#0d0887\"], [0.1111111111111111, \"#46039f\"], [0.2222222222222222, \"#7201a8\"], [0.3333333333333333, \"#9c179e\"], [0.4444444444444444, \"#bd3786\"], [0.5555555555555556, \"#d8576b\"], [0.6666666666666666, \"#ed7953\"], [0.7777777777777778, \"#fb9f3a\"], [0.8888888888888888, \"#fdca26\"], [1.0, \"#f0f921\"]], \"type\": \"heatmap\"}], \"heatmapgl\": [{\"colorbar\": {\"outlinewidth\": 0, \"ticks\": \"\"}, \"colorscale\": [[0.0, \"#0d0887\"], [0.1111111111111111, \"#46039f\"], [0.2222222222222222, \"#7201a8\"], [0.3333333333333333, \"#9c179e\"], [0.4444444444444444, \"#bd3786\"], [0.5555555555555556, \"#d8576b\"], [0.6666666666666666, \"#ed7953\"], [0.7777777777777778, \"#fb9f3a\"], [0.8888888888888888, \"#fdca26\"], [1.0, \"#f0f921\"]], \"type\": \"heatmapgl\"}], \"histogram\": [{\"marker\": {\"colorbar\": {\"outlinewidth\": 0, \"ticks\": \"\"}}, \"type\": \"histogram\"}], \"histogram2d\": [{\"colorbar\": {\"outlinewidth\": 0, \"ticks\": \"\"}, \"colorscale\": [[0.0, \"#0d0887\"], [0.1111111111111111, \"#46039f\"], [0.2222222222222222, \"#7201a8\"], [0.3333333333333333, \"#9c179e\"], [0.4444444444444444, \"#bd3786\"], [0.5555555555555556, \"#d8576b\"], [0.6666666666666666, \"#ed7953\"], [0.7777777777777778, \"#fb9f3a\"], [0.8888888888888888, \"#fdca26\"], [1.0, \"#f0f921\"]], \"type\": \"histogram2d\"}], \"histogram2dcontour\": [{\"colorbar\": {\"outlinewidth\": 0, \"ticks\": \"\"}, \"colorscale\": [[0.0, \"#0d0887\"], [0.1111111111111111, \"#46039f\"], [0.2222222222222222, \"#7201a8\"], [0.3333333333333333, \"#9c179e\"], [0.4444444444444444, \"#bd3786\"], [0.5555555555555556, \"#d8576b\"], [0.6666666666666666, \"#ed7953\"], [0.7777777777777778, \"#fb9f3a\"], [0.8888888888888888, \"#fdca26\"], [1.0, \"#f0f921\"]], \"type\": \"histogram2dcontour\"}], \"mesh3d\": [{\"colorbar\": {\"outlinewidth\": 0, \"ticks\": \"\"}, \"type\": \"mesh3d\"}], \"parcoords\": [{\"line\": {\"colorbar\": {\"outlinewidth\": 0, \"ticks\": \"\"}}, \"type\": \"parcoords\"}], \"pie\": [{\"automargin\": true, \"type\": \"pie\"}], \"scatter\": [{\"marker\": {\"colorbar\": {\"outlinewidth\": 0, \"ticks\": \"\"}}, \"type\": \"scatter\"}], \"scatter3d\": [{\"line\": {\"colorbar\": {\"outlinewidth\": 0, \"ticks\": \"\"}}, \"marker\": {\"colorbar\": {\"outlinewidth\": 0, \"ticks\": \"\"}}, \"type\": \"scatter3d\"}], \"scattercarpet\": [{\"marker\": {\"colorbar\": {\"outlinewidth\": 0, \"ticks\": \"\"}}, \"type\": \"scattercarpet\"}], \"scattergeo\": [{\"marker\": {\"colorbar\": {\"outlinewidth\": 0, \"ticks\": \"\"}}, \"type\": \"scattergeo\"}], \"scattergl\": [{\"marker\": {\"colorbar\": {\"outlinewidth\": 0, \"ticks\": \"\"}}, \"type\": \"scattergl\"}], \"scattermapbox\": [{\"marker\": {\"colorbar\": {\"outlinewidth\": 0, \"ticks\": \"\"}}, \"type\": \"scattermapbox\"}], \"scatterpolar\": [{\"marker\": {\"colorbar\": {\"outlinewidth\": 0, \"ticks\": \"\"}}, \"type\": \"scatterpolar\"}], \"scatterpolargl\": [{\"marker\": {\"colorbar\": {\"outlinewidth\": 0, \"ticks\": \"\"}}, \"type\": \"scatterpolargl\"}], \"scatterternary\": [{\"marker\": {\"colorbar\": {\"outlinewidth\": 0, \"ticks\": \"\"}}, \"type\": \"scatterternary\"}], \"surface\": [{\"colorbar\": {\"outlinewidth\": 0, \"ticks\": \"\"}, \"colorscale\": [[0.0, \"#0d0887\"], [0.1111111111111111, \"#46039f\"], [0.2222222222222222, \"#7201a8\"], [0.3333333333333333, \"#9c179e\"], [0.4444444444444444, \"#bd3786\"], [0.5555555555555556, \"#d8576b\"], [0.6666666666666666, \"#ed7953\"], [0.7777777777777778, \"#fb9f3a\"], [0.8888888888888888, \"#fdca26\"], [1.0, \"#f0f921\"]], \"type\": \"surface\"}], \"table\": [{\"cells\": {\"fill\": {\"color\": \"#EBF0F8\"}, \"line\": {\"color\": \"white\"}}, \"header\": {\"fill\": {\"color\": \"#C8D4E3\"}, \"line\": {\"color\": \"white\"}}, \"type\": \"table\"}]}, \"layout\": {\"annotationdefaults\": {\"arrowcolor\": \"#2a3f5f\", \"arrowhead\": 0, \"arrowwidth\": 1}, \"coloraxis\": {\"colorbar\": {\"outlinewidth\": 0, \"ticks\": \"\"}}, \"colorscale\": {\"diverging\": [[0, \"#8e0152\"], [0.1, \"#c51b7d\"], [0.2, \"#de77ae\"], [0.3, \"#f1b6da\"], [0.4, \"#fde0ef\"], [0.5, \"#f7f7f7\"], [0.6, \"#e6f5d0\"], [0.7, \"#b8e186\"], [0.8, \"#7fbc41\"], [0.9, \"#4d9221\"], [1, \"#276419\"]], \"sequential\": [[0.0, \"#0d0887\"], [0.1111111111111111, \"#46039f\"], [0.2222222222222222, \"#7201a8\"], [0.3333333333333333, \"#9c179e\"], [0.4444444444444444, \"#bd3786\"], [0.5555555555555556, \"#d8576b\"], [0.6666666666666666, \"#ed7953\"], [0.7777777777777778, \"#fb9f3a\"], [0.8888888888888888, \"#fdca26\"], [1.0, \"#f0f921\"]], \"sequentialminus\": [[0.0, \"#0d0887\"], [0.1111111111111111, \"#46039f\"], [0.2222222222222222, \"#7201a8\"], [0.3333333333333333, \"#9c179e\"], [0.4444444444444444, \"#bd3786\"], [0.5555555555555556, \"#d8576b\"], [0.6666666666666666, \"#ed7953\"], [0.7777777777777778, \"#fb9f3a\"], [0.8888888888888888, \"#fdca26\"], [1.0, \"#f0f921\"]]}, \"colorway\": [\"#636efa\", \"#EF553B\", \"#00cc96\", \"#ab63fa\", \"#FFA15A\", \"#19d3f3\", \"#FF6692\", \"#B6E880\", \"#FF97FF\", \"#FECB52\"], \"font\": {\"color\": \"#2a3f5f\"}, \"geo\": {\"bgcolor\": \"white\", \"lakecolor\": \"white\", \"landcolor\": \"#E5ECF6\", \"showlakes\": true, \"showland\": true, \"subunitcolor\": \"white\"}, \"hoverlabel\": {\"align\": \"left\"}, \"hovermode\": \"closest\", \"mapbox\": {\"style\": \"light\"}, \"paper_bgcolor\": \"white\", \"plot_bgcolor\": \"#E5ECF6\", \"polar\": {\"angularaxis\": {\"gridcolor\": \"white\", \"linecolor\": \"white\", \"ticks\": \"\"}, \"bgcolor\": \"#E5ECF6\", \"radialaxis\": {\"gridcolor\": \"white\", \"linecolor\": \"white\", \"ticks\": \"\"}}, \"scene\": {\"xaxis\": {\"backgroundcolor\": \"#E5ECF6\", \"gridcolor\": \"white\", \"gridwidth\": 2, \"linecolor\": \"white\", \"showbackground\": true, \"ticks\": \"\", \"zerolinecolor\": \"white\"}, \"yaxis\": {\"backgroundcolor\": \"#E5ECF6\", \"gridcolor\": \"white\", \"gridwidth\": 2, \"linecolor\": \"white\", \"showbackground\": true, \"ticks\": \"\", \"zerolinecolor\": \"white\"}, \"zaxis\": {\"backgroundcolor\": \"#E5ECF6\", \"gridcolor\": \"white\", \"gridwidth\": 2, \"linecolor\": \"white\", \"showbackground\": true, \"ticks\": \"\", \"zerolinecolor\": \"white\"}}, \"shapedefaults\": {\"line\": {\"color\": \"#2a3f5f\"}}, \"ternary\": {\"aaxis\": {\"gridcolor\": \"white\", \"linecolor\": \"white\", \"ticks\": \"\"}, \"baxis\": {\"gridcolor\": \"white\", \"linecolor\": \"white\", \"ticks\": \"\"}, \"bgcolor\": \"#E5ECF6\", \"caxis\": {\"gridcolor\": \"white\", \"linecolor\": \"white\", \"ticks\": \"\"}}, \"title\": {\"x\": 0.05}, \"xaxis\": {\"automargin\": true, \"gridcolor\": \"white\", \"linecolor\": \"white\", \"ticks\": \"\", \"title\": {\"standoff\": 15}, \"zerolinecolor\": \"white\", \"zerolinewidth\": 2}, \"yaxis\": {\"automargin\": true, \"gridcolor\": \"white\", \"linecolor\": \"white\", \"ticks\": \"\", \"title\": {\"standoff\": 15}, \"zerolinecolor\": \"white\", \"zerolinewidth\": 2}}}, \"title\": {\"text\": \"Un gr\\u00e1fico mol\\u00f3n\"}, \"xaxis\": {\"anchor\": \"y\", \"domain\": [0.0, 1.0], \"title\": {\"text\": \"ano\"}}, \"yaxis\": {\"anchor\": \"x\", \"domain\": [0.0, 1.0], \"title\": {\"text\": \"precio_90_metros\"}}},                        {\"responsive\": true}                    ).then(function(){\n",
       "                            \n",
       "var gd = document.getElementById('3445e033-54e5-489d-9833-b7ddd6a1b745');\n",
       "var x = new MutationObserver(function (mutations, observer) {{\n",
       "        var display = window.getComputedStyle(gd).display;\n",
       "        if (!display || display === 'none') {{\n",
       "            console.log([gd, 'removed!']);\n",
       "            Plotly.purge(gd);\n",
       "            observer.disconnect();\n",
       "        }}\n",
       "}});\n",
       "\n",
       "// Listen for the removal of the full notebook cells\n",
       "var notebookContainer = gd.closest('#notebook-container');\n",
       "if (notebookContainer) {{\n",
       "    x.observe(notebookContainer, {childList: true});\n",
       "}}\n",
       "\n",
       "// Listen for the clearing of the current output cell\n",
       "var outputEl = gd.closest('.output');\n",
       "if (outputEl) {{\n",
       "    x.observe(outputEl, {childList: true});\n",
       "}}\n",
       "\n",
       "                        })                };                });            </script>        </div>"
      ]
     },
     "metadata": {},
     "output_type": "display_data"
    }
   ],
   "source": [
    "px.line(alquiler[alquiler.quarter == 1], x = 'ano', y = 'precio_90_metros', color = 'distrito', title = 'Un gráfico molón')"
   ]
  },
  {
   "cell_type": "code",
   "execution_count": 195,
   "metadata": {
    "scrolled": true
   },
   "outputs": [
    {
     "name": "stderr",
     "output_type": "stream",
     "text": [
      "C:\\Users\\Usuario\\anaconda3\\lib\\site-packages\\seaborn\\distributions.py:2551: FutureWarning:\n",
      "\n",
      "`distplot` is a deprecated function and will be removed in a future version. Please adapt your code to use either `displot` (a figure-level function with similar flexibility) or `histplot` (an axes-level function for histograms).\n",
      "\n"
     ]
    },
    {
     "data": {
      "text/plain": [
       "<matplotlib.axes._subplots.AxesSubplot at 0x1d2557392b0>"
      ]
     },
     "execution_count": 195,
     "metadata": {},
     "output_type": "execute_result"
    },
    {
     "data": {
      "image/png": "[encoded data removed]",
      "text/plain": [
       "<Figure size 432x288 with 1 Axes>"
      ]
     },
     "metadata": {
      "needs_background": "light"
     },
     "output_type": "display_data"
    }
   ],
   "source": [
    "sns.distplot(alquiler.precio)"
   ]
  },
  {
   "cell_type": "code",
   "execution_count": 196,
   "metadata": {
    "scrolled": true
   },
   "outputs": [
    {
     "data": {
      "text/plain": [
       "<matplotlib.axes._subplots.AxesSubplot at 0x1d253dfa1c0>"
      ]
     },
     "execution_count": 196,
     "metadata": {},
     "output_type": "execute_result"
    },
    {
     "data": {
      "image/png": "[encoded data removed]",
      "text/plain": [
       "<Figure size 432x288 with 1 Axes>"
      ]
     },
     "metadata": {
      "needs_background": "light"
     },
     "output_type": "display_data"
    }
   ],
   "source": [
    "sns.histplot(alquiler.precio, kde = False)"
   ]
  },
  {
   "cell_type": "code",
   "execution_count": 218,
   "metadata": {
    "scrolled": true
   },
   "outputs": [
    {
     "data": {
      "text/plain": [
       "<matplotlib.axes._subplots.AxesSubplot at 0x1d2567fff70>"
      ]
     },
     "execution_count": 218,
     "metadata": {},
     "output_type": "execute_result"
    },
    {
     "data": {
      "image/png": "[encoded data removed]",
      "text/plain": [
       "<Figure size 432x288 with 1 Axes>"
      ]
     },
     "metadata": {
      "needs_background": "light"
     },
     "output_type": "display_data"
    }
   ],
   "source": [
    "sns.scatterplot(x = 'distrito', y = 'precio', data = alquiler, hue = 'quarter')"
   ]
  },
  {
   "cell_type": "code",
   "execution_count": 222,
   "metadata": {},
   "outputs": [
    {
     "name": "stderr",
     "output_type": "stream",
     "text": [
      "C:\\Users\\Usuario\\anaconda3\\lib\\site-packages\\seaborn\\categorical.py:1296: UserWarning:\n",
      "\n",
      "7.9% of the points cannot be placed; you may want to decrease the size of the markers or use stripplot.\n",
      "\n",
      "C:\\Users\\Usuario\\anaconda3\\lib\\site-packages\\seaborn\\categorical.py:1296: UserWarning:\n",
      "\n",
      "7.4% of the points cannot be placed; you may want to decrease the size of the markers or use stripplot.\n",
      "\n"
     ]
    },
    {
     "data": {
      "text/plain": [
       "<matplotlib.axes._subplots.AxesSubplot at 0x1d257461070>"
      ]
     },
     "execution_count": 222,
     "metadata": {},
     "output_type": "execute_result"
    },
    {
     "data": {
      "image/png": "[encoded data removed]",
      "text/plain": [
       "<Figure size 432x288 with 1 Axes>"
      ]
     },
     "metadata": {
      "needs_background": "light"
     },
     "output_type": "display_data"
    }
   ],
   "source": [
    "sns.swarmplot(x = 'quarter', y = 'precio', data = alquiler, hue = 'distrito')"
   ]
  },
  {
   "cell_type": "markdown",
   "metadata": {},
   "source": [
    "#### Ejercicio\n",
    "\n",
    "* Carga en un DataFrame el CSV `dat/venta-madrid-distritos.csv`\n",
    "* Crúzalo con el que ya tenemos de alquiler. El objetivo es tener, para cada distrito, año y cuatrimestre, tanto el precio de alquiler como el de venta del metro cuadrado. Para saber cómo poner sufijos a las columnas que colisionan en el cruce, mira la documentación de `merge`.\n",
    "* Extrae los precios medios de venta y alquiler por distrito para todo el histórico\n",
    "* Exporta el resultado a csv\n",
    "* Extrae, para el año y cuatrimestre más reciente del que haya datos, el distrito donde es más rentable comprar una vivienda para destinarla a alquiler. Es decir, con el ratio precio alquiler / precio venta más alto.\n"
   ]
  },
  {
   "cell_type": "markdown",
   "metadata": {},
   "source": [
    "Para exportar a csv se usa la siguiente función con la siguiente sintaxis: df_name.to_csv('fichero.csv', index = False, enconde = 'utf-8'). El index = False es para que no guarde también los índices."
   ]
  },
  {
   "cell_type": "code",
   "execution_count": null,
   "metadata": {},
   "outputs": [],
   "source": []
  },
  {
   "cell_type": "code",
   "execution_count": null,
   "metadata": {},
   "outputs": [],
   "source": []
  }
 ],
 "metadata": {
  "kernelspec": {
   "display_name": "Python 3",
   "language": "python",
   "name": "python3"
  },
  "language_info": {
   "codemirror_mode": {
    "name": "ipython",
    "version": 3
   },
   "file_extension": ".py",
   "mimetype": "text/x-python",
   "name": "python",
   "nbconvert_exporter": "python",
   "pygments_lexer": "ipython3",
   "version": "3.8.3"
  }
 },
 "nbformat": 4,
 "nbformat_minor": 2
}
