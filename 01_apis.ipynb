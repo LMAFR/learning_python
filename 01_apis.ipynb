{
 "cells": [
  {
   "cell_type": "markdown",
   "metadata": {},
   "source": [
    "# Introducción a las APIs\n",
    ### Author: Carmen Alonso Martínez\n,
    "\n",
    "Las [APIs](https://en.wikipedia.org/wiki/Application_programming_interface) (Application Programming Interface) se utilizan de manera habitual para acceder a datos, servicios o facilitar la comunicación entre programas.\n",
    "\n",
    "Son muy útiles en los siguientes casos:\n",
    "\n",
    "* Los datos cambian rápidamente. Por ejemplo, predicciones metereológicas a corto plazo, o el estado actual de la bolsa. En estos casos, no tiene sentido tener un dataset estático que regenerar continuamente.\n",
    "* Necesitamos una parte pequeña de un dataset mucho más grande. Por ejemplo, vamos a analizar los tweets de una determinada cuenta. Sería innecesariamente costo tener que descargarse la base de datos de Twitter completa para consultar un subconjunto muy pequeño.\n",
    "* Para consumir un servicio especializado. Por ejemplo, la geocodificación inversa (consiste en un servicio al que le pasas una latitud y longitud y te devuelve la dirección, ciudad, país, ... en la que se encuentra. Para hacerlo por nosotros mismos, necesitaríamos una base geolocalizada global.\n"
   ]
  },
  {
   "cell_type": "markdown",
   "metadata": {},
   "source": [
    "![](images/api_vs_website.gif)"
   ]
  },
  {
   "cell_type": "markdown",
   "metadata": {},
   "source": [
    "En realidad, su uso es muy parecido a la consulta de un sitio web desde un explorador. Tanto la API como el sitio web residen en un servidor web remoto (normalmente, accesible desde internet) y contestan a las peticiones que hacen los clientes. La gran diferencia reside, principalmente, en el formato de la respuesta:\n",
    "\n",
    "* Al consultar un sitio web, el resultado se devuelve para que sea interpretable por humanos. Suele estar formado por HTML que el explorador renderiza para nosotros.\n",
    "* Al consultar una API, el resultado se devuelve en una forma estructurada para que sea interpretable por otro programa. El formato más habitual es el [JSON](https://en.wikipedia.org/wiki/JSON), aunque existen otros.\n",
    "\n",
    "Un ejemplo de JSON:"
   ]
  },
  {
   "cell_type": "markdown",
   "metadata": {},
   "source": [
    "![](images/json.png)"
   ]
  },
  {
   "cell_type": "markdown",
   "metadata": {},
   "source": [
    "## Peticiones a APIs\n",
    "\n",
    "Vamos a hacer una petición a una API. Para ello, necesitamos saber:\n",
    "\n",
    "* El endpoint (url)\n",
    "* Si necesita parámetros, cuáles son, y dónde se colocan (en el query string o en el cuerpo de la petición)\n",
    "\n",
    "Un ejemplo de petición a una API que no necesita parámetros\n",
    "\n",
    "* Documentación [requests](http://www.python-requests.org/en/latest/)"
   ]
  },
  {
   "cell_type": "code",
   "execution_count": 2,
   "metadata": {},
   "outputs": [],
   "source": [
    "import requests"
   ]
  },
  {
   "cell_type": "code",
   "execution_count": 3,
   "metadata": {},
   "outputs": [
    {
     "data": {
      "text/plain": [
       "'2.24.0'"
      ]
     },
     "execution_count": 3,
     "metadata": {},
     "output_type": "execute_result"
    }
   ],
   "source": [
    "requests.__version__ # En clase trabajamos con la versión 2.24.0."
   ]
  },
  {
   "cell_type": "code",
   "execution_count": 4,
   "metadata": {},
   "outputs": [],
   "source": [
    "response = requests.get('https://api.exchangeratesapi.io/latest') # Hay que pasarle la web que te va a devolver los datos\n",
    "\n",
    "# Para saber cómo funciona cada API, se suele buscar en Internet.\n",
    "\n",
    "# Un Json es como un esquema de llaves. Cada objeto Json es como un esquema de llaves donde hay claves y valores (van entre\n",
    "# llaves y son muy similares a un diccionario de Python, aunque en este caso pueden incluir otros diccionarios dentro de sí\n",
    "# mismos, lo que habría que revisar si se puede hacer en Python).\n",
    "\n",
    "# Al llamar a la API, se nos devuelve un objeto Json (no son elementos de Python, aunque se parezcan en cuanto a apariencia, \n",
    "# cuidado con eso).\n",
    "\n",
    "#Nunca se puede hacer requests as re, porque re es una librería muy importante de Python que no queremos tocar."
   ]
  },
  {
   "cell_type": "code",
   "execution_count": 5,
   "metadata": {},
   "outputs": [
    {
     "data": {
      "text/plain": [
       "200"
      ]
     },
     "execution_count": 5,
     "metadata": {},
     "output_type": "execute_result"
    }
   ],
   "source": [
    "# Código de estado: 200 indica OK\n",
    "\n",
    "response.status_code # El estado o status está relacionado con los errores 404 de Internet y cosas de ese estilo."
   ]
  },
  {
   "cell_type": "code",
   "execution_count": 6,
   "metadata": {},
   "outputs": [
    {
     "data": {
      "text/plain": [
       "{'Date': 'Sat, 12 Dec 2020 22:51:03 GMT', 'Content-Type': 'application/json', 'Transfer-Encoding': 'chunked', 'Connection': 'keep-alive', 'Set-Cookie': '__cfduid=d4cff15a5636ddeca53d905c46326999c1607813463; expires=Mon, 11-Jan-21 22:51:03 GMT; path=/; domain=.exchangeratesapi.io; HttpOnly; SameSite=Lax', 'Vary': 'Accept-Encoding', 'Access-Control-Allow-Origin': '*', 'Access-Control-Allow-Credentials': 'true', 'Access-Control-Allow-Methods': 'GET', 'Content-Encoding': 'gzip', 'Cache-Control': 'max-age=1800', 'CF-Cache-Status': 'HIT', 'Age': '2945', 'cf-request-id': '06fabf93e50000ff0cfd8ec000000001', 'Expect-CT': 'max-age=604800, report-uri=\"https://report-uri.cloudflare.com/cdn-cgi/beacon/expect-ct\"', 'Report-To': '{\"endpoints\":[{\"url\":\"https:\\\\/\\\\/a.nel.cloudflare.com\\\\/report?s=zfas%2FYA5Z51rJDOi%2Bo89vYgsRoOdgrF%2Bi2cNhq73GHjrXXj9vYF2vjjchttOjE7%2FixHqwKkr2vQhOcmfM%2FLS0YxBzi62A4dQGxXspKn1vm0EH9dL5eQ1gA%3D%3D\"}],\"group\":\"cf-nel\",\"max_age\":604800}', 'NEL': '{\"report_to\":\"cf-nel\",\"max_age\":604800}', 'Server': 'cloudflare', 'CF-RAY': '600b01ffda4bff0c-MAD'}"
      ]
     },
     "execution_count": 6,
     "metadata": {},
     "output_type": "execute_result"
    }
   ],
   "source": [
    "# Cabeceras: dan información sobre el servidor, el formato de la respuesta, ...\n",
    "\n",
    "response.headers # Se usa para debuggear si estás muy desesperado, pero por lo general no se usa."
   ]
  },
  {
   "cell_type": "code",
   "execution_count": 7,
   "metadata": {},
   "outputs": [
    {
     "data": {
      "text/plain": [
       "{'rates': {'CAD': 1.5487,\n",
       "  'HKD': 9.3999,\n",
       "  'ISK': 154.8,\n",
       "  'PHP': 58.339,\n",
       "  'DKK': 7.4429,\n",
       "  'HUF': 354.81,\n",
       "  'CZK': 26.328,\n",
       "  'AUD': 1.609,\n",
       "  'RON': 4.8698,\n",
       "  'SEK': 10.256,\n",
       "  'IDR': 17074.82,\n",
       "  'INR': 89.4705,\n",
       "  'BRL': 6.1448,\n",
       "  'RUB': 88.7373,\n",
       "  'HRK': 7.5375,\n",
       "  'JPY': 126.28,\n",
       "  'THB': 36.496,\n",
       "  'CHF': 1.0786,\n",
       "  'SGD': 1.6213,\n",
       "  'PLN': 4.4358,\n",
       "  'BGN': 1.9558,\n",
       "  'TRY': 9.5678,\n",
       "  'CNY': 7.9386,\n",
       "  'NOK': 10.6968,\n",
       "  'NZD': 1.71,\n",
       "  'ZAR': 18.3435,\n",
       "  'USD': 1.2127,\n",
       "  'MXN': 24.4157,\n",
       "  'ILS': 3.9469,\n",
       "  'GBP': 0.92294,\n",
       "  'KRW': 1325.32,\n",
       "  'MYR': 4.9133},\n",
       " 'base': 'EUR',\n",
       " 'date': '2020-12-11'}"
      ]
     },
     "execution_count": 7,
     "metadata": {},
     "output_type": "execute_result"
    }
   ],
   "source": [
    "# Los datos de respuesta, en JSON\n",
    "\n",
    "response_data = response.json() # Este método nos devuelve los datos que hemos cargado con la API. \n",
    "                                # Como se puede observar, es como un diccionario; esto es un JSON.\n",
    "response_data"
   ]
  },
  {
   "cell_type": "markdown",
   "metadata": {},
   "source": [
    "La librería parsea el JSON de respuesta automáticamente a una lista de diccionarios (con las anidaciones correspondientes. P.e. podemos extraer campos concretos de esta forma:"
   ]
  },
  {
   "cell_type": "code",
   "execution_count": 8,
   "metadata": {},
   "outputs": [
    {
     "data": {
      "text/plain": [
       "'EUR'"
      ]
     },
     "execution_count": 8,
     "metadata": {},
     "output_type": "execute_result"
    }
   ],
   "source": [
    "response_data['base'] # La base nos da el valor que se ha tomado como referencia, \n",
    "                      # en este caso se están calculando los cambios de monedas a euro."
   ]
  },
  {
   "cell_type": "code",
   "execution_count": 9,
   "metadata": {},
   "outputs": [
    {
     "data": {
      "text/plain": [
       "{'CAD': 1.5487,\n",
       " 'HKD': 9.3999,\n",
       " 'ISK': 154.8,\n",
       " 'PHP': 58.339,\n",
       " 'DKK': 7.4429,\n",
       " 'HUF': 354.81,\n",
       " 'CZK': 26.328,\n",
       " 'AUD': 1.609,\n",
       " 'RON': 4.8698,\n",
       " 'SEK': 10.256,\n",
       " 'IDR': 17074.82,\n",
       " 'INR': 89.4705,\n",
       " 'BRL': 6.1448,\n",
       " 'RUB': 88.7373,\n",
       " 'HRK': 7.5375,\n",
       " 'JPY': 126.28,\n",
       " 'THB': 36.496,\n",
       " 'CHF': 1.0786,\n",
       " 'SGD': 1.6213,\n",
       " 'PLN': 4.4358,\n",
       " 'BGN': 1.9558,\n",
       " 'TRY': 9.5678,\n",
       " 'CNY': 7.9386,\n",
       " 'NOK': 10.6968,\n",
       " 'NZD': 1.71,\n",
       " 'ZAR': 18.3435,\n",
       " 'USD': 1.2127,\n",
       " 'MXN': 24.4157,\n",
       " 'ILS': 3.9469,\n",
       " 'GBP': 0.92294,\n",
       " 'KRW': 1325.32,\n",
       " 'MYR': 4.9133}"
      ]
     },
     "execution_count": 9,
     "metadata": {},
     "output_type": "execute_result"
    }
   ],
   "source": [
    "response_data['rates'] # Obsérvese que base no está indentado dentro de rates."
   ]
  },
  {
   "cell_type": "code",
   "execution_count": 13,
   "metadata": {},
   "outputs": [
    {
     "data": {
      "text/plain": [
       "1.6161"
      ]
     },
     "execution_count": 13,
     "metadata": {},
     "output_type": "execute_result"
    }
   ],
   "source": [
    "response_data['rates']['AUD']"
   ]
  },
  {
   "cell_type": "code",
   "execution_count": 9,
   "metadata": {},
   "outputs": [
    {
     "data": {
      "text/plain": [
       "1.2115"
      ]
     },
     "execution_count": 9,
     "metadata": {},
     "output_type": "execute_result"
    }
   ],
   "source": [
    "response_data['rates']['USD']"
   ]
  },
  {
   "cell_type": "markdown",
   "metadata": {},
   "source": [
    "## Códigos de respuesta\n",
    "\n",
    "El _status code_ nos indica si ha ido bien o no la petición. Además, en caso de error, nos da información sobre la causa de este. Los más utilizados son:\n",
    "\n",
    "* 200: la petición ha ido bien\n",
    "* 301: el servidor está redireccionando la petición a otro\n",
    "* 401: error de autenticación\n",
    "* 400: la petición es incorrecta (p.e. porque falta algún parámetro o están mal formados)\n",
    "* 403: prohibido, no tienes permisos suficientes\n",
    "* 404: el recurso consultado no existe\n",
    "* 500: el servidor ha dado un error inesperado\n",
    "\n",
    "Puedes ver la lista completa [aquí](https://en.wikipedia.org/wiki/List_of_HTTP_status_codes)"
   ]
  },
  {
   "cell_type": "markdown",
   "metadata": {},
   "source": [
    "## Verbos\n",
    "\n",
    "Las peticiones a las APIs usan verbos. En el ejemplo de antes, hemos utilizado `GET`. Además, este verbo es el que se usa por defecto a través del explorador.\n",
    "\n",
    "Los más comunes y el uso que se les suele dar son:\n",
    "\n",
    "* GET: para consulta\n",
    "* POST: para insertar un nuevo dato o disparar una acción # \"Esto no nos interesa, es enviar información a un servidor.\"\n",
    "* PUT: para actualizar un registro\n",
    "* DELETE: para eliminar un registro"
   ]
  },
  {
   "cell_type": "markdown",
   "metadata": {},
   "source": [
    "## Parámetros\n",
    "\n",
    "Los parámetros que incluimos en la petición pueden ir de formas diversas:\n",
    "\n",
    "* Como parte de la URL. P.e. `https://api.exchangeratesapi.io/2010-04-01`\n",
    "* Como parte del query string. La URL y su query string se separan con el símbolo `?`, y tienen la forma `clave=valor`. P.e. `https://api.exchangeratesapi.io/latest?base=USD`. Este es el lugar habitual de los parámetros en las peticiones `GET`.\n",
    "* En el cuerpo de la petición. Es el lugar habitual de los parámetros en las peticiones `POST` y `PUT`.\n",
    "\n",
    "Un ejemplo de petición `POST` con parámetros en el cuerpo de la petición:"
   ]
  },
  {
   "cell_type": "code",
   "execution_count": 11,
   "metadata": {},
   "outputs": [
    {
     "data": {
      "text/plain": [
       "{'args': {},\n",
       " 'data': '',\n",
       " 'files': {},\n",
       " 'form': {'clave': 'valor'},\n",
       " 'headers': {'Accept': '*/*',\n",
       "  'Accept-Encoding': 'gzip, deflate',\n",
       "  'Content-Length': '11',\n",
       "  'Content-Type': 'application/x-www-form-urlencoded',\n",
       "  'Host': 'httpbin.org',\n",
       "  'User-Agent': 'python-requests/2.24.0',\n",
       "  'X-Amzn-Trace-Id': 'Root=1-5fd39680-3052cfc5528f4f845a92aa77'},\n",
       " 'json': None,\n",
       " 'origin': '90.160.44.144',\n",
       " 'url': 'https://httpbin.org/post'}"
      ]
     },
     "execution_count": 11,
     "metadata": {},
     "output_type": "execute_result"
    }
   ],
   "source": [
    "response = requests.post('https://httpbin.org/post', data={'clave': 'valor'})\n",
    "response.json() # Sirve para exportar datos a un servidor. No se usa mucho porque \n",
    "                # normalmente la API se usa para extraer la información de un servidor, no al revés.\n",
    "                # \"No os preocupéis por el post, de verdad.\""
   ]
  },
  {
   "cell_type": "markdown",
   "metadata": {},
   "source": [
    "Un ejemplo similar, pero enviando los parámetros en el cuerpo de la petición __en formato JSON__:"
   ]
  },
  {
   "cell_type": "code",
   "execution_count": 14,
   "metadata": {
    "scrolled": true
   },
   "outputs": [
    {
     "data": {
      "text/plain": [
       "{'args': {},\n",
       " 'data': '{\"clave\": \"valor\"}',\n",
       " 'files': {},\n",
       " 'form': {},\n",
       " 'headers': {'Accept': '*/*',\n",
       "  'Accept-Encoding': 'gzip, deflate',\n",
       "  'Content-Length': '18',\n",
       "  'Content-Type': 'application/json',\n",
       "  'Host': 'httpbin.org',\n",
       "  'User-Agent': 'python-requests/2.24.0',\n",
       "  'X-Amzn-Trace-Id': 'Root=1-5fd39754-1e30407b00482b95597bdd2d'},\n",
       " 'json': {'clave': 'valor'},\n",
       " 'origin': '90.160.44.144',\n",
       " 'url': 'https://httpbin.org/post'}"
      ]
     },
     "execution_count": 14,
     "metadata": {},
     "output_type": "execute_result"
    }
   ],
   "source": [
    "response = requests.post('https://httpbin.org/post', json={'clave': 'valor'})\n",
    "response.json()"
   ]
  },
  {
   "cell_type": "markdown",
   "metadata": {},
   "source": [
    "### Ejercicio\n",
    "\n",
    "Investiga en la documentación de la librería [requests](http://www.python-requests.org/en/latest/) cómo pasar parámetros en el query string. También consulta la documentación de la API [exchangeratesapi](https://exchangeratesapi.io/).\n",
    "\n",
    "Con esta información, extrae el valor actual de la conversión de la libra esterlina `GBP` al resto de monedas.\n",
    "\n",
    "*Nota*: hazlo sin poner manualmente el query string en la URL"
   ]
  },
  {
   "cell_type": "code",
   "execution_count": 16,
   "metadata": {},
   "outputs": [
    {
     "data": {
      "text/plain": [
       "{'rates': {'CAD': 1.696597146,\n",
       "  'HKD': 10.3082327113,\n",
       "  'ISK': 169.3743139407,\n",
       "  'PHP': 63.9978046103,\n",
       "  'DKK': 8.1693743139,\n",
       "  'HUF': 389.945115258,\n",
       "  'CZK': 28.8770581778,\n",
       "  'GBP': 1.0,\n",
       "  'RON': 5.3452250274,\n",
       "  'SEK': 11.2398463227,\n",
       "  'IDR': 18757.6399560922,\n",
       "  'INR': 97.9709110867,\n",
       "  'BRL': 6.7624588364,\n",
       "  'RUB': 97.5478594951,\n",
       "  'HRK': 8.2826564215,\n",
       "  'JPY': 138.8913282108,\n",
       "  'THB': 39.9758507135,\n",
       "  'CHF': 1.1807903403,\n",
       "  'EUR': 1.0976948408,\n",
       "  'MYR': 5.4005488474,\n",
       "  'BGN': 2.1468715697,\n",
       "  'TRY': 10.4566410538,\n",
       "  'CNY': 8.6996706915,\n",
       "  'NOK': 11.7453347969,\n",
       "  'NZD': 1.8862788145,\n",
       "  'ZAR': 19.9511525796,\n",
       "  'USD': 1.3298572997,\n",
       "  'MXN': 26.4394072448,\n",
       "  'SGD': 1.7784851811,\n",
       "  'AUD': 1.7739846323,\n",
       "  'ILS': 4.3212952799,\n",
       "  'KRW': 1447.3326015368,\n",
       "  'PLN': 4.8592755214},\n",
       " 'base': 'GBP',\n",
       " 'date': '2020-12-10'}"
      ]
     },
     "execution_count": 16,
     "metadata": {},
     "output_type": "execute_result"
    }
   ],
   "source": [
    "resp = requests.get('https://api.exchangeratesapi.io/latest?base=GBP') # Con el parámetro en el url (query string \n",
    "                                                                       # escrito manualmente en la URL).\n",
    "                                                                       # (los parámetros añadidos son el query string).\n",
    "resp.json()"
   ]
  },
  {
   "cell_type": "code",
   "execution_count": 18,
   "metadata": {},
   "outputs": [
    {
     "data": {
      "text/plain": [
       "{'rates': {'CAD': 1.696597146,\n",
       "  'HKD': 10.3082327113,\n",
       "  'ISK': 169.3743139407,\n",
       "  'PHP': 63.9978046103,\n",
       "  'DKK': 8.1693743139,\n",
       "  'HUF': 389.945115258,\n",
       "  'CZK': 28.8770581778,\n",
       "  'GBP': 1.0,\n",
       "  'RON': 5.3452250274,\n",
       "  'SEK': 11.2398463227,\n",
       "  'IDR': 18757.6399560922,\n",
       "  'INR': 97.9709110867,\n",
       "  'BRL': 6.7624588364,\n",
       "  'RUB': 97.5478594951,\n",
       "  'HRK': 8.2826564215,\n",
       "  'JPY': 138.8913282108,\n",
       "  'THB': 39.9758507135,\n",
       "  'CHF': 1.1807903403,\n",
       "  'EUR': 1.0976948408,\n",
       "  'MYR': 5.4005488474,\n",
       "  'BGN': 2.1468715697,\n",
       "  'TRY': 10.4566410538,\n",
       "  'CNY': 8.6996706915,\n",
       "  'NOK': 11.7453347969,\n",
       "  'NZD': 1.8862788145,\n",
       "  'ZAR': 19.9511525796,\n",
       "  'USD': 1.3298572997,\n",
       "  'MXN': 26.4394072448,\n",
       "  'SGD': 1.7784851811,\n",
       "  'AUD': 1.7739846323,\n",
       "  'ILS': 4.3212952799,\n",
       "  'KRW': 1447.3326015368,\n",
       "  'PLN': 4.8592755214},\n",
       " 'base': 'GBP',\n",
       " 'date': '2020-12-10'}"
      ]
     },
     "execution_count": 18,
     "metadata": {},
     "output_type": "execute_result"
    }
   ],
   "source": [
    "payload = {'base':'GBP'}\n",
    "resp = requests.get('https://api.exchangeratesapi.io/latest', params = payload) # Sin query string. La URL no debe acabar en \"?\".\n",
    "resp.json()"
   ]
  },
  {
   "cell_type": "markdown",
   "metadata": {},
   "source": [
    "### Ejercicio\n",
    "\n",
    "También sobre la API de `exchangeratesapi`, consulta el histórico disponible del valor entre dólares americanos y libras entre el 15 de agosto y 15 de septiembre de 2018"
   ]
  },
  {
   "cell_type": "code",
   "execution_count": 34,
   "metadata": {},
   "outputs": [
    {
     "data": {
      "text/plain": [
       "{'rates': {'2018-08-27': {'USD': 1.2873346982},\n",
       "  '2018-09-14': {'USD': 1.3100147936},\n",
       "  '2018-08-22': {'USD': 1.2917000267},\n",
       "  '2018-09-11': {'USD': 1.299456595},\n",
       "  '2018-09-07': {'USD': 1.3010361243},\n",
       "  '2018-08-28': {'USD': 1.2913542126},\n",
       "  '2018-08-17': {'USD': 1.2716717834},\n",
       "  '2018-08-30': {'USD': 1.3026136946},\n",
       "  '2018-08-20': {'USD': 1.2762913789},\n",
       "  '2018-09-12': {'USD': 1.3012760031},\n",
       "  '2018-08-15': {'USD': 1.2701671715},\n",
       "  '2018-09-10': {'USD': 1.29516454},\n",
       "  '2018-08-29': {'USD': 1.2883977901},\n",
       "  '2018-08-23': {'USD': 1.2883019204},\n",
       "  '2018-08-31': {'USD': 1.298306218},\n",
       "  '2018-09-05': {'USD': 1.2822159242},\n",
       "  '2018-08-21': {'USD': 1.2817026967},\n",
       "  '2018-08-24': {'USD': 1.2847006652},\n",
       "  '2018-09-03': {'USD': 1.2876283857},\n",
       "  '2018-09-06': {'USD': 1.2951995012},\n",
       "  '2018-08-16': {'USD': 1.2704194507},\n",
       "  '2018-09-04': {'USD': 1.2838393036},\n",
       "  '2018-09-13': {'USD': 1.3056179775}},\n",
       " 'start_at': '2018-08-15',\n",
       " 'base': 'GBP',\n",
       " 'end_at': '2018-09-15'}"
      ]
     },
     "execution_count": 34,
     "metadata": {},
     "output_type": "execute_result"
    }
   ],
   "source": [
    "payload = {'start_at':'2018-08-15',\n",
    "           'end_at':'2018-09-15',\n",
    "           'base':'GBP',\n",
    "           'symbols':'USD'}\n",
    "resp = requests.get('https://api.exchangeratesapi.io/history', params = payload) # Sin query string. La URL no debe acabar en \"?\".\n",
    "resp.json()\n",
    "\n",
    "# Obsérvese que para ver un histórico ponemos \"history\", no \"latest\".\n"
   ]
  },
  {
   "cell_type": "markdown",
   "metadata": {},
   "source": [
    "### Ejercicio\n",
    "\n",
    "Consulta la documentación de estas dos APIs:\n",
    "\n",
    "* [Nominatim - reverse geocoding](http://wiki.openstreetmap.org/wiki/Nominatim#Reverse_Geocoding)\n",
    "    * https://nominatim.org/release-docs/latest/api/Search/\n",
    "    * https://nominatim.org/release-docs/latest/api/Reverse/\n",
    "* [UK Police - crimes at location](https://data.police.uk/docs/method/crimes-at-location)\n",
    "\n",
    "Primero, consulta a la API de Nominatim para conocer cuál es la dirección asociada a estas coordenadas:\n",
    "\n",
    "* Latitud: 51.4965946\n",
    "* Longitud: -0.1436476\n",
    "\n",
    "El resultado debe estar en formato JSON."
   ]
  },
  {
   "cell_type": "code",
   "execution_count": 46,
   "metadata": {},
   "outputs": [
    {
     "data": {
      "text/plain": [
       "{'place_id': 45570571,\n",
       " 'licence': 'Data © OpenStreetMap contributors, ODbL 1.0. https://osm.org/copyright',\n",
       " 'osm_type': 'node',\n",
       " 'osm_id': 3631210990,\n",
       " 'lat': '51.4965155',\n",
       " 'lon': '-0.14368',\n",
       " 'place_rank': 30,\n",
       " 'category': 'shop',\n",
       " 'type': 'coffee',\n",
       " 'importance': 0,\n",
       " 'addresstype': 'shop',\n",
       " 'name': 'Black Sheep Coffee',\n",
       " 'display_name': 'Black Sheep Coffee, Victoria Street, Victoria, City of Westminster, London, Greater London, England, SW1E 5ND, United Kingdom',\n",
       " 'address': {'shop': 'Black Sheep Coffee',\n",
       "  'road': 'Victoria Street',\n",
       "  'suburb': 'Victoria',\n",
       "  'city': 'City of Westminster',\n",
       "  'state_district': 'Greater London',\n",
       "  'state': 'England',\n",
       "  'postcode': 'SW1E 5ND',\n",
       "  'country': 'United Kingdom',\n",
       "  'country_code': 'gb'},\n",
       " 'boundingbox': ['51.4964655', '51.4965655', '-0.14373', '-0.14363']}"
      ]
     },
     "execution_count": 46,
     "metadata": {},
     "output_type": "execute_result"
    }
   ],
   "source": [
    "coordinates = {'lat': '51.4965946', 'lon':'-0.1436476', 'format':'jsonv2'}\n",
    "resp2 = requests.get('https://nominatim.openstreetmap.org/reverse', params = coordinates)\n",
    "resp2.json()"
   ]
  },
  {
   "cell_type": "markdown",
   "metadata": {},
   "source": [
    "Luego, consulta a la API de la policía de UK los crímenes que se cometieron en esa localización en julio de 2018"
   ]
  },
  {
   "cell_type": "code",
   "execution_count": 48,
   "metadata": {},
   "outputs": [
    {
     "data": {
      "text/plain": [
       "[{'category': 'other-theft',\n",
       "  'location_type': 'Force',\n",
       "  'location': {'latitude': '51.496602',\n",
       "   'street': {'id': 953339, 'name': 'On or near Victoria Street'},\n",
       "   'longitude': '-0.143827'},\n",
       "  'context': '',\n",
       "  'outcome_status': {'category': 'Status update unavailable',\n",
       "   'date': '2018-11'},\n",
       "  'persistent_id': '6b1ec82b8e83b2dabec5a5de9c321bfbeeefcc889ef04017416717dc4682977a',\n",
       "  'id': 66661547,\n",
       "  'location_subtype': '',\n",
       "  'month': '2018-07'},\n",
       " {'category': 'other-theft',\n",
       "  'location_type': 'Force',\n",
       "  'location': {'latitude': '51.496602',\n",
       "   'street': {'id': 953339, 'name': 'On or near Victoria Street'},\n",
       "   'longitude': '-0.143827'},\n",
       "  'context': '',\n",
       "  'outcome_status': {'category': 'Investigation complete; no suspect identified',\n",
       "   'date': '2018-07'},\n",
       "  'persistent_id': 'c33b9ccf37cbf501f9c79f86517c697fedef478378c0ff3a370a5bede5e63293',\n",
       "  'id': 66694477,\n",
       "  'location_subtype': '',\n",
       "  'month': '2018-07'},\n",
       " {'category': 'other-theft',\n",
       "  'location_type': 'Force',\n",
       "  'location': {'latitude': '51.496602',\n",
       "   'street': {'id': 953339, 'name': 'On or near Victoria Street'},\n",
       "   'longitude': '-0.143827'},\n",
       "  'context': '',\n",
       "  'outcome_status': {'category': 'Status update unavailable',\n",
       "   'date': '2018-11'},\n",
       "  'persistent_id': '1241e77c59b8cb46c8c5cfa2385018c8572286da7701a13c2d3713a7ae89ac66',\n",
       "  'id': 66706127,\n",
       "  'location_subtype': '',\n",
       "  'month': '2018-07'},\n",
       " {'category': 'other-theft',\n",
       "  'location_type': 'Force',\n",
       "  'location': {'latitude': '51.496602',\n",
       "   'street': {'id': 953339, 'name': 'On or near Victoria Street'},\n",
       "   'longitude': '-0.143827'},\n",
       "  'context': '',\n",
       "  'outcome_status': {'category': 'Investigation complete; no suspect identified',\n",
       "   'date': '2018-07'},\n",
       "  'persistent_id': 'cdcf8a4e2ccd84f22a2b2b57ca324366e77ccad2eb46c205a92145f837a6a9a1',\n",
       "  'id': 66663114,\n",
       "  'location_subtype': '',\n",
       "  'month': '2018-07'},\n",
       " {'category': 'other-theft',\n",
       "  'location_type': 'Force',\n",
       "  'location': {'latitude': '51.496602',\n",
       "   'street': {'id': 953339, 'name': 'On or near Victoria Street'},\n",
       "   'longitude': '-0.143827'},\n",
       "  'context': '',\n",
       "  'outcome_status': {'category': 'Status update unavailable',\n",
       "   'date': '2018-11'},\n",
       "  'persistent_id': '135c66ac6fb8a55203fc6f7280bb4c3a152df5c64d7e7a28994a6a35bc586e90',\n",
       "  'id': 66682430,\n",
       "  'location_subtype': '',\n",
       "  'month': '2018-07'},\n",
       " {'category': 'other-theft',\n",
       "  'location_type': 'Force',\n",
       "  'location': {'latitude': '51.496602',\n",
       "   'street': {'id': 953339, 'name': 'On or near Victoria Street'},\n",
       "   'longitude': '-0.143827'},\n",
       "  'context': '',\n",
       "  'outcome_status': {'category': 'Status update unavailable',\n",
       "   'date': '2018-11'},\n",
       "  'persistent_id': 'f1f10696b3700a0ff91d07661e45733ec2e03c74393cfd8d68f58b42c0dde822',\n",
       "  'id': 66677176,\n",
       "  'location_subtype': '',\n",
       "  'month': '2018-07'},\n",
       " {'category': 'public-order',\n",
       "  'location_type': 'Force',\n",
       "  'location': {'latitude': '51.496602',\n",
       "   'street': {'id': 953339, 'name': 'On or near Victoria Street'},\n",
       "   'longitude': '-0.143827'},\n",
       "  'context': '',\n",
       "  'outcome_status': {'category': 'Offender given a caution',\n",
       "   'date': '2018-08'},\n",
       "  'persistent_id': 'e86aa5d7305b3032bd9427d6fcb43384ee3c9f4ffd6051d57e8f0239c9748bcf',\n",
       "  'id': 66663903,\n",
       "  'location_subtype': '',\n",
       "  'month': '2018-07'},\n",
       " {'category': 'robbery',\n",
       "  'location_type': 'Force',\n",
       "  'location': {'latitude': '51.496602',\n",
       "   'street': {'id': 953339, 'name': 'On or near Victoria Street'},\n",
       "   'longitude': '-0.143827'},\n",
       "  'context': '',\n",
       "  'outcome_status': {'category': 'Status update unavailable',\n",
       "   'date': '2018-11'},\n",
       "  'persistent_id': '180c674b7c6e7bd45d5d4bfcaa345bfd4a365abc66e7ffb82d68286ee805981b',\n",
       "  'id': 66680012,\n",
       "  'location_subtype': '',\n",
       "  'month': '2018-07'},\n",
       " {'category': 'theft-from-the-person',\n",
       "  'location_type': 'Force',\n",
       "  'location': {'latitude': '51.496602',\n",
       "   'street': {'id': 953339, 'name': 'On or near Victoria Street'},\n",
       "   'longitude': '-0.143827'},\n",
       "  'context': '',\n",
       "  'outcome_status': {'category': 'Status update unavailable',\n",
       "   'date': '2018-11'},\n",
       "  'persistent_id': '563237a95056e032d05512afcffe0192aa603f3af4607de9bf6bd95d62deb5b1',\n",
       "  'id': 66662904,\n",
       "  'location_subtype': '',\n",
       "  'month': '2018-07'},\n",
       " {'category': 'theft-from-the-person',\n",
       "  'location_type': 'Force',\n",
       "  'location': {'latitude': '51.496602',\n",
       "   'street': {'id': 953339, 'name': 'On or near Victoria Street'},\n",
       "   'longitude': '-0.143827'},\n",
       "  'context': '',\n",
       "  'outcome_status': {'category': 'Status update unavailable',\n",
       "   'date': '2018-11'},\n",
       "  'persistent_id': '574bc744ebdaf4ec0f53ca048a1c4a313d51bef4a809e553670528392d050694',\n",
       "  'id': 66692437,\n",
       "  'location_subtype': '',\n",
       "  'month': '2018-07'},\n",
       " {'category': 'violent-crime',\n",
       "  'location_type': 'Force',\n",
       "  'location': {'latitude': '51.496602',\n",
       "   'street': {'id': 953339, 'name': 'On or near Victoria Street'},\n",
       "   'longitude': '-0.143827'},\n",
       "  'context': '',\n",
       "  'outcome_status': {'category': 'Status update unavailable',\n",
       "   'date': '2018-11'},\n",
       "  'persistent_id': '58638a3e9296eaad16f67efc1eebc7939bd0fb73ea9989ddf69a4ad83db653b4',\n",
       "  'id': 66682678,\n",
       "  'location_subtype': '',\n",
       "  'month': '2018-07'}]"
      ]
     },
     "execution_count": 48,
     "metadata": {},
     "output_type": "execute_result"
    }
   ],
   "source": [
    "coordinates = {'lat': '51.4965946',\n",
    "               'lng':'-0.1436476',\n",
    "               'date':'2018-07'}\n",
    "resp3 = requests.get('https://data.police.uk/api/crimes-at-location', params = coordinates)\n",
    "resp3.json() # No confundir el 'date' de 'outcome_status' con el 'month'. El dato 2018/07 tiene que aparecer en \n",
    "             # 'month', no en otros campos.\n",
    "    \n",
    "# Como se puede observar, cada API tiene sus propios campos, así que siempre hay que mirar su documentación cuando enfrentamos\n",
    "# una nueva API."
   ]
  },
  {
   "cell_type": "markdown",
   "metadata": {},
   "source": [
    "## Ejercicio libre\n",
    "\n",
    "Revisa [este listado](https://github.com/toddmotto/public-apis) de APIs públicas. Elige alguna que te llame la atención, consulta su documentación y extrae información que sea de tu interés."
   ]
  },
  {
   "cell_type": "markdown",
   "metadata": {},
   "source": [
    "#### API de DeepCode"
   ]
  },
  {
   "cell_type": "code",
   "execution_count": 1,
   "metadata": {},
   "outputs": [],
   "source": [
    "import requests"
   ]
  },
  {
   "cell_type": "code",
   "execution_count": 23,
   "metadata": {},
   "outputs": [
    {
     "data": {
      "text/plain": [
       "200"
      ]
     },
     "execution_count": 23,
     "metadata": {},
     "output_type": "execute_result"
    }
   ],
   "source": [
    "df = requests.get('https://www.deepcode.ai/publicapi/filters')\n",
    "\n",
    "df.status_code"
   ]
  },
  {
   "cell_type": "code",
   "execution_count": 24,
   "metadata": {
    "scrolled": true
   },
   "outputs": [
    {
     "data": {
      "text/plain": [
       "{'extensions': ['.c',\n",
       "  '.cc',\n",
       "  '.cpp',\n",
       "  '.cxx',\n",
       "  '.h',\n",
       "  '.hpp',\n",
       "  '.hxx',\n",
       "  '.java',\n",
       "  '.ts',\n",
       "  '.tsx',\n",
       "  '.es',\n",
       "  '.es6',\n",
       "  '.htm',\n",
       "  '.html',\n",
       "  '.js',\n",
       "  '.jsx',\n",
       "  '.vue',\n",
       "  '.py',\n",
       "  '.php',\n",
       "  '.CS',\n",
       "  '.Cs',\n",
       "  '.cs'],\n",
       " 'configFiles': ['.dcignore',\n",
       "  '.gitignore',\n",
       "  '.pmdrc.xml',\n",
       "  '.ruleset.xml',\n",
       "  'ruleset.xml',\n",
       "  'tslint.json',\n",
       "  '.eslintrc.js',\n",
       "  '.eslintrc.json',\n",
       "  '.eslintrc.yml',\n",
       "  '.pylintrc',\n",
       "  'pylintrc']}"
      ]
     },
     "execution_count": 24,
     "metadata": {},
     "output_type": "execute_result"
    }
   ],
   "source": [
    "dat = df.json()\n",
    "dat # Este fichero contiene los filtros que se utilizan en esta API para filtrar resultados de los bundles (que es donde \n",
    "    # almacenan la información en esta página. A dichos bundles no me dejan acceder sin registrarme.)"
   ]
  },
  {
   "cell_type": "code",
   "execution_count": 20,
   "metadata": {
    "scrolled": true
   },
   "outputs": [
    {
     "data": {
      "text/plain": [
       "['.dcignore',\n",
       " '.gitignore',\n",
       " '.pmdrc.xml',\n",
       " '.ruleset.xml',\n",
       " 'ruleset.xml',\n",
       " 'tslint.json',\n",
       " '.eslintrc.js',\n",
       " '.eslintrc.json',\n",
       " '.eslintrc.yml',\n",
       " '.pylintrc',\n",
       " 'pylintrc']"
      ]
     },
     "execution_count": 20,
     "metadata": {},
     "output_type": "execute_result"
    }
   ],
   "source": [
    "dat['configFiles']"
   ]
  },
  {
   "cell_type": "markdown",
   "metadata": {},
   "source": [
    "#### API de la NASA (Earth observation)"
   ]
  },
  {
   "cell_type": "code",
   "execution_count": 18,
   "metadata": {},
   "outputs": [],
   "source": [
    "import datetime as dt"
   ]
  },
  {
   "cell_type": "code",
   "execution_count": 20,
   "metadata": {},
   "outputs": [
    {
     "ename": "AttributeError",
     "evalue": "'str' object has no attribute 'dt'",
     "output_type": "error",
     "traceback": [
      "\u001b[1;31m---------------------------------------------------------------------------\u001b[0m",
      "\u001b[1;31mAttributeError\u001b[0m                            Traceback (most recent call last)",
      "\u001b[1;32m<ipython-input-20-c5a4179b5835>\u001b[0m in \u001b[0;36m<module>\u001b[1;34m\u001b[0m\n\u001b[0;32m      1\u001b[0m \u001b[0mparametros\u001b[0m \u001b[1;33m=\u001b[0m \u001b[1;33m[\u001b[0m\u001b[1;34m'lat'\u001b[0m\u001b[1;33m,\u001b[0m \u001b[1;34m'lon'\u001b[0m\u001b[1;33m,\u001b[0m\u001b[1;34m'date'\u001b[0m\u001b[1;33m]\u001b[0m\u001b[1;33m\u001b[0m\u001b[1;33m\u001b[0m\u001b[0m\n\u001b[1;32m----> 2\u001b[1;33m \u001b[0mvalues\u001b[0m \u001b[1;33m=\u001b[0m \u001b[1;33m[\u001b[0m\u001b[1;36m100.75\u001b[0m\u001b[1;33m,\u001b[0m \u001b[1;36m1.5\u001b[0m\u001b[1;33m,\u001b[0m\u001b[1;33m(\u001b[0m\u001b[1;34m'2014-02-01'\u001b[0m\u001b[1;33m)\u001b[0m\u001b[1;33m.\u001b[0m\u001b[0mdt\u001b[0m\u001b[1;33m.\u001b[0m\u001b[0mDate\u001b[0m\u001b[1;33m(\u001b[0m\u001b[1;33m)\u001b[0m\u001b[1;33m]\u001b[0m\u001b[1;33m\u001b[0m\u001b[1;33m\u001b[0m\u001b[0m\n\u001b[0m\u001b[0;32m      3\u001b[0m \u001b[1;33m\u001b[0m\u001b[0m\n\u001b[0;32m      4\u001b[0m \u001b[0mdict\u001b[0m\u001b[1;33m(\u001b[0m\u001b[0mzip\u001b[0m\u001b[1;33m(\u001b[0m\u001b[1;33m[\u001b[0m\u001b[0mparametros\u001b[0m\u001b[1;33m]\u001b[0m\u001b[1;33m,\u001b[0m \u001b[1;33m[\u001b[0m\u001b[0mvalues\u001b[0m\u001b[1;33m]\u001b[0m\u001b[1;33m)\u001b[0m\u001b[1;33m)\u001b[0m\u001b[1;33m\u001b[0m\u001b[1;33m\u001b[0m\u001b[0m\n",
      "\u001b[1;31mAttributeError\u001b[0m: 'str' object has no attribute 'dt'"
     ]
    }
   ],
   "source": [
    "parametros = ['lat', 'lon','date']\n",
    "values = [100.75, 1.5,('2014-02-01').]\n",
    "\n",
    "dict(zip([parametros], [values]))"
   ]
  },
  {
   "cell_type": "code",
   "execution_count": 25,
   "metadata": {
    "scrolled": true
   },
   "outputs": [
    {
     "data": {
      "text/plain": [
       "404"
      ]
     },
     "execution_count": 25,
     "metadata": {},
     "output_type": "execute_result"
    }
   ],
   "source": [
    "parametros = ['lat', 'lon', 'api_key']\n",
    "values = [120.75, 134.5,'DEMO_KEY']\n",
    "\n",
    "param = dict(zip(parametros, values))\n",
    "data = requests.get('https://api.nasa.gov/planetary/earth/imagery', params=param)\n",
    "data.status_code"
   ]
  },
  {
   "cell_type": "code",
   "execution_count": 26,
   "metadata": {},
   "outputs": [
    {
     "data": {
      "text/plain": [
       "200"
      ]
     },
     "execution_count": 26,
     "metadata": {},
     "output_type": "execute_result"
    }
   ],
   "source": [
    "data = requests.get('https://api.nasa.gov/planetary/earth/imagery?lon=100.75&lat=1.5&date=2014-02-01&api_key=DEMO_KEY')\n",
    "data.status_code"
   ]
  },
  {
   "cell_type": "code",
   "execution_count": 27,
   "metadata": {
    "scrolled": true
   },
   "outputs": [
    {
     "ename": "JSONDecodeError",
     "evalue": "Expecting value: line 1 column 1 (char 0)",
     "output_type": "error",
     "traceback": [
      "\u001b[1;31m---------------------------------------------------------------------------\u001b[0m",
      "\u001b[1;31mJSONDecodeError\u001b[0m                           Traceback (most recent call last)",
      "\u001b[1;32m<ipython-input-27-7641a605894e>\u001b[0m in \u001b[0;36m<module>\u001b[1;34m\u001b[0m\n\u001b[1;32m----> 1\u001b[1;33m \u001b[0mdata\u001b[0m\u001b[1;33m.\u001b[0m\u001b[0mjson\u001b[0m\u001b[1;33m(\u001b[0m\u001b[1;33m)\u001b[0m\u001b[1;33m\u001b[0m\u001b[1;33m\u001b[0m\u001b[0m\n\u001b[0m",
      "\u001b[1;32m~\\anaconda3\\lib\\site-packages\\requests\\models.py\u001b[0m in \u001b[0;36mjson\u001b[1;34m(self, **kwargs)\u001b[0m\n\u001b[0;32m    896\u001b[0m                     \u001b[1;31m# used.\u001b[0m\u001b[1;33m\u001b[0m\u001b[1;33m\u001b[0m\u001b[1;33m\u001b[0m\u001b[0m\n\u001b[0;32m    897\u001b[0m                     \u001b[1;32mpass\u001b[0m\u001b[1;33m\u001b[0m\u001b[1;33m\u001b[0m\u001b[0m\n\u001b[1;32m--> 898\u001b[1;33m         \u001b[1;32mreturn\u001b[0m \u001b[0mcomplexjson\u001b[0m\u001b[1;33m.\u001b[0m\u001b[0mloads\u001b[0m\u001b[1;33m(\u001b[0m\u001b[0mself\u001b[0m\u001b[1;33m.\u001b[0m\u001b[0mtext\u001b[0m\u001b[1;33m,\u001b[0m \u001b[1;33m**\u001b[0m\u001b[0mkwargs\u001b[0m\u001b[1;33m)\u001b[0m\u001b[1;33m\u001b[0m\u001b[1;33m\u001b[0m\u001b[0m\n\u001b[0m\u001b[0;32m    899\u001b[0m \u001b[1;33m\u001b[0m\u001b[0m\n\u001b[0;32m    900\u001b[0m     \u001b[1;33m@\u001b[0m\u001b[0mproperty\u001b[0m\u001b[1;33m\u001b[0m\u001b[1;33m\u001b[0m\u001b[0m\n",
      "\u001b[1;32m~\\anaconda3\\lib\\json\\__init__.py\u001b[0m in \u001b[0;36mloads\u001b[1;34m(s, cls, object_hook, parse_float, parse_int, parse_constant, object_pairs_hook, **kw)\u001b[0m\n\u001b[0;32m    355\u001b[0m             \u001b[0mparse_int\u001b[0m \u001b[1;32mis\u001b[0m \u001b[1;32mNone\u001b[0m \u001b[1;32mand\u001b[0m \u001b[0mparse_float\u001b[0m \u001b[1;32mis\u001b[0m \u001b[1;32mNone\u001b[0m \u001b[1;32mand\u001b[0m\u001b[1;33m\u001b[0m\u001b[1;33m\u001b[0m\u001b[0m\n\u001b[0;32m    356\u001b[0m             parse_constant is None and object_pairs_hook is None and not kw):\n\u001b[1;32m--> 357\u001b[1;33m         \u001b[1;32mreturn\u001b[0m \u001b[0m_default_decoder\u001b[0m\u001b[1;33m.\u001b[0m\u001b[0mdecode\u001b[0m\u001b[1;33m(\u001b[0m\u001b[0ms\u001b[0m\u001b[1;33m)\u001b[0m\u001b[1;33m\u001b[0m\u001b[1;33m\u001b[0m\u001b[0m\n\u001b[0m\u001b[0;32m    358\u001b[0m     \u001b[1;32mif\u001b[0m \u001b[0mcls\u001b[0m \u001b[1;32mis\u001b[0m \u001b[1;32mNone\u001b[0m\u001b[1;33m:\u001b[0m\u001b[1;33m\u001b[0m\u001b[1;33m\u001b[0m\u001b[0m\n\u001b[0;32m    359\u001b[0m         \u001b[0mcls\u001b[0m \u001b[1;33m=\u001b[0m \u001b[0mJSONDecoder\u001b[0m\u001b[1;33m\u001b[0m\u001b[1;33m\u001b[0m\u001b[0m\n",
      "\u001b[1;32m~\\anaconda3\\lib\\json\\decoder.py\u001b[0m in \u001b[0;36mdecode\u001b[1;34m(self, s, _w)\u001b[0m\n\u001b[0;32m    335\u001b[0m \u001b[1;33m\u001b[0m\u001b[0m\n\u001b[0;32m    336\u001b[0m         \"\"\"\n\u001b[1;32m--> 337\u001b[1;33m         \u001b[0mobj\u001b[0m\u001b[1;33m,\u001b[0m \u001b[0mend\u001b[0m \u001b[1;33m=\u001b[0m \u001b[0mself\u001b[0m\u001b[1;33m.\u001b[0m\u001b[0mraw_decode\u001b[0m\u001b[1;33m(\u001b[0m\u001b[0ms\u001b[0m\u001b[1;33m,\u001b[0m \u001b[0midx\u001b[0m\u001b[1;33m=\u001b[0m\u001b[0m_w\u001b[0m\u001b[1;33m(\u001b[0m\u001b[0ms\u001b[0m\u001b[1;33m,\u001b[0m \u001b[1;36m0\u001b[0m\u001b[1;33m)\u001b[0m\u001b[1;33m.\u001b[0m\u001b[0mend\u001b[0m\u001b[1;33m(\u001b[0m\u001b[1;33m)\u001b[0m\u001b[1;33m)\u001b[0m\u001b[1;33m\u001b[0m\u001b[1;33m\u001b[0m\u001b[0m\n\u001b[0m\u001b[0;32m    338\u001b[0m         \u001b[0mend\u001b[0m \u001b[1;33m=\u001b[0m \u001b[0m_w\u001b[0m\u001b[1;33m(\u001b[0m\u001b[0ms\u001b[0m\u001b[1;33m,\u001b[0m \u001b[0mend\u001b[0m\u001b[1;33m)\u001b[0m\u001b[1;33m.\u001b[0m\u001b[0mend\u001b[0m\u001b[1;33m(\u001b[0m\u001b[1;33m)\u001b[0m\u001b[1;33m\u001b[0m\u001b[1;33m\u001b[0m\u001b[0m\n\u001b[0;32m    339\u001b[0m         \u001b[1;32mif\u001b[0m \u001b[0mend\u001b[0m \u001b[1;33m!=\u001b[0m \u001b[0mlen\u001b[0m\u001b[1;33m(\u001b[0m\u001b[0ms\u001b[0m\u001b[1;33m)\u001b[0m\u001b[1;33m:\u001b[0m\u001b[1;33m\u001b[0m\u001b[1;33m\u001b[0m\u001b[0m\n",
      "\u001b[1;32m~\\anaconda3\\lib\\json\\decoder.py\u001b[0m in \u001b[0;36mraw_decode\u001b[1;34m(self, s, idx)\u001b[0m\n\u001b[0;32m    353\u001b[0m             \u001b[0mobj\u001b[0m\u001b[1;33m,\u001b[0m \u001b[0mend\u001b[0m \u001b[1;33m=\u001b[0m \u001b[0mself\u001b[0m\u001b[1;33m.\u001b[0m\u001b[0mscan_once\u001b[0m\u001b[1;33m(\u001b[0m\u001b[0ms\u001b[0m\u001b[1;33m,\u001b[0m \u001b[0midx\u001b[0m\u001b[1;33m)\u001b[0m\u001b[1;33m\u001b[0m\u001b[1;33m\u001b[0m\u001b[0m\n\u001b[0;32m    354\u001b[0m         \u001b[1;32mexcept\u001b[0m \u001b[0mStopIteration\u001b[0m \u001b[1;32mas\u001b[0m \u001b[0merr\u001b[0m\u001b[1;33m:\u001b[0m\u001b[1;33m\u001b[0m\u001b[1;33m\u001b[0m\u001b[0m\n\u001b[1;32m--> 355\u001b[1;33m             \u001b[1;32mraise\u001b[0m \u001b[0mJSONDecodeError\u001b[0m\u001b[1;33m(\u001b[0m\u001b[1;34m\"Expecting value\"\u001b[0m\u001b[1;33m,\u001b[0m \u001b[0ms\u001b[0m\u001b[1;33m,\u001b[0m \u001b[0merr\u001b[0m\u001b[1;33m.\u001b[0m\u001b[0mvalue\u001b[0m\u001b[1;33m)\u001b[0m \u001b[1;32mfrom\u001b[0m \u001b[1;32mNone\u001b[0m\u001b[1;33m\u001b[0m\u001b[1;33m\u001b[0m\u001b[0m\n\u001b[0m\u001b[0;32m    356\u001b[0m         \u001b[1;32mreturn\u001b[0m \u001b[0mobj\u001b[0m\u001b[1;33m,\u001b[0m \u001b[0mend\u001b[0m\u001b[1;33m\u001b[0m\u001b[1;33m\u001b[0m\u001b[0m\n",
      "\u001b[1;31mJSONDecodeError\u001b[0m: Expecting value: line 1 column 1 (char 0)"
     ]
    }
   ],
   "source": [
    "data.json()"
   ]
  },
  {
   "cell_type": "markdown",
   "metadata": {},
   "source": [
    "#### API file.io"
   ]
  },
  {
   "cell_type": "code",
   "execution_count": 1,
   "metadata": {},
   "outputs": [],
   "source": [
    "import requests"
   ]
  },
  {
   "cell_type": "code",
   "execution_count": 11,
   "metadata": {},
   "outputs": [
    {
     "data": {
      "text/plain": [
       "<Response [200]>"
      ]
     },
     "execution_count": 11,
     "metadata": {},
     "output_type": "execute_result"
    }
   ],
   "source": [
    "parameters = {'json':''}\n",
    "requests.get('https://www.file.io/') \n",
    "# Según la documentación de la API, parece más de dar primero y recibir después que solo de recibir."
   ]
  },
  {
   "cell_type": "markdown",
   "metadata": {},
   "source": [
    "#### API de https://gruenstromindex.de/"
   ]
  },
  {
   "cell_type": "code",
   "execution_count": 20,
   "metadata": {},
   "outputs": [
    {
     "data": {
      "text/plain": [
       "1608202800"
      ]
     },
     "execution_count": 20,
     "metadata": {},
     "output_type": "execute_result"
    }
   ],
   "source": [
    "parameters = {'key': '[APIKEY]'} # Esto lo he sacado por mí mismo mirando el link que te dan originalmente en la web.\n",
    "\n",
    "requests.get('https://api.corrently.io/core/gsi', params=parameters).json()['forecast'][0]['epochtime'] \n",
    "\n",
    "# La info ya venía en formato .json. No te explican cómo usar la API. Hay algunas webs externas que parecen hablar sobre\n",
    "# su método de uso."
   ]
  }
 ],
 "metadata": {
  "kernelspec": {
   "display_name": "Python 3",
   "language": "python",
   "name": "python3"
  },
  "language_info": {
   "codemirror_mode": {
    "name": "ipython",
    "version": 3
   },
   "file_extension": ".py",
   "mimetype": "text/x-python",
   "name": "python",
   "nbconvert_exporter": "python",
   "pygments_lexer": "ipython3",
   "version": "3.8.3"
  }
 },
 "nbformat": 4,
 "nbformat_minor": 2
}
