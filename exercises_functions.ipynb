{
 "cells": [
  {
   "cell_type": "markdown",
   "metadata": {},
   "source": [
    "Realiza una función llamada area_rectangulo(base, altura) que devuelva el área del rectangulo a partir de una base y una altura. Calcula el área de un rectángulo de 15 de base y 10 de altura:"
   ]
  },
  {
   "cell_type": "code",
   "execution_count": 1,
   "metadata": {},
   "outputs": [
    {
     "name": "stdout",
     "output_type": "stream",
     "text": [
      "El área del rectángulo de base 15 y altura 10 es: 150\n"
     ]
    }
   ],
   "source": [
    "def area_rectangulo(base, altura):\n",
    "    area = base * altura\n",
    "    print(f'El área del rectángulo de base {base} y altura {altura} es: {area}')\n",
    "\n",
    "area_rectangulo(15,10)"
   ]
  },
  {
   "cell_type": "code",
   "execution_count": 7,
   "metadata": {},
   "outputs": [
    {
     "data": {
      "text/plain": [
       "150"
      ]
     },
     "execution_count": 7,
     "metadata": {},
     "output_type": "execute_result"
    }
   ],
   "source": [
    "def area_rectangulo(base, altura):\n",
    "    area = base * altura\n",
    "    return area\n",
    "\n",
    "area_rectangulo(15,10)"
   ]
  },
  {
   "cell_type": "markdown",
   "metadata": {},
   "source": [
    "Realiza una función llamada area_circulo(radio) que devuelva el área de un círculo a partir de un radio. Calcula el área de un círculo de 5 de radio:\n",
    "\n",
    "\n",
    "El área de un círculo se obtiene al elevar el radio a dos y multiplicando el resultado por el número pi. Puedes utilizar el valor 3.14159 como pi o importarlo del módulo math:\n",
    "\n",
    "import math\n",
    "\n",
    "print(math.pi)"
   ]
  },
  {
   "cell_type": "code",
   "execution_count": 5,
   "metadata": {},
   "outputs": [
    {
     "name": "stdout",
     "output_type": "stream",
     "text": [
      "78.53981633974483\n"
     ]
    }
   ],
   "source": [
    "from math import pi\n",
    "def area_circulo(radio):\n",
    "    area = pi * radio**2\n",
    "    print(area)\n",
    "    \n",
    "area_circulo(5)"
   ]
  },
  {
   "cell_type": "code",
   "execution_count": 19,
   "metadata": {},
   "outputs": [
    {
     "data": {
      "text/plain": [
       "78.53981633974483"
      ]
     },
     "execution_count": 19,
     "metadata": {},
     "output_type": "execute_result"
    }
   ],
   "source": [
    "from math import pi\n",
    "def area_circulo(radio):\n",
    "    area = pi * radio**2\n",
    "    return area\n",
    "    \n",
    "area_circulo(5)"
   ]
  },
  {
   "cell_type": "code",
   "execution_count": 5,
   "metadata": {},
   "outputs": [
    {
     "name": "stdout",
     "output_type": "stream",
     "text": [
      "Introduce el radio: 5\n",
      "78.53981633974483\n"
     ]
    }
   ],
   "source": [
    "# Código David. El importa toda la librería de un tirón, como dice el enunciado.\n",
    "\n",
    "import math\n",
    "def area_circulo(radio):\n",
    "    return math.pi*(radio**2)\n",
    "r=int(input(\"Introduce el radio: \"))\n",
    "print(area_circulo(r))"
   ]
  },
  {
   "cell_type": "markdown",
   "metadata": {},
   "source": [
    "Realiza una función llamada relacion(a, b) que a partir de dos números cumpla lo siguiente:\n",
    "\n",
    "- Si el primer número es mayor que el segundo, debe devolver 1.\n",
    "- Si el primer número es menor que el segundo, debe devolver -1.\n",
    "- Si ambos números son iguales, debe devolver un 0.\n",
    "\n",
    "\n",
    "Comprueba la relación entre los números: '5 y 10', '10 y 5' y '5 y 5'."
   ]
  },
  {
   "cell_type": "code",
   "execution_count": 8,
   "metadata": {},
   "outputs": [
    {
     "name": "stdout",
     "output_type": "stream",
     "text": [
      "-1\n",
      "1\n",
      "0\n"
     ]
    }
   ],
   "source": [
    "def relacion(a,b):\n",
    "    if a>b:\n",
    "        return 1\n",
    "    elif a<b:\n",
    "        return -1\n",
    "    else:\n",
    "        return 0\n",
    "x = relacion(5,10)\n",
    "y = relacion(10,5)\n",
    "z = relacion(5,5)\n",
    "\n",
    "print(x)\n",
    "print(y)\n",
    "print(z) # Meto los valores en variables y los imprimo porque si intento hacerlo sin los prints,\n",
    "         # el programa solo me devuelve el resultado de la última de las tres operaciones."
   ]
  },
  {
   "cell_type": "markdown",
   "metadata": {},
   "source": [
    "Realiza una función llamada intermedio(a, b) que a partir de dos números, devuelva su punto intermedio. Cuando lo tengas comprueba el punto intermedio entre -12 y 24:"
   ]
  },
  {
   "cell_type": "code",
   "execution_count": 9,
   "metadata": {},
   "outputs": [
    {
     "data": {
      "text/plain": [
       "6.0"
      ]
     },
     "execution_count": 9,
     "metadata": {},
     "output_type": "execute_result"
    }
   ],
   "source": [
    "def intermedio(a, b):\n",
    "    punto_medio = (a+b)/2\n",
    "    return punto_medio\n",
    "intermedio(-12,24)"
   ]
  },
  {
   "cell_type": "markdown",
   "metadata": {},
   "source": [
    "<div class = \"alert alert-block alert-info\">\n",
    "<b>Duda</b>\n",
    "    \n",
    "Es curioso, **¿por qué me da un float en vez de un integer si solo he jugado con integers?**\n",
    "</div>"
   ]
  },
  {
   "cell_type": "markdown",
   "metadata": {},
   "source": [
    "Realiza una función llamada recortar(numero, minimo, maximo) que reciba tres parámetros. El primero es el número a recortar, el segundo es el límite inferior y el tercero el límite superior. \n",
    "\n",
    "La función tendrá que cumplir lo siguiente:\n",
    "\n",
    "- Devolver el límite inferior si el número es menor que éste\n",
    "- Devolver el límite superior si el número es mayor que éste.\n",
    "- Devolver el número sin cambios si no se supera ningún límite.\n",
    "- Comprueba el resultado de recortar 15 entre los límites 0 y 10."
   ]
  },
  {
   "cell_type": "code",
   "execution_count": 24,
   "metadata": {},
   "outputs": [
    {
     "data": {
      "text/plain": [
       "10"
      ]
     },
     "execution_count": 24,
     "metadata": {},
     "output_type": "execute_result"
    }
   ],
   "source": [
    "def recortar(numero, minimo, maximo):\n",
    "    if numero < minimo:\n",
    "        return minimo\n",
    "    elif numero > maximo:\n",
    "        return maximo\n",
    "    else:\n",
    "        return numero\n",
    "    \n",
    "recortar(15,0,10)"
   ]
  },
  {
   "cell_type": "markdown",
   "metadata": {},
   "source": [
    "Realiza una función separar(lista) que tome una lista de números enteros y devuelva dos listas ordenadas. La primera con los números pares y la segunda con los números impares.\n",
    "\n",
    "\n",
    "numeros = [-12, 84, 13, 20, -33, 101, 9]\n"
   ]
  },
  {
   "cell_type": "code",
   "execution_count": 44,
   "metadata": {},
   "outputs": [
    {
     "data": {
      "text/plain": [
       "([-12, 20, 84], [-33, 9, 13, 101])"
      ]
     },
     "execution_count": 44,
     "metadata": {},
     "output_type": "execute_result"
    }
   ],
   "source": [
    "def separar(lista):\n",
    "    if len(lista) > 1: # Esto es solo un pequeño filtro, no evita vectores, \n",
    "                       # tuplas o diccionarios, pero te avisa si metes un \n",
    "                       # escalar en vez de una lista. \n",
    "        pares = []\n",
    "        impares = []\n",
    "        for i in lista:\n",
    "            if i % 2 == 0:\n",
    "                pares.append(i)\n",
    "            else: \n",
    "                impares.append(i)\n",
    "            i += 1\n",
    "    \n",
    "   #     pares.sort()    # Iba a usar sort(), pero resulta que también se puede usar \n",
    "   #     impares.sort()  # la función sorted(), así que la quería probar.\n",
    "    \n",
    "        return (sorted(pares), sorted(impares))\n",
    "    \n",
    "    else:\n",
    "        return 'Para cumplir el propósito de este script necesitas una lista con más de un elemento.'\n",
    "\n",
    "# Para que esto funcione hay que introducir una lista numérica, como la siguiente:\n",
    "\n",
    "numeros = [-12, 84, 13, 20, -33, 101, 9]\n",
    "\n",
    "separar(numeros)\n",
    "\n",
    "        "
   ]
  },
  {
   "cell_type": "markdown",
   "metadata": {},
   "source": [
    "También se pueden usar prints para imprimirlos en líneas separadas y sin los paréntesis."
   ]
  },
  {
   "cell_type": "code",
   "execution_count": null,
   "metadata": {},
   "outputs": [],
   "source": []
  }
 ],
 "metadata": {
  "kernelspec": {
   "display_name": "Python 3",
   "language": "python",
   "name": "python3"
  },
  "language_info": {
   "codemirror_mode": {
    "name": "ipython",
    "version": 3
   },
   "file_extension": ".py",
   "mimetype": "text/x-python",
   "name": "python",
   "nbconvert_exporter": "python",
   "pygments_lexer": "ipython3",
   "version": "3.8.3"
  }
 },
 "nbformat": 4,
 "nbformat_minor": 4
}
